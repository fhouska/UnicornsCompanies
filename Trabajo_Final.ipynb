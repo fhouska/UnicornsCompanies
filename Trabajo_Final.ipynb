{
 "cells": [
  {
   "cell_type": "markdown",
   "metadata": {},
   "source": [
    "# Introducción"
   ]
  },
  {
   "attachments": {},
   "cell_type": "markdown",
   "metadata": {},
   "source": [
    "(Source: CB Insights & Crunchbase)\n",
    "\n",
    "unicorn\n",
    "\n",
    "(License: Public Domain)\n",
    "\n",
    "Dataset:\n",
    "* 2015 l 2011 - https://www.kaggle.com/datasets/cheeann290/unicorn\n",
    "* 2022 - https://www.kaggle.com/datasets/rajkumarpandey02/complete-list-of-unicorn-companies\n",
    "* 2013 - https://www.cbinsights.com/research-unicorn-companies\n"
   ]
  },
  {
   "cell_type": "code",
   "execution_count": 204,
   "metadata": {},
   "outputs": [],
   "source": [
    "import pandas as pd\n",
    "import os"
   ]
  },
  {
   "cell_type": "markdown",
   "metadata": {},
   "source": [
    "# Lectura de datos y Procesamiento"
   ]
  },
  {
   "cell_type": "markdown",
   "metadata": {},
   "source": [
    "### Funciones para el procesamiento"
   ]
  },
  {
   "cell_type": "code",
   "execution_count": 205,
   "metadata": {},
   "outputs": [],
   "source": [
    "def reporte (df):   \n",
    "    \n",
    "    \"\"\" Esta función recibe un df y nos imprime un reporte inicial del df\"\"\"\n",
    "\n",
    "    print('El df esta formado por: ', df.shape[0], 'filas y', df.shape[1], 'columnas')\n",
    "    print('Cantidad de valores duplicados: ',df.duplicated().sum())\n",
    "    print('Cantidad de valores nulos: ', df.isnull().sum().sum())"
   ]
  },
  {
   "cell_type": "code",
   "execution_count": 206,
   "metadata": {},
   "outputs": [],
   "source": [
    "def percentage_null (df):\n",
    "\n",
    "    \"\"\" esta función calcula el % de valores nulos que presenta el df\n",
    "    devuelve un df con el % de nulos por cada columna\"\"\"\n",
    "    \n",
    "    missing_data = pd.isnull(df).sum()\n",
    "    missing_data_percentage = missing_data/len(df)*100 #Calculamos el % del los datos faltantes en cada columna\n",
    "    nulos_totales= missing_data_percentage.sort_values(ascending = False) #Ordenamos de mayor a menor\n",
    "    nulos_totales = pd.DataFrame(nulos_totales,columns=[\"% nulos\"])\n",
    "    return nulos_totales.round(2).T "
   ]
  },
  {
   "cell_type": "code",
   "execution_count": 207,
   "metadata": {},
   "outputs": [],
   "source": [
    "def transform (df):\n",
    "\n",
    "    \"\"\" Esta función recibe un df y nos transforma las columnas Valation en numerica quitando los caacteres $ \n",
    "    y tansforma la columna DateJoined en tipo fecha\"\"\" \n",
    "\n",
    "    if df['Valuation ($B)'].dtypes== object:\n",
    "        df['Valuation ($B)'] = df['Valuation ($B)'].str.replace('$',' ')\n",
    "        df['Valuation ($B)'] = pd.to_numeric(df['Valuation ($B)'])\n",
    "\n",
    "    if df['Date Joined'].dtypes== object:\n",
    "        df['Date Joined'] = pd.to_datetime(df['Date Joined'],format='%m/%d/%Y')"
   ]
  },
  {
   "cell_type": "markdown",
   "metadata": {},
   "source": [
    "### Trabajamos con los dataframes desde 2015 al 2022"
   ]
  },
  {
   "cell_type": "markdown",
   "metadata": {},
   "source": [
    "#### 2015"
   ]
  },
  {
   "cell_type": "code",
   "execution_count": 208,
   "metadata": {},
   "outputs": [],
   "source": [
    "# Leemos el dataset y le creamos una columna que corresponde al año de la lista\n",
    "df2015 = pd.read_excel('Data/unicorn_cb_11_dec_15.xlsx')\n",
    "df2015['Year'] = '2015'"
   ]
  },
  {
   "cell_type": "code",
   "execution_count": 209,
   "metadata": {},
   "outputs": [
    {
     "name": "stdout",
     "output_type": "stream",
     "text": [
      "El df esta formado por:  144 filas y 7 columnas\n",
      "Cantidad de valores duplicados:  0\n",
      "Cantidad de valores nulos:  0\n"
     ]
    }
   ],
   "source": [
    "# Imprimimos el reporte inicial\n",
    "reporte(df2015)"
   ]
  },
  {
   "cell_type": "code",
   "execution_count": 210,
   "metadata": {},
   "outputs": [
    {
     "data": {
      "text/html": [
       "<div>\n",
       "<style scoped>\n",
       "    .dataframe tbody tr th:only-of-type {\n",
       "        vertical-align: middle;\n",
       "    }\n",
       "\n",
       "    .dataframe tbody tr th {\n",
       "        vertical-align: top;\n",
       "    }\n",
       "\n",
       "    .dataframe thead th {\n",
       "        text-align: right;\n",
       "    }\n",
       "</style>\n",
       "<table border=\"1\" class=\"dataframe\">\n",
       "  <thead>\n",
       "    <tr style=\"text-align: right;\">\n",
       "      <th></th>\n",
       "      <th>Company</th>\n",
       "      <th>Valuation ($B)</th>\n",
       "      <th>Date Joined</th>\n",
       "      <th>Country</th>\n",
       "      <th>Industry</th>\n",
       "      <th>Investor</th>\n",
       "      <th>Year</th>\n",
       "    </tr>\n",
       "  </thead>\n",
       "  <tbody>\n",
       "    <tr>\n",
       "      <th>0</th>\n",
       "      <td>Uber</td>\n",
       "      <td>$51</td>\n",
       "      <td>8/23/2013</td>\n",
       "      <td>United States</td>\n",
       "      <td>On-Demand</td>\n",
       "      <td>Lowercase Capital,\\n\\t  Benchmark Capital, Goo...</td>\n",
       "      <td>2015</td>\n",
       "    </tr>\n",
       "    <tr>\n",
       "      <th>1</th>\n",
       "      <td>Xiaomi</td>\n",
       "      <td>$46</td>\n",
       "      <td>12/21/2011</td>\n",
       "      <td>China</td>\n",
       "      <td>Hardware</td>\n",
       "      <td>Digital Sky Technologies,\\n\\t  QiMing Venture ...</td>\n",
       "      <td>2015</td>\n",
       "    </tr>\n",
       "    <tr>\n",
       "      <th>2</th>\n",
       "      <td>Airbnb</td>\n",
       "      <td>$25.5</td>\n",
       "      <td>7/26/2011</td>\n",
       "      <td>United States</td>\n",
       "      <td>eCommerce/Marketplace</td>\n",
       "      <td>General Catalyst Partners,\\n\\t  Andreessen Hor...</td>\n",
       "      <td>2015</td>\n",
       "    </tr>\n",
       "  </tbody>\n",
       "</table>\n",
       "</div>"
      ],
      "text/plain": [
       "  Company Valuation ($B) Date Joined        Country               Industry  \\\n",
       "0    Uber            $51   8/23/2013  United States              On-Demand   \n",
       "1  Xiaomi            $46  12/21/2011          China               Hardware   \n",
       "2  Airbnb          $25.5   7/26/2011  United States  eCommerce/Marketplace   \n",
       "\n",
       "                                            Investor  Year  \n",
       "0  Lowercase Capital,\\n\\t  Benchmark Capital, Goo...  2015  \n",
       "1  Digital Sky Technologies,\\n\\t  QiMing Venture ...  2015  \n",
       "2  General Catalyst Partners,\\n\\t  Andreessen Hor...  2015  "
      ]
     },
     "execution_count": 210,
     "metadata": {},
     "output_type": "execute_result"
    }
   ],
   "source": [
    "# Imprimimos las 3 primeras lineas para ispeccionar:\n",
    "df2015.head(3)"
   ]
  },
  {
   "cell_type": "code",
   "execution_count": 211,
   "metadata": {},
   "outputs": [],
   "source": [
    "# Utilizamos nuestra función para transformar las columnas: Valuation y Date Joined.\n",
    "transform(df2015)"
   ]
  },
  {
   "cell_type": "code",
   "execution_count": 212,
   "metadata": {},
   "outputs": [
    {
     "name": "stdout",
     "output_type": "stream",
     "text": [
      "<class 'pandas.core.frame.DataFrame'>\n",
      "RangeIndex: 144 entries, 0 to 143\n",
      "Data columns (total 7 columns):\n",
      " #   Column          Non-Null Count  Dtype         \n",
      "---  ------          --------------  -----         \n",
      " 0   Company         144 non-null    object        \n",
      " 1   Valuation ($B)  144 non-null    float64       \n",
      " 2   Date Joined     144 non-null    datetime64[ns]\n",
      " 3   Country         144 non-null    object        \n",
      " 4   Industry        144 non-null    object        \n",
      " 5   Investor        144 non-null    object        \n",
      " 6   Year            144 non-null    object        \n",
      "dtypes: datetime64[ns](1), float64(1), object(5)\n",
      "memory usage: 8.0+ KB\n"
     ]
    }
   ],
   "source": [
    "# Vemos que nuestras columnas presentan el tipo de dato correccto\n",
    "df2015.info()"
   ]
  },
  {
   "cell_type": "markdown",
   "metadata": {},
   "source": [
    "#### 2016"
   ]
  },
  {
   "cell_type": "code",
   "execution_count": 213,
   "metadata": {},
   "outputs": [],
   "source": [
    "# Leemos el dataset y le creamos una columna que corresponde al año de la lista\n",
    "df2016 = pd.read_excel('Data/unicorn_cb_23_dec_16.xlsx')\n",
    "df2016['Year'] = '2016'"
   ]
  },
  {
   "cell_type": "code",
   "execution_count": 214,
   "metadata": {},
   "outputs": [
    {
     "name": "stdout",
     "output_type": "stream",
     "text": [
      "El df esta formado por:  183 filas y 7 columnas\n",
      "Cantidad de valores duplicados:  0\n",
      "Cantidad de valores nulos:  0\n"
     ]
    }
   ],
   "source": [
    "# Imprimimos el reporte inicial\n",
    "reporte(df2016)"
   ]
  },
  {
   "cell_type": "code",
   "execution_count": 215,
   "metadata": {},
   "outputs": [
    {
     "data": {
      "text/html": [
       "<div>\n",
       "<style scoped>\n",
       "    .dataframe tbody tr th:only-of-type {\n",
       "        vertical-align: middle;\n",
       "    }\n",
       "\n",
       "    .dataframe tbody tr th {\n",
       "        vertical-align: top;\n",
       "    }\n",
       "\n",
       "    .dataframe thead th {\n",
       "        text-align: right;\n",
       "    }\n",
       "</style>\n",
       "<table border=\"1\" class=\"dataframe\">\n",
       "  <thead>\n",
       "    <tr style=\"text-align: right;\">\n",
       "      <th></th>\n",
       "      <th>Company</th>\n",
       "      <th>Valuation ($B)</th>\n",
       "      <th>Date Joined</th>\n",
       "      <th>Country</th>\n",
       "      <th>Industry</th>\n",
       "      <th>Investor</th>\n",
       "      <th>Year</th>\n",
       "    </tr>\n",
       "  </thead>\n",
       "  <tbody>\n",
       "    <tr>\n",
       "      <th>0</th>\n",
       "      <td>Uber</td>\n",
       "      <td>$68</td>\n",
       "      <td>8/23/2013</td>\n",
       "      <td>United States</td>\n",
       "      <td>On-Demand</td>\n",
       "      <td>Lowercase Capital,\\n\\t  Benchmark Capital, Goo...</td>\n",
       "      <td>2016</td>\n",
       "    </tr>\n",
       "    <tr>\n",
       "      <th>1</th>\n",
       "      <td>Xiaomi</td>\n",
       "      <td>$46</td>\n",
       "      <td>12/21/2011</td>\n",
       "      <td>China</td>\n",
       "      <td>Hardware</td>\n",
       "      <td>Digital Sky Technologies,\\n\\t  QiMing Venture ...</td>\n",
       "      <td>2016</td>\n",
       "    </tr>\n",
       "    <tr>\n",
       "      <th>2</th>\n",
       "      <td>Didi Chuxing</td>\n",
       "      <td>$33.8</td>\n",
       "      <td>12/31/2014</td>\n",
       "      <td>China</td>\n",
       "      <td>On-Demand</td>\n",
       "      <td>Matrix Partners, Tiger\\n\\t  Global Management,...</td>\n",
       "      <td>2016</td>\n",
       "    </tr>\n",
       "  </tbody>\n",
       "</table>\n",
       "</div>"
      ],
      "text/plain": [
       "        Company Valuation ($B) Date Joined        Country   Industry  \\\n",
       "0          Uber            $68   8/23/2013  United States  On-Demand   \n",
       "1        Xiaomi            $46  12/21/2011          China   Hardware   \n",
       "2  Didi Chuxing          $33.8  12/31/2014          China  On-Demand   \n",
       "\n",
       "                                            Investor  Year  \n",
       "0  Lowercase Capital,\\n\\t  Benchmark Capital, Goo...  2016  \n",
       "1  Digital Sky Technologies,\\n\\t  QiMing Venture ...  2016  \n",
       "2  Matrix Partners, Tiger\\n\\t  Global Management,...  2016  "
      ]
     },
     "execution_count": 215,
     "metadata": {},
     "output_type": "execute_result"
    }
   ],
   "source": [
    "# Imprimimos las 3 primeras lineas para ispeccionar:\n",
    "df2016.head(3)"
   ]
  },
  {
   "cell_type": "code",
   "execution_count": 216,
   "metadata": {},
   "outputs": [
    {
     "name": "stdout",
     "output_type": "stream",
     "text": [
      "<class 'pandas.core.frame.DataFrame'>\n",
      "RangeIndex: 183 entries, 0 to 182\n",
      "Data columns (total 7 columns):\n",
      " #   Column          Non-Null Count  Dtype         \n",
      "---  ------          --------------  -----         \n",
      " 0   Company         183 non-null    object        \n",
      " 1   Valuation ($B)  183 non-null    float64       \n",
      " 2   Date Joined     183 non-null    datetime64[ns]\n",
      " 3   Country         183 non-null    object        \n",
      " 4   Industry        183 non-null    object        \n",
      " 5   Investor        183 non-null    object        \n",
      " 6   Year            183 non-null    object        \n",
      "dtypes: datetime64[ns](1), float64(1), object(5)\n",
      "memory usage: 10.1+ KB\n"
     ]
    }
   ],
   "source": [
    "# Utilizamos nuestra función para transformar las columnas: Valuation y Date Joined.\n",
    "transform(df2016)\n",
    "# Vemos que nuestras columnas presentan el tipo de dato correccto\n",
    "df2016.info()"
   ]
  },
  {
   "cell_type": "markdown",
   "metadata": {},
   "source": [
    "#### 2017"
   ]
  },
  {
   "cell_type": "code",
   "execution_count": 217,
   "metadata": {},
   "outputs": [],
   "source": [
    "# Leemos el dataset y le creamos una columna que corresponde al año de la lista\n",
    "df2017 = pd.read_excel('Data/unicorn_cb_23_dec_17.xlsx')\n",
    "df2017['Year'] = '2017'"
   ]
  },
  {
   "cell_type": "code",
   "execution_count": 218,
   "metadata": {},
   "outputs": [
    {
     "name": "stdout",
     "output_type": "stream",
     "text": [
      "El df esta formado por:  222 filas y 7 columnas\n",
      "Cantidad de valores duplicados:  0\n",
      "Cantidad de valores nulos:  0\n"
     ]
    }
   ],
   "source": [
    "# Imprimimos el reporte inicial\n",
    "reporte(df2017)"
   ]
  },
  {
   "cell_type": "code",
   "execution_count": 219,
   "metadata": {},
   "outputs": [
    {
     "data": {
      "text/html": [
       "<div>\n",
       "<style scoped>\n",
       "    .dataframe tbody tr th:only-of-type {\n",
       "        vertical-align: middle;\n",
       "    }\n",
       "\n",
       "    .dataframe tbody tr th {\n",
       "        vertical-align: top;\n",
       "    }\n",
       "\n",
       "    .dataframe thead th {\n",
       "        text-align: right;\n",
       "    }\n",
       "</style>\n",
       "<table border=\"1\" class=\"dataframe\">\n",
       "  <thead>\n",
       "    <tr style=\"text-align: right;\">\n",
       "      <th></th>\n",
       "      <th>Company</th>\n",
       "      <th>Valuation ($B)</th>\n",
       "      <th>Date Joined</th>\n",
       "      <th>Country</th>\n",
       "      <th>Industry</th>\n",
       "      <th>Investor</th>\n",
       "      <th>Year</th>\n",
       "    </tr>\n",
       "  </thead>\n",
       "  <tbody>\n",
       "    <tr>\n",
       "      <th>0</th>\n",
       "      <td>Uber</td>\n",
       "      <td>$68</td>\n",
       "      <td>8/23/2013</td>\n",
       "      <td>United States</td>\n",
       "      <td>On-Demand</td>\n",
       "      <td>Lowercase Capital,\\n\\t  Benchmark Capital, Goo...</td>\n",
       "      <td>2017</td>\n",
       "    </tr>\n",
       "    <tr>\n",
       "      <th>1</th>\n",
       "      <td>Didi Chuxing</td>\n",
       "      <td>$56</td>\n",
       "      <td>12/31/2014</td>\n",
       "      <td>China</td>\n",
       "      <td>On-Demand</td>\n",
       "      <td>Matrix Partners, Tiger\\n\\t  Global Management,...</td>\n",
       "      <td>2017</td>\n",
       "    </tr>\n",
       "    <tr>\n",
       "      <th>2</th>\n",
       "      <td>Xiaomi</td>\n",
       "      <td>$46</td>\n",
       "      <td>12/21/2011</td>\n",
       "      <td>China</td>\n",
       "      <td>Hardware</td>\n",
       "      <td>Digital Sky Technologies,\\n\\t  QiMing Venture ...</td>\n",
       "      <td>2017</td>\n",
       "    </tr>\n",
       "  </tbody>\n",
       "</table>\n",
       "</div>"
      ],
      "text/plain": [
       "        Company Valuation ($B) Date Joined        Country   Industry  \\\n",
       "0          Uber            $68   8/23/2013  United States  On-Demand   \n",
       "1  Didi Chuxing            $56  12/31/2014          China  On-Demand   \n",
       "2        Xiaomi            $46  12/21/2011          China   Hardware   \n",
       "\n",
       "                                            Investor  Year  \n",
       "0  Lowercase Capital,\\n\\t  Benchmark Capital, Goo...  2017  \n",
       "1  Matrix Partners, Tiger\\n\\t  Global Management,...  2017  \n",
       "2  Digital Sky Technologies,\\n\\t  QiMing Venture ...  2017  "
      ]
     },
     "execution_count": 219,
     "metadata": {},
     "output_type": "execute_result"
    }
   ],
   "source": [
    "# Imprimimos las 3 primeras lineas para ispeccionar:\n",
    "df2017.head(3)"
   ]
  },
  {
   "cell_type": "code",
   "execution_count": 220,
   "metadata": {},
   "outputs": [
    {
     "name": "stdout",
     "output_type": "stream",
     "text": [
      "<class 'pandas.core.frame.DataFrame'>\n",
      "RangeIndex: 222 entries, 0 to 221\n",
      "Data columns (total 7 columns):\n",
      " #   Column          Non-Null Count  Dtype         \n",
      "---  ------          --------------  -----         \n",
      " 0   Company         222 non-null    object        \n",
      " 1   Valuation ($B)  222 non-null    float64       \n",
      " 2   Date Joined     222 non-null    datetime64[ns]\n",
      " 3   Country         222 non-null    object        \n",
      " 4   Industry        222 non-null    object        \n",
      " 5   Investor        222 non-null    object        \n",
      " 6   Year            222 non-null    object        \n",
      "dtypes: datetime64[ns](1), float64(1), object(5)\n",
      "memory usage: 12.3+ KB\n"
     ]
    }
   ],
   "source": [
    "# Utilizamos nuestra función para transformar las columnas: Valuation y Date Joined.\n",
    "transform(df2017)\n",
    "# Vemos que nuestras columnas presentan el tipo de dato correccto\n",
    "df2017.info()"
   ]
  },
  {
   "cell_type": "markdown",
   "metadata": {},
   "source": [
    "#### 2018"
   ]
  },
  {
   "cell_type": "code",
   "execution_count": 221,
   "metadata": {},
   "outputs": [],
   "source": [
    "# Leemos el dataset y le creamos una columna que corresponde al año de la lista\n",
    "df2018 = pd.read_excel('Data/unicorn_cb_29_dec_18.xlsx')\n",
    "df2018['Year'] = '2018'"
   ]
  },
  {
   "cell_type": "code",
   "execution_count": 222,
   "metadata": {},
   "outputs": [
    {
     "name": "stdout",
     "output_type": "stream",
     "text": [
      "El df esta formado por:  305 filas y 7 columnas\n",
      "Cantidad de valores duplicados:  0\n",
      "Cantidad de valores nulos:  0\n"
     ]
    }
   ],
   "source": [
    "# Imprimimos el reporte inicial\n",
    "reporte(df2018)"
   ]
  },
  {
   "cell_type": "code",
   "execution_count": 223,
   "metadata": {},
   "outputs": [
    {
     "data": {
      "text/html": [
       "<div>\n",
       "<style scoped>\n",
       "    .dataframe tbody tr th:only-of-type {\n",
       "        vertical-align: middle;\n",
       "    }\n",
       "\n",
       "    .dataframe tbody tr th {\n",
       "        vertical-align: top;\n",
       "    }\n",
       "\n",
       "    .dataframe thead th {\n",
       "        text-align: right;\n",
       "    }\n",
       "</style>\n",
       "<table border=\"1\" class=\"dataframe\">\n",
       "  <thead>\n",
       "    <tr style=\"text-align: right;\">\n",
       "      <th></th>\n",
       "      <th>Company</th>\n",
       "      <th>Valuation ($B)</th>\n",
       "      <th>Date Joined</th>\n",
       "      <th>Country</th>\n",
       "      <th>Industry</th>\n",
       "      <th>Investor</th>\n",
       "      <th>Year</th>\n",
       "    </tr>\n",
       "  </thead>\n",
       "  <tbody>\n",
       "    <tr>\n",
       "      <th>0</th>\n",
       "      <td>Toutiao (Bytedance)</td>\n",
       "      <td>$75</td>\n",
       "      <td>4/7/2017</td>\n",
       "      <td>China</td>\n",
       "      <td>Digital Media/ AI</td>\n",
       "      <td>Sequoia Capital China, SIG Asia Investments, S...</td>\n",
       "      <td>2018</td>\n",
       "    </tr>\n",
       "    <tr>\n",
       "      <th>1</th>\n",
       "      <td>Uber</td>\n",
       "      <td>$72</td>\n",
       "      <td>8/23/2013</td>\n",
       "      <td>United States</td>\n",
       "      <td>On-Demand</td>\n",
       "      <td>Lowercase Capital,\\n\\t  Benchmark Capital, Goo...</td>\n",
       "      <td>2018</td>\n",
       "    </tr>\n",
       "    <tr>\n",
       "      <th>2</th>\n",
       "      <td>Didi Chuxing</td>\n",
       "      <td>$56</td>\n",
       "      <td>12/31/2014</td>\n",
       "      <td>China</td>\n",
       "      <td>On-Demand</td>\n",
       "      <td>Matrix Partners, Tiger\\n\\t  Global Management,...</td>\n",
       "      <td>2018</td>\n",
       "    </tr>\n",
       "  </tbody>\n",
       "</table>\n",
       "</div>"
      ],
      "text/plain": [
       "               Company Valuation ($B) Date Joined        Country  \\\n",
       "0  Toutiao (Bytedance)            $75    4/7/2017          China   \n",
       "1                 Uber            $72   8/23/2013  United States   \n",
       "2         Didi Chuxing            $56  12/31/2014          China   \n",
       "\n",
       "            Industry                                           Investor  Year  \n",
       "0  Digital Media/ AI  Sequoia Capital China, SIG Asia Investments, S...  2018  \n",
       "1          On-Demand  Lowercase Capital,\\n\\t  Benchmark Capital, Goo...  2018  \n",
       "2          On-Demand  Matrix Partners, Tiger\\n\\t  Global Management,...  2018  "
      ]
     },
     "execution_count": 223,
     "metadata": {},
     "output_type": "execute_result"
    }
   ],
   "source": [
    "# Imprimimos las 3 primeras lineas para ispeccionar:\n",
    "df2018.head(3)"
   ]
  },
  {
   "cell_type": "code",
   "execution_count": 224,
   "metadata": {},
   "outputs": [
    {
     "name": "stdout",
     "output_type": "stream",
     "text": [
      "<class 'pandas.core.frame.DataFrame'>\n",
      "RangeIndex: 305 entries, 0 to 304\n",
      "Data columns (total 7 columns):\n",
      " #   Column          Non-Null Count  Dtype         \n",
      "---  ------          --------------  -----         \n",
      " 0   Company         305 non-null    object        \n",
      " 1   Valuation ($B)  305 non-null    float64       \n",
      " 2   Date Joined     305 non-null    datetime64[ns]\n",
      " 3   Country         305 non-null    object        \n",
      " 4   Industry        305 non-null    object        \n",
      " 5   Investor        305 non-null    object        \n",
      " 6   Year            305 non-null    object        \n",
      "dtypes: datetime64[ns](1), float64(1), object(5)\n",
      "memory usage: 16.8+ KB\n"
     ]
    }
   ],
   "source": [
    "# Utilizamos nuestra función para transformar las columnas: Valuation y Date Joined.\n",
    "transform(df2018)\n",
    "# Vemos que nuestras columnas presentan el tipo de dato correccto\n",
    "df2018.info()"
   ]
  },
  {
   "cell_type": "markdown",
   "metadata": {},
   "source": [
    "#### 2019"
   ]
  },
  {
   "cell_type": "code",
   "execution_count": 225,
   "metadata": {},
   "outputs": [],
   "source": [
    "# Leemos el dataset y le creamos una columna que corresponde al año de la lista\n",
    "df2019 = pd.read_excel('Data/unicorn_cb_31_dec_19.xlsx')\n",
    "df2019['Year'] = '2019'"
   ]
  },
  {
   "cell_type": "code",
   "execution_count": 226,
   "metadata": {},
   "outputs": [
    {
     "name": "stdout",
     "output_type": "stream",
     "text": [
      "El df esta formado por:  430 filas y 7 columnas\n",
      "Cantidad de valores duplicados:  0\n",
      "Cantidad de valores nulos:  1\n"
     ]
    }
   ],
   "source": [
    "# Imprimimos el reporte inicial\n",
    "reporte(df2019)"
   ]
  },
  {
   "cell_type": "code",
   "execution_count": 227,
   "metadata": {},
   "outputs": [
    {
     "data": {
      "text/html": [
       "<div>\n",
       "<style scoped>\n",
       "    .dataframe tbody tr th:only-of-type {\n",
       "        vertical-align: middle;\n",
       "    }\n",
       "\n",
       "    .dataframe tbody tr th {\n",
       "        vertical-align: top;\n",
       "    }\n",
       "\n",
       "    .dataframe thead th {\n",
       "        text-align: right;\n",
       "    }\n",
       "</style>\n",
       "<table border=\"1\" class=\"dataframe\">\n",
       "  <thead>\n",
       "    <tr style=\"text-align: right;\">\n",
       "      <th></th>\n",
       "      <th>Investor</th>\n",
       "      <th>Company</th>\n",
       "      <th>Valuation ($B)</th>\n",
       "      <th>Date Joined</th>\n",
       "      <th>Country</th>\n",
       "      <th>Industry</th>\n",
       "      <th>Year</th>\n",
       "    </tr>\n",
       "  </thead>\n",
       "  <tbody>\n",
       "    <tr>\n",
       "      <th>% nulos</th>\n",
       "      <td>0.23</td>\n",
       "      <td>0.0</td>\n",
       "      <td>0.0</td>\n",
       "      <td>0.0</td>\n",
       "      <td>0.0</td>\n",
       "      <td>0.0</td>\n",
       "      <td>0.0</td>\n",
       "    </tr>\n",
       "  </tbody>\n",
       "</table>\n",
       "</div>"
      ],
      "text/plain": [
       "         Investor  Company  Valuation ($B)  Date Joined  Country  Industry  \\\n",
       "% nulos      0.23      0.0             0.0          0.0      0.0       0.0   \n",
       "\n",
       "         Year  \n",
       "% nulos   0.0  "
      ]
     },
     "execution_count": 227,
     "metadata": {},
     "output_type": "execute_result"
    }
   ],
   "source": [
    "# Calculamos e identificamos en que columna estan nuestros valores nulos:\n",
    "percentage_null(df2019)"
   ]
  },
  {
   "cell_type": "code",
   "execution_count": 228,
   "metadata": {},
   "outputs": [],
   "source": [
    "# Reemplazamos nulos en la columna 'Select Investors' por la pabra: 'no_inversor'\n",
    "df2019['Investor'] = df2019['Investor'].fillna('no_inversor')"
   ]
  },
  {
   "cell_type": "code",
   "execution_count": 229,
   "metadata": {},
   "outputs": [
    {
     "name": "stdout",
     "output_type": "stream",
     "text": [
      "<class 'pandas.core.frame.DataFrame'>\n",
      "RangeIndex: 430 entries, 0 to 429\n",
      "Data columns (total 7 columns):\n",
      " #   Column          Non-Null Count  Dtype         \n",
      "---  ------          --------------  -----         \n",
      " 0   Company         430 non-null    object        \n",
      " 1   Valuation ($B)  430 non-null    float64       \n",
      " 2   Date Joined     430 non-null    datetime64[ns]\n",
      " 3   Country         430 non-null    object        \n",
      " 4   Industry        430 non-null    object        \n",
      " 5   Investor        430 non-null    object        \n",
      " 6   Year            430 non-null    object        \n",
      "dtypes: datetime64[ns](1), float64(1), object(5)\n",
      "memory usage: 23.6+ KB\n"
     ]
    }
   ],
   "source": [
    "# Utilizamos nuestra función para transformar las columnas: Valuation y Date Joined.\n",
    "transform(df2019)\n",
    "# Vemos que nuestras columnas presentan el tipo de dato correccto\n",
    "df2019.info()"
   ]
  },
  {
   "cell_type": "markdown",
   "metadata": {},
   "source": [
    "#### 2020"
   ]
  },
  {
   "cell_type": "code",
   "execution_count": 230,
   "metadata": {},
   "outputs": [],
   "source": [
    "# Leemos el dataset y le creamos una columna que corresponde al año de la lista\n",
    "df2020 = pd.read_excel('Data/unicorn_cb_31_dec_20.xlsx')\n",
    "df2020['Year'] = '2020'"
   ]
  },
  {
   "cell_type": "code",
   "execution_count": 231,
   "metadata": {},
   "outputs": [
    {
     "name": "stdout",
     "output_type": "stream",
     "text": [
      "El df esta formado por:  515 filas y 7 columnas\n",
      "Cantidad de valores duplicados:  2\n",
      "Cantidad de valores nulos:  1\n"
     ]
    }
   ],
   "source": [
    "# Imprimimos el reporte inicial\n",
    "reporte(df2020)"
   ]
  },
  {
   "cell_type": "code",
   "execution_count": 232,
   "metadata": {},
   "outputs": [
    {
     "data": {
      "text/html": [
       "<div>\n",
       "<style scoped>\n",
       "    .dataframe tbody tr th:only-of-type {\n",
       "        vertical-align: middle;\n",
       "    }\n",
       "\n",
       "    .dataframe tbody tr th {\n",
       "        vertical-align: top;\n",
       "    }\n",
       "\n",
       "    .dataframe thead th {\n",
       "        text-align: right;\n",
       "    }\n",
       "</style>\n",
       "<table border=\"1\" class=\"dataframe\">\n",
       "  <thead>\n",
       "    <tr style=\"text-align: right;\">\n",
       "      <th></th>\n",
       "      <th>Investor</th>\n",
       "      <th>Company</th>\n",
       "      <th>Valuation ($B)</th>\n",
       "      <th>Date Joined</th>\n",
       "      <th>Country</th>\n",
       "      <th>Industry</th>\n",
       "      <th>Year</th>\n",
       "    </tr>\n",
       "  </thead>\n",
       "  <tbody>\n",
       "    <tr>\n",
       "      <th>% nulos</th>\n",
       "      <td>0.19</td>\n",
       "      <td>0.0</td>\n",
       "      <td>0.0</td>\n",
       "      <td>0.0</td>\n",
       "      <td>0.0</td>\n",
       "      <td>0.0</td>\n",
       "      <td>0.0</td>\n",
       "    </tr>\n",
       "  </tbody>\n",
       "</table>\n",
       "</div>"
      ],
      "text/plain": [
       "         Investor  Company  Valuation ($B)  Date Joined  Country  Industry  \\\n",
       "% nulos      0.19      0.0             0.0          0.0      0.0       0.0   \n",
       "\n",
       "         Year  \n",
       "% nulos   0.0  "
      ]
     },
     "execution_count": 232,
     "metadata": {},
     "output_type": "execute_result"
    }
   ],
   "source": [
    "# Calculamos e identificamos en que columna estan nuestros valores nulos:\n",
    "percentage_null(df2020)"
   ]
  },
  {
   "cell_type": "code",
   "execution_count": 233,
   "metadata": {},
   "outputs": [],
   "source": [
    "# Reemplazamos nulos en la columna 'Select Investors' vamos a reemplazar por la pabra: 'no_inversor'\n",
    "df2020['Investor'] = df2020['Investor'].fillna('no_inversor')"
   ]
  },
  {
   "cell_type": "code",
   "execution_count": 234,
   "metadata": {},
   "outputs": [],
   "source": [
    "# Eliminamos valores Duplicados:\n",
    "df2020 = df2020.drop_duplicates()"
   ]
  },
  {
   "cell_type": "code",
   "execution_count": 235,
   "metadata": {},
   "outputs": [
    {
     "data": {
      "text/html": [
       "<div>\n",
       "<style scoped>\n",
       "    .dataframe tbody tr th:only-of-type {\n",
       "        vertical-align: middle;\n",
       "    }\n",
       "\n",
       "    .dataframe tbody tr th {\n",
       "        vertical-align: top;\n",
       "    }\n",
       "\n",
       "    .dataframe thead th {\n",
       "        text-align: right;\n",
       "    }\n",
       "</style>\n",
       "<table border=\"1\" class=\"dataframe\">\n",
       "  <thead>\n",
       "    <tr style=\"text-align: right;\">\n",
       "      <th></th>\n",
       "      <th>Company</th>\n",
       "      <th>Valuation ($B)</th>\n",
       "      <th>Date Joined</th>\n",
       "      <th>Country</th>\n",
       "      <th>Industry</th>\n",
       "      <th>Investor</th>\n",
       "      <th>Year</th>\n",
       "    </tr>\n",
       "  </thead>\n",
       "  <tbody>\n",
       "    <tr>\n",
       "      <th>273</th>\n",
       "      <td>Olive</td>\n",
       "      <td>$1.5</td>\n",
       "      <td>12/1//2020</td>\n",
       "      <td>United States</td>\n",
       "      <td>Internet software &amp; services</td>\n",
       "      <td>Drive Capital, General Catalyst, Ascension Ven...</td>\n",
       "      <td>2020</td>\n",
       "    </tr>\n",
       "    <tr>\n",
       "      <th>274</th>\n",
       "      <td>Strava</td>\n",
       "      <td>$1.5</td>\n",
       "      <td>11/16//2020</td>\n",
       "      <td>United States</td>\n",
       "      <td>Internet software &amp; services</td>\n",
       "      <td>Jackson Square Ventures, Madrone Capital Partn...</td>\n",
       "      <td>2020</td>\n",
       "    </tr>\n",
       "  </tbody>\n",
       "</table>\n",
       "</div>"
      ],
      "text/plain": [
       "    Company Valuation ($B)  Date Joined        Country  \\\n",
       "273   Olive           $1.5   12/1//2020  United States   \n",
       "274  Strava           $1.5  11/16//2020  United States   \n",
       "\n",
       "                         Industry  \\\n",
       "273  Internet software & services   \n",
       "274  Internet software & services   \n",
       "\n",
       "                                              Investor  Year  \n",
       "273  Drive Capital, General Catalyst, Ascension Ven...  2020  \n",
       "274  Jackson Square Ventures, Madrone Capital Partn...  2020  "
      ]
     },
     "execution_count": 235,
     "metadata": {},
     "output_type": "execute_result"
    }
   ],
   "source": [
    "# Intentando aplicar la funcion: transform(df2020), hemos detectado que el valor de las filas que se detallan a continuación no presentaban valores\n",
    "# formato fecha, por lo que proedimos a corregir eso:\n",
    "df2020.loc[[273,274]]"
   ]
  },
  {
   "cell_type": "code",
   "execution_count": 236,
   "metadata": {},
   "outputs": [],
   "source": [
    "# Las fechas presentaban doble //, por lo que se procede a reemplazar\n",
    "df2020.at[273, 'Date Joined'] = '12/1/2020'\n",
    "df2020.at[274, 'Date Joined'] = '11/16/2020'"
   ]
  },
  {
   "cell_type": "code",
   "execution_count": 237,
   "metadata": {},
   "outputs": [
    {
     "name": "stdout",
     "output_type": "stream",
     "text": [
      "<class 'pandas.core.frame.DataFrame'>\n",
      "Index: 513 entries, 0 to 514\n",
      "Data columns (total 7 columns):\n",
      " #   Column          Non-Null Count  Dtype         \n",
      "---  ------          --------------  -----         \n",
      " 0   Company         513 non-null    object        \n",
      " 1   Valuation ($B)  513 non-null    float64       \n",
      " 2   Date Joined     513 non-null    datetime64[ns]\n",
      " 3   Country         513 non-null    object        \n",
      " 4   Industry        513 non-null    object        \n",
      " 5   Investor        513 non-null    object        \n",
      " 6   Year            513 non-null    object        \n",
      "dtypes: datetime64[ns](1), float64(1), object(5)\n",
      "memory usage: 48.2+ KB\n"
     ]
    }
   ],
   "source": [
    "# Ahora si, utilizamos nuestra función para transformar las columnas: Valuation y Date Joined.\n",
    "transform(df2020)\n",
    "# Vemos que nuestras columnas presentan el tipo de dato correccto\n",
    "df2020.info()"
   ]
  },
  {
   "cell_type": "markdown",
   "metadata": {},
   "source": [
    "#### 2021"
   ]
  },
  {
   "cell_type": "code",
   "execution_count": 238,
   "metadata": {},
   "outputs": [],
   "source": [
    "# Leemos el dataset y le creamos una columna que corresponde al año de la lista\n",
    "df2021 = pd.read_excel('Data/unicorn_cb_31_dec_21.xlsx')\n",
    "df2021['Year'] = '2021'"
   ]
  },
  {
   "cell_type": "code",
   "execution_count": 239,
   "metadata": {},
   "outputs": [
    {
     "name": "stdout",
     "output_type": "stream",
     "text": [
      "El df esta formado por:  513 filas y 7 columnas\n",
      "Cantidad de valores duplicados:  0\n",
      "Cantidad de valores nulos:  0\n"
     ]
    }
   ],
   "source": [
    "# Imprimimos el reporte inicial\n",
    "reporte(df2020)"
   ]
  },
  {
   "cell_type": "code",
   "execution_count": 240,
   "metadata": {},
   "outputs": [
    {
     "data": {
      "text/html": [
       "<div>\n",
       "<style scoped>\n",
       "    .dataframe tbody tr th:only-of-type {\n",
       "        vertical-align: middle;\n",
       "    }\n",
       "\n",
       "    .dataframe tbody tr th {\n",
       "        vertical-align: top;\n",
       "    }\n",
       "\n",
       "    .dataframe thead th {\n",
       "        text-align: right;\n",
       "    }\n",
       "</style>\n",
       "<table border=\"1\" class=\"dataframe\">\n",
       "  <thead>\n",
       "    <tr style=\"text-align: right;\">\n",
       "      <th></th>\n",
       "      <th>Company</th>\n",
       "      <th>Valuation ($B)</th>\n",
       "      <th>Date Joined</th>\n",
       "      <th>Country</th>\n",
       "      <th>Industry</th>\n",
       "      <th>Investor</th>\n",
       "      <th>tablescraper-selected-row 7</th>\n",
       "      <th>Year</th>\n",
       "    </tr>\n",
       "  </thead>\n",
       "  <tbody>\n",
       "    <tr>\n",
       "      <th>0</th>\n",
       "      <td>Bytedance</td>\n",
       "      <td>$140</td>\n",
       "      <td>4/7/2017</td>\n",
       "      <td>China</td>\n",
       "      <td>Beijing</td>\n",
       "      <td>Artificial intelligence</td>\n",
       "      <td>Sequoia Capital China, SIG Asia Investments, S...</td>\n",
       "      <td>2021</td>\n",
       "    </tr>\n",
       "    <tr>\n",
       "      <th>1</th>\n",
       "      <td>SpaceX</td>\n",
       "      <td>$100.3</td>\n",
       "      <td>12/1/2012</td>\n",
       "      <td>United States</td>\n",
       "      <td>Hawthorne</td>\n",
       "      <td>Other</td>\n",
       "      <td>Founders Fund, Draper Fisher Jurvetson, Rothen...</td>\n",
       "      <td>2021</td>\n",
       "    </tr>\n",
       "    <tr>\n",
       "      <th>2</th>\n",
       "      <td>Stripe</td>\n",
       "      <td>$95</td>\n",
       "      <td>1/23/2014</td>\n",
       "      <td>United States</td>\n",
       "      <td>San Francisco</td>\n",
       "      <td>Fintech</td>\n",
       "      <td>Khosla Ventures, LowercaseCapital, capitalG</td>\n",
       "      <td>2021</td>\n",
       "    </tr>\n",
       "  </tbody>\n",
       "</table>\n",
       "</div>"
      ],
      "text/plain": [
       "     Company Valuation ($B) Date Joined        Country       Industry  \\\n",
       "0  Bytedance           $140    4/7/2017          China        Beijing   \n",
       "1     SpaceX         $100.3   12/1/2012  United States      Hawthorne   \n",
       "2     Stripe            $95   1/23/2014  United States  San Francisco   \n",
       "\n",
       "                  Investor                        tablescraper-selected-row 7  \\\n",
       "0  Artificial intelligence  Sequoia Capital China, SIG Asia Investments, S...   \n",
       "1                    Other  Founders Fund, Draper Fisher Jurvetson, Rothen...   \n",
       "2                  Fintech        Khosla Ventures, LowercaseCapital, capitalG   \n",
       "\n",
       "   Year  \n",
       "0  2021  \n",
       "1  2021  \n",
       "2  2021  "
      ]
     },
     "execution_count": 240,
     "metadata": {},
     "output_type": "execute_result"
    }
   ],
   "source": [
    "# Imprimimos las 3 primeras filas para inspeccionar:\n",
    "df2021.head(3)"
   ]
  },
  {
   "cell_type": "markdown",
   "metadata": {},
   "source": [
    "Vemos que el la información para el año 2021 cambia con respecto a la que teníamos en los años anteriores, por lo que procedemos a convertir las columnas\n",
    "de manera que todas tengan el mismo nombre."
   ]
  },
  {
   "cell_type": "code",
   "execution_count": 241,
   "metadata": {},
   "outputs": [],
   "source": [
    "# se identificaron columnas con diferentes nombres por lo que se procedión a cambiarlas para que todas ssean iguales a la hora de concatenar\n",
    "df2021 = df2021.rename(columns={'Industry':'City', 'Investor':'Industry','tablescraper-selected-row 7':'Investor'})"
   ]
  },
  {
   "cell_type": "code",
   "execution_count": 242,
   "metadata": {},
   "outputs": [
    {
     "data": {
      "text/html": [
       "<div>\n",
       "<style scoped>\n",
       "    .dataframe tbody tr th:only-of-type {\n",
       "        vertical-align: middle;\n",
       "    }\n",
       "\n",
       "    .dataframe tbody tr th {\n",
       "        vertical-align: top;\n",
       "    }\n",
       "\n",
       "    .dataframe thead th {\n",
       "        text-align: right;\n",
       "    }\n",
       "</style>\n",
       "<table border=\"1\" class=\"dataframe\">\n",
       "  <thead>\n",
       "    <tr style=\"text-align: right;\">\n",
       "      <th></th>\n",
       "      <th>Investor</th>\n",
       "      <th>Company</th>\n",
       "      <th>Valuation ($B)</th>\n",
       "      <th>Date Joined</th>\n",
       "      <th>Country</th>\n",
       "      <th>City</th>\n",
       "      <th>Industry</th>\n",
       "      <th>Year</th>\n",
       "    </tr>\n",
       "  </thead>\n",
       "  <tbody>\n",
       "    <tr>\n",
       "      <th>% nulos</th>\n",
       "      <td>1.77</td>\n",
       "      <td>0.0</td>\n",
       "      <td>0.0</td>\n",
       "      <td>0.0</td>\n",
       "      <td>0.0</td>\n",
       "      <td>0.0</td>\n",
       "      <td>0.0</td>\n",
       "      <td>0.0</td>\n",
       "    </tr>\n",
       "  </tbody>\n",
       "</table>\n",
       "</div>"
      ],
      "text/plain": [
       "         Investor  Company  Valuation ($B)  Date Joined  Country  City  \\\n",
       "% nulos      1.77      0.0             0.0          0.0      0.0   0.0   \n",
       "\n",
       "         Industry  Year  \n",
       "% nulos       0.0   0.0  "
      ]
     },
     "execution_count": 242,
     "metadata": {},
     "output_type": "execute_result"
    }
   ],
   "source": [
    "percentage_null(df2021)"
   ]
  },
  {
   "cell_type": "code",
   "execution_count": 243,
   "metadata": {},
   "outputs": [
    {
     "data": {
      "text/html": [
       "<div>\n",
       "<style scoped>\n",
       "    .dataframe tbody tr th:only-of-type {\n",
       "        vertical-align: middle;\n",
       "    }\n",
       "\n",
       "    .dataframe tbody tr th {\n",
       "        vertical-align: top;\n",
       "    }\n",
       "\n",
       "    .dataframe thead th {\n",
       "        text-align: right;\n",
       "    }\n",
       "</style>\n",
       "<table border=\"1\" class=\"dataframe\">\n",
       "  <thead>\n",
       "    <tr style=\"text-align: right;\">\n",
       "      <th></th>\n",
       "      <th>Company</th>\n",
       "      <th>Valuation ($B)</th>\n",
       "      <th>Date Joined</th>\n",
       "      <th>Country</th>\n",
       "      <th>City</th>\n",
       "      <th>Industry</th>\n",
       "      <th>Investor</th>\n",
       "      <th>Year</th>\n",
       "    </tr>\n",
       "  </thead>\n",
       "  <tbody>\n",
       "    <tr>\n",
       "      <th>10</th>\n",
       "      <td>FTX</td>\n",
       "      <td>$25</td>\n",
       "      <td>7/20/2021</td>\n",
       "      <td>Hong Kong</td>\n",
       "      <td>Fintech</td>\n",
       "      <td>Sequoia Capital, Thoma Bravo, Softbank</td>\n",
       "      <td>NaN</td>\n",
       "      <td>2021</td>\n",
       "    </tr>\n",
       "    <tr>\n",
       "      <th>198</th>\n",
       "      <td>HyalRoute</td>\n",
       "      <td>$3.5</td>\n",
       "      <td>5/26/2020</td>\n",
       "      <td>Singapore</td>\n",
       "      <td>Mobile &amp; telecommunications</td>\n",
       "      <td>Kuang-Chi</td>\n",
       "      <td>NaN</td>\n",
       "      <td>2021</td>\n",
       "    </tr>\n",
       "    <tr>\n",
       "      <th>406</th>\n",
       "      <td>Advance Intelligence Group</td>\n",
       "      <td>$2</td>\n",
       "      <td>9/23/2021</td>\n",
       "      <td>Singapore</td>\n",
       "      <td>Artificial intelligence</td>\n",
       "      <td>Vision Plus Capital, GSR Ventures, ZhenFund</td>\n",
       "      <td>NaN</td>\n",
       "      <td>2021</td>\n",
       "    </tr>\n",
       "    <tr>\n",
       "      <th>535</th>\n",
       "      <td>$1.5</td>\n",
       "      <td>12/17/2021</td>\n",
       "      <td>United States</td>\n",
       "      <td>San Francisco</td>\n",
       "      <td>Internet software &amp; services</td>\n",
       "      <td>Accel, Benchmark, SV Angel</td>\n",
       "      <td>NaN</td>\n",
       "      <td>2021</td>\n",
       "    </tr>\n",
       "    <tr>\n",
       "      <th>585</th>\n",
       "      <td>Trax</td>\n",
       "      <td>$1.3</td>\n",
       "      <td>7/22/2019</td>\n",
       "      <td>Singapore</td>\n",
       "      <td>Artificial intelligence</td>\n",
       "      <td>Hopu Investment Management, Boyu Capital, DC T...</td>\n",
       "      <td>NaN</td>\n",
       "      <td>2021</td>\n",
       "    </tr>\n",
       "    <tr>\n",
       "      <th>686</th>\n",
       "      <td>Amber Group</td>\n",
       "      <td>$1.1</td>\n",
       "      <td>6/21/2021</td>\n",
       "      <td>Hong Kong</td>\n",
       "      <td>Fintech</td>\n",
       "      <td>Tiger Global Management, Tiger Brokers, DCM Ve...</td>\n",
       "      <td>NaN</td>\n",
       "      <td>2021</td>\n",
       "    </tr>\n",
       "    <tr>\n",
       "      <th>691</th>\n",
       "      <td>Carousell</td>\n",
       "      <td>$1.1</td>\n",
       "      <td>9/15/2021</td>\n",
       "      <td>Singapore</td>\n",
       "      <td>E-commerce &amp; direct-to-consumer</td>\n",
       "      <td>500 Global, Rakuten Ventures, Golden Gate Vent...</td>\n",
       "      <td>NaN</td>\n",
       "      <td>2021</td>\n",
       "    </tr>\n",
       "    <tr>\n",
       "      <th>722</th>\n",
       "      <td>LinkSure Network</td>\n",
       "      <td>$1</td>\n",
       "      <td>1/1/2015</td>\n",
       "      <td>China</td>\n",
       "      <td>Shanghai</td>\n",
       "      <td>Mobile &amp; telecommunications</td>\n",
       "      <td>NaN</td>\n",
       "      <td>2021</td>\n",
       "    </tr>\n",
       "    <tr>\n",
       "      <th>747</th>\n",
       "      <td>WeLab</td>\n",
       "      <td>$1</td>\n",
       "      <td>11/8/2017</td>\n",
       "      <td>Hong Kong</td>\n",
       "      <td>Fintech</td>\n",
       "      <td>Sequoia Capital China, ING, Alibaba Entreprene...</td>\n",
       "      <td>NaN</td>\n",
       "      <td>2021</td>\n",
       "    </tr>\n",
       "    <tr>\n",
       "      <th>823</th>\n",
       "      <td>PatSnap</td>\n",
       "      <td>$1</td>\n",
       "      <td>3/16/2021</td>\n",
       "      <td>Singapore</td>\n",
       "      <td>Internet software &amp; services</td>\n",
       "      <td>Sequoia Capital China, Shunwei Capital Partner...</td>\n",
       "      <td>NaN</td>\n",
       "      <td>2021</td>\n",
       "    </tr>\n",
       "    <tr>\n",
       "      <th>851</th>\n",
       "      <td>Moglix</td>\n",
       "      <td>$1</td>\n",
       "      <td>5/17/2021</td>\n",
       "      <td>Singapore</td>\n",
       "      <td>E-commerce &amp; direct-to-consumer</td>\n",
       "      <td>Jungle Ventures, Accel, Venture Highway</td>\n",
       "      <td>NaN</td>\n",
       "      <td>2021</td>\n",
       "    </tr>\n",
       "    <tr>\n",
       "      <th>854</th>\n",
       "      <td>Matrixport</td>\n",
       "      <td>$1</td>\n",
       "      <td>6/1/2021</td>\n",
       "      <td>Singapore</td>\n",
       "      <td>Fintech</td>\n",
       "      <td>Dragonfly Captial, Qiming Venture Partners, DS...</td>\n",
       "      <td>NaN</td>\n",
       "      <td>2021</td>\n",
       "    </tr>\n",
       "    <tr>\n",
       "      <th>859</th>\n",
       "      <td>Carro</td>\n",
       "      <td>$1</td>\n",
       "      <td>6/14/2021</td>\n",
       "      <td>Singapore</td>\n",
       "      <td>E-commerce &amp; direct-to-consumer</td>\n",
       "      <td>SingTel Innov8, Alpha JWC Ventures, Golden Gat...</td>\n",
       "      <td>NaN</td>\n",
       "      <td>2021</td>\n",
       "    </tr>\n",
       "    <tr>\n",
       "      <th>872</th>\n",
       "      <td>bolttech</td>\n",
       "      <td>$1</td>\n",
       "      <td>7/1/2021</td>\n",
       "      <td>Singapore</td>\n",
       "      <td>Fintech</td>\n",
       "      <td>Mundi Ventures, Doqling Capital Partners, Acti...</td>\n",
       "      <td>NaN</td>\n",
       "      <td>2021</td>\n",
       "    </tr>\n",
       "    <tr>\n",
       "      <th>883</th>\n",
       "      <td>NIUM</td>\n",
       "      <td>$1</td>\n",
       "      <td>7/13/2021</td>\n",
       "      <td>Singapore</td>\n",
       "      <td>Fintech</td>\n",
       "      <td>Vertex Ventures SE Asia, Global Founders Capit...</td>\n",
       "      <td>NaN</td>\n",
       "      <td>2021</td>\n",
       "    </tr>\n",
       "    <tr>\n",
       "      <th>895</th>\n",
       "      <td>Cider</td>\n",
       "      <td>$1</td>\n",
       "      <td>9/2/2021</td>\n",
       "      <td>Hong Kong</td>\n",
       "      <td>E-commerce &amp; direct-to-consumer</td>\n",
       "      <td>Andreessen Horowitz, DST Global, IDG Capital</td>\n",
       "      <td>NaN</td>\n",
       "      <td>2021</td>\n",
       "    </tr>\n",
       "    <tr>\n",
       "      <th>907</th>\n",
       "      <td>Ninja Van</td>\n",
       "      <td>$1</td>\n",
       "      <td>9/27/2021</td>\n",
       "      <td>Singapore</td>\n",
       "      <td>Supply chain, logistics, &amp; delivery</td>\n",
       "      <td>B Capital Group, Monk's Hill Ventures, Dynamic...</td>\n",
       "      <td>NaN</td>\n",
       "      <td>2021</td>\n",
       "    </tr>\n",
       "  </tbody>\n",
       "</table>\n",
       "</div>"
      ],
      "text/plain": [
       "                        Company Valuation ($B)    Date Joined        Country  \\\n",
       "10                          FTX            $25      7/20/2021      Hong Kong   \n",
       "198                   HyalRoute           $3.5      5/26/2020      Singapore   \n",
       "406  Advance Intelligence Group             $2      9/23/2021      Singapore   \n",
       "535                        $1.5     12/17/2021  United States  San Francisco   \n",
       "585                        Trax           $1.3      7/22/2019      Singapore   \n",
       "686                 Amber Group           $1.1      6/21/2021      Hong Kong   \n",
       "691                   Carousell           $1.1      9/15/2021      Singapore   \n",
       "722            LinkSure Network             $1       1/1/2015          China   \n",
       "747                       WeLab             $1      11/8/2017      Hong Kong   \n",
       "823                     PatSnap             $1      3/16/2021      Singapore   \n",
       "851                      Moglix             $1      5/17/2021      Singapore   \n",
       "854                  Matrixport             $1       6/1/2021      Singapore   \n",
       "859                       Carro             $1      6/14/2021      Singapore   \n",
       "872                    bolttech             $1       7/1/2021      Singapore   \n",
       "883                        NIUM             $1      7/13/2021      Singapore   \n",
       "895                       Cider             $1       9/2/2021      Hong Kong   \n",
       "907                   Ninja Van             $1      9/27/2021      Singapore   \n",
       "\n",
       "                                    City  \\\n",
       "10                               Fintech   \n",
       "198          Mobile & telecommunications   \n",
       "406              Artificial intelligence   \n",
       "535         Internet software & services   \n",
       "585              Artificial intelligence   \n",
       "686                              Fintech   \n",
       "691      E-commerce & direct-to-consumer   \n",
       "722                             Shanghai   \n",
       "747                              Fintech   \n",
       "823         Internet software & services   \n",
       "851      E-commerce & direct-to-consumer   \n",
       "854                              Fintech   \n",
       "859      E-commerce & direct-to-consumer   \n",
       "872                              Fintech   \n",
       "883                              Fintech   \n",
       "895      E-commerce & direct-to-consumer   \n",
       "907  Supply chain, logistics, & delivery   \n",
       "\n",
       "                                              Industry Investor  Year  \n",
       "10              Sequoia Capital, Thoma Bravo, Softbank      NaN  2021  \n",
       "198                                          Kuang-Chi      NaN  2021  \n",
       "406        Vision Plus Capital, GSR Ventures, ZhenFund      NaN  2021  \n",
       "535                         Accel, Benchmark, SV Angel      NaN  2021  \n",
       "585  Hopu Investment Management, Boyu Capital, DC T...      NaN  2021  \n",
       "686  Tiger Global Management, Tiger Brokers, DCM Ve...      NaN  2021  \n",
       "691  500 Global, Rakuten Ventures, Golden Gate Vent...      NaN  2021  \n",
       "722                        Mobile & telecommunications      NaN  2021  \n",
       "747  Sequoia Capital China, ING, Alibaba Entreprene...      NaN  2021  \n",
       "823  Sequoia Capital China, Shunwei Capital Partner...      NaN  2021  \n",
       "851            Jungle Ventures, Accel, Venture Highway      NaN  2021  \n",
       "854  Dragonfly Captial, Qiming Venture Partners, DS...      NaN  2021  \n",
       "859  SingTel Innov8, Alpha JWC Ventures, Golden Gat...      NaN  2021  \n",
       "872  Mundi Ventures, Doqling Capital Partners, Acti...      NaN  2021  \n",
       "883  Vertex Ventures SE Asia, Global Founders Capit...      NaN  2021  \n",
       "895       Andreessen Horowitz, DST Global, IDG Capital      NaN  2021  \n",
       "907  B Capital Group, Monk's Hill Ventures, Dynamic...      NaN  2021  "
      ]
     },
     "execution_count": 243,
     "metadata": {},
     "output_type": "execute_result"
    }
   ],
   "source": [
    "# Imprimimos los nulos para identificarlos, ya que el contenido de los dataset han tenido errores de imputación:\n",
    "df2021[df2021['Investor'].isna()]"
   ]
  },
  {
   "cell_type": "code",
   "execution_count": 244,
   "metadata": {},
   "outputs": [],
   "source": [
    "# Reemplazamos nulos en la columna 'Select Investors' vamos a reemplazar por la pabra: 'no_inversor'\n",
    "df2021['Investor'] = df2021['Investor'].fillna('no_inversor')"
   ]
  },
  {
   "cell_type": "markdown",
   "metadata": {},
   "source": [
    "Dentro de los valores nulos identificamos una columna que presenta un nombre que extraño, por lo que se peude ver en realidad es que $1.5 en realizad corresponde al valor y no se tiene el nombre de la empresa, por lo que tosas sus columnas uqedaron desfasadas. Se procede a elimiar esta fila"
   ]
  },
  {
   "cell_type": "code",
   "execution_count": 245,
   "metadata": {},
   "outputs": [
    {
     "data": {
      "text/html": [
       "<div>\n",
       "<style scoped>\n",
       "    .dataframe tbody tr th:only-of-type {\n",
       "        vertical-align: middle;\n",
       "    }\n",
       "\n",
       "    .dataframe tbody tr th {\n",
       "        vertical-align: top;\n",
       "    }\n",
       "\n",
       "    .dataframe thead th {\n",
       "        text-align: right;\n",
       "    }\n",
       "</style>\n",
       "<table border=\"1\" class=\"dataframe\">\n",
       "  <thead>\n",
       "    <tr style=\"text-align: right;\">\n",
       "      <th></th>\n",
       "      <th>Company</th>\n",
       "      <th>Valuation ($B)</th>\n",
       "      <th>Date Joined</th>\n",
       "      <th>Country</th>\n",
       "      <th>City</th>\n",
       "      <th>Industry</th>\n",
       "      <th>Investor</th>\n",
       "      <th>Year</th>\n",
       "    </tr>\n",
       "  </thead>\n",
       "  <tbody>\n",
       "    <tr>\n",
       "      <th>535</th>\n",
       "      <td>$1.5</td>\n",
       "      <td>12/17/2021</td>\n",
       "      <td>United States</td>\n",
       "      <td>San Francisco</td>\n",
       "      <td>Internet software &amp; services</td>\n",
       "      <td>Accel, Benchmark, SV Angel</td>\n",
       "      <td>no_inversor</td>\n",
       "      <td>2021</td>\n",
       "    </tr>\n",
       "  </tbody>\n",
       "</table>\n",
       "</div>"
      ],
      "text/plain": [
       "    Company Valuation ($B)    Date Joined        Country  \\\n",
       "535    $1.5     12/17/2021  United States  San Francisco   \n",
       "\n",
       "                             City                    Industry     Investor  \\\n",
       "535  Internet software & services  Accel, Benchmark, SV Angel  no_inversor   \n",
       "\n",
       "     Year  \n",
       "535  2021  "
      ]
     },
     "execution_count": 245,
     "metadata": {},
     "output_type": "execute_result"
    }
   ],
   "source": [
    "# filtramos la fila donde el nombre de la companía es \"$1.5\" \n",
    "df2021[df2021['Company'] == '$1.5']"
   ]
  },
  {
   "cell_type": "code",
   "execution_count": 246,
   "metadata": {},
   "outputs": [],
   "source": [
    "# Procedemos a eliminarla ya que carecemos de este nombre y no podemos continuar con la busqueda de este dato faltante.\n",
    "drop = df2021[df2021['Company'] == '$1.5'].index\n",
    "df2021.drop(drop, inplace=True)"
   ]
  },
  {
   "cell_type": "code",
   "execution_count": 247,
   "metadata": {},
   "outputs": [
    {
     "name": "stdout",
     "output_type": "stream",
     "text": [
      "<class 'pandas.core.frame.DataFrame'>\n",
      "Index: 957 entries, 0 to 957\n",
      "Data columns (total 8 columns):\n",
      " #   Column          Non-Null Count  Dtype         \n",
      "---  ------          --------------  -----         \n",
      " 0   Company         957 non-null    object        \n",
      " 1   Valuation ($B)  957 non-null    float64       \n",
      " 2   Date Joined     957 non-null    datetime64[ns]\n",
      " 3   Country         957 non-null    object        \n",
      " 4   City            957 non-null    object        \n",
      " 5   Industry        957 non-null    object        \n",
      " 6   Investor        957 non-null    object        \n",
      " 7   Year            957 non-null    object        \n",
      "dtypes: datetime64[ns](1), float64(1), object(6)\n",
      "memory usage: 67.3+ KB\n"
     ]
    }
   ],
   "source": [
    "# Utilizamos nuestra función para transformar las columnas: Valuation y Date Joined.\n",
    "transform(df2021)\n",
    "# Vemos que nuestras columnas presentan el tipo de dato correccto\n",
    "df2021.info()"
   ]
  },
  {
   "cell_type": "markdown",
   "metadata": {},
   "source": [
    "#### 2022"
   ]
  },
  {
   "cell_type": "markdown",
   "metadata": {},
   "source": [
    "Para el año 2022, conseguimos otra fuente por lo que tendremos que hacer cambios a las columnas para poder concatenar:\n",
    "\n",
    "El archivo es un .csv. Presentaba una columna extra:'Unnamed: 0' que se eliminó y reenombramos una columna para que tenga el mismo nombre que los df anteriores."
   ]
  },
  {
   "cell_type": "code",
   "execution_count": 248,
   "metadata": {},
   "outputs": [],
   "source": [
    "# Leemos el dataset y le creamos una columna que corresponde al año de la lista\n",
    "df2022 = pd.read_csv('Data/unicorn_cb_15_nov_22.csv')\n",
    "df2022['Year'] = '2022'"
   ]
  },
  {
   "cell_type": "code",
   "execution_count": 249,
   "metadata": {},
   "outputs": [
    {
     "name": "stdout",
     "output_type": "stream",
     "text": [
      "El df esta formado por:  1201 filas y 9 columnas\n",
      "Cantidad de valores duplicados:  0\n",
      "Cantidad de valores nulos:  19\n"
     ]
    }
   ],
   "source": [
    "# Imprimimos el reporte inicial\n",
    "reporte(df2022)"
   ]
  },
  {
   "cell_type": "code",
   "execution_count": 250,
   "metadata": {},
   "outputs": [
    {
     "data": {
      "text/html": [
       "<div>\n",
       "<style scoped>\n",
       "    .dataframe tbody tr th:only-of-type {\n",
       "        vertical-align: middle;\n",
       "    }\n",
       "\n",
       "    .dataframe tbody tr th {\n",
       "        vertical-align: top;\n",
       "    }\n",
       "\n",
       "    .dataframe thead th {\n",
       "        text-align: right;\n",
       "    }\n",
       "</style>\n",
       "<table border=\"1\" class=\"dataframe\">\n",
       "  <thead>\n",
       "    <tr style=\"text-align: right;\">\n",
       "      <th></th>\n",
       "      <th>Unnamed: 0</th>\n",
       "      <th>Company</th>\n",
       "      <th>Valuation ($B)</th>\n",
       "      <th>Date Joined</th>\n",
       "      <th>Country</th>\n",
       "      <th>City</th>\n",
       "      <th>Industry</th>\n",
       "      <th>Select Investors</th>\n",
       "      <th>Year</th>\n",
       "    </tr>\n",
       "  </thead>\n",
       "  <tbody>\n",
       "    <tr>\n",
       "      <th>0</th>\n",
       "      <td>0</td>\n",
       "      <td>ByteDance</td>\n",
       "      <td>$140</td>\n",
       "      <td>4/7/2017</td>\n",
       "      <td>China</td>\n",
       "      <td>Beijing</td>\n",
       "      <td>Artificial intelligence</td>\n",
       "      <td>Sequoia Capital China, SIG Asia Investments, S...</td>\n",
       "      <td>2022</td>\n",
       "    </tr>\n",
       "    <tr>\n",
       "      <th>1</th>\n",
       "      <td>1</td>\n",
       "      <td>SpaceX</td>\n",
       "      <td>$127</td>\n",
       "      <td>12/1/2012</td>\n",
       "      <td>United States</td>\n",
       "      <td>Hawthorne</td>\n",
       "      <td>Other</td>\n",
       "      <td>Founders Fund, Draper Fisher Jurvetson, Rothen...</td>\n",
       "      <td>2022</td>\n",
       "    </tr>\n",
       "    <tr>\n",
       "      <th>2</th>\n",
       "      <td>2</td>\n",
       "      <td>SHEIN</td>\n",
       "      <td>$100</td>\n",
       "      <td>7/3/2018</td>\n",
       "      <td>China</td>\n",
       "      <td>Shenzhen</td>\n",
       "      <td>E-commerce &amp; direct-to-consumer</td>\n",
       "      <td>Tiger Global Management, Sequoia Capital China...</td>\n",
       "      <td>2022</td>\n",
       "    </tr>\n",
       "  </tbody>\n",
       "</table>\n",
       "</div>"
      ],
      "text/plain": [
       "   Unnamed: 0    Company Valuation ($B) Date Joined        Country       City  \\\n",
       "0           0  ByteDance           $140    4/7/2017          China    Beijing   \n",
       "1           1     SpaceX           $127   12/1/2012  United States  Hawthorne   \n",
       "2           2      SHEIN           $100    7/3/2018          China   Shenzhen   \n",
       "\n",
       "                          Industry  \\\n",
       "0          Artificial intelligence   \n",
       "1                            Other   \n",
       "2  E-commerce & direct-to-consumer   \n",
       "\n",
       "                                    Select Investors  Year  \n",
       "0  Sequoia Capital China, SIG Asia Investments, S...  2022  \n",
       "1  Founders Fund, Draper Fisher Jurvetson, Rothen...  2022  \n",
       "2  Tiger Global Management, Sequoia Capital China...  2022  "
      ]
     },
     "execution_count": 250,
     "metadata": {},
     "output_type": "execute_result"
    }
   ],
   "source": [
    "# Imprimimos las 3 primeras filas para inspeccionar:\n",
    "df2022.head(3)"
   ]
  },
  {
   "cell_type": "code",
   "execution_count": 251,
   "metadata": {},
   "outputs": [],
   "source": [
    "# Eliminamos la columna: 'Unnamed: 0' y reenombramos la columna: 'Select Investors'\n",
    "df2022 = df2022.drop(['Unnamed: 0'],axis=1)\n",
    "df2022 = df2022.rename(columns={'Select Investors':'Investor'})"
   ]
  },
  {
   "cell_type": "code",
   "execution_count": 252,
   "metadata": {},
   "outputs": [
    {
     "data": {
      "text/html": [
       "<div>\n",
       "<style scoped>\n",
       "    .dataframe tbody tr th:only-of-type {\n",
       "        vertical-align: middle;\n",
       "    }\n",
       "\n",
       "    .dataframe tbody tr th {\n",
       "        vertical-align: top;\n",
       "    }\n",
       "\n",
       "    .dataframe thead th {\n",
       "        text-align: right;\n",
       "    }\n",
       "</style>\n",
       "<table border=\"1\" class=\"dataframe\">\n",
       "  <thead>\n",
       "    <tr style=\"text-align: right;\">\n",
       "      <th></th>\n",
       "      <th>City</th>\n",
       "      <th>Investor</th>\n",
       "      <th>Company</th>\n",
       "      <th>Valuation ($B)</th>\n",
       "      <th>Date Joined</th>\n",
       "      <th>Country</th>\n",
       "      <th>Industry</th>\n",
       "      <th>Year</th>\n",
       "    </tr>\n",
       "  </thead>\n",
       "  <tbody>\n",
       "    <tr>\n",
       "      <th>% nulos</th>\n",
       "      <td>1.5</td>\n",
       "      <td>0.08</td>\n",
       "      <td>0.0</td>\n",
       "      <td>0.0</td>\n",
       "      <td>0.0</td>\n",
       "      <td>0.0</td>\n",
       "      <td>0.0</td>\n",
       "      <td>0.0</td>\n",
       "    </tr>\n",
       "  </tbody>\n",
       "</table>\n",
       "</div>"
      ],
      "text/plain": [
       "         City  Investor  Company  Valuation ($B)  Date Joined  Country  \\\n",
       "% nulos   1.5      0.08      0.0             0.0          0.0      0.0   \n",
       "\n",
       "         Industry  Year  \n",
       "% nulos       0.0   0.0  "
      ]
     },
     "execution_count": 252,
     "metadata": {},
     "output_type": "execute_result"
    }
   ],
   "source": [
    "# Calculamos e identificamos en que columna estan nuestros valores nulos:\n",
    "percentage_null(df2022)"
   ]
  },
  {
   "cell_type": "code",
   "execution_count": 253,
   "metadata": {},
   "outputs": [],
   "source": [
    "# Reemplazamos nulos en la columna 'Select Investors' vamos a reemplazar por la pabra: 'no_inversor'\n",
    "df2022['Investor'] = df2022['Investor'].fillna('no_inversor')"
   ]
  },
  {
   "cell_type": "code",
   "execution_count": 254,
   "metadata": {},
   "outputs": [
    {
     "name": "stdout",
     "output_type": "stream",
     "text": [
      "<class 'pandas.core.frame.DataFrame'>\n",
      "RangeIndex: 1201 entries, 0 to 1200\n",
      "Data columns (total 8 columns):\n",
      " #   Column          Non-Null Count  Dtype         \n",
      "---  ------          --------------  -----         \n",
      " 0   Company         1201 non-null   object        \n",
      " 1   Valuation ($B)  1201 non-null   float64       \n",
      " 2   Date Joined     1201 non-null   datetime64[ns]\n",
      " 3   Country         1201 non-null   object        \n",
      " 4   City            1183 non-null   object        \n",
      " 5   Industry        1201 non-null   object        \n",
      " 6   Investor        1201 non-null   object        \n",
      " 7   Year            1201 non-null   object        \n",
      "dtypes: datetime64[ns](1), float64(1), object(6)\n",
      "memory usage: 75.2+ KB\n"
     ]
    }
   ],
   "source": [
    "# Utilizamos nuestra función para transformar las columnas: Valuation y Date Joined.\n",
    "transform(df2022)\n",
    "# Vemos que nuestras columnas presentan el tipo de dato correccto\n",
    "df2022.info()"
   ]
  },
  {
   "cell_type": "markdown",
   "metadata": {},
   "source": [
    "### Trabajamos con el dataframes del 2023"
   ]
  },
  {
   "cell_type": "markdown",
   "metadata": {},
   "source": [
    "Este df lo vamoa a utlizar tanto para hacer tableros y anlálisis de este año específico, así como tambien para unirlo con el resto de los años anterios y asi poder hacer predicciones y diferentes comparaciones anuales."
   ]
  },
  {
   "cell_type": "code",
   "execution_count": 255,
   "metadata": {},
   "outputs": [],
   "source": [
    "# Leemos el dataset y le creamos una columna que corresponde al año de la lista\n",
    "df2023 = pd.read_excel('Data/CB-Insights_31_05_2023.xlsx')"
   ]
  },
  {
   "cell_type": "markdown",
   "metadata": {},
   "source": [
    "#### Procesamiento:"
   ]
  },
  {
   "cell_type": "code",
   "execution_count": 256,
   "metadata": {},
   "outputs": [
    {
     "name": "stdout",
     "output_type": "stream",
     "text": [
      "El df esta formado por:  1215 filas y 7 columnas\n",
      "Cantidad de valores duplicados:  0\n",
      "Cantidad de valores nulos:  20\n"
     ]
    }
   ],
   "source": [
    "# Imprimimos el reporte inicial\n",
    "reporte(df2023)"
   ]
  },
  {
   "cell_type": "markdown",
   "metadata": {},
   "source": [
    "##### Cambio de nombre de las columnas:"
   ]
  },
  {
   "cell_type": "code",
   "execution_count": 257,
   "metadata": {},
   "outputs": [
    {
     "data": {
      "text/html": [
       "<div>\n",
       "<style scoped>\n",
       "    .dataframe tbody tr th:only-of-type {\n",
       "        vertical-align: middle;\n",
       "    }\n",
       "\n",
       "    .dataframe tbody tr th {\n",
       "        vertical-align: top;\n",
       "    }\n",
       "\n",
       "    .dataframe thead th {\n",
       "        text-align: right;\n",
       "    }\n",
       "</style>\n",
       "<table border=\"1\" class=\"dataframe\">\n",
       "  <thead>\n",
       "    <tr style=\"text-align: right;\">\n",
       "      <th></th>\n",
       "      <th>Company</th>\n",
       "      <th>Valuation ($B)</th>\n",
       "      <th>Date Joined</th>\n",
       "      <th>Country</th>\n",
       "      <th>City</th>\n",
       "      <th>Industry</th>\n",
       "      <th>Select Investors</th>\n",
       "    </tr>\n",
       "  </thead>\n",
       "  <tbody>\n",
       "    <tr>\n",
       "      <th>0</th>\n",
       "      <td>ByteDance</td>\n",
       "      <td>225.0</td>\n",
       "      <td>2017-04-07</td>\n",
       "      <td>China</td>\n",
       "      <td>Beijing</td>\n",
       "      <td>Media &amp; Entertainment</td>\n",
       "      <td>Sequoia Capital China, SIG Asia Investments, S...</td>\n",
       "    </tr>\n",
       "    <tr>\n",
       "      <th>1</th>\n",
       "      <td>SpaceX</td>\n",
       "      <td>137.0</td>\n",
       "      <td>2012-12-01</td>\n",
       "      <td>United States</td>\n",
       "      <td>Hawthorne</td>\n",
       "      <td>Industrials</td>\n",
       "      <td>Founders Fund, Draper Fisher Jurvetson, Rothen...</td>\n",
       "    </tr>\n",
       "    <tr>\n",
       "      <th>2</th>\n",
       "      <td>SHEIN</td>\n",
       "      <td>100.0</td>\n",
       "      <td>2018-07-03</td>\n",
       "      <td>China</td>\n",
       "      <td>Shenzhen</td>\n",
       "      <td>Consumer &amp; Retail</td>\n",
       "      <td>Tiger Global Management, Sequoia Capital China...</td>\n",
       "    </tr>\n",
       "  </tbody>\n",
       "</table>\n",
       "</div>"
      ],
      "text/plain": [
       "     Company  Valuation ($B) Date Joined        Country       City  \\\n",
       "0  ByteDance           225.0  2017-04-07          China    Beijing   \n",
       "1     SpaceX           137.0  2012-12-01  United States  Hawthorne   \n",
       "2      SHEIN           100.0  2018-07-03          China   Shenzhen   \n",
       "\n",
       "                Industry                                   Select Investors  \n",
       "0  Media & Entertainment  Sequoia Capital China, SIG Asia Investments, S...  \n",
       "1            Industrials  Founders Fund, Draper Fisher Jurvetson, Rothen...  \n",
       "2      Consumer & Retail  Tiger Global Management, Sequoia Capital China...  "
      ]
     },
     "execution_count": 257,
     "metadata": {},
     "output_type": "execute_result"
    }
   ],
   "source": [
    "# Imprimimos las 3 primeras lineas para ispeccionar:\n",
    "df2023.head(3)"
   ]
  },
  {
   "cell_type": "markdown",
   "metadata": {},
   "source": [
    "Se realiza un cambio de nombre a las columnas para que coincidan con el resto de dataset por años."
   ]
  },
  {
   "cell_type": "code",
   "execution_count": 258,
   "metadata": {},
   "outputs": [],
   "source": [
    "# Transformamos los nombres de las columnas para que coincidan con el resto de los df\n",
    "df2023 = df2023.rename(columns={'Select Investors':'Investor'})"
   ]
  },
  {
   "cell_type": "markdown",
   "metadata": {},
   "source": [
    "##### Valores Nulos"
   ]
  },
  {
   "cell_type": "code",
   "execution_count": 259,
   "metadata": {},
   "outputs": [
    {
     "data": {
      "text/html": [
       "<div>\n",
       "<style scoped>\n",
       "    .dataframe tbody tr th:only-of-type {\n",
       "        vertical-align: middle;\n",
       "    }\n",
       "\n",
       "    .dataframe tbody tr th {\n",
       "        vertical-align: top;\n",
       "    }\n",
       "\n",
       "    .dataframe thead th {\n",
       "        text-align: right;\n",
       "    }\n",
       "</style>\n",
       "<table border=\"1\" class=\"dataframe\">\n",
       "  <thead>\n",
       "    <tr style=\"text-align: right;\">\n",
       "      <th></th>\n",
       "      <th>City</th>\n",
       "      <th>Investor</th>\n",
       "      <th>Company</th>\n",
       "      <th>Valuation ($B)</th>\n",
       "      <th>Date Joined</th>\n",
       "      <th>Country</th>\n",
       "      <th>Industry</th>\n",
       "    </tr>\n",
       "  </thead>\n",
       "  <tbody>\n",
       "    <tr>\n",
       "      <th>% nulos</th>\n",
       "      <td>1.48</td>\n",
       "      <td>0.16</td>\n",
       "      <td>0.0</td>\n",
       "      <td>0.0</td>\n",
       "      <td>0.0</td>\n",
       "      <td>0.0</td>\n",
       "      <td>0.0</td>\n",
       "    </tr>\n",
       "  </tbody>\n",
       "</table>\n",
       "</div>"
      ],
      "text/plain": [
       "         City  Investor  Company  Valuation ($B)  Date Joined  Country  \\\n",
       "% nulos  1.48      0.16      0.0             0.0          0.0      0.0   \n",
       "\n",
       "         Industry  \n",
       "% nulos       0.0  "
      ]
     },
     "execution_count": 259,
     "metadata": {},
     "output_type": "execute_result"
    }
   ],
   "source": [
    "# Calculamos e identificamos en que columna estan nuestros valores nulos:\n",
    "percentage_null(df2023)"
   ]
  },
  {
   "cell_type": "code",
   "execution_count": 260,
   "metadata": {},
   "outputs": [],
   "source": [
    "# Para la columna 'City' vamos a reemplazar por la pabra: 'no_data'\n",
    "df2023['City'] = df2023['City'].fillna('no_data')"
   ]
  },
  {
   "cell_type": "code",
   "execution_count": 261,
   "metadata": {},
   "outputs": [],
   "source": [
    "# Para la columna 'Select Investors\t' vamos a reemplazar por la pabra: 'no_inversor'\n",
    "df2023['Investor'] = df2023['Investor'].fillna('no_inversor')"
   ]
  },
  {
   "cell_type": "code",
   "execution_count": 262,
   "metadata": {},
   "outputs": [
    {
     "name": "stdout",
     "output_type": "stream",
     "text": [
      "<class 'pandas.core.frame.DataFrame'>\n",
      "RangeIndex: 1215 entries, 0 to 1214\n",
      "Data columns (total 7 columns):\n",
      " #   Column          Non-Null Count  Dtype         \n",
      "---  ------          --------------  -----         \n",
      " 0   Company         1215 non-null   object        \n",
      " 1   Valuation ($B)  1215 non-null   float64       \n",
      " 2   Date Joined     1215 non-null   datetime64[ns]\n",
      " 3   Country         1215 non-null   object        \n",
      " 4   City            1215 non-null   object        \n",
      " 5   Industry        1215 non-null   object        \n",
      " 6   Investor        1215 non-null   object        \n",
      "dtypes: datetime64[ns](1), float64(1), object(5)\n",
      "memory usage: 66.6+ KB\n"
     ]
    }
   ],
   "source": [
    "df2023.info()"
   ]
  },
  {
   "cell_type": "code",
   "execution_count": 263,
   "metadata": {},
   "outputs": [
    {
     "name": "stdout",
     "output_type": "stream",
     "text": [
      "<class 'pandas.core.frame.DataFrame'>\n",
      "RangeIndex: 430 entries, 0 to 429\n",
      "Data columns (total 7 columns):\n",
      " #   Column          Non-Null Count  Dtype         \n",
      "---  ------          --------------  -----         \n",
      " 0   Company         430 non-null    object        \n",
      " 1   Valuation ($B)  430 non-null    float64       \n",
      " 2   Date Joined     430 non-null    datetime64[ns]\n",
      " 3   Country         430 non-null    object        \n",
      " 4   Industry        430 non-null    object        \n",
      " 5   Investor        430 non-null    object        \n",
      " 6   Year            430 non-null    object        \n",
      "dtypes: datetime64[ns](1), float64(1), object(5)\n",
      "memory usage: 23.6+ KB\n"
     ]
    }
   ],
   "source": [
    "# Utilizamos nuestra función para transformar las columnas: Valuation y Date Joined.\n",
    "transform(df2019)\n",
    "# Vemos que nuestras columnas presentan el tipo de dato correccto\n",
    "df2019.info()"
   ]
  },
  {
   "cell_type": "markdown",
   "metadata": {},
   "source": [
    "### Transformación del df 2023 para poder hacer un ***merge*** con los anteriores"
   ]
  },
  {
   "cell_type": "code",
   "execution_count": 264,
   "metadata": {},
   "outputs": [],
   "source": [
    "# Cremos una nueva variable para transformar las columnas de manera que luego podamos concatenar los dataframes de todos los años\n",
    "df2023_to_concat =df2023.copy()\n",
    "df2023_to_concat['Year'] = 2023"
   ]
  },
  {
   "cell_type": "code",
   "execution_count": 265,
   "metadata": {},
   "outputs": [],
   "source": [
    "# Seleccionamos solamente las columnas que son iguales en los anteriores df\n",
    "df2023_to_concat = df2023_to_concat[['Company', 'Valuation ($B)', 'Date Joined', 'Country','Industry','Investor', 'Year', 'City']]"
   ]
  },
  {
   "cell_type": "markdown",
   "metadata": {},
   "source": [
    "### Hacemos un Marge con todos los años:"
   ]
  },
  {
   "cell_type": "code",
   "execution_count": 266,
   "metadata": {},
   "outputs": [],
   "source": [
    "unicorns = pd.concat([df2015,df2016,df2017,df2018,df2019,df2020,df2021,df2022,df2023_to_concat],axis=0)"
   ]
  },
  {
   "cell_type": "markdown",
   "metadata": {},
   "source": [
    "## Procesamiento del nuevo dataframe con todos los años:"
   ]
  },
  {
   "cell_type": "code",
   "execution_count": 267,
   "metadata": {},
   "outputs": [
    {
     "name": "stdout",
     "output_type": "stream",
     "text": [
      "El df esta formado por:  5170 filas y 8 columnas\n",
      "Cantidad de valores duplicados:  0\n",
      "Cantidad de valores nulos:  1815\n"
     ]
    }
   ],
   "source": [
    "# Imprimimos el reporte inicial, para ver como se han concatenado los valores\n",
    "reporte(unicorns)"
   ]
  },
  {
   "cell_type": "markdown",
   "metadata": {},
   "source": [
    "### Valores Nulos"
   ]
  },
  {
   "cell_type": "code",
   "execution_count": 268,
   "metadata": {},
   "outputs": [
    {
     "data": {
      "text/html": [
       "<div>\n",
       "<style scoped>\n",
       "    .dataframe tbody tr th:only-of-type {\n",
       "        vertical-align: middle;\n",
       "    }\n",
       "\n",
       "    .dataframe tbody tr th {\n",
       "        vertical-align: top;\n",
       "    }\n",
       "\n",
       "    .dataframe thead th {\n",
       "        text-align: right;\n",
       "    }\n",
       "</style>\n",
       "<table border=\"1\" class=\"dataframe\">\n",
       "  <thead>\n",
       "    <tr style=\"text-align: right;\">\n",
       "      <th></th>\n",
       "      <th>City</th>\n",
       "      <th>Company</th>\n",
       "      <th>Valuation ($B)</th>\n",
       "      <th>Date Joined</th>\n",
       "      <th>Country</th>\n",
       "      <th>Industry</th>\n",
       "      <th>Investor</th>\n",
       "      <th>Year</th>\n",
       "    </tr>\n",
       "  </thead>\n",
       "  <tbody>\n",
       "    <tr>\n",
       "      <th>% nulos</th>\n",
       "      <td>35.11</td>\n",
       "      <td>0.0</td>\n",
       "      <td>0.0</td>\n",
       "      <td>0.0</td>\n",
       "      <td>0.0</td>\n",
       "      <td>0.0</td>\n",
       "      <td>0.0</td>\n",
       "      <td>0.0</td>\n",
       "    </tr>\n",
       "  </tbody>\n",
       "</table>\n",
       "</div>"
      ],
      "text/plain": [
       "          City  Company  Valuation ($B)  Date Joined  Country  Industry  \\\n",
       "% nulos  35.11      0.0             0.0          0.0      0.0       0.0   \n",
       "\n",
       "         Investor  Year  \n",
       "% nulos       0.0   0.0  "
      ]
     },
     "execution_count": 268,
     "metadata": {},
     "output_type": "execute_result"
    }
   ],
   "source": [
    "# Calculamos e identificamos en que columna estan nuestros valores nulos:\n",
    "percentage_null(unicorns)"
   ]
  },
  {
   "cell_type": "markdown",
   "metadata": {},
   "source": [
    "Podemos ver que los valores nulos corresponden a la Ciudad  ya que los primeros años no presentaban esta información.\n",
    "\n",
    "Se proceder a reemplazar esos valores nulos por palabras así evitaremos futuros errores"
   ]
  },
  {
   "cell_type": "code",
   "execution_count": 270,
   "metadata": {},
   "outputs": [],
   "source": [
    "# Para la columna 'City' vamos a reemplazar por la pabra: 'no_data'\n",
    "unicorns['City'] = unicorns['City'].fillna('no_data')"
   ]
  },
  {
   "cell_type": "markdown",
   "metadata": {},
   "source": [
    "Listo ahora ya tenemos nuestro dataset listo para ser utilizado:"
   ]
  },
  {
   "cell_type": "code",
   "execution_count": 271,
   "metadata": {},
   "outputs": [
    {
     "name": "stdout",
     "output_type": "stream",
     "text": [
      "El df esta formado por:  5170 filas y 8 columnas\n",
      "Cantidad de valores duplicados:  0\n",
      "Cantidad de valores nulos:  0\n"
     ]
    }
   ],
   "source": [
    "reporte(unicorns)"
   ]
  },
  {
   "cell_type": "markdown",
   "metadata": {},
   "source": [
    "Transformación de tipos:"
   ]
  },
  {
   "cell_type": "code",
   "execution_count": 272,
   "metadata": {},
   "outputs": [
    {
     "data": {
      "text/plain": [
       "Company                   object\n",
       "Valuation ($B)           float64\n",
       "Date Joined       datetime64[ns]\n",
       "Country                   object\n",
       "Industry                  object\n",
       "Investor                  object\n",
       "Year                      object\n",
       "City                      object\n",
       "dtype: object"
      ]
     },
     "execution_count": 272,
     "metadata": {},
     "output_type": "execute_result"
    }
   ],
   "source": [
    "unicorns.dtypes"
   ]
  },
  {
   "cell_type": "markdown",
   "metadata": {},
   "source": [
    "# Análisis Exploratorio de Datos (EDA)"
   ]
  }
 ],
 "metadata": {
  "kernelspec": {
   "display_name": "Python 3",
   "language": "python",
   "name": "python3"
  },
  "language_info": {
   "codemirror_mode": {
    "name": "ipython",
    "version": 3
   },
   "file_extension": ".py",
   "mimetype": "text/x-python",
   "name": "python",
   "nbconvert_exporter": "python",
   "pygments_lexer": "ipython3",
   "version": "3.10.11"
  },
  "orig_nbformat": 4
 },
 "nbformat": 4,
 "nbformat_minor": 2
}
