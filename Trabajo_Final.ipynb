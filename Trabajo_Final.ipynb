{
 "cells": [
  {
   "cell_type": "markdown",
   "metadata": {},
   "source": [
    "# 1. Introducción"
   ]
  },
  {
   "attachments": {},
   "cell_type": "markdown",
   "metadata": {},
   "source": [
    "(Source: CB Insights & Crunchbase)\n",
    "\n",
    "unicorn\n",
    "\n",
    "(License: Public Domain)\n",
    "\n",
    "Dataset:\n",
    "* 2015 l 2011 - https://www.kaggle.com/datasets/cheeann290/unicorn\n",
    "* 2022 - https://www.kaggle.com/datasets/rajkumarpandey02/complete-list-of-unicorn-companies\n",
    "* 2023 - https://www.cbinsights.com/research-unicorn-companies\n"
   ]
  },
  {
   "cell_type": "markdown",
   "metadata": {},
   "source": [
    "## 1.1 Librerias"
   ]
  },
  {
   "cell_type": "code",
   "execution_count": 1,
   "metadata": {},
   "outputs": [],
   "source": [
    "import numpy as np\n",
    "import pandas as pd\n",
    "\n",
    "\n",
    "#to make graphs\n",
    "import matplotlib.pyplot as plt\n",
    "import seaborn as sns\n",
    "\n",
    "#to make the plotly graphs\n",
    "import plotly.graph_objs as go\n",
    "import plotly.express as px\n",
    "\n",
    "#to make maps\n",
    "import geopandas as gpd\n",
    "\n",
    "# warnings\n",
    "import warnings\n",
    "warnings.filterwarnings(\"ignore\", category=FutureWarning)\n",
    "warnings.filterwarnings(\"ignore\", category=RuntimeWarning)"
   ]
  },
  {
   "cell_type": "markdown",
   "metadata": {},
   "source": [
    "## 1.2 Lectura de datos y Procesamiento"
   ]
  },
  {
   "cell_type": "markdown",
   "metadata": {},
   "source": [
    "### Funciones para el procesamiento"
   ]
  },
  {
   "cell_type": "code",
   "execution_count": 2,
   "metadata": {},
   "outputs": [],
   "source": [
    "def reporte (df):   \n",
    "    \n",
    "    \"\"\" Esta función recibe un df y nos imprime un reporte inicial del df\"\"\"\n",
    "\n",
    "    print('El df esta formado por: ', df.shape[0], 'filas y', df.shape[1], 'columnas')\n",
    "    print('Cantidad de valores duplicados: ',df.duplicated().sum())\n",
    "    print('Cantidad de valores nulos: ', df.isnull().sum().sum())"
   ]
  },
  {
   "cell_type": "code",
   "execution_count": 3,
   "metadata": {},
   "outputs": [],
   "source": [
    "def percentage_null (df):\n",
    "\n",
    "    \"\"\" esta función calcula el % de valores nulos que presenta el df\n",
    "    devuelve un df con el % de nulos por cada columna\"\"\"\n",
    "    \n",
    "    missing_data = pd.isnull(df).sum()\n",
    "    missing_data_percentage = missing_data/len(df)*100 #Calculamos el % del los datos faltantes en cada columna\n",
    "    nulos_totales= missing_data_percentage.sort_values(ascending = False) #Ordenamos de mayor a menor\n",
    "    nulos_totales = pd.DataFrame(nulos_totales,columns=[\"% nulos\"])\n",
    "    return nulos_totales.round(2).T "
   ]
  },
  {
   "cell_type": "code",
   "execution_count": 4,
   "metadata": {},
   "outputs": [],
   "source": [
    "def transform (df):\n",
    "\n",
    "    \"\"\" Esta función recibe un df y nos transforma las columnas Valation en numerica quitando los caacteres $ \n",
    "    y tansforma la columna DateJoined en tipo fecha\"\"\" \n",
    "\n",
    "    if df['Valuation ($B)'].dtypes== object:\n",
    "        df['Valuation ($B)'] = df['Valuation ($B)'].str.replace('$',' ')\n",
    "        df['Valuation ($B)'] = pd.to_numeric(df['Valuation ($B)'])\n",
    "\n",
    "    if df['Date Joined'].dtypes== object:\n",
    "        df['Date Joined'] = pd.to_datetime(df['Date Joined'],format='%m/%d/%Y')\n",
    "\n",
    "    if df['Day_List'].dtypes== object:\n",
    "        df['Day_List'] = pd.to_datetime(df['Day_List'],format='%m/%d/%Y')"
   ]
  },
  {
   "cell_type": "markdown",
   "metadata": {},
   "source": [
    "### Lectura y tranformación de los dataframes desde 2015 al 2022"
   ]
  },
  {
   "cell_type": "markdown",
   "metadata": {},
   "source": [
    "#### 2015"
   ]
  },
  {
   "cell_type": "code",
   "execution_count": 5,
   "metadata": {},
   "outputs": [],
   "source": [
    "# Leemos el dataset y le creamos una columna que corresponde al año de la lista\n",
    "df2015 = pd.read_excel('Data/unicorn_cb_11_dec_15.xlsx')\n",
    "df2015['Day_List'] = '12/11/2015'\n",
    "df2015['Year'] = 2015\n"
   ]
  },
  {
   "cell_type": "code",
   "execution_count": 6,
   "metadata": {},
   "outputs": [
    {
     "name": "stdout",
     "output_type": "stream",
     "text": [
      "El df esta formado por:  144 filas y 8 columnas\n",
      "Cantidad de valores duplicados:  0\n",
      "Cantidad de valores nulos:  0\n"
     ]
    }
   ],
   "source": [
    "# Imprimimos el reporte inicial\n",
    "reporte(df2015)"
   ]
  },
  {
   "cell_type": "code",
   "execution_count": 7,
   "metadata": {},
   "outputs": [
    {
     "data": {
      "text/html": [
       "<div>\n",
       "<style scoped>\n",
       "    .dataframe tbody tr th:only-of-type {\n",
       "        vertical-align: middle;\n",
       "    }\n",
       "\n",
       "    .dataframe tbody tr th {\n",
       "        vertical-align: top;\n",
       "    }\n",
       "\n",
       "    .dataframe thead th {\n",
       "        text-align: right;\n",
       "    }\n",
       "</style>\n",
       "<table border=\"1\" class=\"dataframe\">\n",
       "  <thead>\n",
       "    <tr style=\"text-align: right;\">\n",
       "      <th></th>\n",
       "      <th>Company</th>\n",
       "      <th>Valuation ($B)</th>\n",
       "      <th>Date Joined</th>\n",
       "      <th>Country</th>\n",
       "      <th>Industry</th>\n",
       "      <th>Investor</th>\n",
       "      <th>Day_List</th>\n",
       "      <th>Year</th>\n",
       "    </tr>\n",
       "  </thead>\n",
       "  <tbody>\n",
       "    <tr>\n",
       "      <th>0</th>\n",
       "      <td>Uber</td>\n",
       "      <td>$51</td>\n",
       "      <td>8/23/2013</td>\n",
       "      <td>United States</td>\n",
       "      <td>On-Demand</td>\n",
       "      <td>Lowercase Capital,\\n\\t  Benchmark Capital, Goo...</td>\n",
       "      <td>12/11/2015</td>\n",
       "      <td>2015</td>\n",
       "    </tr>\n",
       "    <tr>\n",
       "      <th>1</th>\n",
       "      <td>Xiaomi</td>\n",
       "      <td>$46</td>\n",
       "      <td>12/21/2011</td>\n",
       "      <td>China</td>\n",
       "      <td>Hardware</td>\n",
       "      <td>Digital Sky Technologies,\\n\\t  QiMing Venture ...</td>\n",
       "      <td>12/11/2015</td>\n",
       "      <td>2015</td>\n",
       "    </tr>\n",
       "    <tr>\n",
       "      <th>2</th>\n",
       "      <td>Airbnb</td>\n",
       "      <td>$25.5</td>\n",
       "      <td>7/26/2011</td>\n",
       "      <td>United States</td>\n",
       "      <td>eCommerce/Marketplace</td>\n",
       "      <td>General Catalyst Partners,\\n\\t  Andreessen Hor...</td>\n",
       "      <td>12/11/2015</td>\n",
       "      <td>2015</td>\n",
       "    </tr>\n",
       "  </tbody>\n",
       "</table>\n",
       "</div>"
      ],
      "text/plain": [
       "  Company Valuation ($B) Date Joined        Country               Industry  \\\n",
       "0    Uber            $51   8/23/2013  United States              On-Demand   \n",
       "1  Xiaomi            $46  12/21/2011          China               Hardware   \n",
       "2  Airbnb          $25.5   7/26/2011  United States  eCommerce/Marketplace   \n",
       "\n",
       "                                            Investor    Day_List  Year  \n",
       "0  Lowercase Capital,\\n\\t  Benchmark Capital, Goo...  12/11/2015  2015  \n",
       "1  Digital Sky Technologies,\\n\\t  QiMing Venture ...  12/11/2015  2015  \n",
       "2  General Catalyst Partners,\\n\\t  Andreessen Hor...  12/11/2015  2015  "
      ]
     },
     "execution_count": 7,
     "metadata": {},
     "output_type": "execute_result"
    }
   ],
   "source": [
    "# Imprimimos las 3 primeras lineas para ispeccionar:\n",
    "df2015.head(3)"
   ]
  },
  {
   "cell_type": "code",
   "execution_count": 8,
   "metadata": {},
   "outputs": [],
   "source": [
    "# Utilizamos nuestra función para transformar las columnas: Valuation y Date Joined.\n",
    "transform(df2015)"
   ]
  },
  {
   "cell_type": "code",
   "execution_count": 9,
   "metadata": {},
   "outputs": [
    {
     "name": "stdout",
     "output_type": "stream",
     "text": [
      "<class 'pandas.core.frame.DataFrame'>\n",
      "RangeIndex: 144 entries, 0 to 143\n",
      "Data columns (total 8 columns):\n",
      " #   Column          Non-Null Count  Dtype         \n",
      "---  ------          --------------  -----         \n",
      " 0   Company         144 non-null    object        \n",
      " 1   Valuation ($B)  144 non-null    float64       \n",
      " 2   Date Joined     144 non-null    datetime64[ns]\n",
      " 3   Country         144 non-null    object        \n",
      " 4   Industry        144 non-null    object        \n",
      " 5   Investor        144 non-null    object        \n",
      " 6   Day_List        144 non-null    datetime64[ns]\n",
      " 7   Year            144 non-null    int64         \n",
      "dtypes: datetime64[ns](2), float64(1), int64(1), object(4)\n",
      "memory usage: 9.1+ KB\n"
     ]
    }
   ],
   "source": [
    "# Vemos que nuestras columnas presentan el tipo de dato correccto\n",
    "df2015.info()"
   ]
  },
  {
   "cell_type": "markdown",
   "metadata": {},
   "source": [
    "#### 2016"
   ]
  },
  {
   "cell_type": "code",
   "execution_count": 10,
   "metadata": {},
   "outputs": [],
   "source": [
    "# Leemos el dataset y le creamos una columna que corresponde al año de la lista\n",
    "df2016 = pd.read_excel('Data/unicorn_cb_23_dec_16.xlsx')\n",
    "df2016['Day_List'] = '12/23/2016'\n",
    "df2016['Year'] = 2016"
   ]
  },
  {
   "cell_type": "code",
   "execution_count": 11,
   "metadata": {},
   "outputs": [
    {
     "name": "stdout",
     "output_type": "stream",
     "text": [
      "El df esta formado por:  183 filas y 8 columnas\n",
      "Cantidad de valores duplicados:  0\n",
      "Cantidad de valores nulos:  0\n"
     ]
    }
   ],
   "source": [
    "# Imprimimos el reporte inicial\n",
    "reporte(df2016)"
   ]
  },
  {
   "cell_type": "code",
   "execution_count": 12,
   "metadata": {},
   "outputs": [
    {
     "data": {
      "text/html": [
       "<div>\n",
       "<style scoped>\n",
       "    .dataframe tbody tr th:only-of-type {\n",
       "        vertical-align: middle;\n",
       "    }\n",
       "\n",
       "    .dataframe tbody tr th {\n",
       "        vertical-align: top;\n",
       "    }\n",
       "\n",
       "    .dataframe thead th {\n",
       "        text-align: right;\n",
       "    }\n",
       "</style>\n",
       "<table border=\"1\" class=\"dataframe\">\n",
       "  <thead>\n",
       "    <tr style=\"text-align: right;\">\n",
       "      <th></th>\n",
       "      <th>Company</th>\n",
       "      <th>Valuation ($B)</th>\n",
       "      <th>Date Joined</th>\n",
       "      <th>Country</th>\n",
       "      <th>Industry</th>\n",
       "      <th>Investor</th>\n",
       "      <th>Day_List</th>\n",
       "      <th>Year</th>\n",
       "    </tr>\n",
       "  </thead>\n",
       "  <tbody>\n",
       "    <tr>\n",
       "      <th>0</th>\n",
       "      <td>Uber</td>\n",
       "      <td>$68</td>\n",
       "      <td>8/23/2013</td>\n",
       "      <td>United States</td>\n",
       "      <td>On-Demand</td>\n",
       "      <td>Lowercase Capital,\\n\\t  Benchmark Capital, Goo...</td>\n",
       "      <td>12/23/2016</td>\n",
       "      <td>2016</td>\n",
       "    </tr>\n",
       "    <tr>\n",
       "      <th>1</th>\n",
       "      <td>Xiaomi</td>\n",
       "      <td>$46</td>\n",
       "      <td>12/21/2011</td>\n",
       "      <td>China</td>\n",
       "      <td>Hardware</td>\n",
       "      <td>Digital Sky Technologies,\\n\\t  QiMing Venture ...</td>\n",
       "      <td>12/23/2016</td>\n",
       "      <td>2016</td>\n",
       "    </tr>\n",
       "    <tr>\n",
       "      <th>2</th>\n",
       "      <td>Didi Chuxing</td>\n",
       "      <td>$33.8</td>\n",
       "      <td>12/31/2014</td>\n",
       "      <td>China</td>\n",
       "      <td>On-Demand</td>\n",
       "      <td>Matrix Partners, Tiger\\n\\t  Global Management,...</td>\n",
       "      <td>12/23/2016</td>\n",
       "      <td>2016</td>\n",
       "    </tr>\n",
       "  </tbody>\n",
       "</table>\n",
       "</div>"
      ],
      "text/plain": [
       "        Company Valuation ($B) Date Joined        Country   Industry  \\\n",
       "0          Uber            $68   8/23/2013  United States  On-Demand   \n",
       "1        Xiaomi            $46  12/21/2011          China   Hardware   \n",
       "2  Didi Chuxing          $33.8  12/31/2014          China  On-Demand   \n",
       "\n",
       "                                            Investor    Day_List  Year  \n",
       "0  Lowercase Capital,\\n\\t  Benchmark Capital, Goo...  12/23/2016  2016  \n",
       "1  Digital Sky Technologies,\\n\\t  QiMing Venture ...  12/23/2016  2016  \n",
       "2  Matrix Partners, Tiger\\n\\t  Global Management,...  12/23/2016  2016  "
      ]
     },
     "execution_count": 12,
     "metadata": {},
     "output_type": "execute_result"
    }
   ],
   "source": [
    "# Imprimimos las 3 primeras lineas para ispeccionar:\n",
    "df2016.head(3)"
   ]
  },
  {
   "cell_type": "code",
   "execution_count": 13,
   "metadata": {},
   "outputs": [
    {
     "name": "stdout",
     "output_type": "stream",
     "text": [
      "<class 'pandas.core.frame.DataFrame'>\n",
      "RangeIndex: 183 entries, 0 to 182\n",
      "Data columns (total 8 columns):\n",
      " #   Column          Non-Null Count  Dtype         \n",
      "---  ------          --------------  -----         \n",
      " 0   Company         183 non-null    object        \n",
      " 1   Valuation ($B)  183 non-null    float64       \n",
      " 2   Date Joined     183 non-null    datetime64[ns]\n",
      " 3   Country         183 non-null    object        \n",
      " 4   Industry        183 non-null    object        \n",
      " 5   Investor        183 non-null    object        \n",
      " 6   Day_List        183 non-null    datetime64[ns]\n",
      " 7   Year            183 non-null    int64         \n",
      "dtypes: datetime64[ns](2), float64(1), int64(1), object(4)\n",
      "memory usage: 11.6+ KB\n"
     ]
    }
   ],
   "source": [
    "# Utilizamos nuestra función para transformar las columnas: Valuation y Date Joined.\n",
    "transform(df2016)\n",
    "# Vemos que nuestras columnas presentan el tipo de dato correccto\n",
    "df2016.info()"
   ]
  },
  {
   "cell_type": "markdown",
   "metadata": {},
   "source": [
    "#### 2017"
   ]
  },
  {
   "cell_type": "code",
   "execution_count": 14,
   "metadata": {},
   "outputs": [],
   "source": [
    "# Leemos el dataset y le creamos una columna que corresponde al año de la lista\n",
    "df2017 = pd.read_excel('Data/unicorn_cb_23_dec_17.xlsx')\n",
    "df2017['Day_List'] = '12/23/2017'\n",
    "df2017['Year'] = 2017"
   ]
  },
  {
   "cell_type": "code",
   "execution_count": 15,
   "metadata": {},
   "outputs": [
    {
     "name": "stdout",
     "output_type": "stream",
     "text": [
      "El df esta formado por:  222 filas y 8 columnas\n",
      "Cantidad de valores duplicados:  0\n",
      "Cantidad de valores nulos:  0\n"
     ]
    }
   ],
   "source": [
    "# Imprimimos el reporte inicial\n",
    "reporte(df2017)"
   ]
  },
  {
   "cell_type": "code",
   "execution_count": 16,
   "metadata": {},
   "outputs": [
    {
     "data": {
      "text/html": [
       "<div>\n",
       "<style scoped>\n",
       "    .dataframe tbody tr th:only-of-type {\n",
       "        vertical-align: middle;\n",
       "    }\n",
       "\n",
       "    .dataframe tbody tr th {\n",
       "        vertical-align: top;\n",
       "    }\n",
       "\n",
       "    .dataframe thead th {\n",
       "        text-align: right;\n",
       "    }\n",
       "</style>\n",
       "<table border=\"1\" class=\"dataframe\">\n",
       "  <thead>\n",
       "    <tr style=\"text-align: right;\">\n",
       "      <th></th>\n",
       "      <th>Company</th>\n",
       "      <th>Valuation ($B)</th>\n",
       "      <th>Date Joined</th>\n",
       "      <th>Country</th>\n",
       "      <th>Industry</th>\n",
       "      <th>Investor</th>\n",
       "      <th>Day_List</th>\n",
       "      <th>Year</th>\n",
       "    </tr>\n",
       "  </thead>\n",
       "  <tbody>\n",
       "    <tr>\n",
       "      <th>0</th>\n",
       "      <td>Uber</td>\n",
       "      <td>$68</td>\n",
       "      <td>8/23/2013</td>\n",
       "      <td>United States</td>\n",
       "      <td>On-Demand</td>\n",
       "      <td>Lowercase Capital,\\n\\t  Benchmark Capital, Goo...</td>\n",
       "      <td>12/23/2017</td>\n",
       "      <td>2017</td>\n",
       "    </tr>\n",
       "    <tr>\n",
       "      <th>1</th>\n",
       "      <td>Didi Chuxing</td>\n",
       "      <td>$56</td>\n",
       "      <td>12/31/2014</td>\n",
       "      <td>China</td>\n",
       "      <td>On-Demand</td>\n",
       "      <td>Matrix Partners, Tiger\\n\\t  Global Management,...</td>\n",
       "      <td>12/23/2017</td>\n",
       "      <td>2017</td>\n",
       "    </tr>\n",
       "    <tr>\n",
       "      <th>2</th>\n",
       "      <td>Xiaomi</td>\n",
       "      <td>$46</td>\n",
       "      <td>12/21/2011</td>\n",
       "      <td>China</td>\n",
       "      <td>Hardware</td>\n",
       "      <td>Digital Sky Technologies,\\n\\t  QiMing Venture ...</td>\n",
       "      <td>12/23/2017</td>\n",
       "      <td>2017</td>\n",
       "    </tr>\n",
       "  </tbody>\n",
       "</table>\n",
       "</div>"
      ],
      "text/plain": [
       "        Company Valuation ($B) Date Joined        Country   Industry  \\\n",
       "0          Uber            $68   8/23/2013  United States  On-Demand   \n",
       "1  Didi Chuxing            $56  12/31/2014          China  On-Demand   \n",
       "2        Xiaomi            $46  12/21/2011          China   Hardware   \n",
       "\n",
       "                                            Investor    Day_List  Year  \n",
       "0  Lowercase Capital,\\n\\t  Benchmark Capital, Goo...  12/23/2017  2017  \n",
       "1  Matrix Partners, Tiger\\n\\t  Global Management,...  12/23/2017  2017  \n",
       "2  Digital Sky Technologies,\\n\\t  QiMing Venture ...  12/23/2017  2017  "
      ]
     },
     "execution_count": 16,
     "metadata": {},
     "output_type": "execute_result"
    }
   ],
   "source": [
    "# Imprimimos las 3 primeras lineas para ispeccionar:\n",
    "df2017.head(3)"
   ]
  },
  {
   "cell_type": "code",
   "execution_count": 17,
   "metadata": {},
   "outputs": [
    {
     "name": "stdout",
     "output_type": "stream",
     "text": [
      "<class 'pandas.core.frame.DataFrame'>\n",
      "RangeIndex: 222 entries, 0 to 221\n",
      "Data columns (total 8 columns):\n",
      " #   Column          Non-Null Count  Dtype         \n",
      "---  ------          --------------  -----         \n",
      " 0   Company         222 non-null    object        \n",
      " 1   Valuation ($B)  222 non-null    float64       \n",
      " 2   Date Joined     222 non-null    datetime64[ns]\n",
      " 3   Country         222 non-null    object        \n",
      " 4   Industry        222 non-null    object        \n",
      " 5   Investor        222 non-null    object        \n",
      " 6   Day_List        222 non-null    datetime64[ns]\n",
      " 7   Year            222 non-null    int64         \n",
      "dtypes: datetime64[ns](2), float64(1), int64(1), object(4)\n",
      "memory usage: 14.0+ KB\n"
     ]
    }
   ],
   "source": [
    "# Utilizamos nuestra función para transformar las columnas: Valuation y Date Joined.\n",
    "transform(df2017)\n",
    "# Vemos que nuestras columnas presentan el tipo de dato correccto\n",
    "df2017.info()"
   ]
  },
  {
   "cell_type": "markdown",
   "metadata": {},
   "source": [
    "#### 2018"
   ]
  },
  {
   "cell_type": "code",
   "execution_count": 18,
   "metadata": {},
   "outputs": [],
   "source": [
    "# Leemos el dataset y le creamos una columna que corresponde al año de la lista\n",
    "df2018 = pd.read_excel('Data/unicorn_cb_29_dec_18.xlsx')\n",
    "df2018['Day_List'] = '12/29/2018'\n",
    "df2018['Year'] = 2018"
   ]
  },
  {
   "cell_type": "code",
   "execution_count": 19,
   "metadata": {},
   "outputs": [
    {
     "name": "stdout",
     "output_type": "stream",
     "text": [
      "El df esta formado por:  305 filas y 8 columnas\n",
      "Cantidad de valores duplicados:  0\n",
      "Cantidad de valores nulos:  0\n"
     ]
    }
   ],
   "source": [
    "# Imprimimos el reporte inicial\n",
    "reporte(df2018)"
   ]
  },
  {
   "cell_type": "code",
   "execution_count": 20,
   "metadata": {},
   "outputs": [
    {
     "data": {
      "text/html": [
       "<div>\n",
       "<style scoped>\n",
       "    .dataframe tbody tr th:only-of-type {\n",
       "        vertical-align: middle;\n",
       "    }\n",
       "\n",
       "    .dataframe tbody tr th {\n",
       "        vertical-align: top;\n",
       "    }\n",
       "\n",
       "    .dataframe thead th {\n",
       "        text-align: right;\n",
       "    }\n",
       "</style>\n",
       "<table border=\"1\" class=\"dataframe\">\n",
       "  <thead>\n",
       "    <tr style=\"text-align: right;\">\n",
       "      <th></th>\n",
       "      <th>Company</th>\n",
       "      <th>Valuation ($B)</th>\n",
       "      <th>Date Joined</th>\n",
       "      <th>Country</th>\n",
       "      <th>Industry</th>\n",
       "      <th>Investor</th>\n",
       "      <th>Day_List</th>\n",
       "      <th>Year</th>\n",
       "    </tr>\n",
       "  </thead>\n",
       "  <tbody>\n",
       "    <tr>\n",
       "      <th>0</th>\n",
       "      <td>Toutiao (Bytedance)</td>\n",
       "      <td>$75</td>\n",
       "      <td>4/7/2017</td>\n",
       "      <td>China</td>\n",
       "      <td>Digital Media/ AI</td>\n",
       "      <td>Sequoia Capital China, SIG Asia Investments, S...</td>\n",
       "      <td>12/29/2018</td>\n",
       "      <td>2018</td>\n",
       "    </tr>\n",
       "    <tr>\n",
       "      <th>1</th>\n",
       "      <td>Uber</td>\n",
       "      <td>$72</td>\n",
       "      <td>8/23/2013</td>\n",
       "      <td>United States</td>\n",
       "      <td>On-Demand</td>\n",
       "      <td>Lowercase Capital,\\n\\t  Benchmark Capital, Goo...</td>\n",
       "      <td>12/29/2018</td>\n",
       "      <td>2018</td>\n",
       "    </tr>\n",
       "    <tr>\n",
       "      <th>2</th>\n",
       "      <td>Didi Chuxing</td>\n",
       "      <td>$56</td>\n",
       "      <td>12/31/2014</td>\n",
       "      <td>China</td>\n",
       "      <td>On-Demand</td>\n",
       "      <td>Matrix Partners, Tiger\\n\\t  Global Management,...</td>\n",
       "      <td>12/29/2018</td>\n",
       "      <td>2018</td>\n",
       "    </tr>\n",
       "  </tbody>\n",
       "</table>\n",
       "</div>"
      ],
      "text/plain": [
       "               Company Valuation ($B) Date Joined        Country  \\\n",
       "0  Toutiao (Bytedance)            $75    4/7/2017          China   \n",
       "1                 Uber            $72   8/23/2013  United States   \n",
       "2         Didi Chuxing            $56  12/31/2014          China   \n",
       "\n",
       "            Industry                                           Investor  \\\n",
       "0  Digital Media/ AI  Sequoia Capital China, SIG Asia Investments, S...   \n",
       "1          On-Demand  Lowercase Capital,\\n\\t  Benchmark Capital, Goo...   \n",
       "2          On-Demand  Matrix Partners, Tiger\\n\\t  Global Management,...   \n",
       "\n",
       "     Day_List  Year  \n",
       "0  12/29/2018  2018  \n",
       "1  12/29/2018  2018  \n",
       "2  12/29/2018  2018  "
      ]
     },
     "execution_count": 20,
     "metadata": {},
     "output_type": "execute_result"
    }
   ],
   "source": [
    "# Imprimimos las 3 primeras lineas para ispeccionar:\n",
    "df2018.head(3)"
   ]
  },
  {
   "cell_type": "code",
   "execution_count": 21,
   "metadata": {},
   "outputs": [
    {
     "name": "stdout",
     "output_type": "stream",
     "text": [
      "<class 'pandas.core.frame.DataFrame'>\n",
      "RangeIndex: 305 entries, 0 to 304\n",
      "Data columns (total 8 columns):\n",
      " #   Column          Non-Null Count  Dtype         \n",
      "---  ------          --------------  -----         \n",
      " 0   Company         305 non-null    object        \n",
      " 1   Valuation ($B)  305 non-null    float64       \n",
      " 2   Date Joined     305 non-null    datetime64[ns]\n",
      " 3   Country         305 non-null    object        \n",
      " 4   Industry        305 non-null    object        \n",
      " 5   Investor        305 non-null    object        \n",
      " 6   Day_List        305 non-null    datetime64[ns]\n",
      " 7   Year            305 non-null    int64         \n",
      "dtypes: datetime64[ns](2), float64(1), int64(1), object(4)\n",
      "memory usage: 19.2+ KB\n"
     ]
    }
   ],
   "source": [
    "# Utilizamos nuestra función para transformar las columnas: Valuation y Date Joined.\n",
    "transform(df2018)\n",
    "# Vemos que nuestras columnas presentan el tipo de dato correccto\n",
    "df2018.info()"
   ]
  },
  {
   "cell_type": "markdown",
   "metadata": {},
   "source": [
    "#### 2019"
   ]
  },
  {
   "cell_type": "code",
   "execution_count": 22,
   "metadata": {},
   "outputs": [],
   "source": [
    "# Leemos el dataset y le creamos una columna que corresponde al año de la lista\n",
    "df2019 = pd.read_excel('Data/unicorn_cb_31_dec_19.xlsx')\n",
    "df2019['Day_List'] = '12/31/2019'\n",
    "df2019['Year'] = 2019"
   ]
  },
  {
   "cell_type": "code",
   "execution_count": 23,
   "metadata": {},
   "outputs": [
    {
     "name": "stdout",
     "output_type": "stream",
     "text": [
      "El df esta formado por:  430 filas y 8 columnas\n",
      "Cantidad de valores duplicados:  0\n",
      "Cantidad de valores nulos:  1\n"
     ]
    }
   ],
   "source": [
    "# Imprimimos el reporte inicial\n",
    "reporte(df2019)"
   ]
  },
  {
   "cell_type": "code",
   "execution_count": 24,
   "metadata": {},
   "outputs": [
    {
     "data": {
      "text/html": [
       "<div>\n",
       "<style scoped>\n",
       "    .dataframe tbody tr th:only-of-type {\n",
       "        vertical-align: middle;\n",
       "    }\n",
       "\n",
       "    .dataframe tbody tr th {\n",
       "        vertical-align: top;\n",
       "    }\n",
       "\n",
       "    .dataframe thead th {\n",
       "        text-align: right;\n",
       "    }\n",
       "</style>\n",
       "<table border=\"1\" class=\"dataframe\">\n",
       "  <thead>\n",
       "    <tr style=\"text-align: right;\">\n",
       "      <th></th>\n",
       "      <th>Investor</th>\n",
       "      <th>Company</th>\n",
       "      <th>Valuation ($B)</th>\n",
       "      <th>Date Joined</th>\n",
       "      <th>Country</th>\n",
       "      <th>Industry</th>\n",
       "      <th>Day_List</th>\n",
       "      <th>Year</th>\n",
       "    </tr>\n",
       "  </thead>\n",
       "  <tbody>\n",
       "    <tr>\n",
       "      <th>% nulos</th>\n",
       "      <td>0.23</td>\n",
       "      <td>0.0</td>\n",
       "      <td>0.0</td>\n",
       "      <td>0.0</td>\n",
       "      <td>0.0</td>\n",
       "      <td>0.0</td>\n",
       "      <td>0.0</td>\n",
       "      <td>0.0</td>\n",
       "    </tr>\n",
       "  </tbody>\n",
       "</table>\n",
       "</div>"
      ],
      "text/plain": [
       "         Investor  Company  Valuation ($B)  Date Joined  Country  Industry  \\\n",
       "% nulos      0.23      0.0             0.0          0.0      0.0       0.0   \n",
       "\n",
       "         Day_List  Year  \n",
       "% nulos       0.0   0.0  "
      ]
     },
     "execution_count": 24,
     "metadata": {},
     "output_type": "execute_result"
    }
   ],
   "source": [
    "# Calculamos e identificamos en que columna estan nuestros valores nulos:\n",
    "percentage_null(df2019)"
   ]
  },
  {
   "cell_type": "code",
   "execution_count": 25,
   "metadata": {},
   "outputs": [],
   "source": [
    "# Reemplazamos nulos en la columna 'Select Investors' por la pabra: 'no_inversor'\n",
    "df2019['Investor'] = df2019['Investor'].fillna('no_inversor')"
   ]
  },
  {
   "cell_type": "code",
   "execution_count": 26,
   "metadata": {},
   "outputs": [
    {
     "name": "stdout",
     "output_type": "stream",
     "text": [
      "<class 'pandas.core.frame.DataFrame'>\n",
      "RangeIndex: 430 entries, 0 to 429\n",
      "Data columns (total 8 columns):\n",
      " #   Column          Non-Null Count  Dtype         \n",
      "---  ------          --------------  -----         \n",
      " 0   Company         430 non-null    object        \n",
      " 1   Valuation ($B)  430 non-null    float64       \n",
      " 2   Date Joined     430 non-null    datetime64[ns]\n",
      " 3   Country         430 non-null    object        \n",
      " 4   Industry        430 non-null    object        \n",
      " 5   Investor        430 non-null    object        \n",
      " 6   Day_List        430 non-null    datetime64[ns]\n",
      " 7   Year            430 non-null    int64         \n",
      "dtypes: datetime64[ns](2), float64(1), int64(1), object(4)\n",
      "memory usage: 27.0+ KB\n"
     ]
    }
   ],
   "source": [
    "# Utilizamos nuestra función para transformar las columnas: Valuation y Date Joined.\n",
    "transform(df2019)\n",
    "# Vemos que nuestras columnas presentan el tipo de dato correccto\n",
    "df2019.info()"
   ]
  },
  {
   "cell_type": "markdown",
   "metadata": {},
   "source": [
    "#### 2020"
   ]
  },
  {
   "cell_type": "code",
   "execution_count": 27,
   "metadata": {},
   "outputs": [],
   "source": [
    "# Leemos el dataset y le creamos una columna que corresponde al año de la lista\n",
    "df2020 = pd.read_excel('Data/unicorn_cb_31_dec_20.xlsx')\n",
    "df2020['Day_List'] = '12/31/2020'\n",
    "df2020['Year'] = 2020"
   ]
  },
  {
   "cell_type": "code",
   "execution_count": 28,
   "metadata": {},
   "outputs": [
    {
     "name": "stdout",
     "output_type": "stream",
     "text": [
      "El df esta formado por:  515 filas y 8 columnas\n",
      "Cantidad de valores duplicados:  2\n",
      "Cantidad de valores nulos:  1\n"
     ]
    }
   ],
   "source": [
    "# Imprimimos el reporte inicial\n",
    "reporte(df2020)"
   ]
  },
  {
   "cell_type": "code",
   "execution_count": 29,
   "metadata": {},
   "outputs": [
    {
     "data": {
      "text/html": [
       "<div>\n",
       "<style scoped>\n",
       "    .dataframe tbody tr th:only-of-type {\n",
       "        vertical-align: middle;\n",
       "    }\n",
       "\n",
       "    .dataframe tbody tr th {\n",
       "        vertical-align: top;\n",
       "    }\n",
       "\n",
       "    .dataframe thead th {\n",
       "        text-align: right;\n",
       "    }\n",
       "</style>\n",
       "<table border=\"1\" class=\"dataframe\">\n",
       "  <thead>\n",
       "    <tr style=\"text-align: right;\">\n",
       "      <th></th>\n",
       "      <th>Investor</th>\n",
       "      <th>Company</th>\n",
       "      <th>Valuation ($B)</th>\n",
       "      <th>Date Joined</th>\n",
       "      <th>Country</th>\n",
       "      <th>Industry</th>\n",
       "      <th>Day_List</th>\n",
       "      <th>Year</th>\n",
       "    </tr>\n",
       "  </thead>\n",
       "  <tbody>\n",
       "    <tr>\n",
       "      <th>% nulos</th>\n",
       "      <td>0.19</td>\n",
       "      <td>0.0</td>\n",
       "      <td>0.0</td>\n",
       "      <td>0.0</td>\n",
       "      <td>0.0</td>\n",
       "      <td>0.0</td>\n",
       "      <td>0.0</td>\n",
       "      <td>0.0</td>\n",
       "    </tr>\n",
       "  </tbody>\n",
       "</table>\n",
       "</div>"
      ],
      "text/plain": [
       "         Investor  Company  Valuation ($B)  Date Joined  Country  Industry  \\\n",
       "% nulos      0.19      0.0             0.0          0.0      0.0       0.0   \n",
       "\n",
       "         Day_List  Year  \n",
       "% nulos       0.0   0.0  "
      ]
     },
     "execution_count": 29,
     "metadata": {},
     "output_type": "execute_result"
    }
   ],
   "source": [
    "# Calculamos e identificamos en que columna estan nuestros valores nulos:\n",
    "percentage_null(df2020)"
   ]
  },
  {
   "cell_type": "code",
   "execution_count": 30,
   "metadata": {},
   "outputs": [],
   "source": [
    "# Reemplazamos nulos en la columna 'Select Investors' vamos a reemplazar por la pabra: 'no_inversor'\n",
    "df2020['Investor'] = df2020['Investor'].fillna('no_inversor')"
   ]
  },
  {
   "cell_type": "code",
   "execution_count": 31,
   "metadata": {},
   "outputs": [],
   "source": [
    "# Eliminamos valores Duplicados:\n",
    "df2020 = df2020.drop_duplicates()"
   ]
  },
  {
   "cell_type": "code",
   "execution_count": 32,
   "metadata": {},
   "outputs": [
    {
     "data": {
      "text/html": [
       "<div>\n",
       "<style scoped>\n",
       "    .dataframe tbody tr th:only-of-type {\n",
       "        vertical-align: middle;\n",
       "    }\n",
       "\n",
       "    .dataframe tbody tr th {\n",
       "        vertical-align: top;\n",
       "    }\n",
       "\n",
       "    .dataframe thead th {\n",
       "        text-align: right;\n",
       "    }\n",
       "</style>\n",
       "<table border=\"1\" class=\"dataframe\">\n",
       "  <thead>\n",
       "    <tr style=\"text-align: right;\">\n",
       "      <th></th>\n",
       "      <th>Company</th>\n",
       "      <th>Valuation ($B)</th>\n",
       "      <th>Date Joined</th>\n",
       "      <th>Country</th>\n",
       "      <th>Industry</th>\n",
       "      <th>Investor</th>\n",
       "      <th>Day_List</th>\n",
       "      <th>Year</th>\n",
       "    </tr>\n",
       "  </thead>\n",
       "  <tbody>\n",
       "    <tr>\n",
       "      <th>273</th>\n",
       "      <td>Olive</td>\n",
       "      <td>$1.5</td>\n",
       "      <td>12/1//2020</td>\n",
       "      <td>United States</td>\n",
       "      <td>Internet software &amp; services</td>\n",
       "      <td>Drive Capital, General Catalyst, Ascension Ven...</td>\n",
       "      <td>12/31/2020</td>\n",
       "      <td>2020</td>\n",
       "    </tr>\n",
       "    <tr>\n",
       "      <th>274</th>\n",
       "      <td>Strava</td>\n",
       "      <td>$1.5</td>\n",
       "      <td>11/16//2020</td>\n",
       "      <td>United States</td>\n",
       "      <td>Internet software &amp; services</td>\n",
       "      <td>Jackson Square Ventures, Madrone Capital Partn...</td>\n",
       "      <td>12/31/2020</td>\n",
       "      <td>2020</td>\n",
       "    </tr>\n",
       "  </tbody>\n",
       "</table>\n",
       "</div>"
      ],
      "text/plain": [
       "    Company Valuation ($B)  Date Joined        Country  \\\n",
       "273   Olive           $1.5   12/1//2020  United States   \n",
       "274  Strava           $1.5  11/16//2020  United States   \n",
       "\n",
       "                         Industry  \\\n",
       "273  Internet software & services   \n",
       "274  Internet software & services   \n",
       "\n",
       "                                              Investor    Day_List  Year  \n",
       "273  Drive Capital, General Catalyst, Ascension Ven...  12/31/2020  2020  \n",
       "274  Jackson Square Ventures, Madrone Capital Partn...  12/31/2020  2020  "
      ]
     },
     "execution_count": 32,
     "metadata": {},
     "output_type": "execute_result"
    }
   ],
   "source": [
    "# Intentando aplicar la funcion: transform(df2020), hemos detectado que el valor de las filas que se detallan a continuación no presentaban valores\n",
    "# formato fecha, por lo que proedimos a corregir eso:\n",
    "df2020.loc[[273,274]]"
   ]
  },
  {
   "cell_type": "code",
   "execution_count": 33,
   "metadata": {},
   "outputs": [],
   "source": [
    "# Las fechas presentaban doble //, por lo que se procede a reemplazar\n",
    "df2020.at[273, 'Date Joined'] = '12/1/2020'\n",
    "df2020.at[274, 'Date Joined'] = '11/16/2020'"
   ]
  },
  {
   "cell_type": "code",
   "execution_count": 34,
   "metadata": {},
   "outputs": [
    {
     "name": "stdout",
     "output_type": "stream",
     "text": [
      "<class 'pandas.core.frame.DataFrame'>\n",
      "Index: 513 entries, 0 to 514\n",
      "Data columns (total 8 columns):\n",
      " #   Column          Non-Null Count  Dtype         \n",
      "---  ------          --------------  -----         \n",
      " 0   Company         513 non-null    object        \n",
      " 1   Valuation ($B)  513 non-null    float64       \n",
      " 2   Date Joined     513 non-null    datetime64[ns]\n",
      " 3   Country         513 non-null    object        \n",
      " 4   Industry        513 non-null    object        \n",
      " 5   Investor        513 non-null    object        \n",
      " 6   Day_List        513 non-null    datetime64[ns]\n",
      " 7   Year            513 non-null    int64         \n",
      "dtypes: datetime64[ns](2), float64(1), int64(1), object(4)\n",
      "memory usage: 52.2+ KB\n"
     ]
    }
   ],
   "source": [
    "# Ahora si, utilizamos nuestra función para transformar las columnas: Valuation y Date Joined.\n",
    "transform(df2020)\n",
    "# Vemos que nuestras columnas presentan el tipo de dato correccto\n",
    "df2020.info()"
   ]
  },
  {
   "cell_type": "markdown",
   "metadata": {},
   "source": [
    "#### 2021"
   ]
  },
  {
   "cell_type": "code",
   "execution_count": 35,
   "metadata": {},
   "outputs": [],
   "source": [
    "# Leemos el dataset y le creamos una columna que corresponde al año de la lista\n",
    "df2021 = pd.read_excel('Data/unicorn_cb_31_dec_21.xlsx')\n",
    "df2021['Day_List'] = '12/31/2021'\n",
    "df2021['Year'] = 2021"
   ]
  },
  {
   "cell_type": "code",
   "execution_count": 36,
   "metadata": {},
   "outputs": [
    {
     "name": "stdout",
     "output_type": "stream",
     "text": [
      "El df esta formado por:  958 filas y 9 columnas\n",
      "Cantidad de valores duplicados:  0\n",
      "Cantidad de valores nulos:  4\n"
     ]
    }
   ],
   "source": [
    "# Imprimimos el reporte inicial\n",
    "reporte(df2021)"
   ]
  },
  {
   "cell_type": "code",
   "execution_count": 37,
   "metadata": {},
   "outputs": [
    {
     "data": {
      "text/html": [
       "<div>\n",
       "<style scoped>\n",
       "    .dataframe tbody tr th:only-of-type {\n",
       "        vertical-align: middle;\n",
       "    }\n",
       "\n",
       "    .dataframe tbody tr th {\n",
       "        vertical-align: top;\n",
       "    }\n",
       "\n",
       "    .dataframe thead th {\n",
       "        text-align: right;\n",
       "    }\n",
       "</style>\n",
       "<table border=\"1\" class=\"dataframe\">\n",
       "  <thead>\n",
       "    <tr style=\"text-align: right;\">\n",
       "      <th></th>\n",
       "      <th>Company</th>\n",
       "      <th>Valuation ($B)</th>\n",
       "      <th>Date Joined</th>\n",
       "      <th>Country</th>\n",
       "      <th>Industry</th>\n",
       "      <th>Investor</th>\n",
       "      <th>tablescraper-selected-row 7</th>\n",
       "      <th>Day_List</th>\n",
       "      <th>Year</th>\n",
       "    </tr>\n",
       "  </thead>\n",
       "  <tbody>\n",
       "    <tr>\n",
       "      <th>0</th>\n",
       "      <td>Bytedance</td>\n",
       "      <td>$140</td>\n",
       "      <td>4/7/2017</td>\n",
       "      <td>China</td>\n",
       "      <td>Beijing</td>\n",
       "      <td>Artificial intelligence</td>\n",
       "      <td>Sequoia Capital China, SIG Asia Investments, S...</td>\n",
       "      <td>12/31/2021</td>\n",
       "      <td>2021</td>\n",
       "    </tr>\n",
       "    <tr>\n",
       "      <th>1</th>\n",
       "      <td>SpaceX</td>\n",
       "      <td>$100.3</td>\n",
       "      <td>12/1/2012</td>\n",
       "      <td>United States</td>\n",
       "      <td>Hawthorne</td>\n",
       "      <td>Other</td>\n",
       "      <td>Founders Fund, Draper Fisher Jurvetson, Rothen...</td>\n",
       "      <td>12/31/2021</td>\n",
       "      <td>2021</td>\n",
       "    </tr>\n",
       "    <tr>\n",
       "      <th>2</th>\n",
       "      <td>Stripe</td>\n",
       "      <td>$95</td>\n",
       "      <td>1/23/2014</td>\n",
       "      <td>United States</td>\n",
       "      <td>San Francisco</td>\n",
       "      <td>Fintech</td>\n",
       "      <td>Khosla Ventures, LowercaseCapital, capitalG</td>\n",
       "      <td>12/31/2021</td>\n",
       "      <td>2021</td>\n",
       "    </tr>\n",
       "  </tbody>\n",
       "</table>\n",
       "</div>"
      ],
      "text/plain": [
       "     Company Valuation ($B) Date Joined        Country       Industry  \\\n",
       "0  Bytedance           $140    4/7/2017          China        Beijing   \n",
       "1     SpaceX         $100.3   12/1/2012  United States      Hawthorne   \n",
       "2     Stripe            $95   1/23/2014  United States  San Francisco   \n",
       "\n",
       "                  Investor                        tablescraper-selected-row 7  \\\n",
       "0  Artificial intelligence  Sequoia Capital China, SIG Asia Investments, S...   \n",
       "1                    Other  Founders Fund, Draper Fisher Jurvetson, Rothen...   \n",
       "2                  Fintech        Khosla Ventures, LowercaseCapital, capitalG   \n",
       "\n",
       "     Day_List  Year  \n",
       "0  12/31/2021  2021  \n",
       "1  12/31/2021  2021  \n",
       "2  12/31/2021  2021  "
      ]
     },
     "execution_count": 37,
     "metadata": {},
     "output_type": "execute_result"
    }
   ],
   "source": [
    "# Imprimimos las 3 primeras filas para inspeccionar:\n",
    "df2021.head(3)"
   ]
  },
  {
   "cell_type": "markdown",
   "metadata": {},
   "source": [
    "Vemos que el la información para el año 2021 cambia con respecto a la que teníamos en los años anteriores, por lo que procedemos a convertir las columnas\n",
    "de manera que todas tengan el mismo nombre."
   ]
  },
  {
   "cell_type": "code",
   "execution_count": 38,
   "metadata": {},
   "outputs": [],
   "source": [
    "# se identificaron columnas con diferentes nombres por lo que se procedión a cambiarlas para que todas ssean iguales a la hora de concatenar\n",
    "df2021 = df2021.rename(columns={'Industry':'City', 'Investor':'Industry','tablescraper-selected-row 7':'Investor'})"
   ]
  },
  {
   "cell_type": "code",
   "execution_count": 39,
   "metadata": {},
   "outputs": [
    {
     "data": {
      "text/html": [
       "<div>\n",
       "<style scoped>\n",
       "    .dataframe tbody tr th:only-of-type {\n",
       "        vertical-align: middle;\n",
       "    }\n",
       "\n",
       "    .dataframe tbody tr th {\n",
       "        vertical-align: top;\n",
       "    }\n",
       "\n",
       "    .dataframe thead th {\n",
       "        text-align: right;\n",
       "    }\n",
       "</style>\n",
       "<table border=\"1\" class=\"dataframe\">\n",
       "  <thead>\n",
       "    <tr style=\"text-align: right;\">\n",
       "      <th></th>\n",
       "      <th>Investor</th>\n",
       "      <th>City</th>\n",
       "      <th>Company</th>\n",
       "      <th>Valuation ($B)</th>\n",
       "      <th>Date Joined</th>\n",
       "      <th>Country</th>\n",
       "      <th>Industry</th>\n",
       "      <th>Day_List</th>\n",
       "      <th>Year</th>\n",
       "    </tr>\n",
       "  </thead>\n",
       "  <tbody>\n",
       "    <tr>\n",
       "      <th>% nulos</th>\n",
       "      <td>0.31</td>\n",
       "      <td>0.1</td>\n",
       "      <td>0.0</td>\n",
       "      <td>0.0</td>\n",
       "      <td>0.0</td>\n",
       "      <td>0.0</td>\n",
       "      <td>0.0</td>\n",
       "      <td>0.0</td>\n",
       "      <td>0.0</td>\n",
       "    </tr>\n",
       "  </tbody>\n",
       "</table>\n",
       "</div>"
      ],
      "text/plain": [
       "         Investor  City  Company  Valuation ($B)  Date Joined  Country  \\\n",
       "% nulos      0.31   0.1      0.0             0.0          0.0      0.0   \n",
       "\n",
       "         Industry  Day_List  Year  \n",
       "% nulos       0.0       0.0   0.0  "
      ]
     },
     "execution_count": 39,
     "metadata": {},
     "output_type": "execute_result"
    }
   ],
   "source": [
    "percentage_null(df2021)"
   ]
  },
  {
   "cell_type": "code",
   "execution_count": 40,
   "metadata": {},
   "outputs": [
    {
     "data": {
      "text/html": [
       "<div>\n",
       "<style scoped>\n",
       "    .dataframe tbody tr th:only-of-type {\n",
       "        vertical-align: middle;\n",
       "    }\n",
       "\n",
       "    .dataframe tbody tr th {\n",
       "        vertical-align: top;\n",
       "    }\n",
       "\n",
       "    .dataframe thead th {\n",
       "        text-align: right;\n",
       "    }\n",
       "</style>\n",
       "<table border=\"1\" class=\"dataframe\">\n",
       "  <thead>\n",
       "    <tr style=\"text-align: right;\">\n",
       "      <th></th>\n",
       "      <th>Company</th>\n",
       "      <th>Valuation ($B)</th>\n",
       "      <th>Date Joined</th>\n",
       "      <th>Country</th>\n",
       "      <th>City</th>\n",
       "      <th>Industry</th>\n",
       "      <th>Investor</th>\n",
       "      <th>Day_List</th>\n",
       "      <th>Year</th>\n",
       "    </tr>\n",
       "  </thead>\n",
       "  <tbody>\n",
       "    <tr>\n",
       "      <th>535</th>\n",
       "      <td>$1.5</td>\n",
       "      <td>12/17/2021</td>\n",
       "      <td>United States</td>\n",
       "      <td>San Francisco</td>\n",
       "      <td>Internet software &amp; services</td>\n",
       "      <td>Accel, Benchmark, SV Angel</td>\n",
       "      <td>NaN</td>\n",
       "      <td>12/31/2021</td>\n",
       "      <td>2021</td>\n",
       "    </tr>\n",
       "    <tr>\n",
       "      <th>722</th>\n",
       "      <td>LinkSure Network</td>\n",
       "      <td>$1</td>\n",
       "      <td>1/1/2015</td>\n",
       "      <td>China</td>\n",
       "      <td>Shanghai</td>\n",
       "      <td>Mobile &amp; telecommunications</td>\n",
       "      <td>NaN</td>\n",
       "      <td>12/31/2021</td>\n",
       "      <td>2021</td>\n",
       "    </tr>\n",
       "    <tr>\n",
       "      <th>851</th>\n",
       "      <td>Moglix</td>\n",
       "      <td>$1</td>\n",
       "      <td>5/17/2021</td>\n",
       "      <td>Singapore</td>\n",
       "      <td>Singapore</td>\n",
       "      <td>E-commerce &amp; direct-to-consumer</td>\n",
       "      <td>NaN</td>\n",
       "      <td>12/31/2021</td>\n",
       "      <td>2021</td>\n",
       "    </tr>\n",
       "  </tbody>\n",
       "</table>\n",
       "</div>"
      ],
      "text/plain": [
       "              Company Valuation ($B)    Date Joined        Country  \\\n",
       "535              $1.5     12/17/2021  United States  San Francisco   \n",
       "722  LinkSure Network             $1       1/1/2015          China   \n",
       "851            Moglix             $1      5/17/2021      Singapore   \n",
       "\n",
       "                             City                         Industry Investor  \\\n",
       "535  Internet software & services       Accel, Benchmark, SV Angel      NaN   \n",
       "722                      Shanghai      Mobile & telecommunications      NaN   \n",
       "851                     Singapore  E-commerce & direct-to-consumer      NaN   \n",
       "\n",
       "       Day_List  Year  \n",
       "535  12/31/2021  2021  \n",
       "722  12/31/2021  2021  \n",
       "851  12/31/2021  2021  "
      ]
     },
     "execution_count": 40,
     "metadata": {},
     "output_type": "execute_result"
    }
   ],
   "source": [
    "# Imprimimos los nulos para identificarlos, ya que el contenido de los dataset han tenido errores de imputación:\n",
    "df2021[df2021['Investor'].isna()]"
   ]
  },
  {
   "cell_type": "code",
   "execution_count": 41,
   "metadata": {},
   "outputs": [],
   "source": [
    "# Reemplazamos nulos en la columna 'Select Investors' vamos a reemplazar por la pabra: 'no_inversor'\n",
    "df2021['Investor'] = df2021['Investor'].fillna('no_inversor')"
   ]
  },
  {
   "cell_type": "markdown",
   "metadata": {},
   "source": [
    "Dentro de los valores nulos identificamos una columna que presenta un nombre que extraño, por lo que se peude ver en realidad es que $1.5 en realizad corresponde al valor y no se tiene el nombre de la empresa, por lo que tosas sus columnas uqedaron desfasadas. Se procede a elimiar esta fila"
   ]
  },
  {
   "cell_type": "code",
   "execution_count": 42,
   "metadata": {},
   "outputs": [
    {
     "data": {
      "text/html": [
       "<div>\n",
       "<style scoped>\n",
       "    .dataframe tbody tr th:only-of-type {\n",
       "        vertical-align: middle;\n",
       "    }\n",
       "\n",
       "    .dataframe tbody tr th {\n",
       "        vertical-align: top;\n",
       "    }\n",
       "\n",
       "    .dataframe thead th {\n",
       "        text-align: right;\n",
       "    }\n",
       "</style>\n",
       "<table border=\"1\" class=\"dataframe\">\n",
       "  <thead>\n",
       "    <tr style=\"text-align: right;\">\n",
       "      <th></th>\n",
       "      <th>Company</th>\n",
       "      <th>Valuation ($B)</th>\n",
       "      <th>Date Joined</th>\n",
       "      <th>Country</th>\n",
       "      <th>City</th>\n",
       "      <th>Industry</th>\n",
       "      <th>Investor</th>\n",
       "      <th>Day_List</th>\n",
       "      <th>Year</th>\n",
       "    </tr>\n",
       "  </thead>\n",
       "  <tbody>\n",
       "    <tr>\n",
       "      <th>535</th>\n",
       "      <td>$1.5</td>\n",
       "      <td>12/17/2021</td>\n",
       "      <td>United States</td>\n",
       "      <td>San Francisco</td>\n",
       "      <td>Internet software &amp; services</td>\n",
       "      <td>Accel, Benchmark, SV Angel</td>\n",
       "      <td>no_inversor</td>\n",
       "      <td>12/31/2021</td>\n",
       "      <td>2021</td>\n",
       "    </tr>\n",
       "  </tbody>\n",
       "</table>\n",
       "</div>"
      ],
      "text/plain": [
       "    Company Valuation ($B)    Date Joined        Country  \\\n",
       "535    $1.5     12/17/2021  United States  San Francisco   \n",
       "\n",
       "                             City                    Industry     Investor  \\\n",
       "535  Internet software & services  Accel, Benchmark, SV Angel  no_inversor   \n",
       "\n",
       "       Day_List  Year  \n",
       "535  12/31/2021  2021  "
      ]
     },
     "execution_count": 42,
     "metadata": {},
     "output_type": "execute_result"
    }
   ],
   "source": [
    "# filtramos la fila donde el nombre de la companía es \"$1.5\" \n",
    "df2021[df2021['Company'] == '$1.5']"
   ]
  },
  {
   "cell_type": "code",
   "execution_count": 43,
   "metadata": {},
   "outputs": [],
   "source": [
    "# Procedemos a eliminarla ya que carecemos de este nombre y no podemos continuar con la busqueda de este dato faltante.\n",
    "drop = df2021[df2021['Company'] == '$1.5'].index\n",
    "df2021.drop(drop, inplace=True)"
   ]
  },
  {
   "cell_type": "code",
   "execution_count": 44,
   "metadata": {},
   "outputs": [
    {
     "name": "stdout",
     "output_type": "stream",
     "text": [
      "<class 'pandas.core.frame.DataFrame'>\n",
      "Index: 957 entries, 0 to 957\n",
      "Data columns (total 9 columns):\n",
      " #   Column          Non-Null Count  Dtype         \n",
      "---  ------          --------------  -----         \n",
      " 0   Company         957 non-null    object        \n",
      " 1   Valuation ($B)  957 non-null    float64       \n",
      " 2   Date Joined     957 non-null    datetime64[ns]\n",
      " 3   Country         957 non-null    object        \n",
      " 4   City            956 non-null    object        \n",
      " 5   Industry        957 non-null    object        \n",
      " 6   Investor        957 non-null    object        \n",
      " 7   Day_List        957 non-null    datetime64[ns]\n",
      " 8   Year            957 non-null    int64         \n",
      "dtypes: datetime64[ns](2), float64(1), int64(1), object(5)\n",
      "memory usage: 74.8+ KB\n"
     ]
    }
   ],
   "source": [
    "# Utilizamos nuestra función para transformar las columnas: Valuation y Date Joined.\n",
    "transform(df2021)\n",
    "# Vemos que nuestras columnas presentan el tipo de dato correccto\n",
    "df2021.info()"
   ]
  },
  {
   "cell_type": "markdown",
   "metadata": {},
   "source": [
    "#### 2022"
   ]
  },
  {
   "cell_type": "markdown",
   "metadata": {},
   "source": [
    "Para el año 2022, conseguimos otra fuente por lo que tendremos que hacer cambios a las columnas para poder concatenar:\n",
    "\n",
    "El archivo es un .csv. Presentaba una columna extra:'Unnamed: 0' que se eliminó y reenombramos una columna para que tenga el mismo nombre que los df anteriores."
   ]
  },
  {
   "cell_type": "code",
   "execution_count": 45,
   "metadata": {},
   "outputs": [],
   "source": [
    "# Leemos el dataset y le creamos una columna que corresponde al año de la lista\n",
    "df2022 = pd.read_csv('Data/unicorn_cb_15_nov_22.csv')\n",
    "df2022['Day_List'] = '11/15/2022'\n",
    "df2022['Year'] = 2022"
   ]
  },
  {
   "cell_type": "code",
   "execution_count": 46,
   "metadata": {},
   "outputs": [
    {
     "name": "stdout",
     "output_type": "stream",
     "text": [
      "El df esta formado por:  1201 filas y 10 columnas\n",
      "Cantidad de valores duplicados:  0\n",
      "Cantidad de valores nulos:  19\n"
     ]
    }
   ],
   "source": [
    "# Imprimimos el reporte inicial\n",
    "reporte(df2022)"
   ]
  },
  {
   "cell_type": "code",
   "execution_count": 47,
   "metadata": {},
   "outputs": [
    {
     "data": {
      "text/html": [
       "<div>\n",
       "<style scoped>\n",
       "    .dataframe tbody tr th:only-of-type {\n",
       "        vertical-align: middle;\n",
       "    }\n",
       "\n",
       "    .dataframe tbody tr th {\n",
       "        vertical-align: top;\n",
       "    }\n",
       "\n",
       "    .dataframe thead th {\n",
       "        text-align: right;\n",
       "    }\n",
       "</style>\n",
       "<table border=\"1\" class=\"dataframe\">\n",
       "  <thead>\n",
       "    <tr style=\"text-align: right;\">\n",
       "      <th></th>\n",
       "      <th>Unnamed: 0</th>\n",
       "      <th>Company</th>\n",
       "      <th>Valuation ($B)</th>\n",
       "      <th>Date Joined</th>\n",
       "      <th>Country</th>\n",
       "      <th>City</th>\n",
       "      <th>Industry</th>\n",
       "      <th>Select Investors</th>\n",
       "      <th>Day_List</th>\n",
       "      <th>Year</th>\n",
       "    </tr>\n",
       "  </thead>\n",
       "  <tbody>\n",
       "    <tr>\n",
       "      <th>0</th>\n",
       "      <td>0</td>\n",
       "      <td>ByteDance</td>\n",
       "      <td>$140</td>\n",
       "      <td>4/7/2017</td>\n",
       "      <td>China</td>\n",
       "      <td>Beijing</td>\n",
       "      <td>Artificial intelligence</td>\n",
       "      <td>Sequoia Capital China, SIG Asia Investments, S...</td>\n",
       "      <td>11/15/2022</td>\n",
       "      <td>2022</td>\n",
       "    </tr>\n",
       "    <tr>\n",
       "      <th>1</th>\n",
       "      <td>1</td>\n",
       "      <td>SpaceX</td>\n",
       "      <td>$127</td>\n",
       "      <td>12/1/2012</td>\n",
       "      <td>United States</td>\n",
       "      <td>Hawthorne</td>\n",
       "      <td>Other</td>\n",
       "      <td>Founders Fund, Draper Fisher Jurvetson, Rothen...</td>\n",
       "      <td>11/15/2022</td>\n",
       "      <td>2022</td>\n",
       "    </tr>\n",
       "    <tr>\n",
       "      <th>2</th>\n",
       "      <td>2</td>\n",
       "      <td>SHEIN</td>\n",
       "      <td>$100</td>\n",
       "      <td>7/3/2018</td>\n",
       "      <td>China</td>\n",
       "      <td>Shenzhen</td>\n",
       "      <td>E-commerce &amp; direct-to-consumer</td>\n",
       "      <td>Tiger Global Management, Sequoia Capital China...</td>\n",
       "      <td>11/15/2022</td>\n",
       "      <td>2022</td>\n",
       "    </tr>\n",
       "  </tbody>\n",
       "</table>\n",
       "</div>"
      ],
      "text/plain": [
       "   Unnamed: 0    Company Valuation ($B) Date Joined        Country       City  \\\n",
       "0           0  ByteDance           $140    4/7/2017          China    Beijing   \n",
       "1           1     SpaceX           $127   12/1/2012  United States  Hawthorne   \n",
       "2           2      SHEIN           $100    7/3/2018          China   Shenzhen   \n",
       "\n",
       "                          Industry  \\\n",
       "0          Artificial intelligence   \n",
       "1                            Other   \n",
       "2  E-commerce & direct-to-consumer   \n",
       "\n",
       "                                    Select Investors    Day_List  Year  \n",
       "0  Sequoia Capital China, SIG Asia Investments, S...  11/15/2022  2022  \n",
       "1  Founders Fund, Draper Fisher Jurvetson, Rothen...  11/15/2022  2022  \n",
       "2  Tiger Global Management, Sequoia Capital China...  11/15/2022  2022  "
      ]
     },
     "execution_count": 47,
     "metadata": {},
     "output_type": "execute_result"
    }
   ],
   "source": [
    "# Imprimimos las 3 primeras filas para inspeccionar:\n",
    "df2022.head(3)"
   ]
  },
  {
   "cell_type": "code",
   "execution_count": 48,
   "metadata": {},
   "outputs": [],
   "source": [
    "# Eliminamos la columna: 'Unnamed: 0' y reenombramos la columna: 'Select Investors'\n",
    "df2022 = df2022.drop(['Unnamed: 0'],axis=1)\n",
    "df2022 = df2022.rename(columns={'Select Investors':'Investor'})"
   ]
  },
  {
   "cell_type": "code",
   "execution_count": 49,
   "metadata": {},
   "outputs": [
    {
     "data": {
      "text/html": [
       "<div>\n",
       "<style scoped>\n",
       "    .dataframe tbody tr th:only-of-type {\n",
       "        vertical-align: middle;\n",
       "    }\n",
       "\n",
       "    .dataframe tbody tr th {\n",
       "        vertical-align: top;\n",
       "    }\n",
       "\n",
       "    .dataframe thead th {\n",
       "        text-align: right;\n",
       "    }\n",
       "</style>\n",
       "<table border=\"1\" class=\"dataframe\">\n",
       "  <thead>\n",
       "    <tr style=\"text-align: right;\">\n",
       "      <th></th>\n",
       "      <th>City</th>\n",
       "      <th>Investor</th>\n",
       "      <th>Company</th>\n",
       "      <th>Valuation ($B)</th>\n",
       "      <th>Date Joined</th>\n",
       "      <th>Country</th>\n",
       "      <th>Industry</th>\n",
       "      <th>Day_List</th>\n",
       "      <th>Year</th>\n",
       "    </tr>\n",
       "  </thead>\n",
       "  <tbody>\n",
       "    <tr>\n",
       "      <th>% nulos</th>\n",
       "      <td>1.5</td>\n",
       "      <td>0.08</td>\n",
       "      <td>0.0</td>\n",
       "      <td>0.0</td>\n",
       "      <td>0.0</td>\n",
       "      <td>0.0</td>\n",
       "      <td>0.0</td>\n",
       "      <td>0.0</td>\n",
       "      <td>0.0</td>\n",
       "    </tr>\n",
       "  </tbody>\n",
       "</table>\n",
       "</div>"
      ],
      "text/plain": [
       "         City  Investor  Company  Valuation ($B)  Date Joined  Country  \\\n",
       "% nulos   1.5      0.08      0.0             0.0          0.0      0.0   \n",
       "\n",
       "         Industry  Day_List  Year  \n",
       "% nulos       0.0       0.0   0.0  "
      ]
     },
     "execution_count": 49,
     "metadata": {},
     "output_type": "execute_result"
    }
   ],
   "source": [
    "# Calculamos e identificamos en que columna estan nuestros valores nulos:\n",
    "percentage_null(df2022)"
   ]
  },
  {
   "cell_type": "code",
   "execution_count": 50,
   "metadata": {},
   "outputs": [],
   "source": [
    "# Reemplazamos nulos en la columna 'Select Investors' vamos a reemplazar por la pabra: 'no_inversor'\n",
    "df2022['Investor'] = df2022['Investor'].fillna('no_inversor')"
   ]
  },
  {
   "cell_type": "code",
   "execution_count": 51,
   "metadata": {},
   "outputs": [
    {
     "name": "stdout",
     "output_type": "stream",
     "text": [
      "<class 'pandas.core.frame.DataFrame'>\n",
      "RangeIndex: 1201 entries, 0 to 1200\n",
      "Data columns (total 9 columns):\n",
      " #   Column          Non-Null Count  Dtype         \n",
      "---  ------          --------------  -----         \n",
      " 0   Company         1201 non-null   object        \n",
      " 1   Valuation ($B)  1201 non-null   float64       \n",
      " 2   Date Joined     1201 non-null   datetime64[ns]\n",
      " 3   Country         1201 non-null   object        \n",
      " 4   City            1183 non-null   object        \n",
      " 5   Industry        1201 non-null   object        \n",
      " 6   Investor        1201 non-null   object        \n",
      " 7   Day_List        1201 non-null   datetime64[ns]\n",
      " 8   Year            1201 non-null   int64         \n",
      "dtypes: datetime64[ns](2), float64(1), int64(1), object(5)\n",
      "memory usage: 84.6+ KB\n"
     ]
    }
   ],
   "source": [
    "# Utilizamos nuestra función para transformar las columnas: Valuation y Date Joined.\n",
    "transform(df2022)\n",
    "# Vemos que nuestras columnas presentan el tipo de dato correccto\n",
    "df2022.info()"
   ]
  },
  {
   "cell_type": "markdown",
   "metadata": {},
   "source": [
    "### Lectura y tranformación del dataframes del 2023"
   ]
  },
  {
   "cell_type": "markdown",
   "metadata": {},
   "source": [
    "Este df lo vamoa a utlizar tanto para hacer tableros y anlálisis de este año específico, así como tambien para unirlo con el resto de los años anterios y asi poder hacer predicciones y diferentes comparaciones anuales."
   ]
  },
  {
   "cell_type": "code",
   "execution_count": 52,
   "metadata": {},
   "outputs": [],
   "source": [
    "# Leemos el dataset y le creamos una columna que corresponde al año de la lista\n",
    "df2023 = pd.read_excel('Data/CB-Insights_31_05_2023.xlsx')\n",
    "df2023['Day_List'] = '05/31/2023'\n",
    "df2023['Year'] = 2023"
   ]
  },
  {
   "cell_type": "markdown",
   "metadata": {},
   "source": [
    "#### Procesamiento:"
   ]
  },
  {
   "cell_type": "code",
   "execution_count": 53,
   "metadata": {},
   "outputs": [
    {
     "name": "stdout",
     "output_type": "stream",
     "text": [
      "El df esta formado por:  1215 filas y 9 columnas\n",
      "Cantidad de valores duplicados:  0\n",
      "Cantidad de valores nulos:  20\n"
     ]
    }
   ],
   "source": [
    "# Imprimimos el reporte inicial\n",
    "reporte(df2023)"
   ]
  },
  {
   "cell_type": "markdown",
   "metadata": {},
   "source": [
    "##### Cambio de nombre de las columnas:"
   ]
  },
  {
   "cell_type": "code",
   "execution_count": 54,
   "metadata": {},
   "outputs": [
    {
     "data": {
      "text/html": [
       "<div>\n",
       "<style scoped>\n",
       "    .dataframe tbody tr th:only-of-type {\n",
       "        vertical-align: middle;\n",
       "    }\n",
       "\n",
       "    .dataframe tbody tr th {\n",
       "        vertical-align: top;\n",
       "    }\n",
       "\n",
       "    .dataframe thead th {\n",
       "        text-align: right;\n",
       "    }\n",
       "</style>\n",
       "<table border=\"1\" class=\"dataframe\">\n",
       "  <thead>\n",
       "    <tr style=\"text-align: right;\">\n",
       "      <th></th>\n",
       "      <th>Company</th>\n",
       "      <th>Valuation ($B)</th>\n",
       "      <th>Date Joined</th>\n",
       "      <th>Country</th>\n",
       "      <th>City</th>\n",
       "      <th>Industry</th>\n",
       "      <th>Select Investors</th>\n",
       "      <th>Day_List</th>\n",
       "      <th>Year</th>\n",
       "    </tr>\n",
       "  </thead>\n",
       "  <tbody>\n",
       "    <tr>\n",
       "      <th>0</th>\n",
       "      <td>ByteDance</td>\n",
       "      <td>225.0</td>\n",
       "      <td>2017-04-07</td>\n",
       "      <td>China</td>\n",
       "      <td>Beijing</td>\n",
       "      <td>Media &amp; Entertainment</td>\n",
       "      <td>Sequoia Capital China, SIG Asia Investments, S...</td>\n",
       "      <td>05/31/2023</td>\n",
       "      <td>2023</td>\n",
       "    </tr>\n",
       "    <tr>\n",
       "      <th>1</th>\n",
       "      <td>SpaceX</td>\n",
       "      <td>137.0</td>\n",
       "      <td>2012-12-01</td>\n",
       "      <td>United States</td>\n",
       "      <td>Hawthorne</td>\n",
       "      <td>Industrials</td>\n",
       "      <td>Founders Fund, Draper Fisher Jurvetson, Rothen...</td>\n",
       "      <td>05/31/2023</td>\n",
       "      <td>2023</td>\n",
       "    </tr>\n",
       "    <tr>\n",
       "      <th>2</th>\n",
       "      <td>SHEIN</td>\n",
       "      <td>100.0</td>\n",
       "      <td>2018-07-03</td>\n",
       "      <td>China</td>\n",
       "      <td>Shenzhen</td>\n",
       "      <td>Consumer &amp; Retail</td>\n",
       "      <td>Tiger Global Management, Sequoia Capital China...</td>\n",
       "      <td>05/31/2023</td>\n",
       "      <td>2023</td>\n",
       "    </tr>\n",
       "  </tbody>\n",
       "</table>\n",
       "</div>"
      ],
      "text/plain": [
       "     Company  Valuation ($B) Date Joined        Country       City  \\\n",
       "0  ByteDance           225.0  2017-04-07          China    Beijing   \n",
       "1     SpaceX           137.0  2012-12-01  United States  Hawthorne   \n",
       "2      SHEIN           100.0  2018-07-03          China   Shenzhen   \n",
       "\n",
       "                Industry                                   Select Investors  \\\n",
       "0  Media & Entertainment  Sequoia Capital China, SIG Asia Investments, S...   \n",
       "1            Industrials  Founders Fund, Draper Fisher Jurvetson, Rothen...   \n",
       "2      Consumer & Retail  Tiger Global Management, Sequoia Capital China...   \n",
       "\n",
       "     Day_List  Year  \n",
       "0  05/31/2023  2023  \n",
       "1  05/31/2023  2023  \n",
       "2  05/31/2023  2023  "
      ]
     },
     "execution_count": 54,
     "metadata": {},
     "output_type": "execute_result"
    }
   ],
   "source": [
    "# Imprimimos las 3 primeras lineas para ispeccionar:\n",
    "df2023.head(3)"
   ]
  },
  {
   "cell_type": "markdown",
   "metadata": {},
   "source": [
    "Se realiza un cambio de nombre a las columnas para que coincidan con el resto de dataset por años."
   ]
  },
  {
   "cell_type": "code",
   "execution_count": 55,
   "metadata": {},
   "outputs": [],
   "source": [
    "# Transformamos los nombres de las columnas para que coincidan con el resto de los df\n",
    "df2023 = df2023.rename(columns={'Select Investors':'Investor'})"
   ]
  },
  {
   "cell_type": "markdown",
   "metadata": {},
   "source": [
    "##### Valores Nulos"
   ]
  },
  {
   "cell_type": "code",
   "execution_count": 56,
   "metadata": {},
   "outputs": [
    {
     "data": {
      "text/html": [
       "<div>\n",
       "<style scoped>\n",
       "    .dataframe tbody tr th:only-of-type {\n",
       "        vertical-align: middle;\n",
       "    }\n",
       "\n",
       "    .dataframe tbody tr th {\n",
       "        vertical-align: top;\n",
       "    }\n",
       "\n",
       "    .dataframe thead th {\n",
       "        text-align: right;\n",
       "    }\n",
       "</style>\n",
       "<table border=\"1\" class=\"dataframe\">\n",
       "  <thead>\n",
       "    <tr style=\"text-align: right;\">\n",
       "      <th></th>\n",
       "      <th>City</th>\n",
       "      <th>Investor</th>\n",
       "      <th>Company</th>\n",
       "      <th>Valuation ($B)</th>\n",
       "      <th>Date Joined</th>\n",
       "      <th>Country</th>\n",
       "      <th>Industry</th>\n",
       "      <th>Day_List</th>\n",
       "      <th>Year</th>\n",
       "    </tr>\n",
       "  </thead>\n",
       "  <tbody>\n",
       "    <tr>\n",
       "      <th>% nulos</th>\n",
       "      <td>1.48</td>\n",
       "      <td>0.16</td>\n",
       "      <td>0.0</td>\n",
       "      <td>0.0</td>\n",
       "      <td>0.0</td>\n",
       "      <td>0.0</td>\n",
       "      <td>0.0</td>\n",
       "      <td>0.0</td>\n",
       "      <td>0.0</td>\n",
       "    </tr>\n",
       "  </tbody>\n",
       "</table>\n",
       "</div>"
      ],
      "text/plain": [
       "         City  Investor  Company  Valuation ($B)  Date Joined  Country  \\\n",
       "% nulos  1.48      0.16      0.0             0.0          0.0      0.0   \n",
       "\n",
       "         Industry  Day_List  Year  \n",
       "% nulos       0.0       0.0   0.0  "
      ]
     },
     "execution_count": 56,
     "metadata": {},
     "output_type": "execute_result"
    }
   ],
   "source": [
    "# Calculamos e identificamos en que columna estan nuestros valores nulos:\n",
    "percentage_null(df2023)"
   ]
  },
  {
   "cell_type": "code",
   "execution_count": 57,
   "metadata": {},
   "outputs": [],
   "source": [
    "# Para la columna 'City' vamos a reemplazar por la pabra: 'no_data'\n",
    "df2023['City'] = df2023['City'].fillna('no_data')"
   ]
  },
  {
   "cell_type": "code",
   "execution_count": 58,
   "metadata": {},
   "outputs": [],
   "source": [
    "# Para la columna 'Select Investors\t' vamos a reemplazar por la pabra: 'no_inversor'\n",
    "df2023['Investor'] = df2023['Investor'].fillna('no_inversor')"
   ]
  },
  {
   "cell_type": "markdown",
   "metadata": {},
   "source": [
    "##### Transformación de Columnas"
   ]
  },
  {
   "cell_type": "code",
   "execution_count": 59,
   "metadata": {},
   "outputs": [
    {
     "name": "stdout",
     "output_type": "stream",
     "text": [
      "<class 'pandas.core.frame.DataFrame'>\n",
      "RangeIndex: 430 entries, 0 to 429\n",
      "Data columns (total 8 columns):\n",
      " #   Column          Non-Null Count  Dtype         \n",
      "---  ------          --------------  -----         \n",
      " 0   Company         430 non-null    object        \n",
      " 1   Valuation ($B)  430 non-null    float64       \n",
      " 2   Date Joined     430 non-null    datetime64[ns]\n",
      " 3   Country         430 non-null    object        \n",
      " 4   Industry        430 non-null    object        \n",
      " 5   Investor        430 non-null    object        \n",
      " 6   Day_List        430 non-null    datetime64[ns]\n",
      " 7   Year            430 non-null    int64         \n",
      "dtypes: datetime64[ns](2), float64(1), int64(1), object(4)\n",
      "memory usage: 27.0+ KB\n"
     ]
    }
   ],
   "source": [
    "# Utilizamos nuestra función para transformar las columnas: Valuation y Date Joined.\n",
    "transform(df2019)\n",
    "# Vemos que nuestras columnas presentan el tipo de dato correccto\n",
    "df2019.info()"
   ]
  },
  {
   "cell_type": "markdown",
   "metadata": {},
   "source": [
    "### Transformación del df 2023 para poder hacer un ***merge*** con los anteriores"
   ]
  },
  {
   "cell_type": "code",
   "execution_count": 60,
   "metadata": {},
   "outputs": [],
   "source": [
    "# Cremos una nueva variable para transformar las columnas de manera que luego podamos concatenar los dataframes de todos los años\n",
    "df2023_to_concat =df2023.copy()"
   ]
  },
  {
   "cell_type": "code",
   "execution_count": 61,
   "metadata": {},
   "outputs": [],
   "source": [
    "# Seleccionamos solamente las columnas que son iguales en los anteriores df\n",
    "df2023_to_concat = df2023_to_concat[['Company', 'Valuation ($B)', 'Date Joined', 'Country','Industry','Investor', 'Day_List','Year', 'City']]"
   ]
  },
  {
   "cell_type": "markdown",
   "metadata": {},
   "source": [
    "### Hacemos un Marge con todos los años:"
   ]
  },
  {
   "cell_type": "code",
   "execution_count": 62,
   "metadata": {},
   "outputs": [],
   "source": [
    "unicorns = pd.concat([df2015,df2016,df2017,df2018,df2019,df2020,df2021,df2022,df2023_to_concat],axis=0)"
   ]
  },
  {
   "cell_type": "markdown",
   "metadata": {},
   "source": [
    "### Procesamiento del nuevo dataframe con todos los años:"
   ]
  },
  {
   "cell_type": "code",
   "execution_count": 63,
   "metadata": {},
   "outputs": [
    {
     "name": "stdout",
     "output_type": "stream",
     "text": [
      "El df esta formado por:  5170 filas y 9 columnas\n",
      "Cantidad de valores duplicados:  0\n",
      "Cantidad de valores nulos:  1816\n"
     ]
    }
   ],
   "source": [
    "# Imprimimos el reporte inicial, para ver como se han concatenado los valores\n",
    "reporte(unicorns)"
   ]
  },
  {
   "cell_type": "markdown",
   "metadata": {},
   "source": [
    "### Valores Nulos"
   ]
  },
  {
   "cell_type": "code",
   "execution_count": 64,
   "metadata": {},
   "outputs": [
    {
     "data": {
      "text/html": [
       "<div>\n",
       "<style scoped>\n",
       "    .dataframe tbody tr th:only-of-type {\n",
       "        vertical-align: middle;\n",
       "    }\n",
       "\n",
       "    .dataframe tbody tr th {\n",
       "        vertical-align: top;\n",
       "    }\n",
       "\n",
       "    .dataframe thead th {\n",
       "        text-align: right;\n",
       "    }\n",
       "</style>\n",
       "<table border=\"1\" class=\"dataframe\">\n",
       "  <thead>\n",
       "    <tr style=\"text-align: right;\">\n",
       "      <th></th>\n",
       "      <th>City</th>\n",
       "      <th>Company</th>\n",
       "      <th>Valuation ($B)</th>\n",
       "      <th>Date Joined</th>\n",
       "      <th>Country</th>\n",
       "      <th>Industry</th>\n",
       "      <th>Investor</th>\n",
       "      <th>Day_List</th>\n",
       "      <th>Year</th>\n",
       "    </tr>\n",
       "  </thead>\n",
       "  <tbody>\n",
       "    <tr>\n",
       "      <th>% nulos</th>\n",
       "      <td>35.13</td>\n",
       "      <td>0.0</td>\n",
       "      <td>0.0</td>\n",
       "      <td>0.0</td>\n",
       "      <td>0.0</td>\n",
       "      <td>0.0</td>\n",
       "      <td>0.0</td>\n",
       "      <td>0.0</td>\n",
       "      <td>0.0</td>\n",
       "    </tr>\n",
       "  </tbody>\n",
       "</table>\n",
       "</div>"
      ],
      "text/plain": [
       "          City  Company  Valuation ($B)  Date Joined  Country  Industry  \\\n",
       "% nulos  35.13      0.0             0.0          0.0      0.0       0.0   \n",
       "\n",
       "         Investor  Day_List  Year  \n",
       "% nulos       0.0       0.0   0.0  "
      ]
     },
     "execution_count": 64,
     "metadata": {},
     "output_type": "execute_result"
    }
   ],
   "source": [
    "# Calculamos e identificamos en que columna estan nuestros valores nulos:\n",
    "percentage_null(unicorns)"
   ]
  },
  {
   "cell_type": "markdown",
   "metadata": {},
   "source": [
    "Podemos ver que los valores nulos corresponden a la Ciudad  ya que los primeros años no presentaban esta información.\n",
    "\n",
    "Se proceder a reemplazar esos valores nulos por palabras así evitaremos futuros errores"
   ]
  },
  {
   "cell_type": "code",
   "execution_count": 65,
   "metadata": {},
   "outputs": [],
   "source": [
    "# Para la columna 'City' vamos a reemplazar por la pabra: 'no_data'\n",
    "unicorns['City'] = unicorns['City'].fillna('no_data')"
   ]
  },
  {
   "cell_type": "code",
   "execution_count": 66,
   "metadata": {},
   "outputs": [],
   "source": [
    "dic = {  'AI':\"Artificial Intelligence\",\n",
    " 'AI / Facial Recognition':\"Artificial Intelligence\",\n",
    " 'AI / Robotics':\"Artificial Intelligence\",\n",
    " 'AR/VR':\"Realidad virtual\",\n",
    " 'AdTech':\"Advertising Technology\",\n",
    " 'Adtech':\"Advertising Technology\",\n",
    " 'Ag Tech':\"tecnología agrícola.\",\n",
    " 'Apparel':\"Clothing & Accessories\",\n",
    " 'Artificial Intelligence':\"Artificial Intelligence\",\n",
    " 'Artificial intelligence':\"Artificial Intelligence\",\n",
    " 'Auto & transportation':\"Automobile & transportation\",\n",
    " 'Auto Tech':\"Automobile & transportation\",\n",
    " 'AutoTech':\"Automobile & transportation\",\n",
    " 'Automobile':\"Automobile & transportation\",\n",
    " 'BI & Analytics':\"Business Intelligence\",\n",
    " 'Beauty & grooming':\"Beauty & grooming\",\n",
    " 'Big Data':\"Big Data\",\n",
    " 'Biotech':\"Biotechnology\",\n",
    " 'Biotechnology':\"Biotechnology\",\n",
    " 'Blockchain':\"Blockchain\",\n",
    " 'Business Intelligence, Analytics & Performance Mgmt':\"Business Intelligence\",\n",
    " 'Business Products & Services':\"Business Intelligence\",\n",
    " 'Chips & Semiconductors':\"Chips & Semiconductors\",\n",
    " 'Cleantech':\"Cleantech\",\n",
    " 'Clothing & Accessories':\"Clothing & Accessories\",\n",
    " 'Clothing and Accessories':\"Clothing & Accessories\",\n",
    " 'Collaboration & Project Management':\"Internet software & services\",\n",
    " 'Computer Hardware & Services':\"Hardware\",\n",
    " 'Computer Vision':\"Artificial Intelligence\",\n",
    " 'Computer Vision/ AI':\"Artificial Intelligence\",\n",
    " 'Construction Tech':\"Construction Tech\",\n",
    " 'Consumer & Retail':\"Consumer & Retail\",\n",
    " 'Consumer & retail':\"Consumer & Retail\",\n",
    " 'Consumer Electronics':\"Electronics\",\n",
    " 'Consumer Hardware':\"Hardware\",\n",
    " 'Cybersecurity':\" Cybersecurity\",\n",
    " 'Cybsersecurity':\" Cybersecurity\",\n",
    " 'Data Storage':\"Data Storage\",\n",
    " 'Data management & analytics':\"Data management & analytics\",\n",
    " 'DevOps':\"Internet software & services\",\n",
    " 'Digital Health':\" Digital Health\",\n",
    " 'Digital Media':\" Digital Media\",\n",
    " 'Digital Media/ AI':\" Digital Media\",\n",
    " 'Digital health':\" Digital Health\",\n",
    " 'E-commerce & direct-to-consumer':\" e-commerce\",\n",
    " 'Ed Tech':\" Education Tech\",\n",
    " 'EdTech':\" Education Tech\",\n",
    " 'Edtech':\" Education Tech\",\n",
    " 'Education':\" Education Tech\",\n",
    " 'Energy & Utilities':\" Energy & Utilities\",\n",
    " 'Enterprise Tech':\"Internet software & services\",\n",
    " 'Entertainment':\"Entertainment\",\n",
    " 'Facilities':\"Facilities\",\n",
    " 'Film & Video':\"Film & Video\",\n",
    " 'Fin Tech':\"Finance Technology\",\n",
    " 'Financial Services':\"Finance Technology\",\n",
    " 'Fintech':\"Finance Technology\",\n",
    " 'Fintech / Supply Chain':\"Finance Technology\",\n",
    " 'Finttech':\"Finance Technology\",\n",
    " 'Fitness':\" Fitness\",\n",
    " 'Food & Beverage':\" Food & Beverage\",\n",
    " 'Food & Beverages':\" Food & Beverage\",\n",
    " 'Food & Grocery':\" Food & Beverage\",\n",
    " 'Food Delivery':\" Food & Beverage\",\n",
    " 'Food and Beverage':\" Food & Beverage\",\n",
    " 'Gaming':\"Gaming\",\n",
    " 'Genomics':\"Health & Wellnes\",\n",
    " 'Greentech':\"Cleantech\",\n",
    " 'HR & Workforce Management':\"Human Resources Tech\",\n",
    " 'HR Tech':\"Human Resources Tech\",\n",
    " 'Hardware':\"Hardware\",\n",
    " 'Health':\"Health & Wellnes\",\n",
    " 'Health & Wellnes':\"Health & Wellnes\",\n",
    " 'Healthcare':\"Health & Wellnes\",\n",
    " 'Healthcare & Life Sciences':\"Health & Wellnes\",\n",
    " 'Industrials':\"Industrials\",\n",
    " 'InsurTech':\"Insurance\",\n",
    " 'Insurance':\"Insurance\",\n",
    " 'Internet Software &\\n\\t Services':\"Internet Software & Services\",\n",
    " 'Internet Software & Services':\"Internet Software & Services\",\n",
    " 'Internet of Things':\"Internet Software & Services\",\n",
    " 'Internet software & services':\"Internet Software & Services\",\n",
    " 'IoT':\"Internet Software & Services\",\n",
    " 'Management & Strategy Consulting':\"Business Intelligence\",\n",
    " 'Marketplace':\" Marketplace\",\n",
    " 'Media':\" Media & Entertainment\",\n",
    " 'Media & Entertainment':\" Media & Entertainment\",\n",
    " 'Mobile & Telecommunications':\" Mobile & Telecommunications\",\n",
    " 'Mobile & telecommunications':\" Mobile & Telecommunications\",\n",
    " 'Mobile Software &\\n\\t Services':\" Mobile Software & Services\",\n",
    " 'Mobile Software & Services':\" Mobile Software & Services\",\n",
    " 'Music':\" Music\",\n",
    " 'On Demand':\"OnDemand\",\n",
    " 'On-Demand':\"OnDemand\",\n",
    " 'On-demand':\"OnDemand\",\n",
    " 'Other':\"Other\",\n",
    " 'Other Transportation':\"Other\",\n",
    " 'Real Estate':\"Real Estate\",\n",
    " 'RegTech':\"RegTech\",\n",
    " 'Restaurant Tech':\"Restaurant Tech\",\n",
    " 'Retail':\"Consumer & Retail\",\n",
    " 'Robotic Process Automation':\"Robotics\",\n",
    " 'Robotics':\"Robotics\",\n",
    " 'Sales Tech':\"SalesTech\",\n",
    " 'SalesTech':\"SalesTech\",\n",
    " 'Social':\"Media & Entertainment\",\n",
    " 'SpaceTech':\"Industrials\",\n",
    " 'Supply Chain':\"Supply Chain\",\n",
    " 'Supply Chain & Logistics':\"Supply Chain\",\n",
    " 'Supply Chain Tech':\"Supply Chain\",\n",
    " 'Supply chain & Logistics':\"Supply Chain\",\n",
    " 'Supply chain, logistics, & delivery':\"Supply Chain\",\n",
    " 'Supplychain/ logistics':\"Supply Chain\",\n",
    " 'Telecommunications':\"Telecommunications\",\n",
    " 'Travel':\"Travel Tech\",\n",
    " 'Travel Tech':\"Travel Tech\",\n",
    " 'TravelTech':\"Travel Tech\",\n",
    " 'VR/AR':\"Realidad virtual\",\n",
    " 'e-commerce':\"e-commerce\",\n",
    " 'eCommerce':\"e-commerce\",\n",
    " 'eCommerce/Marketplace':\"e-commerce\",\n",
    " 'eSports':\"e-commerce\",\n",
    " 'ecommerce':\"e-commerce\"}"
   ]
  },
  {
   "cell_type": "code",
   "execution_count": 67,
   "metadata": {},
   "outputs": [],
   "source": [
    "# reemplazamos por los valores que hemos identidicado con el diccionario para reducir la cantidad de categorías.\n",
    "unicorns.replace(dic, inplace=True)"
   ]
  },
  {
   "cell_type": "markdown",
   "metadata": {},
   "source": [
    "### Revisón final"
   ]
  },
  {
   "cell_type": "markdown",
   "metadata": {},
   "source": [
    "Listo ahora ya tenemos nuestro dataset listo para ser utilizado:"
   ]
  },
  {
   "cell_type": "code",
   "execution_count": 68,
   "metadata": {},
   "outputs": [
    {
     "name": "stdout",
     "output_type": "stream",
     "text": [
      "El df esta formado por:  5170 filas y 9 columnas\n",
      "Cantidad de valores duplicados:  0\n",
      "Cantidad de valores nulos:  0\n"
     ]
    }
   ],
   "source": [
    "reporte(unicorns)"
   ]
  },
  {
   "cell_type": "code",
   "execution_count": 69,
   "metadata": {},
   "outputs": [],
   "source": [
    "transform(unicorns)"
   ]
  },
  {
   "cell_type": "code",
   "execution_count": 70,
   "metadata": {},
   "outputs": [
    {
     "data": {
      "text/plain": [
       "Company                   object\n",
       "Valuation ($B)           float64\n",
       "Date Joined       datetime64[ns]\n",
       "Country                   object\n",
       "Industry                  object\n",
       "Investor                  object\n",
       "Day_List          datetime64[ns]\n",
       "Year                       int64\n",
       "City                      object\n",
       "dtype: object"
      ]
     },
     "execution_count": 70,
     "metadata": {},
     "output_type": "execute_result"
    }
   ],
   "source": [
    "unicorns.dtypes"
   ]
  },
  {
   "cell_type": "markdown",
   "metadata": {},
   "source": [
    "# 2. Análisis Exploratorio de Datos (EDA)"
   ]
  },
  {
   "cell_type": "markdown",
   "metadata": {},
   "source": [
    "***Contenido de las Columnas***:\n",
    "* Company: Nombre de la empresa\n",
    "* Valuation ($B): Valoración de la empresa en miles de millones de dólares\n",
    "* Date Joined: la fecha en la que la empresa alcanzó los 1.000 millones de dólares de valoración\n",
    "* Country: País en el que se fundó la empresa\n",
    "* Industry: industria de la empresa\n",
    "* Investor: las 4 principales empresas inversoras o inversores individuales (algunos tienen menos de 4)\n",
    "* Year: Año de la lista\n",
    "* City: Ciudad en la que se fundó la empresa."
   ]
  },
  {
   "cell_type": "code",
   "execution_count": 71,
   "metadata": {},
   "outputs": [
    {
     "data": {
      "text/html": [
       "<div>\n",
       "<style scoped>\n",
       "    .dataframe tbody tr th:only-of-type {\n",
       "        vertical-align: middle;\n",
       "    }\n",
       "\n",
       "    .dataframe tbody tr th {\n",
       "        vertical-align: top;\n",
       "    }\n",
       "\n",
       "    .dataframe thead th {\n",
       "        text-align: right;\n",
       "    }\n",
       "</style>\n",
       "<table border=\"1\" class=\"dataframe\">\n",
       "  <thead>\n",
       "    <tr style=\"text-align: right;\">\n",
       "      <th></th>\n",
       "      <th>Company</th>\n",
       "      <th>Valuation ($B)</th>\n",
       "      <th>Date Joined</th>\n",
       "      <th>Country</th>\n",
       "      <th>Industry</th>\n",
       "      <th>Investor</th>\n",
       "      <th>Day_List</th>\n",
       "      <th>Year</th>\n",
       "      <th>City</th>\n",
       "    </tr>\n",
       "  </thead>\n",
       "  <tbody>\n",
       "    <tr>\n",
       "      <th>0</th>\n",
       "      <td>Uber</td>\n",
       "      <td>51.0</td>\n",
       "      <td>2013-08-23</td>\n",
       "      <td>United States</td>\n",
       "      <td>OnDemand</td>\n",
       "      <td>Lowercase Capital,\\n\\t  Benchmark Capital, Goo...</td>\n",
       "      <td>2015-12-11</td>\n",
       "      <td>2015</td>\n",
       "      <td>no_data</td>\n",
       "    </tr>\n",
       "    <tr>\n",
       "      <th>1</th>\n",
       "      <td>Xiaomi</td>\n",
       "      <td>46.0</td>\n",
       "      <td>2011-12-21</td>\n",
       "      <td>China</td>\n",
       "      <td>Hardware</td>\n",
       "      <td>Digital Sky Technologies,\\n\\t  QiMing Venture ...</td>\n",
       "      <td>2015-12-11</td>\n",
       "      <td>2015</td>\n",
       "      <td>no_data</td>\n",
       "    </tr>\n",
       "    <tr>\n",
       "      <th>2</th>\n",
       "      <td>Airbnb</td>\n",
       "      <td>25.5</td>\n",
       "      <td>2011-07-26</td>\n",
       "      <td>United States</td>\n",
       "      <td>e-commerce</td>\n",
       "      <td>General Catalyst Partners,\\n\\t  Andreessen Hor...</td>\n",
       "      <td>2015-12-11</td>\n",
       "      <td>2015</td>\n",
       "      <td>no_data</td>\n",
       "    </tr>\n",
       "    <tr>\n",
       "      <th>3</th>\n",
       "      <td>Palantir\\n\\t  Technologies</td>\n",
       "      <td>20.0</td>\n",
       "      <td>2011-05-05</td>\n",
       "      <td>United States</td>\n",
       "      <td>Big Data</td>\n",
       "      <td>RRE Ventures, Founders\\n\\t  Fund, In-Q-Tel</td>\n",
       "      <td>2015-12-11</td>\n",
       "      <td>2015</td>\n",
       "      <td>no_data</td>\n",
       "    </tr>\n",
       "    <tr>\n",
       "      <th>4</th>\n",
       "      <td>Snapchat</td>\n",
       "      <td>16.0</td>\n",
       "      <td>2013-12-11</td>\n",
       "      <td>United States</td>\n",
       "      <td>Media &amp; Entertainment</td>\n",
       "      <td>Benchmark Capital, General\\n\\t  Catalyst Partn...</td>\n",
       "      <td>2015-12-11</td>\n",
       "      <td>2015</td>\n",
       "      <td>no_data</td>\n",
       "    </tr>\n",
       "  </tbody>\n",
       "</table>\n",
       "</div>"
      ],
      "text/plain": [
       "                      Company  Valuation ($B) Date Joined        Country  \\\n",
       "0                        Uber            51.0  2013-08-23  United States   \n",
       "1                      Xiaomi            46.0  2011-12-21          China   \n",
       "2                      Airbnb            25.5  2011-07-26  United States   \n",
       "3  Palantir\\n\\t  Technologies            20.0  2011-05-05  United States   \n",
       "4                    Snapchat            16.0  2013-12-11  United States   \n",
       "\n",
       "                Industry                                           Investor  \\\n",
       "0               OnDemand  Lowercase Capital,\\n\\t  Benchmark Capital, Goo...   \n",
       "1               Hardware  Digital Sky Technologies,\\n\\t  QiMing Venture ...   \n",
       "2             e-commerce  General Catalyst Partners,\\n\\t  Andreessen Hor...   \n",
       "3               Big Data         RRE Ventures, Founders\\n\\t  Fund, In-Q-Tel   \n",
       "4  Media & Entertainment  Benchmark Capital, General\\n\\t  Catalyst Partn...   \n",
       "\n",
       "    Day_List  Year     City  \n",
       "0 2015-12-11  2015  no_data  \n",
       "1 2015-12-11  2015  no_data  \n",
       "2 2015-12-11  2015  no_data  \n",
       "3 2015-12-11  2015  no_data  \n",
       "4 2015-12-11  2015  no_data  "
      ]
     },
     "execution_count": 71,
     "metadata": {},
     "output_type": "execute_result"
    }
   ],
   "source": [
    "unicorns.head()\n",
    " "
   ]
  },
  {
   "cell_type": "markdown",
   "metadata": {},
   "source": [
    "## 2.1. Situación Actual"
   ]
  },
  {
   "cell_type": "markdown",
   "metadata": {},
   "source": [
    "### Top 10 de empresas unicornios\n"
   ]
  },
  {
   "cell_type": "code",
   "execution_count": 72,
   "metadata": {},
   "outputs": [
    {
     "data": {
      "text/html": [
       "<div>\n",
       "<style scoped>\n",
       "    .dataframe tbody tr th:only-of-type {\n",
       "        vertical-align: middle;\n",
       "    }\n",
       "\n",
       "    .dataframe tbody tr th {\n",
       "        vertical-align: top;\n",
       "    }\n",
       "\n",
       "    .dataframe thead th {\n",
       "        text-align: right;\n",
       "    }\n",
       "</style>\n",
       "<table border=\"1\" class=\"dataframe\">\n",
       "  <thead>\n",
       "    <tr style=\"text-align: right;\">\n",
       "      <th></th>\n",
       "      <th>Company</th>\n",
       "      <th>Valuation ($B)</th>\n",
       "      <th>Date Joined</th>\n",
       "      <th>Country</th>\n",
       "      <th>Industry</th>\n",
       "      <th>Investor</th>\n",
       "      <th>Day_List</th>\n",
       "      <th>Year</th>\n",
       "      <th>City</th>\n",
       "    </tr>\n",
       "  </thead>\n",
       "  <tbody>\n",
       "    <tr>\n",
       "      <th>0</th>\n",
       "      <td>ByteDance</td>\n",
       "      <td>225.0</td>\n",
       "      <td>2017-04-07</td>\n",
       "      <td>China</td>\n",
       "      <td>Media &amp; Entertainment</td>\n",
       "      <td>Sequoia Capital China, SIG Asia Investments, S...</td>\n",
       "      <td>2023-05-31</td>\n",
       "      <td>2023</td>\n",
       "      <td>Beijing</td>\n",
       "    </tr>\n",
       "    <tr>\n",
       "      <th>1</th>\n",
       "      <td>SpaceX</td>\n",
       "      <td>137.0</td>\n",
       "      <td>2012-12-01</td>\n",
       "      <td>United States</td>\n",
       "      <td>Industrials</td>\n",
       "      <td>Founders Fund, Draper Fisher Jurvetson, Rothen...</td>\n",
       "      <td>2023-05-31</td>\n",
       "      <td>2023</td>\n",
       "      <td>Hawthorne</td>\n",
       "    </tr>\n",
       "    <tr>\n",
       "      <th>2</th>\n",
       "      <td>SHEIN</td>\n",
       "      <td>100.0</td>\n",
       "      <td>2018-07-03</td>\n",
       "      <td>China</td>\n",
       "      <td>Consumer &amp; Retail</td>\n",
       "      <td>Tiger Global Management, Sequoia Capital China...</td>\n",
       "      <td>2023-05-31</td>\n",
       "      <td>2023</td>\n",
       "      <td>Shenzhen</td>\n",
       "    </tr>\n",
       "    <tr>\n",
       "      <th>3</th>\n",
       "      <td>Stripe</td>\n",
       "      <td>50.0</td>\n",
       "      <td>2014-01-23</td>\n",
       "      <td>United States</td>\n",
       "      <td>Finance Technology</td>\n",
       "      <td>Khosla Ventures, LowercaseCapital, capitalG</td>\n",
       "      <td>2023-05-31</td>\n",
       "      <td>2023</td>\n",
       "      <td>San Francisco</td>\n",
       "    </tr>\n",
       "    <tr>\n",
       "      <th>4</th>\n",
       "      <td>Canva</td>\n",
       "      <td>40.0</td>\n",
       "      <td>2018-01-08</td>\n",
       "      <td>Australia</td>\n",
       "      <td>Internet software &amp; services</td>\n",
       "      <td>Sequoia Capital China, Blackbird Ventures, Mat...</td>\n",
       "      <td>2023-05-31</td>\n",
       "      <td>2023</td>\n",
       "      <td>Surry Hills</td>\n",
       "    </tr>\n",
       "    <tr>\n",
       "      <th>5</th>\n",
       "      <td>Revolut</td>\n",
       "      <td>33.0</td>\n",
       "      <td>2018-04-26</td>\n",
       "      <td>United Kingdom</td>\n",
       "      <td>Finance Technology</td>\n",
       "      <td>Index Ventures, DST Global, Ribbit Capital</td>\n",
       "      <td>2023-05-31</td>\n",
       "      <td>2023</td>\n",
       "      <td>London</td>\n",
       "    </tr>\n",
       "    <tr>\n",
       "      <th>6</th>\n",
       "      <td>Epic Games</td>\n",
       "      <td>31.5</td>\n",
       "      <td>2018-10-26</td>\n",
       "      <td>United States</td>\n",
       "      <td>Media &amp; Entertainment</td>\n",
       "      <td>Tencent Holdings, KKR, Smash Ventures</td>\n",
       "      <td>2023-05-31</td>\n",
       "      <td>2023</td>\n",
       "      <td>Cary</td>\n",
       "    </tr>\n",
       "    <tr>\n",
       "      <th>7</th>\n",
       "      <td>Databricks</td>\n",
       "      <td>31.0</td>\n",
       "      <td>2019-02-05</td>\n",
       "      <td>United States</td>\n",
       "      <td>Internet software &amp; services</td>\n",
       "      <td>Andreessen Horowitz, New Enterprise Associates...</td>\n",
       "      <td>2023-05-31</td>\n",
       "      <td>2023</td>\n",
       "      <td>San Francisco</td>\n",
       "    </tr>\n",
       "    <tr>\n",
       "      <th>8</th>\n",
       "      <td>Fanatics</td>\n",
       "      <td>31.0</td>\n",
       "      <td>2012-06-06</td>\n",
       "      <td>United States</td>\n",
       "      <td>Consumer &amp; Retail</td>\n",
       "      <td>SoftBank Group, Andreessen Horowitz, Temasek H...</td>\n",
       "      <td>2023-05-31</td>\n",
       "      <td>2023</td>\n",
       "      <td>Jacksonville</td>\n",
       "    </tr>\n",
       "    <tr>\n",
       "      <th>9</th>\n",
       "      <td>OpenAI</td>\n",
       "      <td>29.0</td>\n",
       "      <td>2019-07-22</td>\n",
       "      <td>United States</td>\n",
       "      <td>Internet software &amp; services</td>\n",
       "      <td>Khosla Ventures</td>\n",
       "      <td>2023-05-31</td>\n",
       "      <td>2023</td>\n",
       "      <td>San Francisco</td>\n",
       "    </tr>\n",
       "  </tbody>\n",
       "</table>\n",
       "</div>"
      ],
      "text/plain": [
       "      Company  Valuation ($B) Date Joined         Country  \\\n",
       "0   ByteDance           225.0  2017-04-07           China   \n",
       "1      SpaceX           137.0  2012-12-01   United States   \n",
       "2       SHEIN           100.0  2018-07-03           China   \n",
       "3      Stripe            50.0  2014-01-23   United States   \n",
       "4       Canva            40.0  2018-01-08       Australia   \n",
       "5     Revolut            33.0  2018-04-26  United Kingdom   \n",
       "6  Epic Games            31.5  2018-10-26   United States   \n",
       "7  Databricks            31.0  2019-02-05   United States   \n",
       "8    Fanatics            31.0  2012-06-06   United States   \n",
       "9      OpenAI            29.0  2019-07-22   United States   \n",
       "\n",
       "                       Industry  \\\n",
       "0         Media & Entertainment   \n",
       "1                   Industrials   \n",
       "2             Consumer & Retail   \n",
       "3            Finance Technology   \n",
       "4  Internet software & services   \n",
       "5            Finance Technology   \n",
       "6         Media & Entertainment   \n",
       "7  Internet software & services   \n",
       "8             Consumer & Retail   \n",
       "9  Internet software & services   \n",
       "\n",
       "                                            Investor   Day_List  Year  \\\n",
       "0  Sequoia Capital China, SIG Asia Investments, S... 2023-05-31  2023   \n",
       "1  Founders Fund, Draper Fisher Jurvetson, Rothen... 2023-05-31  2023   \n",
       "2  Tiger Global Management, Sequoia Capital China... 2023-05-31  2023   \n",
       "3        Khosla Ventures, LowercaseCapital, capitalG 2023-05-31  2023   \n",
       "4  Sequoia Capital China, Blackbird Ventures, Mat... 2023-05-31  2023   \n",
       "5         Index Ventures, DST Global, Ribbit Capital 2023-05-31  2023   \n",
       "6              Tencent Holdings, KKR, Smash Ventures 2023-05-31  2023   \n",
       "7  Andreessen Horowitz, New Enterprise Associates... 2023-05-31  2023   \n",
       "8  SoftBank Group, Andreessen Horowitz, Temasek H... 2023-05-31  2023   \n",
       "9                                    Khosla Ventures 2023-05-31  2023   \n",
       "\n",
       "            City  \n",
       "0        Beijing  \n",
       "1      Hawthorne  \n",
       "2       Shenzhen  \n",
       "3  San Francisco  \n",
       "4    Surry Hills  \n",
       "5         London  \n",
       "6           Cary  \n",
       "7  San Francisco  \n",
       "8   Jacksonville  \n",
       "9  San Francisco  "
      ]
     },
     "execution_count": 72,
     "metadata": {},
     "output_type": "execute_result"
    }
   ],
   "source": [
    "top_10_2023 = unicorns[unicorns['Year']==2023].head(10)\n",
    "top_10_2023"
   ]
  },
  {
   "cell_type": "code",
   "execution_count": 73,
   "metadata": {},
   "outputs": [
    {
     "data": {
      "text/html": [
       "<div>\n",
       "<style scoped>\n",
       "    .dataframe tbody tr th:only-of-type {\n",
       "        vertical-align: middle;\n",
       "    }\n",
       "\n",
       "    .dataframe tbody tr th {\n",
       "        vertical-align: top;\n",
       "    }\n",
       "\n",
       "    .dataframe thead th {\n",
       "        text-align: right;\n",
       "    }\n",
       "</style>\n",
       "<table border=\"1\" class=\"dataframe\">\n",
       "  <thead>\n",
       "    <tr style=\"text-align: right;\">\n",
       "      <th></th>\n",
       "      <th>Company</th>\n",
       "      <th>Valuation ($B)</th>\n",
       "      <th>Date Joined</th>\n",
       "      <th>Country</th>\n",
       "      <th>Industry</th>\n",
       "      <th>Investor</th>\n",
       "      <th>Day_List</th>\n",
       "      <th>Year</th>\n",
       "      <th>City</th>\n",
       "    </tr>\n",
       "  </thead>\n",
       "  <tbody>\n",
       "  </tbody>\n",
       "</table>\n",
       "</div>"
      ],
      "text/plain": [
       "Empty DataFrame\n",
       "Columns: [Company, Valuation ($B), Date Joined, Country, Industry, Investor, Day_List, Year, City]\n",
       "Index: []"
      ]
     },
     "execution_count": 73,
     "metadata": {},
     "output_type": "execute_result"
    }
   ],
   "source": [
    "unicorns[unicorns['Company']== 'bard']"
   ]
  },
  {
   "cell_type": "markdown",
   "metadata": {},
   "source": []
  },
  {
   "cell_type": "code",
   "execution_count": 74,
   "metadata": {},
   "outputs": [],
   "source": [
    "df3333 = pd.read_csv('Unicorn+Companies/Unicorn_Companies.csv')"
   ]
  },
  {
   "cell_type": "markdown",
   "metadata": {},
   "source": [
    "### Qué inversores han financiado la mayor cantidad de unicornios? "
   ]
  },
  {
   "cell_type": "code",
   "execution_count": 75,
   "metadata": {},
   "outputs": [],
   "source": [
    "def obtener_inversores(df):\n",
    "    lista_inversores = []\n",
    "\n",
    "    for inversores in df['Investor']:\n",
    "        lista_inversores.extend(inversores.split(','))\n",
    "\n",
    "    lista_inversores = [inversor.strip() for inversor in lista_inversores]\n",
    "\n",
    "    return lista_inversores\n",
    "\n"
   ]
  },
  {
   "cell_type": "code",
   "execution_count": 76,
   "metadata": {},
   "outputs": [
    {
     "data": {
      "text/plain": [
       "14498"
      ]
     },
     "execution_count": 76,
     "metadata": {},
     "output_type": "execute_result"
    }
   ],
   "source": [
    "Investor = obtener_inversores(unicorns)\n",
    "len(Investor)"
   ]
  },
  {
   "cell_type": "code",
   "execution_count": 77,
   "metadata": {},
   "outputs": [
    {
     "data": {
      "text/plain": [
       "['Lowercase Capital',\n",
       " 'Benchmark Capital',\n",
       " 'Google Ventures',\n",
       " 'Digital Sky Technologies',\n",
       " 'QiMing Venture Partners',\n",
       " 'Qualcomm Ventures',\n",
       " 'General Catalyst Partners',\n",
       " 'Andreessen Horowitz',\n",
       " 'ENIAC Ventures',\n",
       " 'RRE Ventures',\n",
       " 'Founders\\n\\t  Fund',\n",
       " 'In-Q-Tel',\n",
       " 'Benchmark Capital',\n",
       " 'General\\n\\t  Catalyst Partners',\n",
       " 'Lightspeed Venture Partners',\n",
       " 'Accel Partners',\n",
       " 'Digital Sky\\n\\t  Technologies',\n",
       " 'Iconiq Capital',\n",
       " 'Matrix Partners',\n",
       " 'Tiger\\n\\t  Global Management',\n",
       " 'Softbank Corp.',\n",
       " '',\n",
       " 'Founders Fund',\n",
       " 'Draper\\n\\t  Fisher Jurvetson',\n",
       " 'Rothenberg Ventures',\n",
       " 'Andreessen Horowitz',\n",
       " 'Bessemer Venture Partners',\n",
       " 'Firstmark Capital',\n",
       " 'Accel Partners',\n",
       " 'Greylock\\n\\t  Partners',\n",
       " 'Index Ventures',\n",
       " 'Ping An Insurance',\n",
       " 'T. Rowe Price',\n",
       " 'Benchmark\\n\\t  Capital',\n",
       " 'Wellington Management',\n",
       " 'Accel Partners',\n",
       " 'Sequoia\\n\\t  Capital',\n",
       " 'Draper Fisher Jurvetson',\n",
       " 'Tako Ventures',\n",
       " 'ATA Ventures',\n",
       " 'Horizons Ventures',\n",
       " 'Norwest\\n\\t  Venture Partners',\n",
       " 'Technology Crossover Ventures',\n",
       " 'Sequoia Capital',\n",
       " 'General\\n\\t  Atlantic',\n",
       " 'Alibaba Group',\n",
       " 'New Enterprise Associates',\n",
       " 'New Leaf Venture Partners',\n",
       " 'Charter Venture Capital',\n",
       " 'Khosla Ventures',\n",
       " 'Lowercase\\n\\t  Capital',\n",
       " 'Redpoint Ventures',\n",
       " 'Accel Partners',\n",
       " 'Matrix\\n\\t  Partners',\n",
       " 'Sequoia Capital',\n",
       " 'Sequoia Capital',\n",
       " 'Founder\\n\\t  Collective',\n",
       " 'Wellington Management',\n",
       " 'SV Angel',\n",
       " 'Institutional Venture Partners',\n",
       " 'Venrock',\n",
       " 'Greylock Partners',\n",
       " 'Ignition\\n\\t  Partners',\n",
       " 'Google Ventures',\n",
       " 'QiMing Venture Partners',\n",
       " 'Lightspeed China Partners',\n",
       " 'Sequoia Capital',\n",
       " 'Technology Crossover\\n\\t  Ventures',\n",
       " 'A&E; Television Networks',\n",
       " 'Baseline Ventures',\n",
       " 'Doll\\n\\t  Capital Management',\n",
       " 'Institutional Venture Partners',\n",
       " 'Andreessen Horowitz',\n",
       " 'Nor-Cal Invest',\n",
       " 'Felicis Ventures',\n",
       " 'SV Angel',\n",
       " 'Founders Fund',\n",
       " 'Mayfield Fund',\n",
       " 'Khosla\\n\\t  Ventures',\n",
       " 'T-Venture',\n",
       " 'Rocket Internet',\n",
       " 'Phenomen\\n\\t  Ventures',\n",
       " 'Insight Venture Partners',\n",
       " 'Access Industries',\n",
       " 'Rocket Internet',\n",
       " 'Tengelmann Ventures',\n",
       " 'Insight Venture Partners',\n",
       " 'Andreessen Horowitz',\n",
       " 'Temasek Holdings',\n",
       " 'IDG Capital Partners',\n",
       " 'Breyer Capital',\n",
       " 'Columbia Capital',\n",
       " 'Founders Fund',\n",
       " 'Artis Ventures',\n",
       " 'Sequoia Capital China',\n",
       " 'GSR Ventures',\n",
       " 'Horizons Ventures',\n",
       " 'Ceyuan Ventures',\n",
       " 'QiMing\\n\\t  Venture Partners',\n",
       " 'Temasek Holdings',\n",
       " 'Accel Partners',\n",
       " 'Bessemer\\n\\t  Venture Partners',\n",
       " 'Ignition Partners',\n",
       " 'Flagship Ventures',\n",
       " 'Invus\\n\\t  Group',\n",
       " 'Wellington Management',\n",
       " 'Founders Fund',\n",
       " 'GGV Capital',\n",
       " 'Digital Sky Technologies',\n",
       " 'Rocket Internet',\n",
       " 'Phenomen Ventures',\n",
       " 'Insight Venture Partners',\n",
       " 'Google Ventures',\n",
       " 'Institutional Venture Partners',\n",
       " 'Index Ventures',\n",
       " 'Kleiner Perkins Caufield\\n\\t  & Byers',\n",
       " 'ATEL Ventures',\n",
       " 'DAG Ventures',\n",
       " 'Bright Station Ventures',\n",
       " 'Wellington Management',\n",
       " 'Intel Capital',\n",
       " 'Kalaari\\n\\t  Capital',\n",
       " 'Nexus Venture Partners',\n",
       " 'Founders Fund',\n",
       " 'Mayfield\\n\\t  Fund',\n",
       " 'Floodgate',\n",
       " 'Wellington Management',\n",
       " 'TomorrowVentures',\n",
       " 'Mastercard Worldwide',\n",
       " 'Felicis Ventures',\n",
       " 'Index\\n\\t  Ventures',\n",
       " 'Temasek Holdings',\n",
       " 'New Enterprise Associates',\n",
       " 'Sequoia Capital',\n",
       " 'Comcast Ventures',\n",
       " 'Institutional Venture\\n\\t  Partners',\n",
       " 'Sequoia Capital',\n",
       " 'General Atlantic',\n",
       " 'The Social+Capital\\n\\t  Partnership',\n",
       " 'TPG Capital',\n",
       " 'Google Capital',\n",
       " 'Salesforce Ventures',\n",
       " 'Morgenthaler Ventures',\n",
       " 'New Enterprise Associates',\n",
       " 'RRE Ventures',\n",
       " 'Tiger Global',\n",
       " 'August Capital',\n",
       " 'Verizon Communications',\n",
       " 'Celgene',\n",
       " 'Kuwait Investment Authority',\n",
       " 'Battery Ventures',\n",
       " 'Khosla Ventures',\n",
       " 'Wellington Management',\n",
       " 'Intel Capital',\n",
       " 'Sapphire\\n\\t  Ventures',\n",
       " 'Alibaba Group',\n",
       " 'Sequoia Capital',\n",
       " 'Thrive Capital',\n",
       " 'SV Angel',\n",
       " 'Institutional Venture\\n\\t  Partners',\n",
       " 'Benchmark Capital',\n",
       " 'Founders Fund',\n",
       " 'L Capital Partners',\n",
       " 'Khosla Ventures',\n",
       " 'Kleiner\\n\\t  Perkins Caufield & Byers',\n",
       " 'Collaborative Fund',\n",
       " 'Bessemer Venture Partners',\n",
       " 'First Round Capital',\n",
       " 'BoxGroup',\n",
       " 'Obvious Ventures',\n",
       " 'Qualcomm\\n\\t  Ventures',\n",
       " 'Andreessen Horowitz',\n",
       " 'Accel Partners',\n",
       " 'DAG\\n\\t  Ventures',\n",
       " 'Draper Fisher Jurvetson',\n",
       " 'Founders Fund',\n",
       " 'Khosla Ventures',\n",
       " 'Goldman Sachs',\n",
       " 'BoxGroup',\n",
       " 'Formation8',\n",
       " 'Khosla Ventures',\n",
       " 'General Catalyst Partners',\n",
       " 'Iconiq Capital',\n",
       " 'Lightspeed Venture Partners',\n",
       " 'Intel Capital',\n",
       " 'Salesforce\\n\\t  Ventures',\n",
       " 'Union Square Ventures',\n",
       " 'Accel Partners',\n",
       " 'Index Ventures',\n",
       " 'Insight Venture Partners',\n",
       " 'Microsoft Ventures',\n",
       " 'US\\n\\t  Venture Partners',\n",
       " 'Kleiner Perkins Caufield & Byers',\n",
       " 'Sequoia Capital',\n",
       " 'General Atlantic',\n",
       " 'Tencent',\n",
       " 'Morningside Group',\n",
       " 'New Enterprise Associates',\n",
       " 'Sapphire Ventures',\n",
       " 'Salesforce Ventures',\n",
       " 'SV Angel',\n",
       " 'RRE Ventures',\n",
       " 'New Enterprise Associates',\n",
       " 'Accel Partners',\n",
       " 'Thrive Capital',\n",
       " 'Norwest Venture Partners',\n",
       " 'Access Industries',\n",
       " 'Clal\\n\\t  Industries and Investments',\n",
       " 'New Enterprise Associates',\n",
       " 'Tiger Global management',\n",
       " 'Tencent',\n",
       " 'DAG Ventures',\n",
       " 'Sequoia\\n\\t  Capital',\n",
       " 'Benchmark Capital',\n",
       " 'Accomplice',\n",
       " 'GGV Capital',\n",
       " 'Redpoint Ventures',\n",
       " 'Empire Ventures',\n",
       " 'Foundational Capital',\n",
       " 'Oak Investment Partners',\n",
       " 'Tiger Global',\n",
       " 'Sequoia Capital',\n",
       " 'Google Capital',\n",
       " 'Tengelmann Ventures',\n",
       " 'Rocket\\n\\t  Internet',\n",
       " 'Summit Partners',\n",
       " 'Sequoia Capital',\n",
       " 'Legend Capital',\n",
       " 'Warburg Pincus',\n",
       " 'Khosla Ventures',\n",
       " 'Technology\\n\\t  Crossover Ventures',\n",
       " 'Tribeca Venture Partners',\n",
       " 'BoxGroup',\n",
       " 'Felicis Ventures',\n",
       " 'First Round Capital',\n",
       " 'Digital Sky Technologies',\n",
       " 'Piton Capital',\n",
       " 'DN Capital',\n",
       " 'TPG Growth',\n",
       " 'Andreessen Horowitz',\n",
       " 'Floodgate',\n",
       " 'Sequoia Capital',\n",
       " 'Azure Capital Partners',\n",
       " 'Battery Ventures',\n",
       " 'Intel Capital',\n",
       " 'Insight Venture Partners',\n",
       " 'Lowercase Capital',\n",
       " 'Polaris Partners',\n",
       " 'Bessemer Venture Partners',\n",
       " 'Draper Fisher Jurvetson',\n",
       " 'Redpoint Ventures',\n",
       " 'GreatPoint Ventures',\n",
       " 'New Enterprise Associates',\n",
       " 'Caterpillar',\n",
       " 'Andreessen Horowitz',\n",
       " 'CRV',\n",
       " 'Bertelsmann Digital Media Investments',\n",
       " 'Novartis',\n",
       " 'Essex Woodlands',\n",
       " 'The Carlyle Group',\n",
       " 'Greylock Partners',\n",
       " 'North\\n\\t  Bridge Venture Partners',\n",
       " 'Technology Crossover Ventures',\n",
       " 'Draper Fisher Jurtson',\n",
       " 'Qualcomm Ventures',\n",
       " 'Alibaba Group',\n",
       " 'Benchmark Capital',\n",
       " 'DAG\\n\\t  Ventures',\n",
       " 'Insight Venture Partners',\n",
       " 'Greylock Partners',\n",
       " 'Lightspeed Venture Partners',\n",
       " 'Lowercase Capital',\n",
       " 'GSV Capital',\n",
       " 'Norwest\\n\\t  Venture Partners',\n",
       " 'Pinnacle Ventures',\n",
       " 'Rocket Internet',\n",
       " 'JP Morgan Chase & Co.',\n",
       " 'Google Ventures',\n",
       " 'New Enterprise Associates',\n",
       " 'MPM Capital',\n",
       " 'Sequoia Capital China',\n",
       " 'Sina Weibo',\n",
       " 'Kleiner Perkins Caufield & Byers',\n",
       " 'Redpoint Ventures',\n",
       " 'IA Ventures',\n",
       " 'Index\\n\\t  Ventures',\n",
       " 'SV Angel',\n",
       " 'IDG Ventures',\n",
       " 'Kleiner\\n\\t  Perkins Caufield & Byers',\n",
       " 'Buran Venture Capital',\n",
       " 'Redpoint Ventures',\n",
       " 'QiMing Venture Partners',\n",
       " 'Chengwei Capital',\n",
       " 'New Enterprise Associates',\n",
       " 'Pelion Venture Partners',\n",
       " 'Union Square Ventures',\n",
       " 'Sequoia Capital',\n",
       " 'SoftTech\\n\\t  VC',\n",
       " 'Tiger Global Management',\n",
       " 'Accel Partners',\n",
       " 'Greylock\\n\\t  Partners',\n",
       " 'Lowercase Capital',\n",
       " 'Battery Ventures',\n",
       " 'Kleiner\\n\\t  Perkins Caufield & Byers',\n",
       " 'Institutional Venture Partners',\n",
       " 'Advent Venture Partners',\n",
       " 'Index Ventures',\n",
       " 'e.ventures',\n",
       " 'Accel Partners',\n",
       " 'Swisscom\\n\\t  Ventures',\n",
       " 'Meritech Capital Partners',\n",
       " 'Accel Partners',\n",
       " 'OMERS\\n\\t  Ventures',\n",
       " 'Insight Venture Partners',\n",
       " 'Intel Capital',\n",
       " 'Redpoint\\n\\t  Ventures',\n",
       " 'Pinnacle Ventures',\n",
       " 'Accel Partners',\n",
       " 'Index\\n\\t  Ventures',\n",
       " 'Ribbit Capital',\n",
       " 'GGV Capital',\n",
       " 'QiMing Venture Partnersl',\n",
       " 'Accel Partners',\n",
       " 'Intel\\n\\t  Capital',\n",
       " 'Broadline Capital',\n",
       " 'UBS',\n",
       " 'QiMing Venture Partners',\n",
       " 'Steam boat Ventures',\n",
       " 'Sequoia Capital',\n",
       " 'VY Capital',\n",
       " 'Matrix Partners',\n",
       " 'Passport\\n\\t  Capital',\n",
       " 'Rho Ventures',\n",
       " 'Accel Partners',\n",
       " 'Insight\\n\\t  Venture Partners',\n",
       " 'Sequoia Capital',\n",
       " 'IDG Capital Partners',\n",
       " 'QiMing Venture Partners',\n",
       " 'Banyan Capital',\n",
       " 'Data Collective',\n",
       " 'Formation\\n\\t  8',\n",
       " 'Feneral Catalyst Partners',\n",
       " 'GGV Capital',\n",
       " 'Vertex Venture\\n\\t  Holdings',\n",
       " 'Softbank Corp.',\n",
       " 'Banyan Capital',\n",
       " 'New Horizon\\n\\t  Capital',\n",
       " 'IDG Capital Partners',\n",
       " 'WI Harper Group',\n",
       " 'Fang Fund Partners',\n",
       " 'NewMarging Ventures',\n",
       " 'Formation 8',\n",
       " 'Felicis Ventures',\n",
       " 'Iconiq\\n\\t  Capital',\n",
       " 'Insight Venture Partners',\n",
       " 'Tiger Global Management',\n",
       " 'Norwest Venture Partners',\n",
       " 'Kleiner Perkins Caufield\\n\\t  & Byers',\n",
       " 'Softbank Corp.',\n",
       " 'Sherpalo Ventures',\n",
       " 'Morningside Group',\n",
       " 'GGV Capital',\n",
       " 'Banyan Capital',\n",
       " 'Summit Partners',\n",
       " 'CVC Capital Partners',\n",
       " 'Sequoia Capital',\n",
       " 'Tenaya Capital',\n",
       " 'Northgate Capital',\n",
       " 'Battery Ventures',\n",
       " 'Iconiq Capital',\n",
       " 'T. Rowe Price',\n",
       " 'Pentech Ventures',\n",
       " 'Bullpen Capital',\n",
       " 'KKR',\n",
       " 'GSO Capital Partners',\n",
       " 'Franklin Square',\n",
       " 'TPG Growth',\n",
       " 'Lightspeed Venture Partners',\n",
       " 'Accel Partners',\n",
       " 'Comcast Ventures',\n",
       " 'General Atlantic',\n",
       " 'Union Square Ventures',\n",
       " 'RRE Ventures',\n",
       " 'Spark Capital',\n",
       " 'Sequoia Capital',\n",
       " 'TPG capital',\n",
       " 'Accel Partners',\n",
       " 'Google Ventures',\n",
       " 'Sequoia Capital',\n",
       " 'Wakefield Group',\n",
       " 'Iconiq Capital',\n",
       " 'K1 Capital',\n",
       " 'Salesforce Ventures',\n",
       " 'Foundry Group',\n",
       " 'iNovia Capital',\n",
       " 'StarVest Partners',\n",
       " 'BlueRun Ventures',\n",
       " 'SV Angel',\n",
       " 'Mohr Davidow Ventures',\n",
       " 'Technology Crossover Ventures',\n",
       " 'General Catalyst Partners',\n",
       " 'QiMing Venture Partners',\n",
       " 'Temasek Holdings',\n",
       " 'Silverlink Capital',\n",
       " 'Lowercase Capital',\n",
       " 'Benchmark Capital',\n",
       " 'Google Ventures',\n",
       " 'Digital Sky Technologies',\n",
       " 'QiMing Venture Partners',\n",
       " 'Qualcomm Ventures',\n",
       " 'Matrix Partners',\n",
       " 'Tiger\\n\\t  Global Management',\n",
       " 'Softbank Corp.',\n",
       " '',\n",
       " 'General Catalyst Partners',\n",
       " 'Andreessen Horowitz',\n",
       " 'ENIAC Ventures',\n",
       " 'RRE Ventures',\n",
       " 'Founders\\n\\t  Fund',\n",
       " 'In-Q-Tel',\n",
       " 'Ping An Insurance CDH Investments',\n",
       " 'Bank of China',\n",
       " 'DST Global',\n",
       " 'Trustbridge Partners',\n",
       " 'Capital Today',\n",
       " 'Benchmark Capital',\n",
       " 'General\\n\\t  Catalyst Partners',\n",
       " 'Lightspeed Venture Partners',\n",
       " 'T. Rowe Price',\n",
       " 'Benchmark\\n\\t  Capital',\n",
       " 'Wellington Management',\n",
       " 'Accel Partners',\n",
       " 'Digital Sky\\n\\t  Technologies',\n",
       " 'Iconiq Capital',\n",
       " 'Founders Fund',\n",
       " 'Draper\\n\\t  Fisher Jurvetson',\n",
       " 'Rothenberg Ventures',\n",
       " 'Andreessen Horowitz',\n",
       " 'Bessemer Venture Partners',\n",
       " 'Firstmark Capital',\n",
       " 'Accel Partners',\n",
       " 'Greylock\\n\\t  Partners',\n",
       " 'Index Ventures',\n",
       " 'Blackstone Group',\n",
       " 'Koch Industries',\n",
       " 'Accel Partners',\n",
       " 'Sequoia\\n\\t  Capital',\n",
       " 'Khosla Ventures',\n",
       " 'Lowercase\\n\\t  Capital',\n",
       " 'capitalG',\n",
       " 'Horizons Ventures',\n",
       " 'Norwest\\n\\t  Venture Partners',\n",
       " 'Technology Crossover Ventures',\n",
       " 'SAIF partners',\n",
       " 'CDH Investments',\n",
       " 'Morgan Stanley',\n",
       " 'Intel Capital',\n",
       " 'Kalaari\\n\\t  Capital',\n",
       " 'Nexus Venture Partners',\n",
       " 'Tencent',\n",
       " 'Baidu',\n",
       " 'Huasheng Capital',\n",
       " 'Aviation Industry Corporation of China',\n",
       " 'Essence Financial',\n",
       " 'Jiangsu Sha Steel Group',\n",
       " 'Founders Fund',\n",
       " 'Mayfield\\n\\t  Fund',\n",
       " 'Floodgate',\n",
       " 'New Enterprise Associates',\n",
       " 'New Leaf Venture Partners',\n",
       " 'Charter Venture Capital',\n",
       " 'Accel Partners',\n",
       " 'Matrix\\n\\t  Partners',\n",
       " 'Sequoia Capital',\n",
       " 'Sequoia Capital',\n",
       " 'Founder\\n\\t  Collective',\n",
       " 'Wellington Management',\n",
       " 'Intel Capital',\n",
       " 'Sapphire\\n\\t  Ventures',\n",
       " 'Alibaba Group',\n",
       " 'Sequoia Capital China',\n",
       " 'GSR Ventures',\n",
       " 'Horizons Ventures',\n",
       " 'Obvious Ventures',\n",
       " 'Qualcomm\\n\\t  Ventures',\n",
       " 'Andreessen Horowitz',\n",
       " 'Greylock Partners',\n",
       " 'Ignition\\n\\t  Partners',\n",
       " 'Google Ventures',\n",
       " 'Formation 8',\n",
       " 'Technology Crossover\\n\\t  Ventures',\n",
       " 'A&E; Television Networks',\n",
       " 'Baseline Ventures',\n",
       " 'Doll\\n\\t  Capital Management',\n",
       " 'Institutional Venture Partners',\n",
       " 'Google Ventures',\n",
       " 'Institutional Venture Partners',\n",
       " 'Index Ventures',\n",
       " 'Keytone Ventures',\n",
       " 'Khazanah Nasional Berhad',\n",
       " 'General Atlantic',\n",
       " 'Andreessen Horowitz',\n",
       " 'Nor-Cal Invest',\n",
       " 'Felicis Ventures',\n",
       " 'SV Angel',\n",
       " 'Founders Fund',\n",
       " 'Rocket Internet',\n",
       " 'Phenomen\\n\\t  Ventures',\n",
       " 'Insight Venture Partners',\n",
       " 'Insight Venture Partners',\n",
       " 'Andreessen Horowitz',\n",
       " 'Temasek Holdings',\n",
       " 'Warmsun Holding',\n",
       " 'IDG Capital Partners',\n",
       " 'Ceyuan Ventures',\n",
       " 'QiMing\\n\\t  Venture Partners',\n",
       " 'Temasek Holdings',\n",
       " 'Accel Partners',\n",
       " 'Bessemer\\n\\t  Venture Partners',\n",
       " 'Ignition Partners',\n",
       " 'GGV Capital',\n",
       " 'Vertex Venture\\n\\t  Holdings',\n",
       " 'Softbank Corp.',\n",
       " 'Flagship Ventures',\n",
       " 'Invus\\n\\t  Group',\n",
       " 'Wellington Management',\n",
       " 'Founders Fund',\n",
       " 'GGV Capital',\n",
       " 'Digital Sky Technologies',\n",
       " 'Ford Motor Company',\n",
       " 'General Electric',\n",
       " 'Microsoft',\n",
       " 'BoxGroup',\n",
       " 'Formation8',\n",
       " 'Khosla Ventures',\n",
       " 'Kleiner Perkins Caufield\\n\\t  & Byers',\n",
       " 'ATEL Ventures',\n",
       " 'DAG Ventures',\n",
       " 'Wellington Management',\n",
       " 'TomorrowVentures',\n",
       " 'Mastercard Worldwide',\n",
       " 'Felicis Ventures',\n",
       " 'Index\\n\\t  Ventures',\n",
       " 'Temasek Holdings',\n",
       " 'New Enterprise Associates',\n",
       " 'Sequoia Capital',\n",
       " 'Comcast Ventures',\n",
       " 'Institutional Venture\\n\\t  Partners',\n",
       " 'Sequoia Capital',\n",
       " 'General Atlantic',\n",
       " 'Rocket Internet',\n",
       " 'Phenomen Ventures',\n",
       " 'Insight Venture Partners',\n",
       " 'The Social+Capital\\n\\t  Partnership',\n",
       " 'TPG Capital',\n",
       " 'Google Capital',\n",
       " 'Zheshang Venture Capital',\n",
       " 'GP Capital',\n",
       " 'Western Capital Management',\n",
       " 'SV Angel',\n",
       " 'Institutional Venture Partners',\n",
       " 'Venrock',\n",
       " 'DST Global',\n",
       " 'QED Investors',\n",
       " 'TPG Capital',\n",
       " 'RRE Ventures',\n",
       " 'Tiger Global',\n",
       " 'August Capital',\n",
       " 'Sequoia Capital',\n",
       " 'Thrive Capital',\n",
       " 'SV Angel',\n",
       " 'Institutional Venture\\n\\t  Partners',\n",
       " 'Benchmark Capital',\n",
       " 'Founders Fund',\n",
       " 'L Capital Partners',\n",
       " 'Tencent',\n",
       " 'iDreamSky Technology',\n",
       " 'GGV Capital',\n",
       " 'Khosla Ventures',\n",
       " 'Kleiner\\n\\t  Perkins Caufield & Byers',\n",
       " 'Collaborative Fund',\n",
       " 'Bessemer Venture Partners',\n",
       " 'First Round Capital',\n",
       " 'BoxGroup',\n",
       " 'Accel Partners',\n",
       " 'DAG\\n\\t  Ventures',\n",
       " 'Draper Fisher Jurvetson',\n",
       " 'Battery Ventures',\n",
       " 'Kleiner\\n\\t  Perkins Caufield & Byers',\n",
       " 'Institutional Venture Partners',\n",
       " 'Founders Fund',\n",
       " 'Khosla Ventures',\n",
       " 'Goldman Sachs',\n",
       " 'Azure Capital Partners',\n",
       " 'Battery Ventures',\n",
       " 'Intel Capital',\n",
       " 'Tencent',\n",
       " 'General Catalyst Partners',\n",
       " 'Iconiq Capital',\n",
       " 'Lightspeed Venture Partners',\n",
       " 'SV Angel',\n",
       " 'RRE Ventures',\n",
       " 'New Enterprise Associates',\n",
       " 'Northview Ventures',\n",
       " 'dievini Hopp BioTech Holding & Co.m Baillie Gifford & Co.',\n",
       " 'Intel Capital',\n",
       " 'Salesforce\\n\\t  Ventures',\n",
       " 'Union Square Ventures',\n",
       " 'Accel Partners',\n",
       " 'Index Ventures',\n",
       " 'Insight Venture Partners',\n",
       " 'China Continent Property & Casualty Insurance',\n",
       " 'China Renaissance Capital Investment',\n",
       " 'China Taiping Life Insurance',\n",
       " 'Delphi Automotive',\n",
       " 'Samsung Ventures',\n",
       " 'Motus Ventures',\n",
       " 'IFC',\n",
       " 'Ajinomoto',\n",
       " 'AID Partners',\n",
       " 'Draper Fisher Jurvetson',\n",
       " 'Illumina',\n",
       " 'Invesco Perpetual',\n",
       " 'IP Group',\n",
       " 'Microsoft Ventures',\n",
       " 'US\\n\\t  Venture Partners',\n",
       " 'Kleiner Perkins Caufield & Byers',\n",
       " 'Sequoia Capital',\n",
       " 'General Atlantic',\n",
       " 'Tencent',\n",
       " 'TPG Growth',\n",
       " 'Hony Capital',\n",
       " 'Mayfield Fund',\n",
       " 'Khosla\\n\\t  Ventures',\n",
       " 'T-Venture',\n",
       " 'Tencent',\n",
       " 'Morningside Group',\n",
       " 'Advent Venture Partners',\n",
       " 'Index Ventures',\n",
       " 'e.ventures',\n",
       " 'Accel Partners',\n",
       " 'Intel\\n\\t  Capital',\n",
       " 'New Enterprise Associates',\n",
       " 'Sapphire Ventures',\n",
       " 'Salesforce Ventures',\n",
       " 'Jay-Z',\n",
       " 'Saudi Royal Family',\n",
       " 'Jet Edge',\n",
       " 'Access Industries',\n",
       " 'Clal\\n\\t  Industries and Investments',\n",
       " 'Sequoia Capital',\n",
       " 'iGlobe Partners',\n",
       " 'DFJ Growth',\n",
       " 'New Enterprise Associates',\n",
       " 'Tiger Global management',\n",
       " 'Tencent',\n",
       " 'Foxconn',\n",
       " 'Tiger Global management',\n",
       " 'Tencent',\n",
       " 'Accomplice',\n",
       " 'GGV Capital',\n",
       " 'Redpoint Ventures',\n",
       " 'Empire Ventures',\n",
       " 'Foundational Capital',\n",
       " 'Oak Investment Partners',\n",
       " 'Iconiq Capital',\n",
       " 'K1 Capital',\n",
       " 'Salesforce Ventures',\n",
       " 'Formation Group',\n",
       " 'Sequoia Capital India',\n",
       " 'Warburg Pincus',\n",
       " 'Tiger Global',\n",
       " 'Sequoia Capital',\n",
       " 'Google Capital',\n",
       " 'Stone Point Capital',\n",
       " 'Google Capital',\n",
       " 'Roche Venture Fund',\n",
       " 'Google Ventures',\n",
       " 'Social Capital',\n",
       " 'Khosla Ventures',\n",
       " 'Technology\\n\\t  Crossover Ventures',\n",
       " 'Tribeca Venture Partners',\n",
       " 'BoxGroup',\n",
       " 'Felicis Ventures',\n",
       " 'First Round Capital',\n",
       " 'Digital Sky Technologies',\n",
       " 'Piton Capital',\n",
       " 'DN Capital',\n",
       " 'Celgene',\n",
       " 'GE Ventures',\n",
       " 'Draper Fisher Jurvetson',\n",
       " 'TPG Growth',\n",
       " 'Andreessen Horowitz',\n",
       " 'Floodgate',\n",
       " 'Sequoia Capital',\n",
       " 'Andreessen Horowitz',\n",
       " 'GGV Capital',\n",
       " 'T. Rowe Price',\n",
       " 'Insight Venture Partners',\n",
       " 'Lowercase Capital',\n",
       " 'Polaris Partners',\n",
       " 'Access Industries',\n",
       " 'Rocket Internet',\n",
       " 'Tengelmann Ventures',\n",
       " 'Nexus Venture Partners',\n",
       " 'GIC Special Investments',\n",
       " 'Tiger Global Management',\n",
       " 'GreatPoint Ventures',\n",
       " 'New Enterprise Associates',\n",
       " 'Caterpillar',\n",
       " 'Novartis',\n",
       " 'Essex Woodlands',\n",
       " 'The Carlyle Group',\n",
       " 'Greylock Partners',\n",
       " 'North\\n\\t  Bridge Venture Partners',\n",
       " 'Technology Crossover Ventures',\n",
       " 'Draper Fisher Jurtson',\n",
       " 'Qualcomm Ventures',\n",
       " 'Alibaba Group',\n",
       " 'Benchmark Capital',\n",
       " 'DAG\\n\\t  Ventures',\n",
       " 'Insight Venture Partners',\n",
       " 'IA Ventures',\n",
       " 'Index\\n\\t  Ventures',\n",
       " 'SV Angel',\n",
       " 'Google Ventures',\n",
       " 'New Enterprise Associates',\n",
       " 'MPM Capital',\n",
       " 'Kohlberg Kravis Roberts & Co.',\n",
       " 'TowerBrook Capital Partners',\n",
       " 'Shasta Ventures',\n",
       " 'Granite Ventures',\n",
       " 'DFJ Growth Fund',\n",
       " 'Sequoia Capital China',\n",
       " 'Rich Land Capital',\n",
       " 'Merrysunny Wealth',\n",
       " 'AXA',\n",
       " 'Foundry Group',\n",
       " 'iNovia Capital',\n",
       " 'StarVest Partners',\n",
       " 'Berkshire Partners',\n",
       " 'Norwest Venture Partners',\n",
       " 'Tencent Holdings',\n",
       " 'DCM Ventures',\n",
       " 'All-Stars Investment',\n",
       " 'STC Ventures',\n",
       " 'Al Tayyar Travel Group',\n",
       " 'Wamda Capital',\n",
       " 'Norwest Venture Partners',\n",
       " 'New Enterprise Associates',\n",
       " 'Khosla Ventures',\n",
       " 'Andreessen Horowitz',\n",
       " 'CRV',\n",
       " 'Bertelsmann Digital Media Investments',\n",
       " 'China Mobile',\n",
       " 'Matrix Partners China',\n",
       " 'Warbug Pincus',\n",
       " 'Eight Roads Ventures',\n",
       " 'Sunstone Capital',\n",
       " 'Connor Venture Capital',\n",
       " 'Sequoia Capital China',\n",
       " 'Sina Weibo',\n",
       " 'Kleiner Perkins Caufield & Byers',\n",
       " 'Redpoint Ventures',\n",
       " 'Sequoia Capital',\n",
       " 'IDG Ventures',\n",
       " 'Kleiner\\n\\t  Perkins Caufield & Byers',\n",
       " 'Buran Venture Capital',\n",
       " 'Redpoint Ventures',\n",
       " 'QiMing Venture Partners',\n",
       " 'Chengwei Capital',\n",
       " 'Greylock Partners',\n",
       " 'Lightspeed Venture Partners',\n",
       " 'Lowercase Capital',\n",
       " 'New Enterprise Associates',\n",
       " 'Pelion Venture Partners',\n",
       " 'Union Square Ventures',\n",
       " 'Sequoia Capital',\n",
       " 'SoftTech\\n\\t  VC',\n",
       " 'Tiger Global Management',\n",
       " 'Bessemer Venture Partners',\n",
       " \"O'Connor Ventures\",\n",
       " 'Iconiq Capital',\n",
       " 'Accel Partners',\n",
       " 'Greylock\\n\\t  Partners',\n",
       " 'Lowercase Capital',\n",
       " 'Accel Partners',\n",
       " 'Swisscom\\n\\t  Ventures',\n",
       " 'Meritech Capital Partners',\n",
       " 'Accel Partners',\n",
       " 'OMERS\\n\\t  Ventures',\n",
       " 'Insight Venture Partners',\n",
       " 'Accel Partners',\n",
       " 'Index\\n\\t  Ventures',\n",
       " 'Ribbit Capital',\n",
       " 'GGV Capital',\n",
       " 'QiMing Venture Partnersl',\n",
       " 'Broadline Capital',\n",
       " 'UBS',\n",
       " 'QiMing Venture Partners',\n",
       " 'Steam boat Ventures',\n",
       " 'Sequoia Capital',\n",
       " 'VY Capital',\n",
       " 'Matrix Partners',\n",
       " 'Passport\\n\\t  Capital',\n",
       " 'Rho Ventures',\n",
       " 'Accel Partners',\n",
       " 'Insight\\n\\t  Venture Partners',\n",
       " 'Sequoia Capital',\n",
       " 'IDG Capital Partners',\n",
       " 'QiMing Venture Partners',\n",
       " 'Banyan Capital',\n",
       " 'Data Collective',\n",
       " 'Formation\\n\\t  8',\n",
       " 'General Catalyst Partners',\n",
       " 'Banyan Capital',\n",
       " 'New Horizon\\n\\t  Capital',\n",
       " 'IDG Capital Partners',\n",
       " 'WI Harper Group',\n",
       " 'Fang Fund Partners',\n",
       " 'NewMarging Ventures',\n",
       " 'Kleiner Perkins Caufield\\n\\t  & Byers',\n",
       " 'Softbank Corp.',\n",
       " 'Sherpalo Ventures',\n",
       " 'Morningside Group',\n",
       " 'GGV Capital',\n",
       " 'Banyan Capital',\n",
       " 'Summit Partners',\n",
       " 'CVC Capital Partners',\n",
       " 'Sequoia Capital',\n",
       " 'Tenaya Capital',\n",
       " 'Northgate Capital',\n",
       " 'Pentech Ventures',\n",
       " 'Bullpen Capital',\n",
       " 'KKR',\n",
       " 'GSO  Square',\n",
       " 'Accel Partners',\n",
       " 'Comcast Ventures',\n",
       " 'General Atlantic',\n",
       " 'Union Square Ventures',\n",
       " 'RRE Ventures',\n",
       " 'Spark Capital',\n",
       " 'Sequoia Capital',\n",
       " 'TPG capital',\n",
       " 'Accel Partners',\n",
       " 'Google Ventures',\n",
       " 'Sequoia Capital',\n",
       " 'Wakefield Group',\n",
       " 'BlueRun Ventures',\n",
       " 'SV Angel',\n",
       " 'Mohr Davidow Ventures',\n",
       " 'Technology Crossover Ventures',\n",
       " 'General Catalyst Partners',\n",
       " 'QiMing Venture Partners',\n",
       " 'Temasek Holdings',\n",
       " 'Silverlink Capital',\n",
       " 'General Catalyst Partners',\n",
       " 'Google Ventures',\n",
       " 'Kleiner Perkins Caufield & Byers',\n",
       " 'Guo Jin Capital',\n",
       " 'Alpha Animation & Culture',\n",
       " 'Sequoia Capital China',\n",
       " 'DST',\n",
       " 'Greenwoods Asset Management',\n",
       " 'Sequoia Capital China',\n",
       " 'Sailing Capital',\n",
       " 'Star VC',\n",
       " 'Hinduja Group',\n",
       " 'Tiger Global Management',\n",
       " 'Naspers',\n",
       " 'Baillie Gifford & Co.',\n",
       " 'East Ventures',\n",
       " 'Global Brain Corporation',\n",
       " 'ITOCHU Technology Ventures',\n",
       " 'Sequoia Capital China',\n",
       " 'ZhenFund',\n",
       " 'K2 Ventures',\n",
       " 'GGV Capital',\n",
       " 'ZhenFund',\n",
       " 'Tencent',\n",
       " 'Tencent',\n",
       " 'Vcanbio',\n",
       " 'Iconiq Capital',\n",
       " 'T. Rowe Price',\n",
       " 'Battery Ventures',\n",
       " 'Tiger Global Management',\n",
       " 'In-Q-Tel',\n",
       " 'Dell Ventures',\n",
       " 'Blackstone Group',\n",
       " 'Goldman Sachs',\n",
       " 'Insights Venture Partners',\n",
       " 'Pritzker Group Venture Capital',\n",
       " 'Woodford Investment Management',\n",
       " 'Warburg Pincus',\n",
       " 'Aviation Industry Corporation of China',\n",
       " 'CDH Investments',\n",
       " 'Goldstone Investments',\n",
       " 'Qiming Venture Partners',\n",
       " 'Index',\n",
       " 'DST Global',\n",
       " 'Accel Partners',\n",
       " 'Founders Fund',\n",
       " 'Thrive Capital',\n",
       " 'Wellington Management',\n",
       " 'Sequoia Capital China',\n",
       " 'GX Capital',\n",
       " 'GGV Capital',\n",
       " 'JD.com',\n",
       " 'Meridian Capital China',\n",
       " 'Lowercase Capital',\n",
       " 'Benchmark Capital',\n",
       " 'Google Ventures',\n",
       " 'Matrix Partners',\n",
       " 'Tiger\\n\\t  Global Management',\n",
       " 'Softbank Corp.',\n",
       " '',\n",
       " 'Digital Sky Technologies',\n",
       " 'QiMing Venture Partners',\n",
       " 'Qualcomm Ventures',\n",
       " 'DST Global',\n",
       " 'Trustbridge Partners',\n",
       " 'Capital Today',\n",
       " 'General Catalyst Partners',\n",
       " 'Andreessen Horowitz',\n",
       " 'ENIAC Ventures',\n",
       " 'Founders Fund',\n",
       " 'Draper\\n\\t  Fisher Jurvetson',\n",
       " 'Rothenberg Ventures',\n",
       " 'RRE Ventures',\n",
       " 'Founders\\n\\t  Fund',\n",
       " 'In-Q-Tel',\n",
       " 'T. Rowe Price',\n",
       " 'Benchmark\\n\\t  Capital',\n",
       " 'SoftBank Group',\n",
       " 'Ping An Insurance CDH Investments',\n",
       " 'Bank of China',\n",
       " 'Andreessen Horowitz',\n",
       " 'Bessemer Venture Partners',\n",
       " 'Firstmark Capital',\n",
       " 'Accel Partners',\n",
       " 'SoftBank Group',\n",
       " 'Iconiq Capital',\n",
       " 'Founders Fund',\n",
       " 'Mayfield\\n\\t  Fund',\n",
       " 'capitalG',\n",
       " 'Sequoia Capital China',\n",
       " 'SIG Asia Investments',\n",
       " 'Sina Weibo',\n",
       " 'Accel Partners',\n",
       " 'Greylock\\n\\t  Partners',\n",
       " 'Index Ventures',\n",
       " 'Blackstone Group',\n",
       " 'Koch Industries',\n",
       " 'Accel Partners',\n",
       " 'Sequoia\\n\\t  Capital',\n",
       " 'Khosla Ventures',\n",
       " 'Lowercase\\n\\t  Capital',\n",
       " 'capitalG',\n",
       " 'Horizons Ventures',\n",
       " 'Norwest\\n\\t  Venture Partners',\n",
       " 'Technology Crossover Ventures',\n",
       " 'SoftBankGroup',\n",
       " 'Blackrock',\n",
       " 'Alibaba Group',\n",
       " 'Aviation Industry Corporation of China',\n",
       " 'Essence Financial',\n",
       " 'Jiangsu Sha Steel Group',\n",
       " 'GGV Capital',\n",
       " 'Vertex Venture\\n\\t  Holdings',\n",
       " 'Softbank Group',\n",
       " 'Tencent',\n",
       " 'Baidu',\n",
       " 'Huasheng Capital',\n",
       " 'Intel Capital',\n",
       " 'Sapphire\\n\\t  Ventures',\n",
       " 'Alibaba Group',\n",
       " 'Technology Crossover Ventures',\n",
       " 'A&E; Television Networks',\n",
       " 'New Enterprise Associates',\n",
       " 'New Leaf Venture Partners',\n",
       " 'Charter Venture Capital',\n",
       " 'Sequoia Capital China',\n",
       " 'Alibaba Group',\n",
       " 'Horizons Ventures',\n",
       " 'Google Ventures',\n",
       " 'Institutional Venture Partners',\n",
       " 'Index Ventures',\n",
       " 'Goldman Sachs',\n",
       " 'capitalG',\n",
       " 'Pritzker Group Venture Capital',\n",
       " 'China Life Insurance',\n",
       " 'China Development Bank Capital',\n",
       " 'CITIC Securities International',\n",
       " 'Sequoia Capital',\n",
       " 'Founder\\n\\t  Collective',\n",
       " 'Wellington Management',\n",
       " 'Baidu Venture Capital',\n",
       " 'Capital Today',\n",
       " 'GIC',\n",
       " 'Obvious Ventures',\n",
       " ...]"
      ]
     },
     "execution_count": 77,
     "metadata": {},
     "output_type": "execute_result"
    }
   ],
   "source": [
    "Investor"
   ]
  },
  {
   "cell_type": "markdown",
   "metadata": {},
   "source": [
    "### Países con más unicornios"
   ]
  },
  {
   "cell_type": "markdown",
   "metadata": {},
   "source": [
    "aca hacer  un mapa porque el de P.BI no me gusta"
   ]
  },
  {
   "cell_type": "code",
   "execution_count": 78,
   "metadata": {},
   "outputs": [],
   "source": [
    "datos2023 = unicorns[unicorns['Year']==2023]"
   ]
  },
  {
   "cell_type": "code",
   "execution_count": 119,
   "metadata": {},
   "outputs": [
    {
     "data": {
      "text/plain": [
       "array(['United States', 'China', 'India', 'Sweden', 'South Korea',\n",
       "       'Germany', 'Luxembourg', 'United Kingdom', 'Netherlands', 'France',\n",
       "       'Israel', 'Thailand', 'Canada', 'Singapore', 'Czech Republic',\n",
       "       'Argentina', 'South Africa', 'Indonesia', 'Nigeria',\n",
       "       'United Arab Emirates', 'Switzerland', 'Japan', 'Malta',\n",
       "       'Colombia', 'Brazil', 'Spain', 'Australia', 'Estonia', 'Portugal',\n",
       "       'Philippines', 'Hong Kong', 'Lithuania', 'Ireland', 'Uruguay',\n",
       "       'Mexico', 'Croatia', 'Turkey', 'Belgium', 'Denmark', 'Austria',\n",
       "       'Vietnam', 'Santa Clara', 'Finland', 'Senegal', 'Bermuda',\n",
       "       'Norway', 'Chile', 'Malaysia', 'United States,', 'Indonesia,',\n",
       "       'Bahamas', 'Seychelles', 'Ecuador', 'Liechtenstein', 'Italy',\n",
       "       'London', 'Greece', 'Egypt'], dtype=object)"
      ]
     },
     "execution_count": 119,
     "metadata": {},
     "output_type": "execute_result"
    }
   ],
   "source": [
    "unicorns['Country'].unique()"
   ]
  },
  {
   "cell_type": "code",
   "execution_count": 120,
   "metadata": {},
   "outputs": [
    {
     "data": {
      "text/html": [
       "<div>\n",
       "<style scoped>\n",
       "    .dataframe tbody tr th:only-of-type {\n",
       "        vertical-align: middle;\n",
       "    }\n",
       "\n",
       "    .dataframe tbody tr th {\n",
       "        vertical-align: top;\n",
       "    }\n",
       "\n",
       "    .dataframe thead th {\n",
       "        text-align: right;\n",
       "    }\n",
       "</style>\n",
       "<table border=\"1\" class=\"dataframe\">\n",
       "  <thead>\n",
       "    <tr style=\"text-align: right;\">\n",
       "      <th></th>\n",
       "      <th>Company</th>\n",
       "      <th>Valuation ($B)</th>\n",
       "      <th>Date Joined</th>\n",
       "      <th>Country</th>\n",
       "      <th>Industry</th>\n",
       "      <th>Investor</th>\n",
       "      <th>Day_List</th>\n",
       "      <th>Year</th>\n",
       "      <th>City</th>\n",
       "    </tr>\n",
       "  </thead>\n",
       "  <tbody>\n",
       "    <tr>\n",
       "      <th>0</th>\n",
       "      <td>ByteDance</td>\n",
       "      <td>225.0</td>\n",
       "      <td>2017-04-07</td>\n",
       "      <td>China</td>\n",
       "      <td>Media &amp; Entertainment</td>\n",
       "      <td>Sequoia Capital China, SIG Asia Investments, S...</td>\n",
       "      <td>2023-05-31</td>\n",
       "      <td>2023</td>\n",
       "      <td>Beijing</td>\n",
       "    </tr>\n",
       "    <tr>\n",
       "      <th>1</th>\n",
       "      <td>SpaceX</td>\n",
       "      <td>137.0</td>\n",
       "      <td>2012-12-01</td>\n",
       "      <td>United States</td>\n",
       "      <td>Industrials</td>\n",
       "      <td>Founders Fund, Draper Fisher Jurvetson, Rothen...</td>\n",
       "      <td>2023-05-31</td>\n",
       "      <td>2023</td>\n",
       "      <td>Hawthorne</td>\n",
       "    </tr>\n",
       "    <tr>\n",
       "      <th>2</th>\n",
       "      <td>SHEIN</td>\n",
       "      <td>100.0</td>\n",
       "      <td>2018-07-03</td>\n",
       "      <td>China</td>\n",
       "      <td>Consumer &amp; Retail</td>\n",
       "      <td>Tiger Global Management, Sequoia Capital China...</td>\n",
       "      <td>2023-05-31</td>\n",
       "      <td>2023</td>\n",
       "      <td>Shenzhen</td>\n",
       "    </tr>\n",
       "    <tr>\n",
       "      <th>3</th>\n",
       "      <td>Stripe</td>\n",
       "      <td>50.0</td>\n",
       "      <td>2014-01-23</td>\n",
       "      <td>United States</td>\n",
       "      <td>Finance Technology</td>\n",
       "      <td>Khosla Ventures, LowercaseCapital, capitalG</td>\n",
       "      <td>2023-05-31</td>\n",
       "      <td>2023</td>\n",
       "      <td>San Francisco</td>\n",
       "    </tr>\n",
       "    <tr>\n",
       "      <th>4</th>\n",
       "      <td>Canva</td>\n",
       "      <td>40.0</td>\n",
       "      <td>2018-01-08</td>\n",
       "      <td>Australia</td>\n",
       "      <td>Internet software &amp; services</td>\n",
       "      <td>Sequoia Capital China, Blackbird Ventures, Mat...</td>\n",
       "      <td>2023-05-31</td>\n",
       "      <td>2023</td>\n",
       "      <td>Surry Hills</td>\n",
       "    </tr>\n",
       "    <tr>\n",
       "      <th>...</th>\n",
       "      <td>...</td>\n",
       "      <td>...</td>\n",
       "      <td>...</td>\n",
       "      <td>...</td>\n",
       "      <td>...</td>\n",
       "      <td>...</td>\n",
       "      <td>...</td>\n",
       "      <td>...</td>\n",
       "      <td>...</td>\n",
       "    </tr>\n",
       "    <tr>\n",
       "      <th>1210</th>\n",
       "      <td>LeadSquared</td>\n",
       "      <td>1.0</td>\n",
       "      <td>2022-06-21</td>\n",
       "      <td>India</td>\n",
       "      <td>Internet software &amp; services</td>\n",
       "      <td>Gaja Capital Partners, Stakeboat Capital, West...</td>\n",
       "      <td>2023-05-31</td>\n",
       "      <td>2023</td>\n",
       "      <td>Bengaluru</td>\n",
       "    </tr>\n",
       "    <tr>\n",
       "      <th>1211</th>\n",
       "      <td>FourKites</td>\n",
       "      <td>1.0</td>\n",
       "      <td>2022-06-21</td>\n",
       "      <td>United States</td>\n",
       "      <td>Internet software &amp; services</td>\n",
       "      <td>Hyde Park Venture Partners, Bain Capital Ventu...</td>\n",
       "      <td>2023-05-31</td>\n",
       "      <td>2023</td>\n",
       "      <td>Chicago</td>\n",
       "    </tr>\n",
       "    <tr>\n",
       "      <th>1212</th>\n",
       "      <td>VulcanForms</td>\n",
       "      <td>1.0</td>\n",
       "      <td>2022-07-05</td>\n",
       "      <td>United States</td>\n",
       "      <td>Industrials</td>\n",
       "      <td>Eclipse Ventures, D1 Capital Partners, Industr...</td>\n",
       "      <td>2023-05-31</td>\n",
       "      <td>2023</td>\n",
       "      <td>Burlington</td>\n",
       "    </tr>\n",
       "    <tr>\n",
       "      <th>1213</th>\n",
       "      <td>SingleStore</td>\n",
       "      <td>1.0</td>\n",
       "      <td>2022-07-12</td>\n",
       "      <td>United States</td>\n",
       "      <td>Internet software &amp; services</td>\n",
       "      <td>Google Ventures, Accel, Data Collective</td>\n",
       "      <td>2023-05-31</td>\n",
       "      <td>2023</td>\n",
       "      <td>San Francisco</td>\n",
       "    </tr>\n",
       "    <tr>\n",
       "      <th>1214</th>\n",
       "      <td>Unstoppable Domains</td>\n",
       "      <td>1.0</td>\n",
       "      <td>2022-07-27</td>\n",
       "      <td>United States</td>\n",
       "      <td>Media &amp; Entertainment</td>\n",
       "      <td>Boost VC, Draper Associates, Gaingels</td>\n",
       "      <td>2023-05-31</td>\n",
       "      <td>2023</td>\n",
       "      <td>Las Vegas</td>\n",
       "    </tr>\n",
       "  </tbody>\n",
       "</table>\n",
       "<p>1215 rows × 9 columns</p>\n",
       "</div>"
      ],
      "text/plain": [
       "                  Company  Valuation ($B) Date Joined        Country  \\\n",
       "0               ByteDance           225.0  2017-04-07          China   \n",
       "1                  SpaceX           137.0  2012-12-01  United States   \n",
       "2                   SHEIN           100.0  2018-07-03          China   \n",
       "3                  Stripe            50.0  2014-01-23  United States   \n",
       "4                   Canva            40.0  2018-01-08      Australia   \n",
       "...                   ...             ...         ...            ...   \n",
       "1210          LeadSquared             1.0  2022-06-21          India   \n",
       "1211            FourKites             1.0  2022-06-21  United States   \n",
       "1212          VulcanForms             1.0  2022-07-05  United States   \n",
       "1213          SingleStore             1.0  2022-07-12  United States   \n",
       "1214  Unstoppable Domains             1.0  2022-07-27  United States   \n",
       "\n",
       "                          Industry  \\\n",
       "0            Media & Entertainment   \n",
       "1                      Industrials   \n",
       "2                Consumer & Retail   \n",
       "3               Finance Technology   \n",
       "4     Internet software & services   \n",
       "...                            ...   \n",
       "1210  Internet software & services   \n",
       "1211  Internet software & services   \n",
       "1212                   Industrials   \n",
       "1213  Internet software & services   \n",
       "1214         Media & Entertainment   \n",
       "\n",
       "                                               Investor   Day_List  Year  \\\n",
       "0     Sequoia Capital China, SIG Asia Investments, S... 2023-05-31  2023   \n",
       "1     Founders Fund, Draper Fisher Jurvetson, Rothen... 2023-05-31  2023   \n",
       "2     Tiger Global Management, Sequoia Capital China... 2023-05-31  2023   \n",
       "3           Khosla Ventures, LowercaseCapital, capitalG 2023-05-31  2023   \n",
       "4     Sequoia Capital China, Blackbird Ventures, Mat... 2023-05-31  2023   \n",
       "...                                                 ...        ...   ...   \n",
       "1210  Gaja Capital Partners, Stakeboat Capital, West... 2023-05-31  2023   \n",
       "1211  Hyde Park Venture Partners, Bain Capital Ventu... 2023-05-31  2023   \n",
       "1212  Eclipse Ventures, D1 Capital Partners, Industr... 2023-05-31  2023   \n",
       "1213            Google Ventures, Accel, Data Collective 2023-05-31  2023   \n",
       "1214              Boost VC, Draper Associates, Gaingels 2023-05-31  2023   \n",
       "\n",
       "               City  \n",
       "0           Beijing  \n",
       "1         Hawthorne  \n",
       "2          Shenzhen  \n",
       "3     San Francisco  \n",
       "4       Surry Hills  \n",
       "...             ...  \n",
       "1210      Bengaluru  \n",
       "1211        Chicago  \n",
       "1212     Burlington  \n",
       "1213  San Francisco  \n",
       "1214      Las Vegas  \n",
       "\n",
       "[1215 rows x 9 columns]"
      ]
     },
     "execution_count": 120,
     "metadata": {},
     "output_type": "execute_result"
    }
   ],
   "source": [
    "datos2023"
   ]
  },
  {
   "cell_type": "code",
   "execution_count": 127,
   "metadata": {},
   "outputs": [],
   "source": [
    "empresas_count =unicorns[['Company','Country']].value_counts().sort_values(ascending=True)"
   ]
  },
  {
   "cell_type": "code",
   "execution_count": 133,
   "metadata": {},
   "outputs": [
    {
     "data": {
      "application/vnd.plotly.v1+json": {
       "config": {
        "plotlyServerURL": "https://plot.ly"
       },
       "data": [
        {
         "coloraxis": "coloraxis",
         "customdata": [
          [
           "Tier",
           1
          ],
          [
           "Redis",
           1
          ],
          [
           "Zhangmen",
           1
          ],
          [
           "e-shang Redwood",
           1
          ],
          [
           "C3",
           1
          ],
          [
           "Adept",
           1
          ],
          [
           "Xiaoice",
           1
          ],
          [
           "Procore",
           1
          ],
          [
           "eToro",
           1
          ],
          [
           "Zhangmen",
           1
          ],
          [
           "Nuvei",
           1
          ],
          [
           "Xinyang Technology (SoYoung)",
           1
          ],
          [
           "Nutrabolt",
           1
          ],
          [
           "Pax Labs",
           1
          ],
          [
           "Biren Techonology",
           1
          ],
          [
           "Atmosphere",
           1
          ],
          [
           "Oscar\n\t  Health",
           1
          ],
          [
           "Orca Security",
           1
          ],
          [
           "Palmetto",
           1
          ],
          [
           "Anthropic",
           1
          ],
          [
           "Oscar Health",
           1
          ],
          [
           "Particle",
           1
          ],
          [
           "Prove Identity",
           1
          ],
          [
           "Beamery",
           1
          ],
          [
           "Beijing LaKala Billing Services",
           1
          ],
          [
           "Warby Parker",
           1
          ],
          [
           "Beike Zhaofang",
           1
          ],
          [
           "BitSig",
           1
          ],
          [
           "Amplitude",
           1
          ],
          [
           "Proteus Digital Health",
           1
          ],
          [
           "Particle",
           1
          ],
          [
           "Palantir Technologies",
           1
          ],
          [
           "Oatly",
           1
          ],
          [
           "dLocal",
           1
          ],
          [
           "Bitfury",
           1
          ],
          [
           "Snyk",
           1
          ],
          [
           "Jumia",
           1
          ],
          [
           "Just",
           1
          ],
          [
           "KKW Beauty",
           1
          ],
          [
           "Grofers",
           1
          ],
          [
           "Greenlig",
           1
          ],
          [
           "Theranos",
           1
          ],
          [
           "Kabam",
           1
          ],
          [
           "SmileDirectClub",
           1
          ],
          [
           "Terminus Technologies",
           1
          ],
          [
           "Gopuff",
           1
          ],
          [
           "Teya",
           1
          ],
          [
           "Kindbody",
           1
          ],
          [
           "Gojek",
           1
          ],
          [
           "GoPuff",
           1
          ],
          [
           "Tempus Labs",
           1
          ],
          [
           "CoinSwitch",
           1
          ],
          [
           "Oddity",
           1
          ],
          [
           "Pagaya",
           1
          ],
          [
           "Xuanyixia",
           1
          ],
          [
           "Bought By Many",
           1
          ],
          [
           "Ofo",
           1
          ],
          [
           "Our Next Energy",
           1
          ],
          [
           "Ramp Financial",
           1
          ],
          [
           "Bluehole",
           1
          ],
          [
           "Ajaib",
           1
          ],
          [
           "One Medical Group",
           1
          ],
          [
           "Blend",
           1
          ],
          [
           "Yiguo (易果生鲜)",
           1
          ],
          [
           "OVO",
           1
          ],
          [
           "Runway",
           1
          ],
          [
           "Ola",
           1
          ],
          [
           "Rani Therapeutics",
           1
          ],
          [
           "Younited",
           1
          ],
          [
           "Zymergen",
           1
          ],
          [
           "100credit",
           1
          ],
          [
           "Zip Recruiter",
           1
          ],
          [
           "Wemakeprice",
           1
          ],
          [
           "CJ Games",
           1
          ],
          [
           "Auris Health",
           1
          ],
          [
           "China Internet Plus Holding",
           1
          ],
          [
           "Ada",
           1
          ],
          [
           "Astera Labs",
           1
          ],
          [
           "Zhong An Insurance",
           1
          ],
          [
           "PeopleCert",
           1
          ],
          [
           "Nova Labs",
           1
          ],
          [
           "Percent",
           1
          ],
          [
           "Remitly",
           1
          ],
          [
           "Perfect Diary",
           1
          ],
          [
           "Caris",
           1
          ],
          [
           "Notion",
           1
          ],
          [
           "Casper",
           1
          ],
          [
           "Astranis",
           1
          ],
          [
           "Quantexa",
           1
          ],
          [
           "letgo",
           1
          ],
          [
           "Wheels Up Partners",
           1
          ],
          [
           "Character.AI",
           1
          ],
          [
           "Wish",
           1
          ],
          [
           "Cohere",
           1
          ],
          [
           "ACORN OakNorth",
           1
          ],
          [
           "POWA Technologies",
           1
          ],
          [
           "Celsius",
           1
          ],
          [
           "inDriver",
           1
          ],
          [
           "PagerDuty",
           1
          ],
          [
           "China Internet Plus Holding (Meituan Dianping)",
           1
          ],
          [
           "Cazoo",
           1
          ],
          [
           "Replit",
           1
          ],
          [
           "Judo Capital",
           1
          ],
          [
           "Pivotal",
           1
          ],
          [
           "NIO",
           1
          ],
          [
           "Arrail Dental",
           1
          ],
          [
           "Proterra",
           1
          ],
          [
           "One97 Communications",
           1
          ],
          [
           "Aviatrix",
           1
          ],
          [
           "Avenue One",
           1
          ],
          [
           "One97\n\t  Communications (Paytm)",
           1
          ],
          [
           "Yubi",
           1
          ],
          [
           "B&C Chemical",
           1
          ],
          [
           "Zhangyue",
           1
          ],
          [
           "Nutanix",
           1
          ],
          [
           "Newlink Group",
           1
          ],
          [
           "luckin coffee",
           1
          ],
          [
           "monday.com",
           1
          ],
          [
           "Rig",
           1
          ],
          [
           "monday.com",
           1
          ],
          [
           "Weights & Biases",
           1
          ],
          [
           "9f Group",
           1
          ],
          [
           "NantHealth",
           1
          ],
          [
           "Navan",
           1
          ],
          [
           "taxify",
           1
          ],
          [
           "Neo Technology",
           1
          ],
          [
           "sweetgreen",
           1
          ],
          [
           "Clear Street",
           1
          ],
          [
           "Waterdrop",
           1
          ],
          [
           "ClassPass",
           1
          ],
          [
           "Pindouduo",
           1
          ],
          [
           "New Dada",
           1
          ],
          [
           "Attentive Mobile",
           1
          ],
          [
           "Weig",
           1
          ],
          [
           "Ovo Energy",
           1
          ],
          [
           "Pilot",
           1
          ],
          [
           "NetEase Cloud Music",
           1
          ],
          [
           "Kredivo Holdings",
           1
          ],
          [
           "Ethos Technologies",
           1
          ],
          [
           "Talos",
           1
          ],
          [
           "Duo Security",
           1
          ],
          [
           "Uplig",
           1
          ],
          [
           "Dubizzle Group",
           1
          ],
          [
           "Via Transportation",
           1
          ],
          [
           "Dada-JD Daojia",
           1
          ],
          [
           "VillageMD",
           1
          ],
          [
           "Mobike",
           1
          ],
          [
           "Rong360",
           1
          ],
          [
           "Vista Global",
           1
          ],
          [
           "CredAvenue",
           1
          ],
          [
           "Danke Apartment",
           1
          ],
          [
           "Roivant Sciences",
           1
          ],
          [
           "Coupa Software",
           1
          ],
          [
           "Vlocity",
           1
          ],
          [
           "Fever",
           1
          ],
          [
           "CoreWeave",
           1
          ],
          [
           "Vroom",
           1
          ],
          [
           "Mu Sigma",
           1
          ],
          [
           "Rohlik",
           1
          ],
          [
           "Viva Wallet",
           1
          ],
          [
           "Lilium Aviation",
           1
          ],
          [
           "Darktrace",
           1
          ],
          [
           "Meituan",
           1
          ],
          [
           "Mambu",
           1
          ],
          [
           "Samsara",
           1
          ],
          [
           "Dingdong Maicai",
           1
          ],
          [
           "DigitalOcean",
           1
          ],
          [
           "Didi Kuaidi",
           1
          ],
          [
           "Dianping",
           1
          ],
          [
           "Devo",
           1
          ],
          [
           "Copado",
           1
          ],
          [
           "TutorGroup",
           1
          ],
          [
           "Logic Show (Luojisiwei)",
           1
          ],
          [
           "SentinelOne",
           1
          ],
          [
           "Kry",
           1
          ],
          [
           "Looker",
           1
          ],
          [
           "URWork",
           1
          ],
          [
           "1",
           1
          ],
          [
           "Sema4",
           1
          ],
          [
           "Ucar Group",
           1
          ],
          [
           "Lufax",
           1
          ],
          [
           "Udemy",
           1
          ],
          [
           "Segment",
           1
          ],
          [
           "Lyell Immunopharma",
           1
          ],
          [
           "M1 Finance",
           1
          ],
          [
           "Eig",
           1
          ],
          [
           "ESR Cayman (e-Shang Redwood)",
           1
          ],
          [
           "MNT-Halan",
           1
          ],
          [
           "EverlyWell",
           1
          ],
          [
           "Evernote",
           1
          ],
          [
           "Twilio",
           1
          ],
          [
           "FTX",
           1
          ],
          [
           "FTX",
           1
          ],
          [
           "Lixiang Automotive",
           1
          ],
          [
           "Fetch",
           1
          ],
          [
           "Fever Labs",
           1
          ],
          [
           "MX",
           1
          ],
          [
           "Melio",
           1
          ],
          [
           "Liquidity",
           1
          ],
          [
           "FinAccel",
           1
          ],
          [
           "Shift",
           1
          ],
          [
           "First Mode",
           1
          ],
          [
           "TrialSpark",
           1
          ],
          [
           "ShiftKey",
           1
          ],
          [
           "Tuya Smart",
           1
          ],
          [
           "Linklogis",
           1
          ],
          [
           "MasterControl",
           1
          ],
          [
           "Scroll",
           1
          ],
          [
           "Deezer",
           1
          ],
          [
           "InSig",
           1
          ],
          [
           "ICON 3D",
           1
          ],
          [
           "InMobi",
           1
          ],
          [
           "Standard",
           1
          ],
          [
           "Standard AI",
           1
          ],
          [
           "Standard Cognition",
           1
          ],
          [
           "Impact",
           1
          ],
          [
           "Il Makiage",
           1
          ],
          [
           "Icon",
           1
          ],
          [
           "Stemcentrx",
           1
          ],
          [
           "InDrive",
           1
          ],
          [
           "Colossal",
           1
          ],
          [
           "Judo Bank",
           1
          ],
          [
           "Haomo.AI",
           1
          ],
          [
           "Thoug",
           1
          ],
          [
           "Gilt\n\t  Groupe",
           1
          ],
          [
           "Tier Mobility",
           1
          ],
          [
           "Deliverr",
           1
          ],
          [
           "GPClub",
           1
          ],
          [
           "Flywire",
           1
          ],
          [
           "Legendary\n\t  Entertainment",
           1
          ],
          [
           "Leapmotor",
           1
          ],
          [
           "Trader Interactive",
           1
          ],
          [
           "Infi",
           1
          ],
          [
           "Sila",
           1
          ],
          [
           "Simply",
           1
          ],
          [
           "Thoug",
           1
          ],
          [
           "Garena",
           1
          ],
          [
           "LEAD School",
           1
          ],
          [
           "LEAD",
           1
          ],
          [
           "Tiger Brokers",
           1
          ],
          [
           "Toutiao",
           1
          ],
          [
           "Injective",
           1
          ],
          [
           "Lazada",
           1
          ],
          [
           "Innovium",
           1
          ],
          [
           "DeepL",
           1
          ],
          [
           "J&T; Express",
           1
          ],
          [
           "Maven",
           1
          ],
          [
           "VerSe Innovation",
           1
          ],
          [
           "VerSe Innovation(Dailyhunt)",
           1
          ],
          [
           "SVOLT Energy",
           1
          ],
          [
           "Lig",
           1
          ],
          [
           "Flock Freig",
           1
          ],
          [
           "Lemonade",
           1
          ],
          [
           "Huitongda",
           1
          ],
          [
           "Huike Group (Uniquedu Corporation)",
           1
          ],
          [
           "Sumo Logic",
           1
          ],
          [
           "Huasun",
           1
          ],
          [
           "Jet.com",
           1
          ],
          [
           "HomeLig",
           1
          ],
          [
           "VerbIT",
           1
          ],
          [
           "Huochebang",
           1
          ],
          [
           "Home24",
           1
          ],
          [
           "Jasper\n\t  Technologies",
           1
          ],
          [
           "Huolala",
           1
          ],
          [
           "Hims",
           1
          ],
          [
           "Social Finance (SoFi)",
           1
          ],
          [
           "TIER",
           1
          ],
          [
           "Harry's Razor Company",
           1
          ],
          [
           "Hellobike",
           1
          ],
          [
           "Jetti Resources",
           1
          ],
          [
           "Helium",
           1
          ],
          [
           "Symphony Communication Services",
           1
          ],
          [
           "Solaris",
           1
          ],
          [
           "Instabox",
           1
          ],
          [
           "Jimu",
           1
          ],
          [
           "Souq",
           1
          ],
          [
           "XPeng Motors",
           2
          ],
          [
           "SimpliVity",
           2
          ],
          [
           "UCommune",
           2
          ],
          [
           "RigUp",
           2
          ],
          [
           "SingleStore",
           2
          ],
          [
           "Wayflyer",
           2
          ],
          [
           "Symphony Communication Services Holdings",
           2
          ],
          [
           "Turntide Technologies",
           2
          ],
          [
           "Turo",
           2
          ],
          [
           "SurveyMonkey",
           2
          ],
          [
           "0x",
           2
          ],
          [
           "Rightway",
           2
          ],
          [
           "Electric",
           2
          ],
          [
           "Flock Freight",
           2
          ],
          [
           "Eikon Therapeutics",
           2
          ],
          [
           "Einride",
           2
          ],
          [
           "ElasticRun",
           2
          ],
          [
           "Envoy",
           2
          ],
          [
           "Epirus",
           2
          ],
          [
           "Equashield",
           2
          ],
          [
           "EquipmentShare",
           2
          ],
          [
           "Esusu",
           2
          ],
          [
           "Rimac Automobili",
           2
          ],
          [
           "Ethos",
           2
          ],
          [
           "Exotec",
           2
          ],
          [
           "Plaid",
           2
          ],
          [
           "Riskified",
           2
          ],
          [
           "ReNew Power Ventures",
           2
          ],
          [
           "Rivian",
           2
          ],
          [
           "The Honest Company",
           2
          ],
          [
           "FLASH",
           2
          ],
          [
           "Yuga Labs",
           2
          ],
          [
           "Uniphore",
           2
          ],
          [
           "Redesign Health",
           2
          ],
          [
           "Uniswap",
           2
          ],
          [
           "Unit",
           2
          ],
          [
           "Xiaobing",
           2
          ],
          [
           "Recover",
           2
          ],
          [
           "Watershed",
           2
          ],
          [
           "Xiaoe Tech",
           2
          ],
          [
           "boAT",
           2
          ],
          [
           "TUNGEE",
           2
          ],
          [
           "Wasabi",
           2
          ],
          [
           "ReNew Power",
           2
          ],
          [
           "dMed Biopharmaceutical",
           2
          ],
          [
           "Rent the Runway",
           2
          ],
          [
           "UPSIDE Foods",
           2
          ],
          [
           "Xanadu",
           2
          ],
          [
           "Zume Pizza",
           2
          ],
          [
           "Tarana Wireless",
           2
          ],
          [
           "Rohlik Group",
           2
          ],
          [
           "TuSimple",
           2
          ],
          [
           "Tuandaiwang",
           2
          ],
          [
           "Zscaler",
           2
          ],
          [
           "TalkDesk",
           2
          ],
          [
           "candy.com",
           2
          ],
          [
           "Factorial",
           2
          ],
          [
           "Dt Dream",
           2
          ],
          [
           "Fetch Rewards",
           2
          ],
          [
           "DouyuTV",
           2
          ],
          [
           "Dunamu",
           2
          ],
          [
           "Dune Analytics",
           2
          ],
          [
           "FlixBus",
           2
          ],
          [
           "Flock Safety",
           2
          ],
          [
           "Cylance",
           2
          ],
          [
           "Flow",
           2
          ],
          [
           "GuaHao (We Doctor)",
           2
          ],
          [
           "Guazi",
           2
          ],
          [
           "Guazi (Chehaoduo)",
           2
          ],
          [
           "Habi",
           2
          ],
          [
           "Haomao.AI",
           2
          ],
          [
           "DoorDash",
           2
          ],
          [
           "Happy Money",
           2
          ],
          [
           "Hasura",
           2
          ],
          [
           "Helion Energy",
           2
          ],
          [
           "Hellofresh",
           2
          ],
          [
           "Hesai Tech",
           2
          ],
          [
           "Hippo",
           2
          ],
          [
           "HomeLight",
           2
          ],
          [
           "Hootsuite",
           2
          ],
          [
           "Hugging Face",
           2
          ],
          [
           "IGAWorks",
           2
          ],
          [
           "Immuta",
           2
          ],
          [
           "Immutable",
           2
          ],
          [
           "airSlate",
           2
          ],
          [
           "Harry's",
           2
          ],
          [
           "Fenbi Education",
           2
          ],
          [
           "Domestika",
           2
          ],
          [
           "Divergent 3D",
           2
          ],
          [
           "Figma",
           2
          ],
          [
           "Figure Technologies",
           2
          ],
          [
           "Firebolt",
           2
          ],
          [
           "Firefly Aerospace",
           2
          ],
          [
           "Five Star Business Finance",
           2
          ],
          [
           "Flatiron Health",
           2
          ],
          [
           "Flexe",
           2
          ],
          [
           "Flipdish",
           2
          ],
          [
           "EcoVadis",
           2
          ],
          [
           "EasyHome",
           2
          ],
          [
           "ECARX",
           2
          ],
          [
           "Delivery\n\t  Hero",
           2
          ],
          [
           "Dock",
           2
          ],
          [
           "Dada",
           2
          ],
          [
           "Darktrace",
           2
          ],
          [
           "Darwinbox",
           2
          ],
          [
           "DataStax",
           2
          ],
          [
           "Datto",
           2
          ],
          [
           "DealShare",
           2
          ],
          [
           "Decolar",
           2
          ],
          [
           "Deem",
           2
          ],
          [
           "Deliverect",
           2
          ],
          [
           "Deposit Solutions",
           2
          ],
          [
           "Duolingo",
           2
          ],
          [
           "Devo Technology",
           2
          ],
          [
           "Ding Xiang Yuan",
           2
          ],
          [
           "DailyHunt",
           2
          ],
          [
           "Udacity",
           2
          ],
          [
           "Viva Republica (Toss)",
           2
          ],
          [
           "Remarkable",
           2
          ],
          [
           "Uplight",
           2
          ],
          [
           "iwjw.com",
           2
          ],
          [
           "Somatus",
           2
          ],
          [
           "Volocopter",
           2
          ],
          [
           "Purplle",
           2
          ],
          [
           "SonarSource",
           2
          ],
          [
           "Vayyar",
           2
          ],
          [
           "Viz.ai",
           2
          ],
          [
           "impact.com",
           2
          ],
          [
           "Yijiupi (易久批)",
           2
          ],
          [
           "Veepee",
           2
          ],
          [
           "Valgen Medtech",
           2
          ],
          [
           "SoundHound",
           2
          ],
          [
           "Soundhound",
           2
          ],
          [
           "VulcanForms",
           2
          ],
          [
           "Xpressbees",
           2
          ],
          [
           "Postmates",
           2
          ],
          [
           "Snowflake Computing",
           2
          ],
          [
           "VistaJet",
           2
          ],
          [
           "Prime Medicine",
           2
          ],
          [
           "Imply Data",
           2
          ],
          [
           "VerbIT",
           2
          ],
          [
           "goPuff",
           2
          ],
          [
           "Stability AI",
           2
          ],
          [
           "letgo",
           2
          ],
          [
           "SoFi",
           2
          ],
          [
           "Veriff",
           2
          ],
          [
           "Socar",
           2
          ],
          [
           "Prosper\n\t  Marketplace",
           2
          ],
          [
           "Vanta",
           2
          ],
          [
           "SparkCognition",
           2
          ],
          [
           "ROX Motor",
           2
          ],
          [
           "Rad Power Bikes",
           2
          ],
          [
           "Polarium",
           2
          ],
          [
           "stori",
           2
          ],
          [
           "Vesttoo",
           2
          ],
          [
           "Upside",
           2
          ],
          [
           "RapidAPI",
           2
          ],
          [
           "Pluralsight",
           2
          ],
          [
           "Visby Medical",
           2
          ],
          [
           "StoreDot",
           2
          ],
          [
           "Snapchat",
           2
          ],
          [
           "iTrustCapital",
           2
          ],
          [
           "Vice\n\t  Media",
           2
          ],
          [
           "Spotter",
           2
          ],
          [
           "Ramp",
           2
          ],
          [
           "Radius Payments Solutions",
           2
          ],
          [
           "Spendesk",
           2
          ],
          [
           "RIDI",
           2
          ],
          [
           "Spectrum Medical",
           2
          ],
          [
           "Upstox",
           2
          ],
          [
           "solarisBank",
           2
          ],
          [
           "eSentire",
           2
          ],
          [
           "RELEX",
           2
          ],
          [
           "Veev",
           2
          ],
          [
           "Prometheus",
           2
          ],
          [
           "thatgamecompany",
           2
          ],
          [
           "Sweetgreen",
           2
          ],
          [
           "Staffbase",
           2
          ],
          [
           "Productboard",
           2
          ],
          [
           "The Brandtech Group",
           2
          ],
          [
           "ZigBang",
           2
          ],
          [
           "The Boring Company",
           2
          ],
          [
           "Scalapay",
           2
          ],
          [
           "Samsara Networks",
           2
          ],
          [
           "Thought Machine",
           2
          ],
          [
           "Zip",
           2
          ],
          [
           "Scandit",
           2
          ],
          [
           "SaltPay",
           2
          ],
          [
           "Salt Security",
           2
          ],
          [
           "ZipRecruiter",
           2
          ],
          [
           "Salsify",
           2
          ],
          [
           "Weiying",
           2
          ],
          [
           "SeatGeek",
           2
          ],
          [
           "Timescale",
           2
          ],
          [
           "SVOLT",
           2
          ],
          [
           "Tessera Therapeutics",
           2
          ],
          [
           "SeekOut",
           2
          ],
          [
           "Tonal",
           2
          ],
          [
           "Zipline International",
           2
          ],
          [
           "Zeta Global",
           2
          ],
          [
           "SiFive",
           2
          ],
          [
           "Tridge",
           2
          ],
          [
           "Roivant Sciences",
           2
          ],
          [
           "Tripledot",
           2
          ],
          [
           "Swiftly",
           2
          ],
          [
           "Wheel",
           2
          ],
          [
           "Vacasa",
           2
          ],
          [
           "Unstoppable Domains",
           2
          ],
          [
           "Weilong",
           2
          ],
          [
           "Vendr",
           2
          ],
          [
           "Qonto",
           2
          ],
          [
           "Satispay",
           2
          ],
          [
           "Razer",
           2
          ],
          [
           "Zomato",
           2
          ],
          [
           "Temporal",
           2
          ],
          [
           "Toutiao (Bytedance)",
           2
          ],
          [
           "Teleport",
           2
          ],
          [
           "Shansong Express (FlashEx)",
           2
          ],
          [
           "Zoom Communications",
           2
          ],
          [
           "Transcarent",
           2
          ],
          [
           "Taxfix",
           2
          ],
          [
           "SOURCE Global",
           2
          ],
          [
           "Shazam",
           2
          ],
          [
           "TransferMate",
           2
          ],
          [
           "Shift Technology",
           2
          ],
          [
           "TravelPerk",
           2
          ],
          [
           "Worldcoin",
           2
          ],
          [
           "Shiprocket",
           2
          ],
          [
           "XANT",
           2
          ],
          [
           "Root Insurance",
           2
          ],
          [
           "Zebec",
           2
          ],
          [
           "Shukun Technology",
           2
          ],
          [
           "TrialSpark",
           2
          ],
          [
           "Shulan Health",
           2
          ],
          [
           "Roofstock",
           2
          ],
          [
           "Route",
           2
          ],
          [
           "Incredible Health",
           2
          ],
          [
           "IntelyCare",
           2
          ],
          [
           "Insider",
           2
          ],
          [
           "Optimism",
           2
          ],
          [
           "Orbbec Technology",
           2
          ],
          [
           "MINISO Life",
           2
          ],
          [
           "Oura",
           2
          ],
          [
           "KuCoin",
           2
          ],
          [
           "Ovo",
           2
          ],
          [
           "Kuaigou Dache",
           2
          ],
          [
           "Kushki",
           2
          ],
          [
           "L&P Cosmetic",
           2
          ],
          [
           "Outcome Health",
           2
          ],
          [
           "LINE MAN Wongnai",
           2
          ],
          [
           "Lianjia (Homelink)",
           2
          ],
          [
           "LaKala",
           2
          ],
          [
           "LayerZero Labs",
           2
          ],
          [
           "LeadSquared",
           2
          ],
          [
           "Orna Therapeutics",
           2
          ],
          [
           "Orca Security",
           2
          ],
          [
           "Lendable",
           2
          ],
          [
           "MEGAZONE",
           2
          ],
          [
           "ONE",
           2
          ],
          [
           "Krafton Game Union",
           2
          ],
          [
           "Motif FoodWorks",
           2
          ],
          [
           "Island",
           2
          ],
          [
           "Minio",
           2
          ],
          [
           "Miro",
           2
          ],
          [
           "M1",
           2
          ],
          [
           "Oda",
           2
          ],
          [
           "Lukka",
           2
          ],
          [
           "Okta",
           2
          ],
          [
           "ByteDance",
           2
          ],
          [
           "Caris Life Sciences",
           2
          ],
          [
           "Bytedance",
           2
          ],
          [
           "C3 IoT",
           2
          ],
          [
           "CAIS",
           2
          ],
          [
           "CGTZ",
           2
          ],
          [
           "CHEQ",
           2
          ],
          [
           "Cambrian BioPharma",
           2
          ],
          [
           "Capitolis",
           2
          ],
          [
           "CaptivateIQ",
           2
          ],
          [
           "CareBridge",
           2
          ],
          [
           "Caribou",
           2
          ],
          [
           "MobiKwik",
           2
          ],
          [
           "Invoca",
           2
          ],
          [
           "Ironclad",
           2
          ],
          [
           "Loadsmart",
           2
          ],
          [
           "Optibus",
           2
          ],
          [
           "LinkTree",
           2
          ],
          [
           "Opn",
           2
          ],
          [
           "Open",
           2
          ],
          [
           "LivSpace",
           2
          ],
          [
           "OneCard",
           2
          ],
          [
           "One97\n\t  Communications (operates Paytm)",
           2
          ],
          [
           "Liepin",
           2
          ],
          [
           "One97\n\t  Communications",
           2
          ],
          [
           "Omada Health",
           2
          ],
          [
           "wefox Group",
           2
          ],
          [
           "MongoDB",
           2
          ],
          [
           "Monte Carlo",
           2
          ],
          [
           "Newfront Insurance",
           2
          ],
          [
           "JimuBox",
           2
          ],
          [
           "Pave",
           2
          ],
          [
           "Pax8",
           2
          ],
          [
           "PayFit",
           2
          ],
          [
           "Payhawk",
           2
          ],
          [
           "Payoneer",
           2
          ],
          [
           "Jeeves",
           2
          ],
          [
           "Paystand",
           2
          ],
          [
           "Jawbone",
           2
          ],
          [
           "Peloton Interactive",
           2
          ],
          [
           "Pentera",
           2
          ],
          [
           "Perimeter 81",
           2
          ],
          [
           "JoyTunes",
           2
          ],
          [
           "Phantom",
           2
          ],
          [
           "Jaguar Microsystems",
           2
          ],
          [
           "JMGO",
           2
          ],
          [
           "PhysicsWallah",
           2
          ],
          [
           "JFrog",
           2
          ],
          [
           "Pilot.com",
           2
          ],
          [
           "J&T Express",
           2
          ],
          [
           "JupiterOne",
           2
          ],
          [
           "Mysten Labs",
           2
          ],
          [
           "Paddle",
           2
          ],
          [
           "Kallyope",
           2
          ],
          [
           "Knotel",
           2
          ],
          [
           "Oyster",
           2
          ],
          [
           "Jasper",
           2
          ],
          [
           "Bucketplace",
           2
          ],
          [
           "KRY",
           2
          ],
          [
           "Lime",
           2
          ],
          [
           "Melio",
           2
          ],
          [
           "Motive",
           2
          ],
          [
           "Neon",
           2
          ],
          [
           "Injective Protocol",
           2
          ],
          [
           "MuleSoft",
           2
          ],
          [
           "Multiverse",
           2
          ],
          [
           "Mynt",
           2
          ],
          [
           "Mercari",
           2
          ],
          [
           "NexHealth",
           2
          ],
          [
           "Nxin (农信互联)",
           2
          ],
          [
           "Nowports",
           2
          ],
          [
           "MX Technologies",
           2
          ],
          [
           "KnowBe4",
           2
          ],
          [
           "Machine Zone",
           2
          ],
          [
           "Mambu",
           2
          ],
          [
           "ManyPets",
           2
          ],
          [
           "Maoyan-Weiying",
           2
          ],
          [
           "Marqeta",
           2
          ],
          [
           "Nimble Rx",
           2
          ],
          [
           "Notion Labs",
           2
          ],
          [
           "Mashgin",
           2
          ],
          [
           "Material Bank",
           2
          ],
          [
           "Nord Security",
           2
          ],
          [
           "Material Security",
           2
          ],
          [
           "Maven Clinic",
           2
          ],
          [
           "Oyo Rooms",
           2
          ],
          [
           "Magic Eden",
           2
          ],
          [
           "Bright Health",
           2
          ],
          [
           "Movable Ink",
           2
          ],
          [
           "Boba",
           2
          ],
          [
           "BigBasket",
           2
          ],
          [
           "Aptos",
           2
          ],
          [
           "Arcadia",
           2
          ],
          [
           "Asana",
           2
          ],
          [
           "Assent",
           2
          ],
          [
           "Astranis Space Technologies",
           2
          ],
          [
           "Athelas",
           2
          ],
          [
           "Athletic Greens",
           2
          ],
          [
           "Atom Bank",
           2
          ],
          [
           "Augustinus Bader",
           2
          ],
          [
           "Aurora",
           2
          ],
          [
           "Aurora Solar",
           2
          ],
          [
           "Inxeption",
           2
          ],
          [
           "Auth0",
           2
          ],
          [
           "Aviatrix",
           2
          ],
          [
           "Axelar",
           2
          ],
          [
           "BYJU'S",
           2
          ],
          [
           "Babel Finance",
           2
          ],
          [
           "Babylon Health",
           2
          ],
          [
           "BackBase",
           2
          ],
          [
           "BeZero",
           2
          ],
          [
           "Beta Technologies",
           2
          ],
          [
           "Betterfly",
           2
          ],
          [
           "Beyond Identity",
           2
          ],
          [
           "AppDynamics",
           2
          ],
          [
           "Ankorstore",
           2
          ],
          [
           "Autograph",
           2
          ],
          [
           "Anaplan",
           2
          ],
          [
           "Crusoe",
           2
          ],
          [
           "Gorillas",
           2
          ],
          [
           "BostonGene",
           2
          ],
          [
           "Grover",
           2
          ],
          [
           "Greensky",
           2
          ],
          [
           "Greater Bay Technology",
           2
          ],
          [
           "Generate Biomedicines",
           2
          ],
          [
           "FourKites",
           2
          ],
          [
           "Fractal Analytics",
           2
          ],
          [
           "Freenome",
           2
          ],
          [
           "Fresh Life Style Supply Chain Management",
           2
          ],
          [
           "Front",
           2
          ],
          [
           "G7 Networks",
           2
          ],
          [
           "GRAIL",
           2
          ],
          [
           "DANA",
           2
          ],
          [
           "Games24x7",
           2
          ],
          [
           "Gauntlet Networks",
           2
          ],
          [
           "Placer.ai",
           2
          ],
          [
           "Grab",
           2
          ],
          [
           "Genies",
           2
          ],
          [
           "Gett",
           2
          ],
          [
           "Glassdoor",
           2
          ],
          [
           "Glean",
           2
          ],
          [
           "Glia",
           2
          ],
          [
           "Globalization Partners",
           2
          ],
          [
           "GoCardless",
           2
          ],
          [
           "Gokin Solar",
           2
          ],
          [
           "GoodRx",
           2
          ],
          [
           "Gan & Lee Pharmaceuticals",
           2
          ],
          [
           "Accelerant",
           2
          ],
          [
           "Ada Support",
           2
          ],
          [
           "21.co",
           2
          ],
          [
           "CloudWalk",
           2
          ],
          [
           "Cloudera",
           2
          ],
          [
           "Cloudinary",
           2
          ],
          [
           "Coda Payments",
           2
          ],
          [
           "CoinSwitch Kuber",
           2
          ],
          [
           "CoinTracker",
           2
          ],
          [
           "Collibra",
           2
          ],
          [
           "CommerceIQ",
           2
          ],
          [
           "ConcertAI",
           2
          ],
          [
           "Confluent",
           2
          ],
          [
           "Copado",
           2
          ],
          [
           "Coveo",
           2
          ],
          [
           "Clipboard Health",
           2
          ],
          [
           "Cresta",
           2
          ],
          [
           "Cross River Bank",
           2
          ],
          [
           "CertiK",
           2
          ],
          [
           "Celsius Network",
           2
          ],
          [
           "Celestia",
           2
          ],
          [
           "Butterfly Network",
           2
          ],
          [
           "Bilt Rewards",
           2
          ],
          [
           "Biofourmis",
           2
          ],
          [
           "BitSight Technologies",
           2
          ],
          [
           "BloomReach",
           2
          ],
          [
           "Blue Apron",
           2
          ],
          [
           "BlueVoyant",
           2
          ],
          [
           "17zuoye",
           2
          ],
          [
           "Cribl",
           2
          ],
          [
           "ClassDojo",
           2
          ],
          [
           "Coursera",
           2
          ],
          [
           "Cirkul",
           2
          ],
          [
           "5ire",
           2
          ],
          [
           "51Xinyongka",
           2
          ],
          [
           "Clarify Health",
           2
          ],
          [
           "A24 Films",
           2
          ],
          [
           "ACV Auctions",
           2
          ],
          [
           "AInnovation",
           2
          ],
          [
           "ASR Microelectronics",
           2
          ],
          [
           "Abnormal Security",
           2
          ],
          [
           "Abogen",
           2
          ],
          [
           "Ample",
           2
          ],
          [
           "Adaptive Biotechnologies",
           2
          ],
          [
           "Africa Internet Group",
           2
          ],
          [
           "Aijia Life",
           2
          ],
          [
           "Acorns",
           2
          ],
          [
           "BharatPe",
           2
          ],
          [
           "China Rapid Finance",
           2
          ],
          [
           "Chief",
           2
          ],
          [
           "Airbyte",
           2
          ],
          [
           "BillDesk",
           2
          ],
          [
           "CrowdStrike",
           2
          ],
          [
           "BigPanda",
           2
          ],
          [
           "Choco",
           2
          ],
          [
           "AlphaSense",
           2
          ],
          [
           "Aleo",
           2
          ],
          [
           "Akulaku",
           2
          ],
          [
           "Ajaib",
           2
          ],
          [
           "Amagi",
           2
          ],
          [
           "Tackle.io",
           3
          ],
          [
           "XForcePlus",
           3
          ],
          [
           "Harness",
           3
          ],
          [
           "HashiCorp",
           3
          ],
          [
           "Hibob",
           3
          ],
          [
           "Highspot",
           3
          ],
          [
           "InFarm",
           3
          ],
          [
           "Cao Cao Mobility",
           3
          ],
          [
           "Starling Bank",
           3
          ],
          [
           "TalkingData",
           3
          ],
          [
           "Capsule",
           3
          ],
          [
           "XtalPi",
           3
          ],
          [
           "Careem Networks",
           3
          ],
          [
           "Xingyun Group",
           3
          ],
          [
           "Handshake",
           3
          ],
          [
           "Hailo",
           3
          ],
          [
           "Bowery Farming",
           3
          ],
          [
           "InSightec",
           3
          ],
          [
           "Bordrin Motors",
           3
          ],
          [
           "Inari",
           3
          ],
          [
           "Incode Technologies",
           3
          ],
          [
           "HMD Global",
           3
          ],
          [
           "Hinge Health",
           3
          ],
          [
           "Swile",
           3
          ],
          [
           "Iluvatar CoreX",
           3
          ],
          [
           "Human Interest",
           3
          ],
          [
           "C6 Bank",
           3
          ],
          [
           "Heyday",
           3
          ],
          [
           "CargoX",
           3
          ],
          [
           "HAYDON",
           3
          ],
          [
           "DriveNets",
           3
          ],
          [
           "Starburst",
           3
          ],
          [
           "Clubhouse",
           3
          ],
          [
           "Earnix",
           3
          ],
          [
           "EQRx",
           3
          ],
          [
           "Urban Company",
           3
          ],
          [
           "Xiaomi",
           3
          ],
          [
           "Domo Technologies",
           3
          ],
          [
           "WM Motor",
           3
          ],
          [
           "Color",
           3
          ],
          [
           "Dragos",
           3
          ],
          [
           "Drata",
           3
          ],
          [
           "Dream Games",
           3
          ],
          [
           "Dremio",
           3
          ],
          [
           "DriveWealth",
           3
          ],
          [
           "CoinDCX",
           3
          ],
          [
           "StarkWare",
           3
          ],
          [
           "Dropbox",
           3
          ],
          [
           "Collective Health",
           3
          ],
          [
           "UpGrad",
           3
          ],
          [
           "Dutchie",
           3
          ],
          [
           "WalkMe",
           3
          ],
          [
           "CoinList",
           3
          ],
          [
           "Wiz",
           3
          ],
          [
           "Forto",
           3
          ],
          [
           "Plaid Technologies",
           3
          ],
          [
           "Sysdig",
           3
          ],
          [
           "Carbon Health",
           3
          ],
          [
           "CarDekho",
           3
          ],
          [
           "Bringg",
           3
          ],
          [
           "BrowserStack",
           3
          ],
          [
           "Star Charge",
           3
          ],
          [
           "Collibra",
           3
          ],
          [
           "Stytch",
           3
          ],
          [
           "H2O.ai",
           3
          ],
          [
           "CAOCAO",
           3
          ],
          [
           "Bloom\n\t  Energy",
           3
          ],
          [
           "GoodLeap",
           3
          ],
          [
           "GuaHao",
           3
          ],
          [
           "Greenlight",
           3
          ],
          [
           "Carson Group",
           3
          ],
          [
           "GrubMarket",
           3
          ],
          [
           "Groww",
           3
          ],
          [
           "Grove Collaborative",
           3
          ],
          [
           "Tezign",
           3
          ],
          [
           "Groq",
           3
          ],
          [
           "Cedar",
           3
          ],
          [
           "TaxBit",
           3
          ],
          [
           "Carzone",
           3
          ],
          [
           "Workato",
           3
          ],
          [
           "Splashtop",
           3
          ],
          [
           "Grafana Labs",
           3
          ],
          [
           "SpotOn",
           3
          ],
          [
           "Carousell",
           3
          ],
          [
           "GoStudent",
           3
          ],
          [
           "GupShup",
           3
          ],
          [
           "Cava Group",
           3
          ],
          [
           "Yaoshibang",
           3
          ],
          [
           "Innovaccer",
           3
          ],
          [
           "Spotify",
           3
          ],
          [
           "The Bank of London",
           3
          ],
          [
           "Workrise",
           3
          ],
          [
           "Carro",
           3
          ],
          [
           "Guideline",
           3
          ],
          [
           "Epidemic Sound",
           3
          ],
          [
           "Indigo Agriculture",
           3
          ],
          [
           "Tealium",
           3
          ],
          [
           "Spring Health",
           3
          ],
          [
           "Bluecore",
           3
          ],
          [
           "SumUp",
           3
          ],
          [
           "Hyperchain",
           3
          ],
          [
           "CFGI",
           3
          ],
          [
           "ID.me",
           3
          ],
          [
           "Sunbit",
           3
          ],
          [
           "Supreme",
           3
          ],
          [
           "IRL",
           3
          ],
          [
           "CRED",
           3
          ],
          [
           "Bunq",
           3
          ],
          [
           "Hive",
           3
          ],
          [
           "Hozon Auto",
           3
          ],
          [
           "Howden Group Holdings",
           3
          ],
          [
           "Bukalapak",
           3
          ],
          [
           "Cadence",
           3
          ],
          [
           "Huisuanzhang",
           3
          ],
          [
           "Hotmart",
           3
          ],
          [
           "Xendit",
           3
          ],
          [
           "Hopper",
           3
          ],
          [
           "Cambricon",
           3
          ],
          [
           "Honor Technology",
           3
          ],
          [
           "HoneyBook",
           3
          ],
          [
           "Stash",
           3
          ],
          [
           "Built",
           3
          ],
          [
           "Cameo",
           3
          ],
          [
           "Bolt",
           3
          ],
          [
           "Human Longevity",
           3
          ],
          [
           "Carsome",
           3
          ],
          [
           "TensTorrent",
           3
          ],
          [
           "Wrapbook",
           3
          ],
          [
           "Infra.Market",
           3
          ],
          [
           "Calendly",
           3
          ],
          [
           "Guoquan Shihui",
           3
          ],
          [
           "Coalition",
           3
          ],
          [
           "Enpal",
           3
          ],
          [
           "Medable",
           3
          ],
          [
           "OutSystems",
           3
          ],
          [
           "Afiniti",
           3
          ],
          [
           "Radiology Partners",
           3
          ],
          [
           "Orchard",
           3
          ],
          [
           "Adyen",
           3
          ],
          [
           "REEF Technology",
           3
          ],
          [
           "Advance Intelligence Group",
           3
          ],
          [
           "Addepar",
           3
          ],
          [
           "OutSystems",
           3
          ],
          [
           "ActiveCampaign",
           3
          ],
          [
           "Mininglamp Technology",
           3
          ],
          [
           "benevolent.ai",
           3
          ],
          [
           "Ouyeel",
           3
          ],
          [
           "iCapital Network",
           3
          ],
          [
           "Quikr",
           3
          ],
          [
           "Owkin",
           3
          ],
          [
           "OwnBackup",
           3
          ],
          [
           "Acko General Insurance",
           3
          ],
          [
           "Quantum Metric",
           3
          ],
          [
           "Opentrons",
           3
          ],
          [
           "OpenWeb",
           3
          ],
          [
           "OpenSea",
           3
          ],
          [
           "dbt Labs",
           3
          ],
          [
           "Outschool",
           3
          ],
          [
           "Odoo",
           3
          ],
          [
           "STORD",
           3
          ],
          [
           "Skydio",
           3
          ],
          [
           "Back Market",
           3
          ],
          [
           "Side",
           3
          ],
          [
           "Ledger",
           3
          ],
          [
           "LegalZoom",
           3
          ],
          [
           "Kurly",
           3
          ],
          [
           "YunQuNa",
           3
          ],
          [
           "Betterment",
           3
          ],
          [
           "Kong",
           3
          ],
          [
           "Yuanqi Senlin",
           3
          ],
          [
           "Kitopi",
           3
          ],
          [
           "BetterUp",
           3
          ],
          [
           "YugaByte",
           3
          ],
          [
           "SmartMore",
           3
          ],
          [
           "Berlin Brands Group",
           3
          ],
          [
           "Komodo Health",
           3
          ],
          [
           "Konfio",
           3
          ],
          [
           "Kopi Kenangan",
           3
          ],
          [
           "Kuaikan Manhua",
           3
          ],
          [
           "BenevolentAI",
           3
          ],
          [
           "Benchling",
           3
          ],
          [
           "SmartAsset",
           3
          ],
          [
           "Kraken",
           3
          ],
          [
           "Slice",
           3
          ],
          [
           "Beisen",
           3
          ],
          [
           "SmartHR",
           3
          ],
          [
           "Sidecar Health",
           3
          ],
          [
           "OfBusiness",
           3
          ],
          [
           "Rebellion Defense",
           3
          ],
          [
           "1047 Games",
           3
          ],
          [
           "wefox",
           3
          ],
          [
           "Pipa Coding",
           3
          ],
          [
           "Pipe",
           3
          ],
          [
           "Plume",
           3
          ],
          [
           "Pleo",
           3
          ],
          [
           "Printful",
           3
          ],
          [
           "Project44",
           3
          ],
          [
           "Qualtrics",
           3
          ],
          [
           "Paxos",
           3
          ],
          [
           "PPRO",
           3
          ],
          [
           "PointClickCare",
           3
          ],
          [
           "Pacaso",
           3
          ],
          [
           "AVAST Software",
           3
          ],
          [
           "Public",
           3
          ],
          [
           "PandaDoc",
           3
          ],
          [
           "Panshi",
           3
          ],
          [
           "Pantheon Systems",
           3
          ],
          [
           "Panther Labs",
           3
          ],
          [
           "Papa",
           3
          ],
          [
           "Papaya Global",
           3
          ],
          [
           "Paradox",
           3
          ],
          [
           "PsiQuantum",
           3
          ],
          [
           "ASAPP",
           3
          ],
          [
           "Qingting FM",
           3
          ],
          [
           "Offchain Labs",
           3
          ],
          [
           "1KMXC",
           3
          ],
          [
           "Phenom People",
           3
          ],
          [
           "Rebel Foods",
           3
          ],
          [
           "bolttech",
           3
          ],
          [
           "Aiven",
           3
          ],
          [
           "Aircall",
           3
          ],
          [
           "Olist",
           3
          ],
          [
           "ReCharge",
           3
          ],
          [
           "Aihuishou",
           3
          ],
          [
           "Razor",
           3
          ],
          [
           "Aibee",
           3
          ],
          [
           "Agile Robots",
           3
          ],
          [
           "AgentSync",
           3
          ],
          [
           "PicsArt",
           3
          ],
          [
           "Opay",
           3
          ],
          [
           "About You",
           3
          ],
          [
           "iFood",
           3
          ],
          [
           "PLACE",
           3
          ],
          [
           "Pristyn Care",
           3
          ],
          [
           "People.ai",
           3
          ],
          [
           "6Sense",
           3
          ],
          [
           "56PINGTAI",
           3
          ],
          [
           "Persona",
           3
          ],
          [
           "Personio",
           3
          ],
          [
           "Pet Circle",
           3
          ],
          [
           "1Password",
           3
          ],
          [
           "OpenAI",
           3
          ],
          [
           "Sift",
           3
          ],
          [
           "Signifyd",
           3
          ],
          [
           "LaunchDarkly",
           3
          ],
          [
           "SWORD Health",
           3
          ],
          [
           "Masterworks",
           3
          ],
          [
           "Zipline",
           3
          ],
          [
           "Matillion",
           3
          ],
          [
           "Matrixport",
           3
          ],
          [
           "Attentive",
           3
          ],
          [
           "Samumed",
           3
          ],
          [
           "Zihaiguo",
           3
          ],
          [
           "Augury",
           3
          ],
          [
           "MadeiraMadeira",
           3
          ],
          [
           "Savage X Fenty",
           3
          ],
          [
           "MasterClass",
           3
          ],
          [
           "Scalable Capital",
           3
          ],
          [
           "MOLOCO",
           3
          ],
          [
           "Zego",
           3
          ],
          [
           "Aura",
           3
          ],
          [
           "Zetwerk",
           3
          ],
          [
           "Avaloq Group",
           3
          ],
          [
           "Lydia",
           3
          ],
          [
           "Lusha",
           3
          ],
          [
           "Lunar",
           3
          ],
          [
           "SellerX",
           3
          ],
          [
           "Shopclues",
           3
          ],
          [
           "Lamabang",
           3
          ],
          [
           "MURAL",
           3
          ],
          [
           "LetsGetChecked",
           3
          ],
          [
           "Lucid Software",
           3
          ],
          [
           "ManoMano",
           3
          ],
          [
           "Sendbird",
           3
          ],
          [
           "Licious",
           3
          ],
          [
           "Loom",
           3
          ],
          [
           "Liquid",
           3
          ],
          [
           "Shippo",
           3
          ],
          [
           "Sennder",
           3
          ],
          [
           "ZenBusiness",
           3
          ],
          [
           "UiPath",
           3
          ],
          [
           "ShipBob",
           3
          ],
          [
           "Axtria",
           3
          ],
          [
           "Axonius",
           3
          ],
          [
           "SafetyCulture",
           3
          ],
          [
           "Shield AI",
           3
          ],
          [
           "Sentry",
           3
          ],
          [
           "ShareChat",
           3
          ],
          [
           "Axiom Space",
           3
          ],
          [
           "Current",
           3
          ],
          [
           "Lu.com",
           3
          ],
          [
           "Marshmallow",
           3
          ],
          [
           "Zilch",
           3
          ],
          [
           "Mamaearth",
           3
          ],
          [
           "SambaNova Systems",
           3
          ],
          [
           "Mammoth Biosciences",
           3
          ],
          [
           "Manbang Group",
           3
          ],
          [
           "Locus Robotics",
           3
          ],
          [
           "Lessen",
           3
          ],
          [
           "Juma Peisong",
           3
          ],
          [
           "JumpCloud",
           3
          ],
          [
           "Sourcegraph",
           3
          ],
          [
           "Jobandtalent",
           3
          ],
          [
           "BitPanda",
           3
          ],
          [
           "Sorare",
           3
          ],
          [
           "SonderMind",
           3
          ],
          [
           "Sonder",
           3
          ],
          [
           "Solugen",
           3
          ],
          [
           "JetSmarter",
           3
          ],
          [
           "Socure",
           3
          ],
          [
           "Social Finance",
           3
          ],
          [
           "KeepTruckin",
           3
          ],
          [
           "Iterable",
           3
          ],
          [
           "You & Mr Jones",
           3
          ],
          [
           "SSENSE",
           3
          ],
          [
           "Sky Mavis",
           3
          ],
          [
           "Skims",
           3
          ],
          [
           "ZEPZ",
           3
          ],
          [
           "LIfeMiles",
           3
          ],
          [
           "LTK",
           3
          ],
          [
           "Baiwang",
           3
          ],
          [
           "Lacework",
           3
          ],
          [
           "Zapier",
           3
          ],
          [
           "Lattice",
           3
          ],
          [
           "Yunxuetang",
           3
          ],
          [
           "Kendra Scott Jewelry",
           3
          ],
          [
           "Black Sesame Technologies",
           3
          ],
          [
           "Iodine Software",
           3
          ],
          [
           "Interos",
           3
          ],
          [
           "Snorkel AI",
           3
          ],
          [
           "Yipin Shengxian",
           3
          ],
          [
           "Snapdocs",
           3
          ],
          [
           "JustFab",
           3
          ],
          [
           "Justworks",
           3
          ],
          [
           "K Health",
           3
          ],
          [
           "Biren Technology",
           3
          ],
          [
           "Bird Rides",
           3
          ],
          [
           "SnapLogic",
           3
          ],
          [
           "Biosplice Therapeutics",
           3
          ],
          [
           "Kajabi",
           3
          ],
          [
           "SmartRecruiters",
           3
          ],
          [
           "Karat",
           3
          ],
          [
           "YipitData",
           3
          ],
          [
           "Ynsect",
           3
          ],
          [
           "Yotpo",
           3
          ],
          [
           "Keenon Robotics",
           3
          ],
          [
           "Snyk",
           3
          ],
          [
           "Juanpi",
           3
          ],
          [
           "Jokr",
           3
          ],
          [
           "Bitso",
           3
          ],
          [
           "BlockDaemon",
           3
          ],
          [
           "BlackBuck",
           3
          ],
          [
           "Spiber",
           3
          ],
          [
           "Black Unicorn Factory",
           3
          ],
          [
           "PatSnap",
           3
          ],
          [
           "Pattern",
           3
          ],
          [
           "Zeta",
           3
          ],
          [
           "Rec Room",
           3
          ],
          [
           "The Zebra",
           3
          ],
          [
           "Cerebras Systems",
           3
          ],
          [
           "GlobalBees",
           3
          ],
          [
           "Cerebral",
           3
          ],
          [
           "The Hut Group",
           3
          ],
          [
           "Wenheyou",
           3
          ],
          [
           "Chipone",
           3
          ],
          [
           "Chipper Cash",
           3
          ],
          [
           "Chronosphere",
           3
          ],
          [
           "Circle Internet Financial",
           3
          ],
          [
           "Flutterwave",
           3
          ],
          [
           "Thirty Madison",
           3
          ],
          [
           "Circle",
           3
          ],
          [
           "Cider",
           3
          ],
          [
           "Blockstream",
           3
          ],
          [
           "TradingView",
           3
          ],
          [
           "GO1",
           3
          ],
          [
           "Freshbooks",
           3
          ],
          [
           "Freshworks",
           3
          ],
          [
           "Tractable",
           3
          ],
          [
           "FullStory",
           3
          ],
          [
           "Fundbox",
           3
          ],
          [
           "Funding Circle",
           3
          ],
          [
           "G2",
           3
          ],
          [
           "Forte Labs",
           3
          ],
          [
           "UISEE Technology",
           3
          ],
          [
           "Github",
           3
          ],
          [
           "ChargeBee Technologies",
           3
          ],
          [
           "Exabeam",
           3
          ],
          [
           "Expel",
           3
          ],
          [
           "Extend",
           3
          ],
          [
           "Wave",
           3
          ],
          [
           "Farfetch",
           3
          ],
          [
           "Face++ (Megvii)",
           3
          ],
          [
           "CloudBees",
           3
          ],
          [
           "WeBull",
           3
          ],
          [
           "FalconX",
           3
          ],
          [
           "Clip",
           3
          ],
          [
           "Fanduel",
           3
          ],
          [
           "GitLab",
           3
          ],
          [
           "Clio",
           3
          ],
          [
           "CircleCI",
           3
          ],
          [
           "Glovo",
           3
          ],
          [
           "Transmit Security",
           3
          ],
          [
           "Tokopedia",
           3
          ],
          [
           "Toast",
           3
          ],
          [
           "Whatnot",
           3
          ],
          [
           "Gaussian Robotics",
           3
          ],
          [
           "Gelato",
           3
          ],
          [
           "Gem",
           3
          ],
          [
           "Gemini",
           3
          ],
          [
           "Getir",
           3
          ],
          [
           "FlixMobility",
           3
          ],
          [
           "Uala",
           3
          ],
          [
           "Eruditus Executive Education",
           3
          ],
          [
           "Clover Health",
           3
          ],
          [
           "Deezer",
           3
          ],
          [
           "Vestiaire Collective",
           3
          ],
          [
           "Visier",
           3
          ],
          [
           "Vercel",
           3
          ],
          [
           "Dave",
           3
          ],
          [
           "Deel",
           3
          ],
          [
           "Veho",
           3
          ],
          [
           "DeepBlue Technology",
           3
          ],
          [
           "Vuori",
           3
          ],
          [
           "Commure",
           3
          ],
          [
           "DocuSign",
           3
          ],
          [
           "Dapper Labs",
           3
          ],
          [
           "Cockroach Labs",
           3
          ],
          [
           "Eat Just",
           3
          ],
          [
           "EcoFlow",
           3
          ],
          [
           "Eightfold.ai",
           3
          ],
          [
           "Coda",
           3
          ],
          [
           "Unico",
           3
          ],
          [
           "Ele.me",
           3
          ],
          [
           "Elemy",
           3
          ],
          [
           "Cognite",
           3
          ],
          [
           "Emerging Markets Property Group",
           3
          ],
          [
           "Enflame",
           3
          ],
          [
           "ABL Space Systems",
           3
          ],
          [
           "Unite Us",
           3
          ],
          [
           "Via",
           3
          ],
          [
           "Daily Harvest",
           3
          ],
          [
           "Vise",
           3
          ],
          [
           "Vectra Networks",
           3
          ],
          [
           "Density",
           3
          ],
          [
           "Dental Monitoring",
           3
          ],
          [
           "Varo Bank",
           3
          ],
          [
           "Desktop Metal",
           3
          ],
          [
           "Diamond Foundry",
           3
          ],
          [
           "Contrast Security",
           3
          ],
          [
           "Vagaro",
           3
          ],
          [
           "Digit Insurance",
           3
          ],
          [
           "Digital Currency Group",
           3
          ],
          [
           "Contentful",
           3
          ],
          [
           "VOI",
           3
          ],
          [
           "ContentSquare",
           3
          ],
          [
           "ConsenSys",
           3
          ],
          [
           "DispatchHealth",
           3
          ],
          [
           "DistroKid",
           3
          ],
          [
           "Divvy Homes",
           3
          ],
          [
           "Vedantu",
           3
          ],
          [
           "Delhivery",
           3
          ],
          [
           "Degreed",
           3
          ],
          [
           "DailyPay",
           3
          ],
          [
           "CureFit",
           3
          ],
          [
           "VideoAmp",
           3
          ],
          [
           "Culture Amp",
           3
          ],
          [
           "Vipkid",
           3
          ],
          [
           "Evidation",
           3
          ],
          [
           "Everly Health",
           3
          ],
          [
           "Trade Republic",
           3
          ],
          [
           "Eventbrite",
           3
          ],
          [
           "SITECH DEV",
           3
          ],
          [
           "Mensa Brands",
           3
          ],
          [
           "Merama",
           3
          ],
          [
           "Mercury",
           3
          ],
          [
           "ZongMu Technology",
           3
          ],
          [
           "Aqua Security",
           3
          ],
          [
           "MindTickle",
           3
          ],
          [
           "Spinny",
           3
          ],
          [
           "Apttus",
           3
          ],
          [
           "Misfits Market",
           3
          ],
          [
           "Mixpanel",
           3
          ],
          [
           "Articulate",
           3
          ],
          [
           "MoMo",
           3
          ],
          [
           "MyGlamm",
           3
          ],
          [
           "Anyscale",
           3
          ],
          [
           "Zopa",
           3
          ],
          [
           "Noname Security",
           3
          ],
          [
           "NotCo",
           3
          ],
          [
           "Remote",
           3
          ],
          [
           "Reltio",
           3
          ],
          [
           "ReliaQuest",
           3
          ],
          [
           "Nubank",
           3
          ],
          [
           "Alloy",
           3
          ],
          [
           "Algolia",
           3
          ],
          [
           "Mobile Premier League",
           3
          ],
          [
           "Ascend Money",
           3
          ],
          [
           "Meesho",
           3
          ],
          [
           "Assembly",
           3
          ],
          [
           "OakNorth Bank",
           3
          ],
          [
           "At-Bay",
           3
          ],
          [
           "Moon Active",
           3
          ],
          [
           "Moderna",
           3
          ],
          [
           "Modernizing Medicine",
           3
          ],
          [
           "Mofang Gongyu",
           3
          ],
          [
           "Appnexus",
           3
          ],
          [
           "Moglix",
           3
          ],
          [
           "Everlaw",
           3
          ],
          [
           "Moka",
           3
          ],
          [
           "Rothy's",
           3
          ],
          [
           "MoonPay",
           3
          ],
          [
           "OakNorth",
           3
          ],
          [
           "Morning Consult",
           3
          ],
          [
           "Rokt",
           3
          ],
          [
           "Motorway",
           3
          ],
          [
           "Moveworks",
           3
          ],
          [
           "Movile",
           3
          ],
          [
           "Mozido",
           3
          ],
          [
           "Roblox",
           3
          ],
          [
           "Mux",
           3
          ],
          [
           "Modern Treasury",
           3
          ],
          [
           "Modern Health",
           3
          ],
          [
           "Mobvoi",
           3
          ],
          [
           "MobileCoin",
           3
          ],
          [
           "Relativity",
           3
          ],
          [
           "Reify Health",
           3
          ],
          [
           "Mogujie",
           3
          ],
          [
           "apna",
           3
          ],
          [
           "Solo.io",
           3
          ],
          [
           "Blockchain.com",
           3
          ],
          [
           "FloQast",
           3
          ],
          [
           "Clearco",
           3
          ],
          [
           "Trulioo",
           3
          ],
          [
           "Figment",
           3
          ],
          [
           "Truepill",
           3
          ],
          [
           "TrueLayer",
           3
          ],
          [
           "Fireblocks",
           3
          ],
          [
           "WeRide",
           3
          ],
          [
           "Fiture",
           3
          ],
          [
           "BlockFi",
           3
          ],
          [
           "Flash Express",
           3
          ],
          [
           "Webflow",
           3
          ],
          [
           "Clari",
           3
          ],
          [
           "Clara",
           3
          ],
          [
           "Flink",
           3
          ],
          [
           "Flipboard",
           3
          ],
          [
           "Flipkart",
           3
          ],
          [
           "Clearcover",
           3
          ],
          [
           "ClickHouse",
           3
          ],
          [
           "Feedzai",
           3
          ],
          [
           "Turing",
           3
          ],
          [
           "Nuvemshop",
           3
          ],
          [
           "Claroty",
           3
          ],
          [
           "Retool",
           3
          ],
          [
           "Weee!",
           3
          ],
          [
           "Nextiva",
           3
          ],
          [
           "Alzheon",
           3
          ],
          [
           "Aledade",
           3
          ],
          [
           "Redis Labs",
           3
          ],
          [
           "Redwood Materials",
           3
          ],
          [
           "Alation",
           3
          ],
          [
           "Alan",
           3
          ],
          [
           "Noom",
           3
          ],
          [
           "NoBroker",
           3
          ],
          [
           "Mythical Games",
           3
          ],
          [
           "Ninja Van",
           3
          ],
          [
           "Andela",
           3
          ],
          [
           "NIUM",
           3
          ],
          [
           "Alchemy",
           3
          ],
          [
           "Nature's Fynd",
           3
          ],
          [
           "Next Silicon",
           3
          ],
          [
           "Anchorage Digital",
           3
          ],
          [
           "Nexii",
           3
          ],
          [
           "Amount",
           3
          ],
          [
           "Newsela",
           3
          ],
          [
           "Amber Group",
           3
          ],
          [
           "Amperity",
           3
          ],
          [
           "Netlify",
           3
          ],
          [
           "Neo4j",
           3
          ],
          [
           "News Break",
           3
          ],
          [
           "Nexthink",
           3
          ],
          [
           "Mirakl",
           4
          ],
          [
           "Medallia",
           4
          ],
          [
           "Cybereason",
           4
          ],
          [
           "National Stock Exchange of India",
           4
          ],
          [
           "Thrasio",
           4
          ],
          [
           "Leap Motor",
           4
          ],
          [
           "Sila Nanotechnologies",
           4
          ],
          [
           "Insidesales.com",
           4
          ],
          [
           "Intarcia Therapeutics",
           4
          ],
          [
           "Kavak",
           4
          ],
          [
           "Relativity Space",
           4
          ],
          [
           "Katerra",
           4
          ],
          [
           "Keep",
           4
          ],
          [
           "Kik Interactive",
           4
          ],
          [
           "Klaviyo",
           4
          ],
          [
           "Koudai\n\t  Gouwu",
           4
          ],
          [
           "Slack\n\t  Technologies",
           4
          ],
          [
           "Skydance Media",
           4
          ],
          [
           "Kuaishou",
           4
          ],
          [
           "Nxin",
           4
          ],
          [
           "STX Entertainment",
           4
          ],
          [
           "Ro",
           4
          ],
          [
           "Maimai",
           4
          ],
          [
           "Qumulo",
           4
          ],
          [
           "Rippling",
           4
          ],
          [
           "Talkdesk",
           4
          ],
          [
           "Oscar\n\t  Health Insurance Co.",
           4
          ],
          [
           "TERMINUS Technology",
           4
          ],
          [
           "TELD",
           4
          ],
          [
           "Indigo Ag",
           4
          ],
          [
           "Infinidat",
           4
          ],
          [
           "Infor",
           4
          ],
          [
           "Manner",
           4
          ],
          [
           "LifeMiles",
           4
          ],
          [
           "Loft",
           4
          ],
          [
           "Robinhood",
           4
          ],
          [
           "Lyft",
           4
          ],
          [
           "Rocket Lab",
           4
          ],
          [
           "Lyra Health",
           4
          ],
          [
           "Mollie",
           4
          ],
          [
           "Scopely",
           4
          ],
          [
           "MEGVII",
           4
          ],
          [
           "Magic\n\t  Leap",
           4
          ],
          [
           "Lightricks",
           4
          ],
          [
           "L&P; Cosmetic",
           4
          ],
          [
           "VAST Data",
           4
          ],
          [
           "Lalamove",
           4
          ],
          [
           "Easyhome",
           4
          ],
          [
           "ENOVATE",
           4
          ],
          [
           "Unacademy",
           4
          ],
          [
           "Tipalti",
           4
          ],
          [
           "Dxy.cn",
           4
          ],
          [
           "DJI\n\t  Innovations",
           4
          ],
          [
           "GalaxySpace",
           4
          ],
          [
           "GPclub",
           4
          ],
          [
           "Toss",
           4
          ],
          [
           "DianRong",
           4
          ],
          [
           "GOAT",
           4
          ],
          [
           "PAX",
           4
          ],
          [
           "Pinterest",
           4
          ],
          [
           "VIPKid",
           4
          ],
          [
           "Qualia",
           4
          ],
          [
           "Verkada",
           4
          ],
          [
           "Palantir\n\t  Technologies",
           4
          ],
          [
           "Proteus\n\t  Digital Health",
           4
          ],
          [
           "Forter",
           4
          ],
          [
           "HEYTEA",
           4
          ],
          [
           "Unity Technologies",
           4
          ],
          [
           "Fair",
           4
          ],
          [
           "Pharmapacks",
           4
          ],
          [
           "Dialpad",
           4
          ],
          [
           "Gett",
           4
          ],
          [
           "MessageBird",
           4
          ],
          [
           "Unqork",
           4
          ],
          [
           "DraftKings",
           4
          ],
          [
           "FXiaoKe",
           4
          ],
          [
           "Trendy Group International",
           4
          ],
          [
           "Pine Labs",
           4
          ],
          [
           "Venafi",
           4
          ],
          [
           "FlashEx",
           4
          ],
          [
           "FiveTran",
           4
          ],
          [
           "FirstCry",
           4
          ],
          [
           "Podium",
           4
          ],
          [
           "Trumid",
           4
          ],
          [
           "TuJia",
           4
          ],
          [
           "Tubatu.com",
           4
          ],
          [
           "Farmers Business Network",
           4
          ],
          [
           "Procore Technologies",
           4
          ],
          [
           "Upgrade",
           4
          ],
          [
           "Uber",
           4
          ],
          [
           "Postman",
           4
          ],
          [
           "Patreon",
           4
          ],
          [
           "Sisense",
           4
          ],
          [
           "Gymshark",
           4
          ],
          [
           "Infobip",
           4
          ],
          [
           "Tekion",
           4
          ],
          [
           "Yello Mobile",
           4
          ],
          [
           "Creditas",
           4
          ],
          [
           "Cambridge Mobile Telematics",
           4
          ],
          [
           "Carbon3D",
           4
          ],
          [
           "Zhihu",
           4
          ],
          [
           "WeLab",
           4
          ],
          [
           "WEMAKEPRICE",
           4
          ],
          [
           "Zume",
           4
          ],
          [
           "Better.com",
           4
          ],
          [
           "BYJU's",
           4
          ],
          [
           "Affirm",
           4
          ],
          [
           "Coinbase",
           4
          ],
          [
           "Afiniti",
           4
          ],
          [
           "Apeel Sciences",
           4
          ],
          [
           "Workhuman",
           4
          ],
          [
           "WTOIP",
           4
          ],
          [
           "Zeta Interactive",
           4
          ],
          [
           "Cato Networks",
           4
          ],
          [
           "Zoox",
           4
          ],
          [
           "AvidXchange",
           4
          ],
          [
           "Zhubajie",
           4
          ],
          [
           "Zomato\n\t  Media",
           4
          ],
          [
           "Chehaoduo",
           4
          ],
          [
           "Yijiupi",
           4
          ],
          [
           "Quizlet",
           4
          ],
          [
           "Allbirds",
           4
          ],
          [
           "AppsFlyer",
           4
          ],
          [
           "ZocDoc",
           4
          ],
          [
           "Yiguo",
           4
          ],
          [
           "Alto Pharmacy",
           4
          ],
          [
           "Cloudwalk",
           4
          ],
          [
           "BitFury",
           4
          ],
          [
           "Aprogen",
           4
          ],
          [
           "Chainalysis",
           4
          ],
          [
           "CureVac",
           4
          ],
          [
           "Course Hero",
           4
          ],
          [
           "Changingedu",
           4
          ],
          [
           "Whoop",
           4
          ],
          [
           "China Cloud",
           4
          ],
          [
           "o9 Solutions",
           4
          ],
          [
           "Virta Health",
           4
          ],
          [
           "Arctic Wolf Networks",
           4
          ],
          [
           "Zwift",
           4
          ],
          [
           "Argo AI",
           4
          ],
          [
           "Boom Supersonic",
           4
          ],
          [
           "BigID",
           4
          ],
          [
           "Zuoyebang",
           4
          ],
          [
           "Vista Global",
           4
          ],
          [
           "Banma Network Technologies",
           4
          ],
          [
           "HyalRoute",
           4
          ],
          [
           "Starry",
           4
          ],
          [
           "Olive",
           4
          ],
          [
           "Olacabs",
           4
          ],
          [
           "Ola Cabs",
           4
          ],
          [
           "Squarespace",
           4
          ],
          [
           "OYO Rooms",
           4
          ],
          [
           "OVO Energy",
           4
          ],
          [
           "ISN",
           4
          ],
          [
           "Hive Box",
           4
          ],
          [
           "Orca Bio",
           4
          ],
          [
           "Playco",
           4
          ],
          [
           "Ginkgo BioWorks",
           4
          ],
          [
           "Global Fashion Group",
           4
          ],
          [
           "Go-Jek",
           4
          ],
          [
           "Gong",
           4
          ],
          [
           "Gousto",
           4
          ],
          [
           "Ten-X",
           4
          ],
          [
           "ClickUp",
           4
          ],
          [
           "GrabTaxi",
           4
          ],
          [
           "HighRadius",
           4
          ],
          [
           "Strava",
           4
          ],
          [
           "Symphony",
           4
          ],
          [
           "Huimin",
           4
          ],
          [
           "Xingsheng Selected",
           4
          ],
          [
           "Womai",
           4
          ],
          [
           "Razorpay",
           4
          ],
          [
           "Voodoo",
           4
          ],
          [
           "Cityblock Health",
           4
          ],
          [
           "Cars24",
           4
          ],
          [
           "Ximalaya FM",
           4
          ],
          [
           "We Doctor",
           4
          ],
          [
           "ApplyBoard",
           4
          ],
          [
           "Applied Intuition",
           4
          ],
          [
           "Zenoti",
           4
          ],
          [
           "ContextLogic (dba. Wish)",
           4
          ],
          [
           "CloudFlare",
           4
          ],
          [
           "Cgtz",
           4
          ],
          [
           "WeWork",
           4
          ],
          [
           "ThoughtSpot",
           4
          ],
          [
           "Hosjoy",
           4
          ],
          [
           "Hopin",
           4
          ],
          [
           "HuiMin",
           4
          ],
          [
           "AppLovin",
           4
          ],
          [
           "SHEIN",
           4
          ],
          [
           "OpenDoor Labs",
           4
          ],
          [
           "Graphcore",
           5
          ],
          [
           "Checkr",
           5
          ],
          [
           "Checkout.com",
           5
          ],
          [
           "Wildlife Studios",
           5
          ],
          [
           "Acronis",
           5
          ],
          [
           "Actifio",
           5
          ],
          [
           "Globality",
           5
          ],
          [
           "Outreach",
           5
          ],
          [
           "Grammarly",
           5
          ],
          [
           "Tempus",
           5
          ],
          [
           "GetYourGuide",
           5
          ],
          [
           "Huaqin Telecom Technology",
           5
          ],
          [
           "QuintoAndar",
           5
          ],
          [
           "Calm",
           5
          ],
          [
           "Trax",
           5
          ],
          [
           "Trendy\n\t  Group International",
           5
          ],
          [
           "Guild Education",
           5
          ],
          [
           "ezCater",
           5
          ],
          [
           "Wacai",
           5
          ],
          [
           "OneTrust",
           5
          ],
          [
           "Faire",
           5
          ],
          [
           "AIWAYS",
           5
          ],
          [
           "Radius Payment Solutions",
           5
          ],
          [
           "Fanli",
           5
          ],
          [
           "Hike",
           5
          ],
          [
           "Carta",
           5
          ],
          [
           "TripActions",
           5
          ],
          [
           "Chime",
           5
          ],
          [
           "Greensill",
           5
          ],
          [
           "Airbnb",
           5
          ],
          [
           "Huike Group",
           5
          ],
          [
           "Hello TransTech",
           5
          ],
          [
           "Fabric",
           5
          ],
          [
           "Omio",
           5
          ],
          [
           "Impossible Foods",
           5
          ],
          [
           "Tujia",
           5
          ],
          [
           "Xinchao Media",
           5
          ],
          [
           "Icertis",
           5
          ],
          [
           "Ibotta",
           5
          ],
          [
           "C2FO",
           5
          ],
          [
           "Pendo",
           5
          ],
          [
           "StockX",
           5
          ],
          [
           "Vinted",
           5
          ],
          [
           "Airwallex",
           5
          ],
          [
           "Glossier",
           5
          ],
          [
           "Unisound",
           5
          ],
          [
           "Red Ventures",
           5
          ],
          [
           "United Imaging Healthcare",
           5
          ],
          [
           "Bolt",
           5
          ],
          [
           "Yanolja",
           5
          ],
          [
           "Infinidat",
           5
          ],
          [
           "Yello\n\t  Mobile",
           5
          ],
          [
           "EBANX",
           5
          ],
          [
           "Warby\n\t  Parker",
           5
          ],
          [
           "Instabase",
           5
          ],
          [
           "OCSiAl",
           5
          ],
          [
           "Intarcia\n\t  Therapeutics",
           5
          ],
          [
           "Ola Electric Mobility",
           5
          ],
          [
           "Rapyd",
           5
          ],
          [
           "OfferUp",
           5
          ],
          [
           "Carbon",
           5
          ],
          [
           "CMR Surgical",
           5
          ],
          [
           "Tresata",
           5
          ],
          [
           "Dadi Cinema",
           5
          ],
          [
           "Magic Leap",
           5
          ],
          [
           "Mafengwo",
           5
          ],
          [
           "MUSINSA",
           5
          ],
          [
           "Didi Chuxing",
           5
          ],
          [
           "Oxford Nanopore Technologies",
           5
          ],
          [
           "Druva",
           5
          ],
          [
           "Koudai",
           5
          ],
          [
           "58 Daojia",
           5
          ],
          [
           "SmartNews",
           5
          ],
          [
           "Jusfoun Big Data",
           5
          ],
          [
           "Doctolib",
           5
          ],
          [
           "Northvolt",
           5
          ],
          [
           "MarkLogic",
           5
          ],
          [
           "Ripple",
           5
          ],
          [
           "Kabbage",
           5
          ],
          [
           "Kendra Scott",
           5
          ],
          [
           "Yimidida",
           5
          ],
          [
           "Kaseya",
           5
          ],
          [
           "Numbrs",
           5
          ],
          [
           "Nuro",
           5
          ],
          [
           "Compass",
           5
          ],
          [
           "Dream11",
           5
          ],
          [
           "Ivalua",
           5
          ],
          [
           "4Paradigm",
           5
          ],
          [
           "Kujiale",
           5
          ],
          [
           "KK Group",
           5
          ],
          [
           "eDaili",
           5
          ],
          [
           "KnowBox",
           5
          ],
          [
           "DT Dream",
           5
          ],
          [
           "Next Insurance",
           5
          ],
          [
           "DJI Innovations",
           5
          ],
          [
           "Gympass",
           5
          ],
          [
           "Scale AI",
           5
          ],
          [
           "Intellifusion",
           5
          ],
          [
           "Yidian Zixun",
           5
          ],
          [
           "Poizon",
           5
          ],
          [
           "Away",
           5
          ],
          [
           "Databricks",
           5
          ],
          [
           "Dataiku",
           5
          ],
          [
           "Luoji Siwei",
           5
          ],
          [
           "Seismic",
           5
          ],
          [
           "Loggi",
           5
          ],
          [
           "Deliveroo",
           5
          ],
          [
           "Zhuan Zhuan",
           5
          ],
          [
           "LinkSure Network",
           5
          ],
          [
           "N26",
           5
          ],
          [
           "SenseTime",
           5
          ],
          [
           "Rubicon Global",
           5
          ],
          [
           "Ziroom",
           5
          ],
          [
           "Anduril",
           5
          ],
          [
           "Zocdoc",
           5
          ],
          [
           "Meero",
           5
          ],
          [
           "Meizu Technology",
           5
          ],
          [
           "Mofang Living",
           5
          ],
          [
           "Miaoshou Doctor",
           5
          ],
          [
           "DataRobot",
           5
          ],
          [
           "Credit\n\t  Karma",
           5
          ],
          [
           "Lenskart",
           5
          ],
          [
           "BYTON",
           5
          ],
          [
           "Rivigo",
           5
          ],
          [
           "VTS",
           5
          ],
          [
           "TechStyle Fashion Group",
           6
          ],
          [
           "Geek+",
           6
          ],
          [
           "Docker",
           6
          ],
          [
           "Flexport",
           6
          ],
          [
           "Tradeshift",
           6
          ],
          [
           "TransferWise",
           6
          ],
          [
           "Canva",
           6
          ],
          [
           "Swiggy",
           6
          ],
          [
           "Horizon Robotics",
           6
          ],
          [
           "Formlabs",
           6
          ],
          [
           "Automation Anywhere",
           6
          ],
          [
           "HeartFlow",
           6
          ],
          [
           "MediaMath",
           6
          ],
          [
           "Auto1 Group",
           6
          ],
          [
           "Devoted Health",
           6
          ],
          [
           "Coupang",
           6
          ],
          [
           "Medlinker",
           6
          ],
          [
           "Coocaa",
           6
          ],
          [
           "Meicai",
           6
          ],
          [
           "Convoy",
           6
          ],
          [
           "LinkDoc Technology",
           6
          ],
          [
           "ServiceTitan",
           6
          ],
          [
           "Zenefits",
           6
          ],
          [
           "Lianjia",
           6
          ],
          [
           "Discord",
           6
          ],
          [
           "Klook",
           6
          ],
          [
           "Dataminr",
           6
          ],
          [
           "Cabify",
           6
          ],
          [
           "Youxia Motors",
           6
          ],
          [
           "Buzzfeed",
           6
          ],
          [
           "InVision",
           6
          ],
          [
           "Cohesity",
           6
          ],
          [
           "Tuhu",
           6
          ],
          [
           "Rappi",
           6
          ],
          [
           "NuCom Group",
           6
          ],
          [
           "Niantic",
           6
          ],
          [
           "ironSource",
           6
          ],
          [
           "Quanergy Systems",
           6
          ],
          [
           "Preferred Networks",
           6
          ],
          [
           "Airtable",
           6
          ],
          [
           "Pony.ai",
           6
          ],
          [
           "OrCam Technologies",
           6
          ],
          [
           "Revolut",
           6
          ],
          [
           "23andMe",
           6
          ],
          [
           "Momenta",
           6
          ],
          [
           "Pat McGrath Labs",
           6
          ],
          [
           "Revolution Precrafted",
           6
          ],
          [
           "Netskope",
           6
          ],
          [
           "Brex",
           6
          ],
          [
           "YITU Technology",
           6
          ],
          [
           "Sprinklr",
           6
          ],
          [
           "Monzo",
           6
          ],
          [
           "Epic Games",
           6
          ],
          [
           "Bitmain Technologies",
           6
          ],
          [
           "SouChe Holdings",
           6
          ],
          [
           "Celonis",
           6
          ],
          [
           "JUUL Labs",
           6
          ],
          [
           "Udaan",
           6
          ],
          [
           "Intercom",
           6
          ],
          [
           "PolicyBazaar",
           6
          ],
          [
           "Nextdoor",
           6
          ],
          [
           "JOLLY Information Technology",
           6
          ],
          [
           "BrewDog",
           7
          ],
          [
           "SMS Assist",
           7
          ],
          [
           "HuJiang",
           7
          ],
          [
           "Yuanfudao",
           7
          ],
          [
           "VANCL",
           7
          ],
          [
           "BGL Group",
           7
          ],
          [
           "YH Global",
           7
          ],
          [
           "Improbable",
           7
          ],
          [
           "Branch",
           7
          ],
          [
           "XiaoZhu",
           7
          ],
          [
           "Traveloka",
           7
          ],
          [
           "Quora",
           7
          ],
          [
           "Otto Bock HealthCare",
           7
          ],
          [
           "Rubrik",
           7
          ],
          [
           "Zhaogang",
           7
          ],
          [
           "Vice Media",
           7
          ],
          [
           "Cell C",
           7
          ],
          [
           "reddit",
           7
          ],
          [
           "Tongdun Technology",
           7
          ],
          [
           "Mu Sigma",
           8
          ],
          [
           "Age of Learning",
           8
          ],
          [
           "Gusto",
           8
          ],
          [
           "MindMaze",
           8
          ],
          [
           "Yixia",
           8
          ],
          [
           "Mia.com",
           8
          ],
          [
           "Jiuxian",
           8
          ],
          [
           "Royole Corporation",
           8
          ],
          [
           "OVH",
           8
          ],
          [
           "Global Switch",
           8
          ],
          [
           "Xiaohongshu",
           8
          ],
          [
           "iCarbonX",
           8
          ],
          [
           "Promasidor Holdings",
           8
          ],
          [
           "UBTECH Robotics",
           8
          ],
          [
           "Vox Media",
           8
          ],
          [
           "iTutorGroup",
           8
          ],
          [
           "InMobi",
           8
          ],
          [
           "Illumio",
           9
          ],
          [
           "Stripe",
           9
          ],
          [
           "Uptake",
           9
          ],
          [
           "TangoMe",
           9
          ],
          [
           "Tanium",
           9
          ],
          [
           "Fanatics",
           9
          ],
          [
           "Houzz",
           9
          ],
          [
           "Instacart",
           9
          ],
          [
           "AppDirect",
           9
          ],
          [
           "Thumbtack",
           9
          ],
          [
           "Snapdeal",
           9
          ],
          [
           "BlaBlaCar",
           9
          ],
          [
           "Klarna",
           9
          ],
          [
           "BeiBei",
           9
          ],
          [
           "Avant",
           9
          ],
          [
           "Automattic",
           9
          ],
          [
           "Apus Group",
           9
          ],
          [
           "SpaceX",
           9
          ],
          [
           "Lookout",
           9
          ]
         ],
         "featureidkey": "properties.Country",
         "geojson": {
          "bbox": [
           -106.3468,
           -38.4161,
           138.2529,
           60.1282
          ],
          "features": [
           {
            "bbox": [
             -95.7129,
             37.0902,
             -95.7129,
             37.0902
            ],
            "geometry": {
             "coordinates": [
              -95.7129,
              37.0902
             ],
             "type": "Point"
            },
            "id": "0",
            "properties": {
             "name": "United States"
            },
            "type": "Feature"
           },
           {
            "bbox": [
             104.1954,
             35.8617,
             104.1954,
             35.8617
            ],
            "geometry": {
             "coordinates": [
              104.1954,
              35.8617
             ],
             "type": "Point"
            },
            "id": "1",
            "properties": {
             "name": "China"
            },
            "type": "Feature"
           },
           {
            "bbox": [
             78.9629,
             20.5937,
             78.9629,
             20.5937
            ],
            "geometry": {
             "coordinates": [
              78.9629,
              20.5937
             ],
             "type": "Point"
            },
            "id": "2",
            "properties": {
             "name": "India"
            },
            "type": "Feature"
           },
           {
            "bbox": [
             18.6435,
             60.1282,
             18.6435,
             60.1282
            ],
            "geometry": {
             "coordinates": [
              18.6435,
              60.1282
             ],
             "type": "Point"
            },
            "id": "3",
            "properties": {
             "name": "Sweden"
            },
            "type": "Feature"
           },
           {
            "bbox": [
             127.7669,
             35.9078,
             127.7669,
             35.9078
            ],
            "geometry": {
             "coordinates": [
              127.7669,
              35.9078
             ],
             "type": "Point"
            },
            "id": "4",
            "properties": {
             "name": "South Korea"
            },
            "type": "Feature"
           },
           {
            "bbox": [
             10.4515,
             51.1657,
             10.4515,
             51.1657
            ],
            "geometry": {
             "coordinates": [
              10.4515,
              51.1657
             ],
             "type": "Point"
            },
            "id": "5",
            "properties": {
             "name": "Germany"
            },
            "type": "Feature"
           },
           {
            "bbox": [
             6.1296,
             49.8153,
             6.1296,
             49.8153
            ],
            "geometry": {
             "coordinates": [
              6.1296,
              49.8153
             ],
             "type": "Point"
            },
            "id": "6",
            "properties": {
             "name": "Luxembourg"
            },
            "type": "Feature"
           },
           {
            "bbox": [
             -3.436,
             55.3781,
             -3.436,
             55.3781
            ],
            "geometry": {
             "coordinates": [
              -3.436,
              55.3781
             ],
             "type": "Point"
            },
            "id": "7",
            "properties": {
             "name": "United Kingdom"
            },
            "type": "Feature"
           },
           {
            "bbox": [
             5.2913,
             52.1326,
             5.2913,
             52.1326
            ],
            "geometry": {
             "coordinates": [
              5.2913,
              52.1326
             ],
             "type": "Point"
            },
            "id": "8",
            "properties": {
             "name": "Netherlands"
            },
            "type": "Feature"
           },
           {
            "bbox": [
             1.8883,
             46.6034,
             1.8883,
             46.6034
            ],
            "geometry": {
             "coordinates": [
              1.8883,
              46.6034
             ],
             "type": "Point"
            },
            "id": "9",
            "properties": {
             "name": "France"
            },
            "type": "Feature"
           },
           {
            "bbox": [
             34.8516,
             31.0461,
             34.8516,
             31.0461
            ],
            "geometry": {
             "coordinates": [
              34.8516,
              31.0461
             ],
             "type": "Point"
            },
            "id": "10",
            "properties": {
             "name": "Israel"
            },
            "type": "Feature"
           },
           {
            "bbox": [
             100.9925,
             15.87,
             100.9925,
             15.87
            ],
            "geometry": {
             "coordinates": [
              100.9925,
              15.87
             ],
             "type": "Point"
            },
            "id": "11",
            "properties": {
             "name": "Thailand"
            },
            "type": "Feature"
           },
           {
            "bbox": [
             -106.3468,
             56.1304,
             -106.3468,
             56.1304
            ],
            "geometry": {
             "coordinates": [
              -106.3468,
              56.1304
             ],
             "type": "Point"
            },
            "id": "12",
            "properties": {
             "name": "Canada"
            },
            "type": "Feature"
           },
           {
            "bbox": [
             103.8198,
             1.3521,
             103.8198,
             1.3521
            ],
            "geometry": {
             "coordinates": [
              103.8198,
              1.3521
             ],
             "type": "Point"
            },
            "id": "13",
            "properties": {
             "name": "Singapore"
            },
            "type": "Feature"
           },
           {
            "bbox": [
             15.4729,
             49.8175,
             15.4729,
             49.8175
            ],
            "geometry": {
             "coordinates": [
              15.4729,
              49.8175
             ],
             "type": "Point"
            },
            "id": "14",
            "properties": {
             "name": "Czech Republic"
            },
            "type": "Feature"
           },
           {
            "bbox": [
             -63.6167,
             -38.4161,
             -63.6167,
             -38.4161
            ],
            "geometry": {
             "coordinates": [
              -63.6167,
              -38.4161
             ],
             "type": "Point"
            },
            "id": "15",
            "properties": {
             "name": "Argentina"
            },
            "type": "Feature"
           },
           {
            "bbox": [
             22.9375,
             -30.5595,
             22.9375,
             -30.5595
            ],
            "geometry": {
             "coordinates": [
              22.9375,
              -30.5595
             ],
             "type": "Point"
            },
            "id": "16",
            "properties": {
             "name": "South Africa"
            },
            "type": "Feature"
           },
           {
            "bbox": [
             113.9213,
             -0.7893,
             113.9213,
             -0.7893
            ],
            "geometry": {
             "coordinates": [
              113.9213,
              -0.7893
             ],
             "type": "Point"
            },
            "id": "17",
            "properties": {
             "name": "Indonesia"
            },
            "type": "Feature"
           },
           {
            "bbox": [
             8.6753,
             9.082,
             8.6753,
             9.082
            ],
            "geometry": {
             "coordinates": [
              8.6753,
              9.082
             ],
             "type": "Point"
            },
            "id": "18",
            "properties": {
             "name": "Nigeria"
            },
            "type": "Feature"
           },
           {
            "bbox": [
             53.8478,
             23.4241,
             53.8478,
             23.4241
            ],
            "geometry": {
             "coordinates": [
              53.8478,
              23.4241
             ],
             "type": "Point"
            },
            "id": "19",
            "properties": {
             "name": "United Arab Emirates"
            },
            "type": "Feature"
           },
           {
            "bbox": [
             8.2275,
             46.8182,
             8.2275,
             46.8182
            ],
            "geometry": {
             "coordinates": [
              8.2275,
              46.8182
             ],
             "type": "Point"
            },
            "id": "20",
            "properties": {
             "name": "Switzerland"
            },
            "type": "Feature"
           },
           {
            "bbox": [
             138.2529,
             36.2048,
             138.2529,
             36.2048
            ],
            "geometry": {
             "coordinates": [
              138.2529,
              36.2048
             ],
             "type": "Point"
            },
            "id": "21",
            "properties": {
             "name": "Japan"
            },
            "type": "Feature"
           },
           {
            "bbox": [
             14.3754,
             35.9375,
             14.3754,
             35.9375
            ],
            "geometry": {
             "coordinates": [
              14.3754,
              35.9375
             ],
             "type": "Point"
            },
            "id": "22",
            "properties": {
             "name": "Malta"
            },
            "type": "Feature"
           },
           {
            "bbox": [
             -74.2973,
             4.5709,
             -74.2973,
             4.5709
            ],
            "geometry": {
             "coordinates": [
              -74.2973,
              4.5709
             ],
             "type": "Point"
            },
            "id": "23",
            "properties": {
             "name": "Colombia"
            },
            "type": "Feature"
           },
           {
            "bbox": [
             -51.9253,
             -14.235,
             -51.9253,
             -14.235
            ],
            "geometry": {
             "coordinates": [
              -51.9253,
              -14.235
             ],
             "type": "Point"
            },
            "id": "24",
            "properties": {
             "name": "Brazil"
            },
            "type": "Feature"
           },
           {
            "bbox": [
             -3.7492,
             40.4637,
             -3.7492,
             40.4637
            ],
            "geometry": {
             "coordinates": [
              -3.7492,
              40.4637
             ],
             "type": "Point"
            },
            "id": "25",
            "properties": {
             "name": "Spain"
            },
            "type": "Feature"
           },
           {
            "bbox": [
             133.7751,
             -25.2744,
             133.7751,
             -25.2744
            ],
            "geometry": {
             "coordinates": [
              133.7751,
              -25.2744
             ],
             "type": "Point"
            },
            "id": "26",
            "properties": {
             "name": "Australia"
            },
            "type": "Feature"
           },
           {
            "bbox": [
             25.0136,
             58.5953,
             25.0136,
             58.5953
            ],
            "geometry": {
             "coordinates": [
              25.0136,
              58.5953
             ],
             "type": "Point"
            },
            "id": "27",
            "properties": {
             "name": "Estonia"
            },
            "type": "Feature"
           },
           {
            "bbox": [
             -8.2245,
             39.3999,
             -8.2245,
             39.3999
            ],
            "geometry": {
             "coordinates": [
              -8.2245,
              39.3999
             ],
             "type": "Point"
            },
            "id": "28",
            "properties": {
             "name": "Portugal"
            },
            "type": "Feature"
           },
           {
            "bbox": [
             121.774,
             12.8797,
             121.774,
             12.8797
            ],
            "geometry": {
             "coordinates": [
              121.774,
              12.8797
             ],
             "type": "Point"
            },
            "id": "29",
            "properties": {
             "name": "Philippines"
            },
            "type": "Feature"
           },
           {
            "bbox": [
             114.1694,
             22.3193,
             114.1694,
             22.3193
            ],
            "geometry": {
             "coordinates": [
              114.1694,
              22.3193
             ],
             "type": "Point"
            },
            "id": "30",
            "properties": {
             "name": "Hong Kong"
            },
            "type": "Feature"
           },
           {
            "bbox": [
             23.8813,
             55.1694,
             23.8813,
             55.1694
            ],
            "geometry": {
             "coordinates": [
              23.8813,
              55.1694
             ],
             "type": "Point"
            },
            "id": "31",
            "properties": {
             "name": "Lithuania"
            },
            "type": "Feature"
           },
           {
            "bbox": [
             -7.6921,
             53.1424,
             -7.6921,
             53.1424
            ],
            "geometry": {
             "coordinates": [
              -7.6921,
              53.1424
             ],
             "type": "Point"
            },
            "id": "32",
            "properties": {
             "name": "Ireland"
            },
            "type": "Feature"
           },
           {
            "bbox": [
             -55.7658,
             -32.5228,
             -55.7658,
             -32.5228
            ],
            "geometry": {
             "coordinates": [
              -55.7658,
              -32.5228
             ],
             "type": "Point"
            },
            "id": "33",
            "properties": {
             "name": "Uruguay"
            },
            "type": "Feature"
           },
           {
            "bbox": [
             -102.5528,
             23.6345,
             -102.5528,
             23.6345
            ],
            "geometry": {
             "coordinates": [
              -102.5528,
              23.6345
             ],
             "type": "Point"
            },
            "id": "34",
            "properties": {
             "name": "Mexico"
            },
            "type": "Feature"
           },
           {
            "bbox": [
             15.2,
             45.1,
             15.2,
             45.1
            ],
            "geometry": {
             "coordinates": [
              15.2,
              45.1
             ],
             "type": "Point"
            },
            "id": "35",
            "properties": {
             "name": "Croatia"
            },
            "type": "Feature"
           },
           {
            "bbox": [
             35.2433,
             38.9637,
             35.2433,
             38.9637
            ],
            "geometry": {
             "coordinates": [
              35.2433,
              38.9637
             ],
             "type": "Point"
            },
            "id": "36",
            "properties": {
             "name": "Turkey"
            },
            "type": "Feature"
           },
           {
            "bbox": [
             3.436,
             55.3781,
             3.436,
             55.3781
            ],
            "geometry": {
             "coordinates": [
              3.436,
              55.3781
             ],
             "type": "Point"
            },
            "id": "37",
            "properties": {
             "name": "Belgium"
            },
            "type": "Feature"
           }
          ],
          "type": "FeatureCollection"
         },
         "hovertemplate": "Country=%{location}<br>Company=%{customdata[0]}<br>count=%{z}<extra></extra>",
         "locations": [
          "Germany",
          "United States",
          "China",
          "China",
          "United States",
          "United States",
          "China",
          "United States",
          "United Kingdom",
          "United States",
          "Canada",
          "China",
          "United States",
          "United States",
          "China",
          "United States",
          "United States",
          "Israel",
          "United States",
          "United States",
          "United States",
          "China",
          "United States",
          "United Kingdom",
          "China",
          "United States",
          "China",
          "United States",
          "United States",
          "United States",
          "United States",
          "United States",
          "Sweden",
          "Uruguay",
          "Netherlands",
          "United Kingdom",
          "Nigeria",
          "United States",
          "United States",
          "India",
          "United States",
          "United States",
          "United States",
          "United States",
          "China",
          "United States",
          "United Kingdom",
          "United States",
          "Indonesia",
          "United States",
          "United States",
          "India",
          "United States",
          "Israel",
          "China",
          "United Kingdom",
          "China",
          "United States",
          "United States",
          "South Korea",
          "Indonesia,",
          "United States",
          "United States",
          "China",
          "Indonesia",
          "United States",
          "India",
          "United States",
          "France",
          "United States",
          "China",
          "United States",
          "South Korea",
          "South Korea",
          "United States",
          "China",
          "Canada",
          "United States",
          "China",
          "Greece",
          "United States",
          "China",
          "United States",
          "China",
          "United States",
          "United States",
          "United States",
          "United States",
          "United Kingdom",
          "Netherlands",
          "United States",
          "United States",
          "United States",
          "Canada",
          "United Kingdom",
          "United Kingdom",
          "United States",
          "United States",
          "United States",
          "China",
          "United Kingdom",
          "United States",
          "Australia",
          "United States",
          "China",
          "China",
          "United States",
          "India",
          "Santa Clara",
          "United States",
          "India",
          "India",
          "China",
          "China",
          "United States",
          "China",
          "China",
          "Israel",
          "United States",
          "United States",
          "United States",
          "China",
          "United States",
          "United States",
          "Estonia",
          "United States",
          "United States",
          "United States",
          "China",
          "United States",
          "China",
          "China",
          "United States",
          "United States",
          "United Kingdom",
          "United States",
          "China",
          "Singapore",
          "United States",
          "United States",
          "United States",
          "United States",
          "United Arab Emirates",
          "United States",
          "China",
          "United States",
          "China",
          "China",
          "Malta",
          "India",
          "China",
          "United States",
          "United States",
          "United States",
          "United States",
          "United States",
          "United States",
          "India",
          "Czech Republic",
          "Greece",
          "Germany",
          "Germany",
          "China",
          "Germany",
          "United States",
          "China",
          "United States",
          "China",
          "China",
          "United States",
          "Spain",
          "China",
          "China",
          "United States",
          "Sweden",
          "United States",
          "China",
          "Brazil",
          "United States",
          "China",
          "China",
          "United States",
          "United States",
          "United States",
          "United States",
          "United States",
          "China",
          "Egypt",
          "United States",
          "United States",
          "United States",
          "Bahamas",
          "Hong Kong",
          "China",
          "United States",
          "United States",
          "United States",
          "Israel",
          "Israel",
          "Singapore",
          "France",
          "United States",
          "United States,",
          "United States",
          "China",
          "China",
          "United States",
          "Seychelles",
          "China",
          "Israel",
          "United States",
          "Singapore",
          "United States",
          "United States",
          "United States",
          "United States",
          "United States",
          "United States",
          "United States",
          "United States",
          "United States",
          "Australia",
          "China",
          "United States",
          "United States",
          "Germany",
          "United States",
          "South Korea",
          "United States",
          "United States",
          "China",
          "United States",
          "Israel",
          "United States",
          "Israel",
          "United Kingdom",
          "Singapore",
          "India",
          "India",
          "China",
          "China",
          "United States",
          "Thailand",
          "United States",
          "Germany",
          "Indonesia",
          "United States",
          "India",
          "India",
          "China",
          "Israel",
          "United States",
          "United States",
          "China",
          "China",
          "United States",
          "China",
          "United States",
          "United States",
          "Israel",
          "China",
          "Germany",
          "United States",
          "Hong Kong",
          "United States",
          "United States",
          "Germany",
          "United States",
          "China",
          "United States",
          "United States",
          "United States",
          "Germany",
          "Sweden",
          "China",
          "United Arab Emirates",
          "China",
          "United States",
          "China",
          "United States",
          "United States",
          "Ireland",
          "United States",
          "United States",
          "United States",
          "United States",
          "United States",
          "United States",
          "United States",
          "United States",
          "United States",
          "Sweden",
          "India",
          "United States",
          "United States",
          "United States",
          "United States",
          "United States",
          "Croatia",
          "United States",
          "France",
          "United States",
          "United States",
          "India",
          "United States",
          "United States",
          "United States",
          "United States",
          "United States",
          "United States",
          "United States",
          "United States",
          "China",
          "Spain",
          "United States",
          "China",
          "India",
          "China",
          "United States",
          "India",
          "China",
          "United States",
          "United States",
          "Canada",
          "United States",
          "United States",
          "Czech Republic",
          "United States",
          "China",
          "United States",
          "United States",
          "United States",
          "Spain",
          "China",
          "United States",
          "China",
          "South Korea",
          "Norway",
          "Germany",
          "United States",
          "United States",
          "United States",
          "China",
          "China",
          "China",
          "Colombia",
          "China",
          "United States",
          "United States",
          "India",
          "United States",
          "Germany",
          "China",
          "United States",
          "United States",
          "Canada",
          "United States",
          "South Korea",
          "United States",
          "Australia",
          "United States",
          "United States",
          "China",
          "United States",
          "United States",
          "United States",
          "United States",
          "Israel",
          "United States",
          "India",
          "United States",
          "United States",
          "Ireland",
          "France",
          "China",
          "China",
          "Germany",
          "Brazil",
          "China",
          "United Kingdom",
          "India",
          "United States",
          "United States",
          "India",
          "Argentina",
          "United States",
          "Belgium",
          "Germany",
          "United States",
          "United States",
          "China",
          "India",
          "United States",
          "South Korea",
          "Norway",
          "United States",
          "China",
          "United States",
          "Germany",
          "India",
          "Switzerland",
          "Israel",
          "United States",
          "United States",
          "China",
          "France",
          "China",
          "United States",
          "United States",
          "United States",
          "India",
          "United States",
          "United States",
          "Malta",
          "United States",
          "United States",
          "United States",
          "United States",
          "United Kingdom",
          "United States",
          "United States",
          "Estonia",
          "South Korea",
          "United States",
          "United States",
          "United States",
          "China",
          "United States",
          "Sweden",
          "Mexico",
          "Israel",
          "United States",
          "United States",
          "United States",
          "United States",
          "Israel",
          "United States",
          "United States",
          "United States",
          "United States",
          "United States",
          "United Kingdom",
          "France",
          "South Korea",
          "United Kingdom",
          "India",
          "Germany",
          "Canada",
          "Finland",
          "United States",
          "United States",
          "United States",
          "United States",
          "Germany",
          "United States",
          "United States",
          "South Korea",
          "United States",
          "Italy",
          "United States",
          "United Kingdom",
          "United States",
          "Switzerland",
          "United Kingdom",
          "United States",
          "United States",
          "United States",
          "China",
          "United States",
          "United States",
          "China",
          "United States",
          "United States",
          "United States",
          "United States",
          "United States",
          "United States",
          "South Korea",
          "Switzerland",
          "United Kingdom",
          "United States",
          "United States",
          "United States",
          "United States",
          "China",
          "United States",
          "France",
          "Italy",
          "United States",
          "India",
          "United States",
          "China",
          "United States",
          "China",
          "United States",
          "United States",
          "Germany",
          "United States",
          "United Kingdom",
          "Ireland",
          "France",
          "Spain",
          "United States",
          "India",
          "United States",
          "United States",
          "United States",
          "China",
          "United States",
          "China",
          "United States",
          "United States",
          "United States",
          "United States",
          "Turkey",
          "United States",
          "China",
          "China",
          "Finland",
          "Seychelles",
          "Indonesia",
          "China",
          "Ecuador",
          "South Korea",
          "United States",
          "Thailand",
          "China",
          "China",
          "United States",
          "India",
          "United States",
          "United States",
          "United Kingdom",
          "South Korea",
          "Singapore",
          "South Korea",
          "United States",
          "United States",
          "United States",
          "United States",
          "United States",
          "Norway",
          "United States",
          "United States",
          "China",
          "United States",
          "China",
          "United States",
          "United States",
          "China",
          "United States",
          "United States",
          "United States",
          "United States",
          "United States",
          "United States",
          "India",
          "United States",
          "United States",
          "United States",
          "Israel",
          "Australia",
          "Japan",
          "India",
          "India",
          "India",
          "India",
          "China",
          "India",
          "United States",
          "Germany",
          "United States",
          "United States",
          "United States",
          "China",
          "United States",
          "United States",
          "United Kingdom",
          "United Kingdom",
          "United States",
          "United States",
          "United States",
          "United States",
          "United States",
          "Israel",
          "Israel",
          "Israel",
          "United States",
          "China",
          "China",
          "India",
          "United States",
          "United States",
          "Indonesia",
          "United States",
          "United States",
          "United Kingdom",
          "United States",
          "United States",
          "United States",
          "United States",
          "South Korea",
          "Sweden",
          "United States",
          "United States",
          "United States",
          "Brazil",
          "United States",
          "United States",
          "United Kingdom",
          "Philippines",
          "Japan",
          "United States",
          "China",
          "Mexico",
          "United States",
          "United States",
          "United States",
          "Netherlands",
          "United Kingdom",
          "China",
          "United States",
          "United States",
          "United States",
          "United States",
          "United States",
          "Lithuania",
          "United States",
          "United States",
          "India",
          "United States",
          "United States",
          "United States",
          "United States",
          "India",
          "United States",
          "United States",
          "United States",
          "Canada",
          "United States",
          "United States",
          "United States",
          "United Kingdom",
          "London",
          "United States",
          "United States",
          "United States",
          "United States",
          "United States",
          "Canada",
          "India",
          "Hong Kong",
          "United Kingdom",
          "Netherlands",
          "United Kingdom",
          "United States",
          "Chile",
          "United States",
          "United States",
          "France",
          "United States",
          "United States",
          "United States",
          "Germany",
          "United States",
          "Germany",
          "United States",
          "China",
          "United States",
          "United States",
          "India",
          "United States",
          "China",
          "United States",
          "China",
          "United States",
          "Indonesia",
          "India",
          "United States",
          "United States",
          "Singapore",
          "United States",
          "United Kingdom",
          "United States",
          "United States",
          "United States",
          "United States",
          "United Kingdom",
          "China",
          "United States",
          "China",
          "United Kingdom",
          "Canada",
          "United States",
          "Brazil",
          "United States",
          "United States",
          "Singapore",
          "India",
          "United States",
          "United States",
          "United States",
          "United States",
          "United States",
          "United States",
          "Canada",
          "United States",
          "United States",
          "United States",
          "United States",
          "United States",
          "Liechtenstein",
          "United States",
          "United States",
          "United States",
          "United States",
          "United States",
          "United States",
          "United States",
          "China",
          "United States",
          "United States",
          "United States",
          "United States",
          "United Kingdom",
          "China",
          "United States",
          "United States",
          "United States",
          "China",
          "China",
          "United States",
          "China",
          "United States",
          "United States",
          "Nigeria",
          "China",
          "United States",
          "India",
          "China",
          "United States",
          "United States",
          "India",
          "United States",
          "United States",
          "Germany",
          "United States",
          "United States",
          "Indonesia",
          "Indonesia",
          "India",
          "United States",
          "China",
          "United States",
          "United States",
          "Israel",
          "United States",
          "Germany",
          "China",
          "United Kingdom",
          "China",
          "United States",
          "China",
          "United Arab Emirates",
          "China",
          "United States",
          "Israel",
          "United States",
          "Israel",
          "China",
          "United States",
          "United States",
          "Finland",
          "United States",
          "France",
          "China",
          "United States",
          "Brazil",
          "United States",
          "Brazil",
          "China",
          "Israel",
          "United States",
          "United States",
          "Israel",
          "United States",
          "India",
          "China",
          "United States",
          "China",
          "United States",
          "United States",
          "United States",
          "Turkey",
          "United States",
          "United States",
          "India",
          "Israel",
          "United States",
          "United States",
          "India",
          "United States",
          "United States",
          "United States",
          "Israel",
          "Germany",
          "United States",
          "United States",
          "United States",
          "India",
          "Israel",
          "Ireland",
          "China",
          "Belgium",
          "United States",
          "United States",
          "China",
          "United States",
          "United States",
          "China",
          "United States",
          "United States",
          "United States",
          "India",
          "United States",
          "China",
          "United States",
          "United States",
          "United States",
          "China",
          "United States",
          "United States",
          "United States",
          "United States",
          "Singapore",
          "Austria",
          "United States",
          "United States",
          "China",
          "United States",
          "Sweden",
          "United Kingdom",
          "United States",
          "Singapore",
          "United States",
          "Sweden",
          "United States",
          "United States",
          "United States",
          "United States",
          "United Kingdom",
          "China",
          "United States",
          "United States",
          "United States",
          "United States",
          "United States",
          "India",
          "Netherlands",
          "United States",
          "China",
          "United Kingdom",
          "Indonesia",
          "United States",
          "China",
          "Netherlands",
          "Indonesia",
          "Canada",
          "China",
          "United States",
          "United States",
          "United States",
          "United States",
          "United States",
          "United States",
          "United States",
          "Malaysia",
          "Canada",
          "United States",
          "India",
          "United States",
          "China",
          "United States",
          "Germany",
          "United States",
          "United States",
          "Bermuda",
          "United States",
          "United States",
          "Netherlands",
          "United States",
          "Singapore",
          "United States",
          "Portugal",
          "United States",
          "China",
          "United Kingdom",
          "China",
          "United States",
          "India",
          "United States",
          "United States",
          "India",
          "United States",
          "United States",
          "United States",
          "United States",
          "United States",
          "United States",
          "Belgium",
          "United States",
          "United States",
          "France",
          "United States",
          "France",
          "United States",
          "South Korea",
          "China",
          "United States",
          "United States",
          "China",
          "United Arab Emirates",
          "United States",
          "United States",
          "China",
          "Germany",
          "United States",
          "Mexico",
          "Indonesia",
          "China",
          "United Kingdom",
          "United States",
          "United States",
          "United States",
          "India",
          "China",
          "Japan",
          "United States",
          "India",
          "United States",
          "United States",
          "Germany",
          "China",
          "United States",
          "United States",
          "Denmark",
          "United States",
          "United States",
          "United States",
          "United States",
          "United Kingdom",
          "Canada",
          "United States",
          "Czech Republic",
          "United States",
          "United States",
          "China",
          "United States",
          "United States",
          "United States",
          "United States",
          "United States",
          "United States",
          "United States",
          "China",
          "United States",
          "China",
          "United States",
          "India",
          "Singapore",
          "Finland",
          "United States",
          "Brazil",
          "United States",
          "China",
          "Germany",
          "China",
          "Germany",
          "United States",
          "United States",
          "Nigeria",
          "Germany",
          "Brazil",
          "United States",
          "India",
          "United States",
          "United States",
          "China",
          "United States",
          "Germany",
          "Australia",
          "Canada",
          "United States",
          "United States",
          "United States",
          "United States",
          "United States",
          "United States",
          "United States",
          "United Kingdom",
          "Singapore",
          "United States",
          "United States",
          "China",
          "United States",
          "Brazil",
          "United States",
          "United States",
          "Germany",
          "United States",
          "United Kingdom",
          "United States",
          "India",
          "Switzerland",
          "France",
          "United States",
          "Denmark",
          "Germany",
          "India",
          "China",
          "United States",
          "Ireland",
          "United States",
          "France",
          "United States",
          "India",
          "United States",
          "Japan",
          "United States",
          "Germany",
          "United States",
          "United States",
          "United States",
          "United States",
          "United States",
          "Australia",
          "United States",
          "United States",
          "India",
          "United States",
          "United States",
          "China",
          "United Kingdom",
          "United Kingdom",
          "India",
          "United States",
          "United States",
          "China",
          "United States",
          "United States",
          "China",
          "United States",
          "United States",
          "Spain",
          "Austria",
          "France",
          "United States",
          "United States",
          "United States",
          "United States",
          "United States",
          "United States",
          "United States",
          "United States",
          "United States",
          "Canada",
          "Vietnam",
          "United States",
          "United Kingdom",
          "Colombia",
          "United States",
          "China",
          "United States",
          "United States",
          "United States",
          "China",
          "United States",
          "China",
          "United States",
          "United States",
          "United States",
          "China",
          "United States",
          "United States",
          "United States",
          "United States",
          "China",
          "United States",
          "United States",
          "United States",
          "United States",
          "United States",
          "United States",
          "United States",
          "France",
          "United States",
          "China",
          "United States",
          "China",
          "United States",
          "Mexico",
          "United States",
          "India",
          "Japan",
          "United States",
          "Singapore",
          "United States",
          "United States",
          "United States",
          "United States",
          "United States",
          "India",
          "United States",
          "United Kingdom",
          "China",
          "China",
          "United States",
          "United States",
          "United States",
          "United States",
          "United States",
          "United States",
          "Hong Kong",
          "Canada",
          "United States",
          "Australia",
          "Canada",
          "United States",
          "United Kingdom",
          "United States",
          "United States",
          "United Kingdom",
          "United States",
          "United States",
          "China",
          "United States",
          "United States",
          "United States",
          "United States",
          "United States",
          "Senegal",
          "United Kingdom",
          "China",
          "United States",
          "China",
          "United States",
          "Mexico",
          "United States",
          "United States",
          "Canada",
          "United States",
          "Spain",
          "Israel",
          "Indonesia",
          "United States",
          "United States",
          "China",
          "Norway",
          "United States",
          "United States",
          "Turkey",
          "Germany",
          "Argentina",
          "India",
          "United States",
          "France",
          "France",
          "Canada",
          "United States",
          "United States",
          "United States",
          "United States",
          "China",
          "United States",
          "United States",
          "United States",
          "Canada",
          "United States",
          "United States",
          "China",
          "United States",
          "United States",
          "Brazil",
          "China",
          "United States",
          "Norway",
          "United Arab Emirates",
          "China",
          "United States",
          "United States",
          "United States",
          "United States",
          "United States",
          "United States",
          "United States",
          "France",
          "United States",
          "United States",
          "United States",
          "United States",
          "United States",
          "India",
          "United States",
          "Germany",
          "Sweden",
          "France",
          "United States",
          "United States",
          "United States",
          "United States",
          "India",
          "India",
          "United States",
          "United States",
          "India",
          "United States",
          "Australia",
          "China",
          "United States",
          "United States",
          "Germany",
          "United States",
          "China",
          "India",
          "Mexico",
          "United States",
          "China",
          "Israel",
          "United States",
          "India",
          "United States",
          "United States",
          "United States",
          "United States",
          "Vietnam",
          "India",
          "United States",
          "United Kingdom",
          "United States",
          "Chile",
          "United States",
          "United States",
          "United States",
          "Brazil",
          "United States",
          "United States",
          "India",
          "Thailand",
          "India",
          "United States",
          "United Kingdom",
          "United States",
          "Israel",
          "United States",
          "United States",
          "China",
          "United States",
          "Singapore",
          "United States",
          "China",
          "United States",
          "United States",
          "United Kingdom",
          "United States",
          "United States",
          "United Kingdom",
          "United States",
          "Brazil",
          "United States",
          "United States",
          "United States",
          "United States",
          "United States",
          "China",
          "United States",
          "United States",
          "United States",
          "China",
          "India",
          "United States",
          "United Kingdom",
          "United States",
          "Canada",
          "Canada",
          "Canada",
          "United States",
          "United Kingdom",
          "United States",
          "China",
          "China",
          "United States",
          "Thailand",
          "United States",
          "United States",
          "Mexico",
          "Germany",
          "United States",
          "India",
          "United States",
          "United States",
          "United States",
          "United States",
          "Brazil",
          "United States",
          "United States",
          "United States",
          "United States",
          "United States",
          "United States",
          "United States",
          "United States",
          "United States",
          "France",
          "United States",
          "India",
          "United States",
          "Singapore",
          "United States",
          "Singapore",
          "United States",
          "United States",
          "Israel",
          "United States",
          "Canada",
          "United States",
          "United States",
          "Hong Kong",
          "United States",
          "United States",
          "United States",
          "United States",
          "Switzerland",
          "France",
          "United States",
          "United States",
          "India",
          "United States",
          "China",
          "United States",
          "United States",
          "United States",
          "Mexico",
          "United States",
          "United States",
          "China",
          "Canada",
          "United States",
          "China",
          "United States",
          "United States",
          "China",
          "China",
          "United States",
          "United States",
          "China",
          "United States",
          "United States",
          "United States",
          "United States",
          "China",
          "China",
          "United States",
          "United States",
          "United States",
          "China",
          "Colombia",
          "Brazil",
          "United States",
          "United States",
          "United States",
          "United States",
          "Netherlands",
          "United States",
          "China",
          "United States",
          "Israel",
          "South Korea",
          "United States",
          "Hong Kong",
          "China",
          "China",
          "India",
          "United States",
          "China",
          "China",
          "China",
          "South Korea",
          "South Korea",
          "China",
          "United States",
          "United States",
          "United States",
          "China",
          "United States",
          "United States",
          "United States",
          "United States",
          "United States",
          "China",
          "United States",
          "United States",
          "United States",
          "United States",
          "Israel",
          "Netherlands",
          "United States",
          "United States",
          "China",
          "Hong Kong",
          "India",
          "United States",
          "China",
          "United States",
          "India",
          "United States",
          "United States",
          "China",
          "China",
          "United States",
          "United States",
          "United States",
          "United States",
          "United States",
          "United States",
          "United States",
          "United Kingdom",
          "Croatia",
          "United States",
          "South Korea",
          "Brazil",
          "United States",
          "United States",
          "China",
          "Hong Kong",
          "South Korea",
          "United States",
          "United States",
          "India",
          "United States",
          "United States",
          "United States",
          "United States",
          "Ireland",
          "China",
          "United States",
          "Israel",
          "United States",
          "United States",
          "China",
          "India",
          "China",
          "China",
          "United States",
          "United States",
          "United States",
          "United States",
          "China",
          "United States",
          "China",
          "Netherlands",
          "South Korea",
          "United States",
          "Germany",
          "United States",
          "China",
          "United States",
          "China",
          "United States",
          "United States",
          "United States",
          "United States",
          "United States",
          "United States",
          "United States",
          "China",
          "United Arab Emirates",
          "China",
          "Singapore",
          "United States",
          "United States",
          "India",
          "India",
          "United States",
          "India",
          "United Kingdom",
          "United States",
          "China",
          "United States",
          "Japan",
          "United States",
          "Luxembourg",
          "Indonesia",
          "United States",
          "United Kingdom",
          "United States",
          "United States",
          "Singapore",
          "United States",
          "United States",
          "United States",
          "China",
          "China",
          "China",
          "India",
          "France",
          "United States",
          "India",
          "China",
          "China",
          "Canada",
          "United States",
          "United States",
          "United States",
          "United States",
          "China",
          "United States",
          "United States",
          "China",
          "United Kingdom",
          "China",
          "United States",
          "China",
          "United States",
          "United Kingdom",
          "United States",
          "United Kingdom",
          "Brazil",
          "Switzerland",
          "United States",
          "United States",
          "United States",
          "United States",
          "United States",
          "Germany",
          "China",
          "Brazil",
          "United States",
          "Singapore",
          "China",
          "United States",
          "United States",
          "China",
          "United States",
          "United States",
          "China",
          "United Kingdom",
          "China",
          "India",
          "United States",
          "United States",
          "United States",
          "United Kingdom",
          "United States",
          "China",
          "China",
          "United States",
          "Germany",
          "United States",
          "China",
          "China",
          "United States",
          "United States",
          "United States",
          "United States",
          "United States",
          "Lithuania",
          "Australia",
          "United States",
          "China",
          "United States",
          "China",
          "Estonia",
          "South Korea",
          "Israel",
          "South Korea",
          "Brazil",
          "United States",
          "United States",
          "Luxembourg",
          "United States",
          "India",
          "United Kingdom",
          "United States",
          "United States",
          "United Kingdom",
          "United States",
          "China",
          "United States",
          "China",
          "South Korea",
          "China",
          "United Kingdom",
          "United States",
          "China",
          "China",
          "Japan",
          "China",
          "France",
          "Sweden",
          "United States",
          "United States",
          "United States",
          "United States",
          "China",
          "United States",
          "Switzerland",
          "United States",
          "United States",
          "India",
          "United States",
          "China",
          "China",
          "China",
          "China",
          "China",
          "China",
          "United States",
          "China",
          "United States",
          "United States",
          "China",
          "China",
          "China",
          "United States",
          "United States",
          "United States",
          "China",
          "United States",
          "Brazil",
          "United Kingdom",
          "China",
          "China",
          "Germany",
          "China",
          "United States",
          "China",
          "United States",
          "United States",
          "France",
          "China",
          "China",
          "China",
          "United States",
          "United States",
          "India",
          "China",
          "India",
          "United States",
          "United States",
          "China",
          "United States",
          "United States",
          "United States",
          "United Kingdom",
          "Australia",
          "India",
          "China",
          "United States",
          "United States",
          "United States",
          "United States",
          "Germany",
          "United States",
          "South Korea",
          "China",
          "China",
          "China",
          "United States",
          "China",
          "United States",
          "United States",
          "China",
          "United States",
          "Hong Kong",
          "United States",
          "Spain",
          "China",
          "United States",
          "United States",
          "United States",
          "China",
          "Colombia",
          "Germany",
          "United States",
          "Israel",
          "United States",
          "Japan",
          "United States",
          "United States",
          "Israel",
          "United Kingdom",
          "United States",
          "China",
          "United States",
          "Philippines",
          "United States",
          "United States",
          "China",
          "United States",
          "United Kingdom",
          "United States",
          "China",
          "China",
          "Germany",
          "United States",
          "India",
          "United States",
          "India",
          "United States",
          "China",
          "United Kingdom",
          "United States",
          "China",
          "China",
          "China",
          "United Kingdom",
          "China",
          "United Kingdom",
          "United States",
          "China",
          "Indonesia",
          "United States",
          "Germany",
          "United States",
          "China",
          "United States",
          "South Africa",
          "United States",
          "China",
          "United States",
          "United States",
          "United States",
          "Switzerland",
          "China",
          "China",
          "China",
          "China",
          "France",
          "United Kingdom",
          "China",
          "China",
          "South Africa",
          "China",
          "United States",
          "China",
          "India",
          "United States",
          "United States",
          "United States",
          "United States",
          "United States",
          "United States",
          "United States",
          "United States",
          "United States",
          "United States",
          "India",
          "France",
          "Sweden",
          "China",
          "United States",
          "United States",
          "China",
          "United States",
          "United States"
         ],
         "name": "",
         "subplot": "mapbox",
         "type": "choroplethmapbox",
         "z": [
          1,
          1,
          1,
          1,
          1,
          1,
          1,
          1,
          1,
          1,
          1,
          1,
          1,
          1,
          1,
          1,
          1,
          1,
          1,
          1,
          1,
          1,
          1,
          1,
          1,
          1,
          1,
          1,
          1,
          1,
          1,
          1,
          1,
          1,
          1,
          1,
          1,
          1,
          1,
          1,
          1,
          1,
          1,
          1,
          1,
          1,
          1,
          1,
          1,
          1,
          1,
          1,
          1,
          1,
          1,
          1,
          1,
          1,
          1,
          1,
          1,
          1,
          1,
          1,
          1,
          1,
          1,
          1,
          1,
          1,
          1,
          1,
          1,
          1,
          1,
          1,
          1,
          1,
          1,
          1,
          1,
          1,
          1,
          1,
          1,
          1,
          1,
          1,
          1,
          1,
          1,
          1,
          1,
          1,
          1,
          1,
          1,
          1,
          1,
          1,
          1,
          1,
          1,
          1,
          1,
          1,
          1,
          1,
          1,
          1,
          1,
          1,
          1,
          1,
          1,
          1,
          1,
          1,
          1,
          1,
          1,
          1,
          1,
          1,
          1,
          1,
          1,
          1,
          1,
          1,
          1,
          1,
          1,
          1,
          1,
          1,
          1,
          1,
          1,
          1,
          1,
          1,
          1,
          1,
          1,
          1,
          1,
          1,
          1,
          1,
          1,
          1,
          1,
          1,
          1,
          1,
          1,
          1,
          1,
          1,
          1,
          1,
          1,
          1,
          1,
          1,
          1,
          1,
          1,
          1,
          1,
          1,
          1,
          1,
          1,
          1,
          1,
          1,
          1,
          1,
          1,
          1,
          1,
          1,
          1,
          1,
          1,
          1,
          1,
          1,
          1,
          1,
          1,
          1,
          1,
          1,
          1,
          1,
          1,
          1,
          1,
          1,
          1,
          1,
          1,
          1,
          1,
          1,
          1,
          1,
          1,
          1,
          1,
          1,
          1,
          1,
          1,
          1,
          1,
          1,
          1,
          1,
          1,
          1,
          1,
          1,
          1,
          1,
          1,
          1,
          1,
          1,
          1,
          1,
          1,
          1,
          1,
          1,
          1,
          1,
          1,
          1,
          1,
          1,
          1,
          1,
          1,
          1,
          1,
          1,
          1,
          1,
          1,
          1,
          1,
          1,
          1,
          1,
          1,
          1,
          1,
          1,
          1,
          1,
          1,
          1,
          1,
          1,
          1,
          1,
          1,
          1,
          1,
          1,
          1,
          1,
          2,
          2,
          2,
          2,
          2,
          2,
          2,
          2,
          2,
          2,
          2,
          2,
          2,
          2,
          2,
          2,
          2,
          2,
          2,
          2,
          2,
          2,
          2,
          2,
          2,
          2,
          2,
          2,
          2,
          2,
          2,
          2,
          2,
          2,
          2,
          2,
          2,
          2,
          2,
          2,
          2,
          2,
          2,
          2,
          2,
          2,
          2,
          2,
          2,
          2,
          2,
          2,
          2,
          2,
          2,
          2,
          2,
          2,
          2,
          2,
          2,
          2,
          2,
          2,
          2,
          2,
          2,
          2,
          2,
          2,
          2,
          2,
          2,
          2,
          2,
          2,
          2,
          2,
          2,
          2,
          2,
          2,
          2,
          2,
          2,
          2,
          2,
          2,
          2,
          2,
          2,
          2,
          2,
          2,
          2,
          2,
          2,
          2,
          2,
          2,
          2,
          2,
          2,
          2,
          2,
          2,
          2,
          2,
          2,
          2,
          2,
          2,
          2,
          2,
          2,
          2,
          2,
          2,
          2,
          2,
          2,
          2,
          2,
          2,
          2,
          2,
          2,
          2,
          2,
          2,
          2,
          2,
          2,
          2,
          2,
          2,
          2,
          2,
          2,
          2,
          2,
          2,
          2,
          2,
          2,
          2,
          2,
          2,
          2,
          2,
          2,
          2,
          2,
          2,
          2,
          2,
          2,
          2,
          2,
          2,
          2,
          2,
          2,
          2,
          2,
          2,
          2,
          2,
          2,
          2,
          2,
          2,
          2,
          2,
          2,
          2,
          2,
          2,
          2,
          2,
          2,
          2,
          2,
          2,
          2,
          2,
          2,
          2,
          2,
          2,
          2,
          2,
          2,
          2,
          2,
          2,
          2,
          2,
          2,
          2,
          2,
          2,
          2,
          2,
          2,
          2,
          2,
          2,
          2,
          2,
          2,
          2,
          2,
          2,
          2,
          2,
          2,
          2,
          2,
          2,
          2,
          2,
          2,
          2,
          2,
          2,
          2,
          2,
          2,
          2,
          2,
          2,
          2,
          2,
          2,
          2,
          2,
          2,
          2,
          2,
          2,
          2,
          2,
          2,
          2,
          2,
          2,
          2,
          2,
          2,
          2,
          2,
          2,
          2,
          2,
          2,
          2,
          2,
          2,
          2,
          2,
          2,
          2,
          2,
          2,
          2,
          2,
          2,
          2,
          2,
          2,
          2,
          2,
          2,
          2,
          2,
          2,
          2,
          2,
          2,
          2,
          2,
          2,
          2,
          2,
          2,
          2,
          2,
          2,
          2,
          2,
          2,
          2,
          2,
          2,
          2,
          2,
          2,
          2,
          2,
          2,
          2,
          2,
          2,
          2,
          2,
          2,
          2,
          2,
          2,
          2,
          2,
          2,
          2,
          2,
          2,
          2,
          2,
          2,
          2,
          2,
          2,
          2,
          2,
          2,
          2,
          2,
          2,
          2,
          2,
          2,
          2,
          2,
          2,
          2,
          2,
          2,
          2,
          2,
          2,
          2,
          2,
          2,
          2,
          2,
          2,
          2,
          2,
          2,
          2,
          2,
          2,
          2,
          2,
          2,
          2,
          2,
          2,
          2,
          2,
          2,
          2,
          2,
          2,
          2,
          2,
          2,
          2,
          2,
          2,
          2,
          2,
          2,
          2,
          2,
          2,
          2,
          2,
          2,
          2,
          2,
          2,
          2,
          2,
          2,
          2,
          2,
          2,
          2,
          2,
          2,
          2,
          2,
          2,
          2,
          2,
          2,
          2,
          2,
          2,
          2,
          2,
          2,
          2,
          2,
          2,
          2,
          2,
          2,
          2,
          2,
          2,
          2,
          2,
          2,
          2,
          2,
          2,
          2,
          2,
          2,
          2,
          2,
          2,
          2,
          2,
          2,
          2,
          2,
          2,
          2,
          2,
          2,
          2,
          2,
          2,
          2,
          2,
          2,
          2,
          2,
          2,
          2,
          2,
          2,
          2,
          2,
          2,
          2,
          2,
          2,
          2,
          2,
          2,
          2,
          2,
          2,
          2,
          2,
          2,
          2,
          2,
          2,
          2,
          2,
          2,
          2,
          2,
          2,
          2,
          2,
          2,
          2,
          2,
          2,
          3,
          3,
          3,
          3,
          3,
          3,
          3,
          3,
          3,
          3,
          3,
          3,
          3,
          3,
          3,
          3,
          3,
          3,
          3,
          3,
          3,
          3,
          3,
          3,
          3,
          3,
          3,
          3,
          3,
          3,
          3,
          3,
          3,
          3,
          3,
          3,
          3,
          3,
          3,
          3,
          3,
          3,
          3,
          3,
          3,
          3,
          3,
          3,
          3,
          3,
          3,
          3,
          3,
          3,
          3,
          3,
          3,
          3,
          3,
          3,
          3,
          3,
          3,
          3,
          3,
          3,
          3,
          3,
          3,
          3,
          3,
          3,
          3,
          3,
          3,
          3,
          3,
          3,
          3,
          3,
          3,
          3,
          3,
          3,
          3,
          3,
          3,
          3,
          3,
          3,
          3,
          3,
          3,
          3,
          3,
          3,
          3,
          3,
          3,
          3,
          3,
          3,
          3,
          3,
          3,
          3,
          3,
          3,
          3,
          3,
          3,
          3,
          3,
          3,
          3,
          3,
          3,
          3,
          3,
          3,
          3,
          3,
          3,
          3,
          3,
          3,
          3,
          3,
          3,
          3,
          3,
          3,
          3,
          3,
          3,
          3,
          3,
          3,
          3,
          3,
          3,
          3,
          3,
          3,
          3,
          3,
          3,
          3,
          3,
          3,
          3,
          3,
          3,
          3,
          3,
          3,
          3,
          3,
          3,
          3,
          3,
          3,
          3,
          3,
          3,
          3,
          3,
          3,
          3,
          3,
          3,
          3,
          3,
          3,
          3,
          3,
          3,
          3,
          3,
          3,
          3,
          3,
          3,
          3,
          3,
          3,
          3,
          3,
          3,
          3,
          3,
          3,
          3,
          3,
          3,
          3,
          3,
          3,
          3,
          3,
          3,
          3,
          3,
          3,
          3,
          3,
          3,
          3,
          3,
          3,
          3,
          3,
          3,
          3,
          3,
          3,
          3,
          3,
          3,
          3,
          3,
          3,
          3,
          3,
          3,
          3,
          3,
          3,
          3,
          3,
          3,
          3,
          3,
          3,
          3,
          3,
          3,
          3,
          3,
          3,
          3,
          3,
          3,
          3,
          3,
          3,
          3,
          3,
          3,
          3,
          3,
          3,
          3,
          3,
          3,
          3,
          3,
          3,
          3,
          3,
          3,
          3,
          3,
          3,
          3,
          3,
          3,
          3,
          3,
          3,
          3,
          3,
          3,
          3,
          3,
          3,
          3,
          3,
          3,
          3,
          3,
          3,
          3,
          3,
          3,
          3,
          3,
          3,
          3,
          3,
          3,
          3,
          3,
          3,
          3,
          3,
          3,
          3,
          3,
          3,
          3,
          3,
          3,
          3,
          3,
          3,
          3,
          3,
          3,
          3,
          3,
          3,
          3,
          3,
          3,
          3,
          3,
          3,
          3,
          3,
          3,
          3,
          3,
          3,
          3,
          3,
          3,
          3,
          3,
          3,
          3,
          3,
          3,
          3,
          3,
          3,
          3,
          3,
          3,
          3,
          3,
          3,
          3,
          3,
          3,
          3,
          3,
          3,
          3,
          3,
          3,
          3,
          3,
          3,
          3,
          3,
          3,
          3,
          3,
          3,
          3,
          3,
          3,
          3,
          3,
          3,
          3,
          3,
          3,
          3,
          3,
          3,
          3,
          3,
          3,
          3,
          3,
          3,
          3,
          3,
          3,
          3,
          3,
          3,
          3,
          3,
          3,
          3,
          3,
          3,
          3,
          3,
          3,
          3,
          3,
          3,
          3,
          3,
          3,
          3,
          3,
          3,
          3,
          3,
          3,
          3,
          3,
          3,
          3,
          3,
          3,
          3,
          3,
          3,
          3,
          3,
          3,
          3,
          3,
          3,
          3,
          3,
          3,
          3,
          3,
          3,
          3,
          3,
          3,
          3,
          3,
          3,
          3,
          3,
          3,
          3,
          3,
          3,
          3,
          3,
          3,
          3,
          3,
          3,
          3,
          3,
          3,
          3,
          3,
          3,
          3,
          3,
          3,
          3,
          3,
          3,
          3,
          3,
          3,
          3,
          3,
          3,
          3,
          3,
          3,
          3,
          3,
          3,
          3,
          3,
          3,
          3,
          3,
          3,
          3,
          3,
          3,
          3,
          3,
          3,
          3,
          3,
          3,
          3,
          3,
          3,
          3,
          3,
          3,
          3,
          3,
          3,
          3,
          3,
          3,
          3,
          3,
          3,
          3,
          3,
          3,
          3,
          3,
          3,
          3,
          3,
          3,
          3,
          3,
          3,
          3,
          3,
          3,
          3,
          3,
          3,
          3,
          3,
          3,
          3,
          3,
          3,
          3,
          3,
          3,
          3,
          3,
          3,
          3,
          3,
          3,
          3,
          3,
          3,
          3,
          3,
          3,
          3,
          3,
          3,
          3,
          3,
          3,
          3,
          3,
          3,
          3,
          3,
          3,
          3,
          3,
          3,
          3,
          3,
          3,
          3,
          3,
          3,
          3,
          3,
          3,
          3,
          3,
          3,
          3,
          3,
          3,
          3,
          3,
          3,
          3,
          3,
          3,
          3,
          3,
          3,
          3,
          3,
          3,
          3,
          3,
          4,
          4,
          4,
          4,
          4,
          4,
          4,
          4,
          4,
          4,
          4,
          4,
          4,
          4,
          4,
          4,
          4,
          4,
          4,
          4,
          4,
          4,
          4,
          4,
          4,
          4,
          4,
          4,
          4,
          4,
          4,
          4,
          4,
          4,
          4,
          4,
          4,
          4,
          4,
          4,
          4,
          4,
          4,
          4,
          4,
          4,
          4,
          4,
          4,
          4,
          4,
          4,
          4,
          4,
          4,
          4,
          4,
          4,
          4,
          4,
          4,
          4,
          4,
          4,
          4,
          4,
          4,
          4,
          4,
          4,
          4,
          4,
          4,
          4,
          4,
          4,
          4,
          4,
          4,
          4,
          4,
          4,
          4,
          4,
          4,
          4,
          4,
          4,
          4,
          4,
          4,
          4,
          4,
          4,
          4,
          4,
          4,
          4,
          4,
          4,
          4,
          4,
          4,
          4,
          4,
          4,
          4,
          4,
          4,
          4,
          4,
          4,
          4,
          4,
          4,
          4,
          4,
          4,
          4,
          4,
          4,
          4,
          4,
          4,
          4,
          4,
          4,
          4,
          4,
          4,
          4,
          4,
          4,
          4,
          4,
          4,
          4,
          4,
          4,
          4,
          4,
          4,
          4,
          4,
          4,
          4,
          4,
          4,
          4,
          4,
          4,
          4,
          4,
          4,
          4,
          4,
          4,
          4,
          4,
          4,
          4,
          4,
          4,
          4,
          4,
          4,
          4,
          4,
          4,
          4,
          4,
          4,
          4,
          4,
          4,
          4,
          4,
          4,
          4,
          4,
          4,
          4,
          4,
          4,
          4,
          4,
          4,
          4,
          4,
          4,
          4,
          5,
          5,
          5,
          5,
          5,
          5,
          5,
          5,
          5,
          5,
          5,
          5,
          5,
          5,
          5,
          5,
          5,
          5,
          5,
          5,
          5,
          5,
          5,
          5,
          5,
          5,
          5,
          5,
          5,
          5,
          5,
          5,
          5,
          5,
          5,
          5,
          5,
          5,
          5,
          5,
          5,
          5,
          5,
          5,
          5,
          5,
          5,
          5,
          5,
          5,
          5,
          5,
          5,
          5,
          5,
          5,
          5,
          5,
          5,
          5,
          5,
          5,
          5,
          5,
          5,
          5,
          5,
          5,
          5,
          5,
          5,
          5,
          5,
          5,
          5,
          5,
          5,
          5,
          5,
          5,
          5,
          5,
          5,
          5,
          5,
          5,
          5,
          5,
          5,
          5,
          5,
          5,
          5,
          5,
          5,
          5,
          5,
          5,
          5,
          5,
          5,
          5,
          5,
          5,
          5,
          5,
          5,
          5,
          5,
          5,
          5,
          5,
          5,
          5,
          5,
          5,
          5,
          5,
          5,
          5,
          5,
          5,
          5,
          5,
          5,
          6,
          6,
          6,
          6,
          6,
          6,
          6,
          6,
          6,
          6,
          6,
          6,
          6,
          6,
          6,
          6,
          6,
          6,
          6,
          6,
          6,
          6,
          6,
          6,
          6,
          6,
          6,
          6,
          6,
          6,
          6,
          6,
          6,
          6,
          6,
          6,
          6,
          6,
          6,
          6,
          6,
          6,
          6,
          6,
          6,
          6,
          6,
          6,
          6,
          6,
          6,
          6,
          6,
          6,
          6,
          6,
          6,
          6,
          6,
          6,
          6,
          6,
          7,
          7,
          7,
          7,
          7,
          7,
          7,
          7,
          7,
          7,
          7,
          7,
          7,
          7,
          7,
          7,
          7,
          7,
          7,
          8,
          8,
          8,
          8,
          8,
          8,
          8,
          8,
          8,
          8,
          8,
          8,
          8,
          8,
          8,
          8,
          8,
          9,
          9,
          9,
          9,
          9,
          9,
          9,
          9,
          9,
          9,
          9,
          9,
          9,
          9,
          9,
          9,
          9,
          9,
          9
         ]
        }
       ],
       "layout": {
        "coloraxis": {
         "colorbar": {
          "title": {
           "text": "count"
          }
         },
         "colorscale": [
          [
           0,
           "#000004"
          ],
          [
           0.1111111111111111,
           "#180f3d"
          ],
          [
           0.2222222222222222,
           "#440f76"
          ],
          [
           0.3333333333333333,
           "#721f81"
          ],
          [
           0.4444444444444444,
           "#9e2f7f"
          ],
          [
           0.5555555555555556,
           "#cd4071"
          ],
          [
           0.6666666666666666,
           "#f1605d"
          ],
          [
           0.7777777777777778,
           "#fd9668"
          ],
          [
           0.8888888888888888,
           "#feca8d"
          ],
          [
           1,
           "#fcfdbf"
          ]
         ],
         "showscale": true
        },
        "font": {
         "color": "#AF1D56"
        },
        "height": 750,
        "legend": {
         "title": {
          "text": ""
         },
         "tracegroupgap": 0
        },
        "mapbox": {
         "center": {
          "lat": 41.0037,
          "lon": 28.9737
         },
         "domain": {
          "x": [
           0,
           1
          ],
          "y": [
           0,
           1
          ]
         },
         "style": "carto-positron",
         "zoom": 10
        },
        "paper_bgcolor": "#fff",
        "template": {
         "data": {
          "bar": [
           {
            "error_x": {
             "color": "#2a3f5f"
            },
            "error_y": {
             "color": "#2a3f5f"
            },
            "marker": {
             "line": {
              "color": "#E5ECF6",
              "width": 0.5
             },
             "pattern": {
              "fillmode": "overlay",
              "size": 10,
              "solidity": 0.2
             }
            },
            "type": "bar"
           }
          ],
          "barpolar": [
           {
            "marker": {
             "line": {
              "color": "#E5ECF6",
              "width": 0.5
             },
             "pattern": {
              "fillmode": "overlay",
              "size": 10,
              "solidity": 0.2
             }
            },
            "type": "barpolar"
           }
          ],
          "carpet": [
           {
            "aaxis": {
             "endlinecolor": "#2a3f5f",
             "gridcolor": "white",
             "linecolor": "white",
             "minorgridcolor": "white",
             "startlinecolor": "#2a3f5f"
            },
            "baxis": {
             "endlinecolor": "#2a3f5f",
             "gridcolor": "white",
             "linecolor": "white",
             "minorgridcolor": "white",
             "startlinecolor": "#2a3f5f"
            },
            "type": "carpet"
           }
          ],
          "choropleth": [
           {
            "colorbar": {
             "outlinewidth": 0,
             "ticks": ""
            },
            "type": "choropleth"
           }
          ],
          "contour": [
           {
            "colorbar": {
             "outlinewidth": 0,
             "ticks": ""
            },
            "colorscale": [
             [
              0,
              "#0d0887"
             ],
             [
              0.1111111111111111,
              "#46039f"
             ],
             [
              0.2222222222222222,
              "#7201a8"
             ],
             [
              0.3333333333333333,
              "#9c179e"
             ],
             [
              0.4444444444444444,
              "#bd3786"
             ],
             [
              0.5555555555555556,
              "#d8576b"
             ],
             [
              0.6666666666666666,
              "#ed7953"
             ],
             [
              0.7777777777777778,
              "#fb9f3a"
             ],
             [
              0.8888888888888888,
              "#fdca26"
             ],
             [
              1,
              "#f0f921"
             ]
            ],
            "type": "contour"
           }
          ],
          "contourcarpet": [
           {
            "colorbar": {
             "outlinewidth": 0,
             "ticks": ""
            },
            "type": "contourcarpet"
           }
          ],
          "heatmap": [
           {
            "colorbar": {
             "outlinewidth": 0,
             "ticks": ""
            },
            "colorscale": [
             [
              0,
              "#0d0887"
             ],
             [
              0.1111111111111111,
              "#46039f"
             ],
             [
              0.2222222222222222,
              "#7201a8"
             ],
             [
              0.3333333333333333,
              "#9c179e"
             ],
             [
              0.4444444444444444,
              "#bd3786"
             ],
             [
              0.5555555555555556,
              "#d8576b"
             ],
             [
              0.6666666666666666,
              "#ed7953"
             ],
             [
              0.7777777777777778,
              "#fb9f3a"
             ],
             [
              0.8888888888888888,
              "#fdca26"
             ],
             [
              1,
              "#f0f921"
             ]
            ],
            "type": "heatmap"
           }
          ],
          "heatmapgl": [
           {
            "colorbar": {
             "outlinewidth": 0,
             "ticks": ""
            },
            "colorscale": [
             [
              0,
              "#0d0887"
             ],
             [
              0.1111111111111111,
              "#46039f"
             ],
             [
              0.2222222222222222,
              "#7201a8"
             ],
             [
              0.3333333333333333,
              "#9c179e"
             ],
             [
              0.4444444444444444,
              "#bd3786"
             ],
             [
              0.5555555555555556,
              "#d8576b"
             ],
             [
              0.6666666666666666,
              "#ed7953"
             ],
             [
              0.7777777777777778,
              "#fb9f3a"
             ],
             [
              0.8888888888888888,
              "#fdca26"
             ],
             [
              1,
              "#f0f921"
             ]
            ],
            "type": "heatmapgl"
           }
          ],
          "histogram": [
           {
            "marker": {
             "pattern": {
              "fillmode": "overlay",
              "size": 10,
              "solidity": 0.2
             }
            },
            "type": "histogram"
           }
          ],
          "histogram2d": [
           {
            "colorbar": {
             "outlinewidth": 0,
             "ticks": ""
            },
            "colorscale": [
             [
              0,
              "#0d0887"
             ],
             [
              0.1111111111111111,
              "#46039f"
             ],
             [
              0.2222222222222222,
              "#7201a8"
             ],
             [
              0.3333333333333333,
              "#9c179e"
             ],
             [
              0.4444444444444444,
              "#bd3786"
             ],
             [
              0.5555555555555556,
              "#d8576b"
             ],
             [
              0.6666666666666666,
              "#ed7953"
             ],
             [
              0.7777777777777778,
              "#fb9f3a"
             ],
             [
              0.8888888888888888,
              "#fdca26"
             ],
             [
              1,
              "#f0f921"
             ]
            ],
            "type": "histogram2d"
           }
          ],
          "histogram2dcontour": [
           {
            "colorbar": {
             "outlinewidth": 0,
             "ticks": ""
            },
            "colorscale": [
             [
              0,
              "#0d0887"
             ],
             [
              0.1111111111111111,
              "#46039f"
             ],
             [
              0.2222222222222222,
              "#7201a8"
             ],
             [
              0.3333333333333333,
              "#9c179e"
             ],
             [
              0.4444444444444444,
              "#bd3786"
             ],
             [
              0.5555555555555556,
              "#d8576b"
             ],
             [
              0.6666666666666666,
              "#ed7953"
             ],
             [
              0.7777777777777778,
              "#fb9f3a"
             ],
             [
              0.8888888888888888,
              "#fdca26"
             ],
             [
              1,
              "#f0f921"
             ]
            ],
            "type": "histogram2dcontour"
           }
          ],
          "mesh3d": [
           {
            "colorbar": {
             "outlinewidth": 0,
             "ticks": ""
            },
            "type": "mesh3d"
           }
          ],
          "parcoords": [
           {
            "line": {
             "colorbar": {
              "outlinewidth": 0,
              "ticks": ""
             }
            },
            "type": "parcoords"
           }
          ],
          "pie": [
           {
            "automargin": true,
            "type": "pie"
           }
          ],
          "scatter": [
           {
            "fillpattern": {
             "fillmode": "overlay",
             "size": 10,
             "solidity": 0.2
            },
            "type": "scatter"
           }
          ],
          "scatter3d": [
           {
            "line": {
             "colorbar": {
              "outlinewidth": 0,
              "ticks": ""
             }
            },
            "marker": {
             "colorbar": {
              "outlinewidth": 0,
              "ticks": ""
             }
            },
            "type": "scatter3d"
           }
          ],
          "scattercarpet": [
           {
            "marker": {
             "colorbar": {
              "outlinewidth": 0,
              "ticks": ""
             }
            },
            "type": "scattercarpet"
           }
          ],
          "scattergeo": [
           {
            "marker": {
             "colorbar": {
              "outlinewidth": 0,
              "ticks": ""
             }
            },
            "type": "scattergeo"
           }
          ],
          "scattergl": [
           {
            "marker": {
             "colorbar": {
              "outlinewidth": 0,
              "ticks": ""
             }
            },
            "type": "scattergl"
           }
          ],
          "scattermapbox": [
           {
            "marker": {
             "colorbar": {
              "outlinewidth": 0,
              "ticks": ""
             }
            },
            "type": "scattermapbox"
           }
          ],
          "scatterpolar": [
           {
            "marker": {
             "colorbar": {
              "outlinewidth": 0,
              "ticks": ""
             }
            },
            "type": "scatterpolar"
           }
          ],
          "scatterpolargl": [
           {
            "marker": {
             "colorbar": {
              "outlinewidth": 0,
              "ticks": ""
             }
            },
            "type": "scatterpolargl"
           }
          ],
          "scatterternary": [
           {
            "marker": {
             "colorbar": {
              "outlinewidth": 0,
              "ticks": ""
             }
            },
            "type": "scatterternary"
           }
          ],
          "surface": [
           {
            "colorbar": {
             "outlinewidth": 0,
             "ticks": ""
            },
            "colorscale": [
             [
              0,
              "#0d0887"
             ],
             [
              0.1111111111111111,
              "#46039f"
             ],
             [
              0.2222222222222222,
              "#7201a8"
             ],
             [
              0.3333333333333333,
              "#9c179e"
             ],
             [
              0.4444444444444444,
              "#bd3786"
             ],
             [
              0.5555555555555556,
              "#d8576b"
             ],
             [
              0.6666666666666666,
              "#ed7953"
             ],
             [
              0.7777777777777778,
              "#fb9f3a"
             ],
             [
              0.8888888888888888,
              "#fdca26"
             ],
             [
              1,
              "#f0f921"
             ]
            ],
            "type": "surface"
           }
          ],
          "table": [
           {
            "cells": {
             "fill": {
              "color": "#EBF0F8"
             },
             "line": {
              "color": "white"
             }
            },
            "header": {
             "fill": {
              "color": "#C8D4E3"
             },
             "line": {
              "color": "white"
             }
            },
            "type": "table"
           }
          ]
         },
         "layout": {
          "annotationdefaults": {
           "arrowcolor": "#2a3f5f",
           "arrowhead": 0,
           "arrowwidth": 1
          },
          "autotypenumbers": "strict",
          "coloraxis": {
           "colorbar": {
            "outlinewidth": 0,
            "ticks": ""
           }
          },
          "colorscale": {
           "diverging": [
            [
             0,
             "#8e0152"
            ],
            [
             0.1,
             "#c51b7d"
            ],
            [
             0.2,
             "#de77ae"
            ],
            [
             0.3,
             "#f1b6da"
            ],
            [
             0.4,
             "#fde0ef"
            ],
            [
             0.5,
             "#f7f7f7"
            ],
            [
             0.6,
             "#e6f5d0"
            ],
            [
             0.7,
             "#b8e186"
            ],
            [
             0.8,
             "#7fbc41"
            ],
            [
             0.9,
             "#4d9221"
            ],
            [
             1,
             "#276419"
            ]
           ],
           "sequential": [
            [
             0,
             "#0d0887"
            ],
            [
             0.1111111111111111,
             "#46039f"
            ],
            [
             0.2222222222222222,
             "#7201a8"
            ],
            [
             0.3333333333333333,
             "#9c179e"
            ],
            [
             0.4444444444444444,
             "#bd3786"
            ],
            [
             0.5555555555555556,
             "#d8576b"
            ],
            [
             0.6666666666666666,
             "#ed7953"
            ],
            [
             0.7777777777777778,
             "#fb9f3a"
            ],
            [
             0.8888888888888888,
             "#fdca26"
            ],
            [
             1,
             "#f0f921"
            ]
           ],
           "sequentialminus": [
            [
             0,
             "#0d0887"
            ],
            [
             0.1111111111111111,
             "#46039f"
            ],
            [
             0.2222222222222222,
             "#7201a8"
            ],
            [
             0.3333333333333333,
             "#9c179e"
            ],
            [
             0.4444444444444444,
             "#bd3786"
            ],
            [
             0.5555555555555556,
             "#d8576b"
            ],
            [
             0.6666666666666666,
             "#ed7953"
            ],
            [
             0.7777777777777778,
             "#fb9f3a"
            ],
            [
             0.8888888888888888,
             "#fdca26"
            ],
            [
             1,
             "#f0f921"
            ]
           ]
          },
          "colorway": [
           "#636efa",
           "#EF553B",
           "#00cc96",
           "#ab63fa",
           "#FFA15A",
           "#19d3f3",
           "#FF6692",
           "#B6E880",
           "#FF97FF",
           "#FECB52"
          ],
          "font": {
           "color": "#2a3f5f"
          },
          "geo": {
           "bgcolor": "white",
           "lakecolor": "white",
           "landcolor": "#E5ECF6",
           "showlakes": true,
           "showland": true,
           "subunitcolor": "white"
          },
          "hoverlabel": {
           "align": "left"
          },
          "hovermode": "closest",
          "mapbox": {
           "style": "light"
          },
          "paper_bgcolor": "white",
          "plot_bgcolor": "#E5ECF6",
          "polar": {
           "angularaxis": {
            "gridcolor": "white",
            "linecolor": "white",
            "ticks": ""
           },
           "bgcolor": "#E5ECF6",
           "radialaxis": {
            "gridcolor": "white",
            "linecolor": "white",
            "ticks": ""
           }
          },
          "scene": {
           "xaxis": {
            "backgroundcolor": "#E5ECF6",
            "gridcolor": "white",
            "gridwidth": 2,
            "linecolor": "white",
            "showbackground": true,
            "ticks": "",
            "zerolinecolor": "white"
           },
           "yaxis": {
            "backgroundcolor": "#E5ECF6",
            "gridcolor": "white",
            "gridwidth": 2,
            "linecolor": "white",
            "showbackground": true,
            "ticks": "",
            "zerolinecolor": "white"
           },
           "zaxis": {
            "backgroundcolor": "#E5ECF6",
            "gridcolor": "white",
            "gridwidth": 2,
            "linecolor": "white",
            "showbackground": true,
            "ticks": "",
            "zerolinecolor": "white"
           }
          },
          "shapedefaults": {
           "line": {
            "color": "#2a3f5f"
           }
          },
          "ternary": {
           "aaxis": {
            "gridcolor": "white",
            "linecolor": "white",
            "ticks": ""
           },
           "baxis": {
            "gridcolor": "white",
            "linecolor": "white",
            "ticks": ""
           },
           "bgcolor": "#E5ECF6",
           "caxis": {
            "gridcolor": "white",
            "linecolor": "white",
            "ticks": ""
           }
          },
          "title": {
           "x": 0.05
          },
          "xaxis": {
           "automargin": true,
           "gridcolor": "white",
           "linecolor": "white",
           "ticks": "",
           "title": {
            "standoff": 15
           },
           "zerolinecolor": "white",
           "zerolinewidth": 2
          },
          "yaxis": {
           "automargin": true,
           "gridcolor": "white",
           "linecolor": "white",
           "ticks": "",
           "title": {
            "standoff": 15
           },
           "zerolinecolor": "white",
           "zerolinewidth": 2
          }
         }
        },
        "title": {
         "font": {
          "size": 40
         },
         "text": "Empresas Unicornios",
         "x": 0.5
        },
        "width": 1000
       }
      }
     },
     "metadata": {},
     "output_type": "display_data"
    }
   ],
   "source": [
    "# Cantidad de Empresas Unicornios\n",
    "\n",
    "df_empresas_count = pd.DataFrame(empresas_count)\n",
    "df_empresas_count = df_empresas_count.reset_index()\n",
    "adam = gpd.read_file(\"Data/coordenadas.geojson\")\n",
    "fig3 = px.choropleth_mapbox(df_empresas_count, geojson=adam, featureidkey='properties.Country',locations =\"Country\",color ='count', \n",
    "                            color_continuous_scale='magma', title=\"Empresas Unicornios\",zoom=10, hover_data = ['Company','count'],\n",
    "                            mapbox_style=\"carto-positron\",width=1000, height=750,center = {\"lat\": 41.0037, \"lon\": 28.9737})\n",
    "fig3.update(layout_coloraxis_showscale=True)\n",
    "fig3.update_layout( paper_bgcolor=\"#fff\",font_color=\"#AF1D56\",title_font_size=40, title_x = 0.5)\n",
    "fig3.update_layout(legend=dict(title=\"\"))\n",
    "fig3.show()"
   ]
  },
  {
   "cell_type": "code",
   "execution_count": 129,
   "metadata": {},
   "outputs": [
    {
     "data": {
      "text/html": [
       "<div>\n",
       "<style scoped>\n",
       "    .dataframe tbody tr th:only-of-type {\n",
       "        vertical-align: middle;\n",
       "    }\n",
       "\n",
       "    .dataframe tbody tr th {\n",
       "        vertical-align: top;\n",
       "    }\n",
       "\n",
       "    .dataframe thead th {\n",
       "        text-align: right;\n",
       "    }\n",
       "</style>\n",
       "<table border=\"1\" class=\"dataframe\">\n",
       "  <thead>\n",
       "    <tr style=\"text-align: right;\">\n",
       "      <th></th>\n",
       "      <th>Company</th>\n",
       "      <th>Country</th>\n",
       "      <th>count</th>\n",
       "    </tr>\n",
       "  </thead>\n",
       "  <tbody>\n",
       "    <tr>\n",
       "      <th>0</th>\n",
       "      <td>Tier</td>\n",
       "      <td>Germany</td>\n",
       "      <td>1</td>\n",
       "    </tr>\n",
       "    <tr>\n",
       "      <th>1</th>\n",
       "      <td>Redis</td>\n",
       "      <td>United States</td>\n",
       "      <td>1</td>\n",
       "    </tr>\n",
       "    <tr>\n",
       "      <th>2</th>\n",
       "      <td>Zhangmen</td>\n",
       "      <td>China</td>\n",
       "      <td>1</td>\n",
       "    </tr>\n",
       "    <tr>\n",
       "      <th>3</th>\n",
       "      <td>e-shang Redwood</td>\n",
       "      <td>China</td>\n",
       "      <td>1</td>\n",
       "    </tr>\n",
       "    <tr>\n",
       "      <th>4</th>\n",
       "      <td>C3</td>\n",
       "      <td>United States</td>\n",
       "      <td>1</td>\n",
       "    </tr>\n",
       "    <tr>\n",
       "      <th>...</th>\n",
       "      <td>...</td>\n",
       "      <td>...</td>\n",
       "      <td>...</td>\n",
       "    </tr>\n",
       "    <tr>\n",
       "      <th>1760</th>\n",
       "      <td>Avant</td>\n",
       "      <td>United States</td>\n",
       "      <td>9</td>\n",
       "    </tr>\n",
       "    <tr>\n",
       "      <th>1761</th>\n",
       "      <td>Automattic</td>\n",
       "      <td>United States</td>\n",
       "      <td>9</td>\n",
       "    </tr>\n",
       "    <tr>\n",
       "      <th>1762</th>\n",
       "      <td>Apus Group</td>\n",
       "      <td>China</td>\n",
       "      <td>9</td>\n",
       "    </tr>\n",
       "    <tr>\n",
       "      <th>1763</th>\n",
       "      <td>SpaceX</td>\n",
       "      <td>United States</td>\n",
       "      <td>9</td>\n",
       "    </tr>\n",
       "    <tr>\n",
       "      <th>1764</th>\n",
       "      <td>Lookout</td>\n",
       "      <td>United States</td>\n",
       "      <td>9</td>\n",
       "    </tr>\n",
       "  </tbody>\n",
       "</table>\n",
       "<p>1765 rows × 3 columns</p>\n",
       "</div>"
      ],
      "text/plain": [
       "              Company        Country  count\n",
       "0                Tier        Germany      1\n",
       "1               Redis  United States      1\n",
       "2            Zhangmen          China      1\n",
       "3     e-shang Redwood          China      1\n",
       "4                  C3  United States      1\n",
       "...               ...            ...    ...\n",
       "1760            Avant  United States      9\n",
       "1761       Automattic  United States      9\n",
       "1762       Apus Group          China      9\n",
       "1763           SpaceX  United States      9\n",
       "1764          Lookout  United States      9\n",
       "\n",
       "[1765 rows x 3 columns]"
      ]
     },
     "execution_count": 129,
     "metadata": {},
     "output_type": "execute_result"
    }
   ],
   "source": [
    "df_empresas_count"
   ]
  },
  {
   "cell_type": "markdown",
   "metadata": {},
   "source": [
    "### ¿Comparación con PBI del país al que pertenece o con otros países? (AB testing)"
   ]
  },
  {
   "cell_type": "markdown",
   "metadata": {},
   "source": [
    "#### Data con paises del top10 2013"
   ]
  },
  {
   "cell_type": "code",
   "execution_count": 80,
   "metadata": {},
   "outputs": [],
   "source": [
    "# Generamos una lista con los paises que se encuentran en el top 10 del 2013\n",
    "top_10 = top_10_2023['Company'].unique()\n",
    "top_10 = top_10.tolist()"
   ]
  },
  {
   "cell_type": "code",
   "execution_count": 81,
   "metadata": {},
   "outputs": [],
   "source": [
    "# Generamos un nuevo df a partir de nuesto df unicorns pero solamente para los paises de top10\n",
    "data_top_10 = unicorns[unicorns['Company'].isin(top_10)]"
   ]
  },
  {
   "cell_type": "code",
   "execution_count": 82,
   "metadata": {},
   "outputs": [
    {
     "data": {
      "text/html": [
       "<div>\n",
       "<style scoped>\n",
       "    .dataframe tbody tr th:only-of-type {\n",
       "        vertical-align: middle;\n",
       "    }\n",
       "\n",
       "    .dataframe tbody tr th {\n",
       "        vertical-align: top;\n",
       "    }\n",
       "\n",
       "    .dataframe thead th {\n",
       "        text-align: right;\n",
       "    }\n",
       "</style>\n",
       "<table border=\"1\" class=\"dataframe\">\n",
       "  <thead>\n",
       "    <tr style=\"text-align: right;\">\n",
       "      <th></th>\n",
       "      <th>Company</th>\n",
       "      <th>Valuation ($B)</th>\n",
       "      <th>Date Joined</th>\n",
       "      <th>Country</th>\n",
       "      <th>Industry</th>\n",
       "      <th>Investor</th>\n",
       "      <th>Day_List</th>\n",
       "      <th>Year</th>\n",
       "      <th>City</th>\n",
       "    </tr>\n",
       "  </thead>\n",
       "  <tbody>\n",
       "    <tr>\n",
       "      <th>7</th>\n",
       "      <td>SpaceX</td>\n",
       "      <td>12.0</td>\n",
       "      <td>2012-12-01</td>\n",
       "      <td>United States</td>\n",
       "      <td>Other</td>\n",
       "      <td>Founders Fund, Draper\\n\\t  Fisher Jurvetson, R...</td>\n",
       "      <td>2015-12-11</td>\n",
       "      <td>2015</td>\n",
       "      <td>no_data</td>\n",
       "    </tr>\n",
       "    <tr>\n",
       "      <th>17</th>\n",
       "      <td>Stripe</td>\n",
       "      <td>5.0</td>\n",
       "      <td>2014-01-23</td>\n",
       "      <td>United States</td>\n",
       "      <td>Finance Technology</td>\n",
       "      <td>Khosla Ventures, Lowercase\\n\\t  Capital, Redpo...</td>\n",
       "      <td>2015-12-11</td>\n",
       "      <td>2015</td>\n",
       "      <td>no_data</td>\n",
       "    </tr>\n",
       "    <tr>\n",
       "      <th>30</th>\n",
       "      <td>Fanatics</td>\n",
       "      <td>3.1</td>\n",
       "      <td>2012-06-06</td>\n",
       "      <td>United States</td>\n",
       "      <td>e-commerce</td>\n",
       "      <td>Insight Venture Partners,\\n\\t  Andreessen Horo...</td>\n",
       "      <td>2015-12-11</td>\n",
       "      <td>2015</td>\n",
       "      <td>no_data</td>\n",
       "    </tr>\n",
       "    <tr>\n",
       "      <th>10</th>\n",
       "      <td>SpaceX</td>\n",
       "      <td>12.0</td>\n",
       "      <td>2012-12-01</td>\n",
       "      <td>United States</td>\n",
       "      <td>Other</td>\n",
       "      <td>Founders Fund, Draper\\n\\t  Fisher Jurvetson, R...</td>\n",
       "      <td>2016-12-23</td>\n",
       "      <td>2016</td>\n",
       "      <td>no_data</td>\n",
       "    </tr>\n",
       "    <tr>\n",
       "      <th>15</th>\n",
       "      <td>Stripe</td>\n",
       "      <td>9.2</td>\n",
       "      <td>2014-01-23</td>\n",
       "      <td>United States</td>\n",
       "      <td>Finance Technology</td>\n",
       "      <td>Khosla Ventures, Lowercase\\n\\t  Capital, capitalG</td>\n",
       "      <td>2016-12-23</td>\n",
       "      <td>2016</td>\n",
       "      <td>no_data</td>\n",
       "    </tr>\n",
       "  </tbody>\n",
       "</table>\n",
       "</div>"
      ],
      "text/plain": [
       "     Company  Valuation ($B) Date Joined        Country            Industry  \\\n",
       "7     SpaceX            12.0  2012-12-01  United States               Other   \n",
       "17    Stripe             5.0  2014-01-23  United States  Finance Technology   \n",
       "30  Fanatics             3.1  2012-06-06  United States          e-commerce   \n",
       "10    SpaceX            12.0  2012-12-01  United States               Other   \n",
       "15    Stripe             9.2  2014-01-23  United States  Finance Technology   \n",
       "\n",
       "                                             Investor   Day_List  Year  \\\n",
       "7   Founders Fund, Draper\\n\\t  Fisher Jurvetson, R... 2015-12-11  2015   \n",
       "17  Khosla Ventures, Lowercase\\n\\t  Capital, Redpo... 2015-12-11  2015   \n",
       "30  Insight Venture Partners,\\n\\t  Andreessen Horo... 2015-12-11  2015   \n",
       "10  Founders Fund, Draper\\n\\t  Fisher Jurvetson, R... 2016-12-23  2016   \n",
       "15  Khosla Ventures, Lowercase\\n\\t  Capital, capitalG 2016-12-23  2016   \n",
       "\n",
       "       City  \n",
       "7   no_data  \n",
       "17  no_data  \n",
       "30  no_data  \n",
       "10  no_data  \n",
       "15  no_data  "
      ]
     },
     "execution_count": 82,
     "metadata": {},
     "output_type": "execute_result"
    }
   ],
   "source": [
    "data_top_10.head()"
   ]
  },
  {
   "cell_type": "markdown",
   "metadata": {},
   "source": [
    "#### PBI"
   ]
  },
  {
   "cell_type": "markdown",
   "metadata": {},
   "source": [
    "fuente: FMI: https://www.imf.org/external/datamapper/NGDPD@WEO/OEMDC/ADVEC/WEOWORLD/USA"
   ]
  },
  {
   "cell_type": "code",
   "execution_count": 83,
   "metadata": {},
   "outputs": [],
   "source": [
    "# leemos y creamos el df con el PBI\n",
    "PBI = pd.read_excel('Data/imf-dm-export-20230712.xls')"
   ]
  },
  {
   "cell_type": "code",
   "execution_count": 84,
   "metadata": {},
   "outputs": [],
   "source": [
    "# Seleccionamos los paises en los que se encuentran nuestras empresas unicornios en el top10\n",
    "country_top10 = [\"Australia\",\"China, People's Republic of\",'United Kingdom','United States']"
   ]
  },
  {
   "cell_type": "code",
   "execution_count": 85,
   "metadata": {},
   "outputs": [],
   "source": [
    "# filtramos el df por los paises \n",
    "PBI_top_10 = PBI[PBI['GDP, current prices (Billions of U.S. dollars)'].isin(country_top10)]\n",
    "\n",
    "# seleccinamos solamente las columnas a partir de los años que tenemos unformación de las empresas unicornios\n",
    "columns = ['GDP, current prices (Billions of U.S. dollars)',2015,2016,2017,2018,2019,2020,2021,2022,2023]\n",
    "PBI_top_10 = PBI_top_10[columns]"
   ]
  },
  {
   "cell_type": "code",
   "execution_count": 86,
   "metadata": {},
   "outputs": [
    {
     "data": {
      "text/html": [
       "<div>\n",
       "<style scoped>\n",
       "    .dataframe tbody tr th:only-of-type {\n",
       "        vertical-align: middle;\n",
       "    }\n",
       "\n",
       "    .dataframe tbody tr th {\n",
       "        vertical-align: top;\n",
       "    }\n",
       "\n",
       "    .dataframe thead th {\n",
       "        text-align: right;\n",
       "    }\n",
       "</style>\n",
       "<table border=\"1\" class=\"dataframe\">\n",
       "  <thead>\n",
       "    <tr style=\"text-align: right;\">\n",
       "      <th></th>\n",
       "      <th>GDP, current prices (Billions of U.S. dollars)</th>\n",
       "      <th>2015</th>\n",
       "      <th>2016</th>\n",
       "      <th>2017</th>\n",
       "      <th>2018</th>\n",
       "      <th>2019</th>\n",
       "      <th>2020</th>\n",
       "      <th>2021</th>\n",
       "      <th>2022</th>\n",
       "      <th>2023</th>\n",
       "    </tr>\n",
       "  </thead>\n",
       "  <tbody>\n",
       "    <tr>\n",
       "      <th>9</th>\n",
       "      <td>Australia</td>\n",
       "      <td>1233.101</td>\n",
       "      <td>1263.521</td>\n",
       "      <td>1381.624</td>\n",
       "      <td>1417.03</td>\n",
       "      <td>1385.258</td>\n",
       "      <td>1360.687</td>\n",
       "      <td>1646.391</td>\n",
       "      <td>1701.893</td>\n",
       "      <td>1707.548</td>\n",
       "    </tr>\n",
       "    <tr>\n",
       "      <th>36</th>\n",
       "      <td>China, People's Republic of</td>\n",
       "      <td>11113.508</td>\n",
       "      <td>11226.897</td>\n",
       "      <td>12265.327</td>\n",
       "      <td>13841.812</td>\n",
       "      <td>14340.6</td>\n",
       "      <td>14862.564</td>\n",
       "      <td>17759.307</td>\n",
       "      <td>18100.044</td>\n",
       "      <td>19373.586</td>\n",
       "    </tr>\n",
       "    <tr>\n",
       "      <th>185</th>\n",
       "      <td>United Kingdom</td>\n",
       "      <td>2935.506</td>\n",
       "      <td>2709.678</td>\n",
       "      <td>2685.637</td>\n",
       "      <td>2881.845</td>\n",
       "      <td>2858.728</td>\n",
       "      <td>2706.542</td>\n",
       "      <td>3123.231</td>\n",
       "      <td>3070.6</td>\n",
       "      <td>3158.938</td>\n",
       "    </tr>\n",
       "    <tr>\n",
       "      <th>186</th>\n",
       "      <td>United States</td>\n",
       "      <td>18206.025</td>\n",
       "      <td>18695.1</td>\n",
       "      <td>19477.35</td>\n",
       "      <td>20533.075</td>\n",
       "      <td>21380.95</td>\n",
       "      <td>21060.45</td>\n",
       "      <td>23315.075</td>\n",
       "      <td>25464.475</td>\n",
       "      <td>26854.599</td>\n",
       "    </tr>\n",
       "  </tbody>\n",
       "</table>\n",
       "</div>"
      ],
      "text/plain": [
       "    GDP, current prices (Billions of U.S. dollars)       2015       2016  \\\n",
       "9                                        Australia   1233.101   1263.521   \n",
       "36                     China, People's Republic of  11113.508  11226.897   \n",
       "185                                 United Kingdom   2935.506   2709.678   \n",
       "186                                  United States  18206.025    18695.1   \n",
       "\n",
       "          2017       2018      2019       2020       2021       2022  \\\n",
       "9     1381.624    1417.03  1385.258   1360.687   1646.391   1701.893   \n",
       "36   12265.327  13841.812   14340.6  14862.564  17759.307  18100.044   \n",
       "185   2685.637   2881.845  2858.728   2706.542   3123.231     3070.6   \n",
       "186   19477.35  20533.075  21380.95   21060.45  23315.075  25464.475   \n",
       "\n",
       "          2023  \n",
       "9     1707.548  \n",
       "36   19373.586  \n",
       "185   3158.938  \n",
       "186  26854.599  "
      ]
     },
     "execution_count": 86,
     "metadata": {},
     "output_type": "execute_result"
    }
   ],
   "source": [
    "PBI_top_10"
   ]
  },
  {
   "cell_type": "code",
   "execution_count": 87,
   "metadata": {},
   "outputs": [],
   "source": [
    "# Trasformamos las columnas a tipo float\n",
    "PBI_top_10[[2015,2016,2017,2018,2019,2020,2021,2022,2023]] = PBI_top_10[[2015,2016,2017,2018,2019,2020,2021,2022,2023]].astype(float)"
   ]
  },
  {
   "cell_type": "markdown",
   "metadata": {},
   "source": [
    "## 2.2. Datos Históricos"
   ]
  },
  {
   "cell_type": "markdown",
   "metadata": {},
   "source": [
    "### ¿Cómo han crecido las empresas unicornio a través del tiempo?"
   ]
  },
  {
   "cell_type": "code",
   "execution_count": 88,
   "metadata": {},
   "outputs": [],
   "source": [
    "years = unicorns.groupby('Year')['Company'].count().reset_index()"
   ]
  },
  {
   "cell_type": "code",
   "execution_count": 89,
   "metadata": {},
   "outputs": [
    {
     "data": {
      "application/vnd.plotly.v1+json": {
       "config": {
        "plotlyServerURL": "https://plot.ly"
       },
       "data": [
        {
         "hovertemplate": "Year=%{x}<br>Company=%{y}<extra></extra>",
         "legendgroup": "",
         "line": {
          "color": "#636efa",
          "dash": "solid"
         },
         "marker": {
          "symbol": "circle"
         },
         "mode": "lines",
         "name": "",
         "orientation": "v",
         "showlegend": false,
         "type": "scatter",
         "x": [
          2015,
          2016,
          2017,
          2018,
          2019,
          2020,
          2021,
          2022,
          2023
         ],
         "xaxis": "x",
         "y": [
          144,
          183,
          222,
          305,
          430,
          513,
          957,
          1201,
          1215
         ],
         "yaxis": "y"
        }
       ],
       "layout": {
        "legend": {
         "tracegroupgap": 0
        },
        "template": {
         "data": {
          "bar": [
           {
            "error_x": {
             "color": "#f2f5fa"
            },
            "error_y": {
             "color": "#f2f5fa"
            },
            "marker": {
             "line": {
              "color": "rgb(17,17,17)",
              "width": 0.5
             },
             "pattern": {
              "fillmode": "overlay",
              "size": 10,
              "solidity": 0.2
             }
            },
            "type": "bar"
           }
          ],
          "barpolar": [
           {
            "marker": {
             "line": {
              "color": "rgb(17,17,17)",
              "width": 0.5
             },
             "pattern": {
              "fillmode": "overlay",
              "size": 10,
              "solidity": 0.2
             }
            },
            "type": "barpolar"
           }
          ],
          "carpet": [
           {
            "aaxis": {
             "endlinecolor": "#A2B1C6",
             "gridcolor": "#506784",
             "linecolor": "#506784",
             "minorgridcolor": "#506784",
             "startlinecolor": "#A2B1C6"
            },
            "baxis": {
             "endlinecolor": "#A2B1C6",
             "gridcolor": "#506784",
             "linecolor": "#506784",
             "minorgridcolor": "#506784",
             "startlinecolor": "#A2B1C6"
            },
            "type": "carpet"
           }
          ],
          "choropleth": [
           {
            "colorbar": {
             "outlinewidth": 0,
             "ticks": ""
            },
            "type": "choropleth"
           }
          ],
          "contour": [
           {
            "colorbar": {
             "outlinewidth": 0,
             "ticks": ""
            },
            "colorscale": [
             [
              0,
              "#0d0887"
             ],
             [
              0.1111111111111111,
              "#46039f"
             ],
             [
              0.2222222222222222,
              "#7201a8"
             ],
             [
              0.3333333333333333,
              "#9c179e"
             ],
             [
              0.4444444444444444,
              "#bd3786"
             ],
             [
              0.5555555555555556,
              "#d8576b"
             ],
             [
              0.6666666666666666,
              "#ed7953"
             ],
             [
              0.7777777777777778,
              "#fb9f3a"
             ],
             [
              0.8888888888888888,
              "#fdca26"
             ],
             [
              1,
              "#f0f921"
             ]
            ],
            "type": "contour"
           }
          ],
          "contourcarpet": [
           {
            "colorbar": {
             "outlinewidth": 0,
             "ticks": ""
            },
            "type": "contourcarpet"
           }
          ],
          "heatmap": [
           {
            "colorbar": {
             "outlinewidth": 0,
             "ticks": ""
            },
            "colorscale": [
             [
              0,
              "#0d0887"
             ],
             [
              0.1111111111111111,
              "#46039f"
             ],
             [
              0.2222222222222222,
              "#7201a8"
             ],
             [
              0.3333333333333333,
              "#9c179e"
             ],
             [
              0.4444444444444444,
              "#bd3786"
             ],
             [
              0.5555555555555556,
              "#d8576b"
             ],
             [
              0.6666666666666666,
              "#ed7953"
             ],
             [
              0.7777777777777778,
              "#fb9f3a"
             ],
             [
              0.8888888888888888,
              "#fdca26"
             ],
             [
              1,
              "#f0f921"
             ]
            ],
            "type": "heatmap"
           }
          ],
          "heatmapgl": [
           {
            "colorbar": {
             "outlinewidth": 0,
             "ticks": ""
            },
            "colorscale": [
             [
              0,
              "#0d0887"
             ],
             [
              0.1111111111111111,
              "#46039f"
             ],
             [
              0.2222222222222222,
              "#7201a8"
             ],
             [
              0.3333333333333333,
              "#9c179e"
             ],
             [
              0.4444444444444444,
              "#bd3786"
             ],
             [
              0.5555555555555556,
              "#d8576b"
             ],
             [
              0.6666666666666666,
              "#ed7953"
             ],
             [
              0.7777777777777778,
              "#fb9f3a"
             ],
             [
              0.8888888888888888,
              "#fdca26"
             ],
             [
              1,
              "#f0f921"
             ]
            ],
            "type": "heatmapgl"
           }
          ],
          "histogram": [
           {
            "marker": {
             "pattern": {
              "fillmode": "overlay",
              "size": 10,
              "solidity": 0.2
             }
            },
            "type": "histogram"
           }
          ],
          "histogram2d": [
           {
            "colorbar": {
             "outlinewidth": 0,
             "ticks": ""
            },
            "colorscale": [
             [
              0,
              "#0d0887"
             ],
             [
              0.1111111111111111,
              "#46039f"
             ],
             [
              0.2222222222222222,
              "#7201a8"
             ],
             [
              0.3333333333333333,
              "#9c179e"
             ],
             [
              0.4444444444444444,
              "#bd3786"
             ],
             [
              0.5555555555555556,
              "#d8576b"
             ],
             [
              0.6666666666666666,
              "#ed7953"
             ],
             [
              0.7777777777777778,
              "#fb9f3a"
             ],
             [
              0.8888888888888888,
              "#fdca26"
             ],
             [
              1,
              "#f0f921"
             ]
            ],
            "type": "histogram2d"
           }
          ],
          "histogram2dcontour": [
           {
            "colorbar": {
             "outlinewidth": 0,
             "ticks": ""
            },
            "colorscale": [
             [
              0,
              "#0d0887"
             ],
             [
              0.1111111111111111,
              "#46039f"
             ],
             [
              0.2222222222222222,
              "#7201a8"
             ],
             [
              0.3333333333333333,
              "#9c179e"
             ],
             [
              0.4444444444444444,
              "#bd3786"
             ],
             [
              0.5555555555555556,
              "#d8576b"
             ],
             [
              0.6666666666666666,
              "#ed7953"
             ],
             [
              0.7777777777777778,
              "#fb9f3a"
             ],
             [
              0.8888888888888888,
              "#fdca26"
             ],
             [
              1,
              "#f0f921"
             ]
            ],
            "type": "histogram2dcontour"
           }
          ],
          "mesh3d": [
           {
            "colorbar": {
             "outlinewidth": 0,
             "ticks": ""
            },
            "type": "mesh3d"
           }
          ],
          "parcoords": [
           {
            "line": {
             "colorbar": {
              "outlinewidth": 0,
              "ticks": ""
             }
            },
            "type": "parcoords"
           }
          ],
          "pie": [
           {
            "automargin": true,
            "type": "pie"
           }
          ],
          "scatter": [
           {
            "marker": {
             "line": {
              "color": "#283442"
             }
            },
            "type": "scatter"
           }
          ],
          "scatter3d": [
           {
            "line": {
             "colorbar": {
              "outlinewidth": 0,
              "ticks": ""
             }
            },
            "marker": {
             "colorbar": {
              "outlinewidth": 0,
              "ticks": ""
             }
            },
            "type": "scatter3d"
           }
          ],
          "scattercarpet": [
           {
            "marker": {
             "colorbar": {
              "outlinewidth": 0,
              "ticks": ""
             }
            },
            "type": "scattercarpet"
           }
          ],
          "scattergeo": [
           {
            "marker": {
             "colorbar": {
              "outlinewidth": 0,
              "ticks": ""
             }
            },
            "type": "scattergeo"
           }
          ],
          "scattergl": [
           {
            "marker": {
             "line": {
              "color": "#283442"
             }
            },
            "type": "scattergl"
           }
          ],
          "scattermapbox": [
           {
            "marker": {
             "colorbar": {
              "outlinewidth": 0,
              "ticks": ""
             }
            },
            "type": "scattermapbox"
           }
          ],
          "scatterpolar": [
           {
            "marker": {
             "colorbar": {
              "outlinewidth": 0,
              "ticks": ""
             }
            },
            "type": "scatterpolar"
           }
          ],
          "scatterpolargl": [
           {
            "marker": {
             "colorbar": {
              "outlinewidth": 0,
              "ticks": ""
             }
            },
            "type": "scatterpolargl"
           }
          ],
          "scatterternary": [
           {
            "marker": {
             "colorbar": {
              "outlinewidth": 0,
              "ticks": ""
             }
            },
            "type": "scatterternary"
           }
          ],
          "surface": [
           {
            "colorbar": {
             "outlinewidth": 0,
             "ticks": ""
            },
            "colorscale": [
             [
              0,
              "#0d0887"
             ],
             [
              0.1111111111111111,
              "#46039f"
             ],
             [
              0.2222222222222222,
              "#7201a8"
             ],
             [
              0.3333333333333333,
              "#9c179e"
             ],
             [
              0.4444444444444444,
              "#bd3786"
             ],
             [
              0.5555555555555556,
              "#d8576b"
             ],
             [
              0.6666666666666666,
              "#ed7953"
             ],
             [
              0.7777777777777778,
              "#fb9f3a"
             ],
             [
              0.8888888888888888,
              "#fdca26"
             ],
             [
              1,
              "#f0f921"
             ]
            ],
            "type": "surface"
           }
          ],
          "table": [
           {
            "cells": {
             "fill": {
              "color": "#506784"
             },
             "line": {
              "color": "rgb(17,17,17)"
             }
            },
            "header": {
             "fill": {
              "color": "#2a3f5f"
             },
             "line": {
              "color": "rgb(17,17,17)"
             }
            },
            "type": "table"
           }
          ]
         },
         "layout": {
          "annotationdefaults": {
           "arrowcolor": "#f2f5fa",
           "arrowhead": 0,
           "arrowwidth": 1
          },
          "autotypenumbers": "strict",
          "coloraxis": {
           "colorbar": {
            "outlinewidth": 0,
            "ticks": ""
           }
          },
          "colorscale": {
           "diverging": [
            [
             0,
             "#8e0152"
            ],
            [
             0.1,
             "#c51b7d"
            ],
            [
             0.2,
             "#de77ae"
            ],
            [
             0.3,
             "#f1b6da"
            ],
            [
             0.4,
             "#fde0ef"
            ],
            [
             0.5,
             "#f7f7f7"
            ],
            [
             0.6,
             "#e6f5d0"
            ],
            [
             0.7,
             "#b8e186"
            ],
            [
             0.8,
             "#7fbc41"
            ],
            [
             0.9,
             "#4d9221"
            ],
            [
             1,
             "#276419"
            ]
           ],
           "sequential": [
            [
             0,
             "#0d0887"
            ],
            [
             0.1111111111111111,
             "#46039f"
            ],
            [
             0.2222222222222222,
             "#7201a8"
            ],
            [
             0.3333333333333333,
             "#9c179e"
            ],
            [
             0.4444444444444444,
             "#bd3786"
            ],
            [
             0.5555555555555556,
             "#d8576b"
            ],
            [
             0.6666666666666666,
             "#ed7953"
            ],
            [
             0.7777777777777778,
             "#fb9f3a"
            ],
            [
             0.8888888888888888,
             "#fdca26"
            ],
            [
             1,
             "#f0f921"
            ]
           ],
           "sequentialminus": [
            [
             0,
             "#0d0887"
            ],
            [
             0.1111111111111111,
             "#46039f"
            ],
            [
             0.2222222222222222,
             "#7201a8"
            ],
            [
             0.3333333333333333,
             "#9c179e"
            ],
            [
             0.4444444444444444,
             "#bd3786"
            ],
            [
             0.5555555555555556,
             "#d8576b"
            ],
            [
             0.6666666666666666,
             "#ed7953"
            ],
            [
             0.7777777777777778,
             "#fb9f3a"
            ],
            [
             0.8888888888888888,
             "#fdca26"
            ],
            [
             1,
             "#f0f921"
            ]
           ]
          },
          "colorway": [
           "#636efa",
           "#EF553B",
           "#00cc96",
           "#ab63fa",
           "#FFA15A",
           "#19d3f3",
           "#FF6692",
           "#B6E880",
           "#FF97FF",
           "#FECB52"
          ],
          "font": {
           "color": "#f2f5fa"
          },
          "geo": {
           "bgcolor": "rgb(17,17,17)",
           "lakecolor": "rgb(17,17,17)",
           "landcolor": "rgb(17,17,17)",
           "showlakes": true,
           "showland": true,
           "subunitcolor": "#506784"
          },
          "hoverlabel": {
           "align": "left"
          },
          "hovermode": "closest",
          "mapbox": {
           "style": "dark"
          },
          "paper_bgcolor": "rgb(17,17,17)",
          "plot_bgcolor": "rgb(17,17,17)",
          "polar": {
           "angularaxis": {
            "gridcolor": "#506784",
            "linecolor": "#506784",
            "ticks": ""
           },
           "bgcolor": "rgb(17,17,17)",
           "radialaxis": {
            "gridcolor": "#506784",
            "linecolor": "#506784",
            "ticks": ""
           }
          },
          "scene": {
           "xaxis": {
            "backgroundcolor": "rgb(17,17,17)",
            "gridcolor": "#506784",
            "gridwidth": 2,
            "linecolor": "#506784",
            "showbackground": true,
            "ticks": "",
            "zerolinecolor": "#C8D4E3"
           },
           "yaxis": {
            "backgroundcolor": "rgb(17,17,17)",
            "gridcolor": "#506784",
            "gridwidth": 2,
            "linecolor": "#506784",
            "showbackground": true,
            "ticks": "",
            "zerolinecolor": "#C8D4E3"
           },
           "zaxis": {
            "backgroundcolor": "rgb(17,17,17)",
            "gridcolor": "#506784",
            "gridwidth": 2,
            "linecolor": "#506784",
            "showbackground": true,
            "ticks": "",
            "zerolinecolor": "#C8D4E3"
           }
          },
          "shapedefaults": {
           "line": {
            "color": "#f2f5fa"
           }
          },
          "sliderdefaults": {
           "bgcolor": "#C8D4E3",
           "bordercolor": "rgb(17,17,17)",
           "borderwidth": 1,
           "tickwidth": 0
          },
          "ternary": {
           "aaxis": {
            "gridcolor": "#506784",
            "linecolor": "#506784",
            "ticks": ""
           },
           "baxis": {
            "gridcolor": "#506784",
            "linecolor": "#506784",
            "ticks": ""
           },
           "bgcolor": "rgb(17,17,17)",
           "caxis": {
            "gridcolor": "#506784",
            "linecolor": "#506784",
            "ticks": ""
           }
          },
          "title": {
           "x": 0.05
          },
          "updatemenudefaults": {
           "bgcolor": "#506784",
           "borderwidth": 0
          },
          "xaxis": {
           "automargin": true,
           "gridcolor": "#283442",
           "linecolor": "#506784",
           "ticks": "",
           "title": {
            "standoff": 15
           },
           "zerolinecolor": "#283442",
           "zerolinewidth": 2
          },
          "yaxis": {
           "automargin": true,
           "gridcolor": "#283442",
           "linecolor": "#506784",
           "ticks": "",
           "title": {
            "standoff": 15
           },
           "zerolinecolor": "#283442",
           "zerolinewidth": 2
          }
         }
        },
        "title": {
         "text": "Evolución de Epresas Unicornios"
        },
        "xaxis": {
         "anchor": "y",
         "domain": [
          0,
          1
         ],
         "title": {
          "text": "Year"
         }
        },
        "yaxis": {
         "anchor": "x",
         "domain": [
          0,
          1
         ],
         "title": {
          "text": "Company"
         }
        }
       }
      }
     },
     "metadata": {},
     "output_type": "display_data"
    }
   ],
   "source": [
    "fig = px.line(years, x=\"Year\", y=\"Company\", \n",
    "              title='Evolución de Epresas Unicornios', \n",
    "              template=\"plotly_dark\") \n",
    "fig.show()"
   ]
  },
  {
   "cell_type": "markdown",
   "metadata": {},
   "source": [
    "### ¿Qué industria ha crecido más?"
   ]
  },
  {
   "cell_type": "code",
   "execution_count": 90,
   "metadata": {},
   "outputs": [],
   "source": [
    "industry = unicorns.groupby(['Industry','Year'])['Company'].count().reset_index()"
   ]
  },
  {
   "cell_type": "code",
   "execution_count": 91,
   "metadata": {},
   "outputs": [
    {
     "data": {
      "text/plain": [
       "58"
      ]
     },
     "execution_count": 91,
     "metadata": {},
     "output_type": "execute_result"
    }
   ],
   "source": [
    "industry['Industry'].nunique()"
   ]
  },
  {
   "cell_type": "code",
   "execution_count": 92,
   "metadata": {},
   "outputs": [],
   "source": [
    "dic = {  'AI':\"Artificial Intelligence\",\n",
    " 'AI / Facial Recognition':\"Artificial Intelligence\",\n",
    " 'AI / Robotics':\"Artificial Intelligence\",\n",
    " 'AR/VR':\"Realidad virtual\",\n",
    " 'AdTech':\"Advertising Technology\",\n",
    " 'Adtech':\"Advertising Technology\",\n",
    " 'Ag Tech':\"tecnología agrícola.\",\n",
    " 'Apparel':\"Clothing & Accessories\",\n",
    " 'Artificial Intelligence':\"Artificial Intelligence\",\n",
    " 'Artificial intelligence':\"Artificial Intelligence\",\n",
    " 'Auto & transportation':\"Automobile & transportation\",\n",
    " 'Auto Tech':\"Automobile & transportation\",\n",
    " 'AutoTech':\"Automobile & transportation\",\n",
    " 'Automobile':\"Automobile & transportation\",\n",
    " 'BI & Analytics':\"Business Intelligence\",\n",
    " 'Beauty & grooming':\"Beauty & grooming\",\n",
    " 'Big Data':\"Big Data\",\n",
    " 'Biotech':\"Biotechnology\",\n",
    " 'Biotechnology':\"Biotechnology\",\n",
    " 'Blockchain':\"Blockchain\",\n",
    " 'Business Intelligence, Analytics & Performance Mgmt':\"Business Intelligence\",\n",
    " 'Business Products & Services':\"Business Intelligence\",\n",
    " 'Chips & Semiconductors':\"Chips & Semiconductors\",\n",
    " 'Cleantech':\"Cleantech\",\n",
    " 'Clothing & Accessories':\"Clothing & Accessories\",\n",
    " 'Clothing and Accessories':\"Clothing & Accessories\",\n",
    " 'Collaboration & Project Management':\"Internet software & services\",\n",
    " 'Computer Hardware & Services':\"Hardware\",\n",
    " 'Computer Vision':\"Artificial Intelligence\",\n",
    " 'Computer Vision/ AI':\"Artificial Intelligence\",\n",
    " 'Construction Tech':\"Construction Tech\",\n",
    " 'Consumer & Retail':\"Consumer & Retail\",\n",
    " 'Consumer & retail':\"Consumer & Retail\",\n",
    " 'Consumer Electronics':\"Electronics\",\n",
    " 'Consumer Hardware':\"Hardware\",\n",
    " 'Cybersecurity':\" Cybersecurity\",\n",
    " 'Cybsersecurity':\" Cybersecurity\",\n",
    " 'Data Storage':\"Data Storage\",\n",
    " 'Data management & analytics':\"Data management & analytics\",\n",
    " 'DevOps':\"Internet software & services\",\n",
    " 'Digital Health':\" Digital Health\",\n",
    " 'Digital Media':\" Digital Media\",\n",
    " 'Digital Media/ AI':\" Digital Media\",\n",
    " 'Digital health':\" Digital Health\",\n",
    " 'E-commerce & direct-to-consumer':\" e-commerce\",\n",
    " 'Ed Tech':\" Education Tech\",\n",
    " 'EdTech':\" Education Tech\",\n",
    " 'Edtech':\" Education Tech\",\n",
    " 'Education':\" Education Tech\",\n",
    " 'Energy & Utilities':\" Energy & Utilities\",\n",
    " 'Enterprise Tech':\"Internet software & services\",\n",
    " 'Entertainment':\"Entertainment\",\n",
    " 'Facilities':\"Facilities\",\n",
    " 'Film & Video':\"Film & Video\",\n",
    " 'Fin Tech':\"Finance Technology\",\n",
    " 'Financial Services':\"Finance Technology\",\n",
    " 'Fintech':\"Finance Technology\",\n",
    " 'Fintech / Supply Chain':\"Finance Technology\",\n",
    " 'Finttech':\"Finance Technology\",\n",
    " 'Fitness':\" Fitness\",\n",
    " 'Food & Beverage':\" Food & Beverage\",\n",
    " 'Food & Beverages':\" Food & Beverage\",\n",
    " 'Food & Grocery':\" Food & Beverage\",\n",
    " 'Food Delivery':\" Food & Beverage\",\n",
    " 'Food and Beverage':\" Food & Beverage\",\n",
    " 'Gaming':\"Gaming\",\n",
    " 'Genomics':\"Health & Wellnes\",\n",
    " 'Greentech':\"Cleantech\",\n",
    " 'HR & Workforce Management':\"Human Resources Tech\",\n",
    " 'HR Tech':\"Human Resources Tech\",\n",
    " 'Hardware':\"Hardware\",\n",
    " 'Health':\"Health & Wellnes\",\n",
    " 'Health & Wellnes':\"Health & Wellnes\",\n",
    " 'Healthcare':\"Health & Wellnes\",\n",
    " 'Healthcare & Life Sciences':\"Health & Wellnes\",\n",
    " 'Industrials':\"Industrials\",\n",
    " 'InsurTech':\"Insurance\",\n",
    " 'Insurance':\"Insurance\",\n",
    " 'Internet Software &\\n\\t Services':\"Internet Software & Services\",\n",
    " 'Internet Software & Services':\"Internet Software & Services\",\n",
    " 'Internet of Things':\"Internet Software & Services\",\n",
    " 'Internet software & services':\"Internet Software & Services\",\n",
    " 'IoT':\"Internet Software & Services\",\n",
    " 'Management & Strategy Consulting':\"Business Intelligence\",\n",
    " 'Marketplace':\" Marketplace\",\n",
    " 'Media':\" Media & Entertainment\",\n",
    " 'Media & Entertainment':\" Media & Entertainment\",\n",
    " 'Mobile & Telecommunications':\" Mobile & Telecommunications\",\n",
    " 'Mobile & telecommunications':\" Mobile & Telecommunications\",\n",
    " 'Mobile Software &\\n\\t Services':\" Mobile Software & Services\",\n",
    " 'Mobile Software & Services':\" Mobile Software & Services\",\n",
    " 'Music':\" Music\",\n",
    " 'On Demand':\"OnDemand\",\n",
    " 'On-Demand':\"OnDemand\",\n",
    " 'On-demand':\"OnDemand\",\n",
    " 'Other':\"Other\",\n",
    " 'Other Transportation':\"Other\",\n",
    " 'Real Estate':\"Real Estate\",\n",
    " 'RegTech':\"RegTech\",\n",
    " 'Restaurant Tech':\"Restaurant Tech\",\n",
    " 'Retail':\"Consumer & Retail\",\n",
    " 'Robotic Process Automation':\"Robotics\",\n",
    " 'Robotics':\"Robotics\",\n",
    " 'Sales Tech':\"SalesTech\",\n",
    " 'SalesTech':\"SalesTech\",\n",
    " 'Social':\"Media & Entertainment\",\n",
    " 'SpaceTech':\"Industrials\",\n",
    " 'Supply Chain':\"Supply Chain\",\n",
    " 'Supply Chain & Logistics':\"Supply Chain\",\n",
    " 'Supply Chain Tech':\"Supply Chain\",\n",
    " 'Supply chain & Logistics':\"Supply Chain\",\n",
    " 'Supply chain, logistics, & delivery':\"Supply Chain\",\n",
    " 'Supplychain/ logistics':\"Supply Chain\",\n",
    " 'Telecommunications':\"Telecommunications\",\n",
    " 'Travel':\"Travel Tech\",\n",
    " 'Travel Tech':\"Travel Tech\",\n",
    " 'TravelTech':\"Travel Tech\",\n",
    " 'VR/AR':\"Realidad virtual\",\n",
    " 'e-commerce':\"e-commerce\",\n",
    " 'eCommerce':\"e-commerce\",\n",
    " 'eCommerce/Marketplace':\"e-commerce\",\n",
    " 'eSports':\"e-commerce\",\n",
    " 'ecommerce':\"e-commerce\"}"
   ]
  },
  {
   "cell_type": "code",
   "execution_count": 93,
   "metadata": {},
   "outputs": [],
   "source": [
    "# reemplazamos por los valores que hemos identidicado con el diccionario para reducir la cantidad de categorías.\n",
    "industry.replace(dic, inplace=True)"
   ]
  },
  {
   "cell_type": "code",
   "execution_count": 94,
   "metadata": {},
   "outputs": [
    {
     "data": {
      "text/plain": [
       "56"
      ]
     },
     "execution_count": 94,
     "metadata": {},
     "output_type": "execute_result"
    }
   ],
   "source": [
    "industry['Industry'].nunique()"
   ]
  },
  {
   "cell_type": "code",
   "execution_count": 95,
   "metadata": {},
   "outputs": [
    {
     "data": {
      "text/html": [
       "<div>\n",
       "<style scoped>\n",
       "    .dataframe tbody tr th:only-of-type {\n",
       "        vertical-align: middle;\n",
       "    }\n",
       "\n",
       "    .dataframe tbody tr th {\n",
       "        vertical-align: top;\n",
       "    }\n",
       "\n",
       "    .dataframe thead th {\n",
       "        text-align: right;\n",
       "    }\n",
       "</style>\n",
       "<table border=\"1\" class=\"dataframe\">\n",
       "  <thead>\n",
       "    <tr style=\"text-align: right;\">\n",
       "      <th></th>\n",
       "      <th>Company</th>\n",
       "      <th>Valuation ($B)</th>\n",
       "      <th>Date Joined</th>\n",
       "      <th>Country</th>\n",
       "      <th>Industry</th>\n",
       "      <th>Investor</th>\n",
       "      <th>Day_List</th>\n",
       "      <th>Year</th>\n",
       "      <th>City</th>\n",
       "    </tr>\n",
       "  </thead>\n",
       "  <tbody>\n",
       "    <tr>\n",
       "      <th>0</th>\n",
       "      <td>Uber</td>\n",
       "      <td>51.0</td>\n",
       "      <td>2013-08-23</td>\n",
       "      <td>United States</td>\n",
       "      <td>OnDemand</td>\n",
       "      <td>Lowercase Capital,\\n\\t  Benchmark Capital, Goo...</td>\n",
       "      <td>2015-12-11</td>\n",
       "      <td>2015</td>\n",
       "      <td>no_data</td>\n",
       "    </tr>\n",
       "    <tr>\n",
       "      <th>1</th>\n",
       "      <td>Xiaomi</td>\n",
       "      <td>46.0</td>\n",
       "      <td>2011-12-21</td>\n",
       "      <td>China</td>\n",
       "      <td>Hardware</td>\n",
       "      <td>Digital Sky Technologies,\\n\\t  QiMing Venture ...</td>\n",
       "      <td>2015-12-11</td>\n",
       "      <td>2015</td>\n",
       "      <td>no_data</td>\n",
       "    </tr>\n",
       "    <tr>\n",
       "      <th>2</th>\n",
       "      <td>Airbnb</td>\n",
       "      <td>25.5</td>\n",
       "      <td>2011-07-26</td>\n",
       "      <td>United States</td>\n",
       "      <td>e-commerce</td>\n",
       "      <td>General Catalyst Partners,\\n\\t  Andreessen Hor...</td>\n",
       "      <td>2015-12-11</td>\n",
       "      <td>2015</td>\n",
       "      <td>no_data</td>\n",
       "    </tr>\n",
       "    <tr>\n",
       "      <th>3</th>\n",
       "      <td>Palantir\\n\\t  Technologies</td>\n",
       "      <td>20.0</td>\n",
       "      <td>2011-05-05</td>\n",
       "      <td>United States</td>\n",
       "      <td>Big Data</td>\n",
       "      <td>RRE Ventures, Founders\\n\\t  Fund, In-Q-Tel</td>\n",
       "      <td>2015-12-11</td>\n",
       "      <td>2015</td>\n",
       "      <td>no_data</td>\n",
       "    </tr>\n",
       "    <tr>\n",
       "      <th>4</th>\n",
       "      <td>Snapchat</td>\n",
       "      <td>16.0</td>\n",
       "      <td>2013-12-11</td>\n",
       "      <td>United States</td>\n",
       "      <td>Media &amp; Entertainment</td>\n",
       "      <td>Benchmark Capital, General\\n\\t  Catalyst Partn...</td>\n",
       "      <td>2015-12-11</td>\n",
       "      <td>2015</td>\n",
       "      <td>no_data</td>\n",
       "    </tr>\n",
       "  </tbody>\n",
       "</table>\n",
       "</div>"
      ],
      "text/plain": [
       "                      Company  Valuation ($B) Date Joined        Country  \\\n",
       "0                        Uber            51.0  2013-08-23  United States   \n",
       "1                      Xiaomi            46.0  2011-12-21          China   \n",
       "2                      Airbnb            25.5  2011-07-26  United States   \n",
       "3  Palantir\\n\\t  Technologies            20.0  2011-05-05  United States   \n",
       "4                    Snapchat            16.0  2013-12-11  United States   \n",
       "\n",
       "                Industry                                           Investor  \\\n",
       "0               OnDemand  Lowercase Capital,\\n\\t  Benchmark Capital, Goo...   \n",
       "1               Hardware  Digital Sky Technologies,\\n\\t  QiMing Venture ...   \n",
       "2             e-commerce  General Catalyst Partners,\\n\\t  Andreessen Hor...   \n",
       "3               Big Data         RRE Ventures, Founders\\n\\t  Fund, In-Q-Tel   \n",
       "4  Media & Entertainment  Benchmark Capital, General\\n\\t  Catalyst Partn...   \n",
       "\n",
       "    Day_List  Year     City  \n",
       "0 2015-12-11  2015  no_data  \n",
       "1 2015-12-11  2015  no_data  \n",
       "2 2015-12-11  2015  no_data  \n",
       "3 2015-12-11  2015  no_data  \n",
       "4 2015-12-11  2015  no_data  "
      ]
     },
     "execution_count": 95,
     "metadata": {},
     "output_type": "execute_result"
    }
   ],
   "source": [
    "unicorns.head()"
   ]
  },
  {
   "cell_type": "code",
   "execution_count": 96,
   "metadata": {},
   "outputs": [],
   "source": [
    "industry = unicorns.groupby(['Industry','Year'])['Company'].count().reset_index()"
   ]
  },
  {
   "cell_type": "code",
   "execution_count": 97,
   "metadata": {},
   "outputs": [],
   "source": [
    "valuations = unicorns.groupby(['Industry','Year'])['Valuation ($B)'].sum().reset_index()"
   ]
  },
  {
   "cell_type": "code",
   "execution_count": 98,
   "metadata": {},
   "outputs": [
    {
     "data": {
      "application/vnd.plotly.v1+json": {
       "config": {
        "plotlyServerURL": "https://plot.ly"
       },
       "data": [
        {
         "alignmentgroup": "True",
         "hovertemplate": "Industry=%{x}<br>Company=%{y}<extra></extra>",
         "legendgroup": "",
         "marker": {
          "color": "#636efa",
          "pattern": {
           "shape": ""
          }
         },
         "name": "",
         "offsetgroup": "",
         "orientation": "v",
         "showlegend": false,
         "textposition": "auto",
         "type": "bar",
         "x": [
          " Media & Entertainment",
          "Consumer & Retail",
          "Finance Technology",
          "Health & Wellnes",
          "Industrials",
          "Insurance",
          "Internet software & services"
         ],
         "xaxis": "x",
         "y": [
          82,
          214,
          216,
          122,
          186,
          28,
          367
         ],
         "yaxis": "y"
        },
        {
         "hovertemplate": "Industry=%{x}<br>Valuation ($B)=%{y}<extra></extra>",
         "legendgroup": "",
         "line": {
          "color": "#636efa",
          "dash": "solid"
         },
         "marker": {
          "symbol": "circle"
         },
         "mode": "lines",
         "name": "",
         "orientation": "v",
         "showlegend": false,
         "type": "scatter",
         "x": [
          " Media & Entertainment",
          "Consumer & Retail",
          "Finance Technology",
          "Health & Wellnes",
          "Industrials",
          "Insurance",
          "Internet software & services"
         ],
         "xaxis": "x",
         "y": [
          503.71,
          664.61,
          706.91,
          289.5,
          607.8100000000001,
          58.62,
          1034.08
         ],
         "yaxis": "y"
        }
       ],
       "layout": {
        "barmode": "relative",
        "legend": {
         "tracegroupgap": 0
        },
        "margin": {
         "t": 60
        },
        "template": {
         "data": {
          "bar": [
           {
            "error_x": {
             "color": "#f2f5fa"
            },
            "error_y": {
             "color": "#f2f5fa"
            },
            "marker": {
             "line": {
              "color": "rgb(17,17,17)",
              "width": 0.5
             },
             "pattern": {
              "fillmode": "overlay",
              "size": 10,
              "solidity": 0.2
             }
            },
            "type": "bar"
           }
          ],
          "barpolar": [
           {
            "marker": {
             "line": {
              "color": "rgb(17,17,17)",
              "width": 0.5
             },
             "pattern": {
              "fillmode": "overlay",
              "size": 10,
              "solidity": 0.2
             }
            },
            "type": "barpolar"
           }
          ],
          "carpet": [
           {
            "aaxis": {
             "endlinecolor": "#A2B1C6",
             "gridcolor": "#506784",
             "linecolor": "#506784",
             "minorgridcolor": "#506784",
             "startlinecolor": "#A2B1C6"
            },
            "baxis": {
             "endlinecolor": "#A2B1C6",
             "gridcolor": "#506784",
             "linecolor": "#506784",
             "minorgridcolor": "#506784",
             "startlinecolor": "#A2B1C6"
            },
            "type": "carpet"
           }
          ],
          "choropleth": [
           {
            "colorbar": {
             "outlinewidth": 0,
             "ticks": ""
            },
            "type": "choropleth"
           }
          ],
          "contour": [
           {
            "colorbar": {
             "outlinewidth": 0,
             "ticks": ""
            },
            "colorscale": [
             [
              0,
              "#0d0887"
             ],
             [
              0.1111111111111111,
              "#46039f"
             ],
             [
              0.2222222222222222,
              "#7201a8"
             ],
             [
              0.3333333333333333,
              "#9c179e"
             ],
             [
              0.4444444444444444,
              "#bd3786"
             ],
             [
              0.5555555555555556,
              "#d8576b"
             ],
             [
              0.6666666666666666,
              "#ed7953"
             ],
             [
              0.7777777777777778,
              "#fb9f3a"
             ],
             [
              0.8888888888888888,
              "#fdca26"
             ],
             [
              1,
              "#f0f921"
             ]
            ],
            "type": "contour"
           }
          ],
          "contourcarpet": [
           {
            "colorbar": {
             "outlinewidth": 0,
             "ticks": ""
            },
            "type": "contourcarpet"
           }
          ],
          "heatmap": [
           {
            "colorbar": {
             "outlinewidth": 0,
             "ticks": ""
            },
            "colorscale": [
             [
              0,
              "#0d0887"
             ],
             [
              0.1111111111111111,
              "#46039f"
             ],
             [
              0.2222222222222222,
              "#7201a8"
             ],
             [
              0.3333333333333333,
              "#9c179e"
             ],
             [
              0.4444444444444444,
              "#bd3786"
             ],
             [
              0.5555555555555556,
              "#d8576b"
             ],
             [
              0.6666666666666666,
              "#ed7953"
             ],
             [
              0.7777777777777778,
              "#fb9f3a"
             ],
             [
              0.8888888888888888,
              "#fdca26"
             ],
             [
              1,
              "#f0f921"
             ]
            ],
            "type": "heatmap"
           }
          ],
          "heatmapgl": [
           {
            "colorbar": {
             "outlinewidth": 0,
             "ticks": ""
            },
            "colorscale": [
             [
              0,
              "#0d0887"
             ],
             [
              0.1111111111111111,
              "#46039f"
             ],
             [
              0.2222222222222222,
              "#7201a8"
             ],
             [
              0.3333333333333333,
              "#9c179e"
             ],
             [
              0.4444444444444444,
              "#bd3786"
             ],
             [
              0.5555555555555556,
              "#d8576b"
             ],
             [
              0.6666666666666666,
              "#ed7953"
             ],
             [
              0.7777777777777778,
              "#fb9f3a"
             ],
             [
              0.8888888888888888,
              "#fdca26"
             ],
             [
              1,
              "#f0f921"
             ]
            ],
            "type": "heatmapgl"
           }
          ],
          "histogram": [
           {
            "marker": {
             "pattern": {
              "fillmode": "overlay",
              "size": 10,
              "solidity": 0.2
             }
            },
            "type": "histogram"
           }
          ],
          "histogram2d": [
           {
            "colorbar": {
             "outlinewidth": 0,
             "ticks": ""
            },
            "colorscale": [
             [
              0,
              "#0d0887"
             ],
             [
              0.1111111111111111,
              "#46039f"
             ],
             [
              0.2222222222222222,
              "#7201a8"
             ],
             [
              0.3333333333333333,
              "#9c179e"
             ],
             [
              0.4444444444444444,
              "#bd3786"
             ],
             [
              0.5555555555555556,
              "#d8576b"
             ],
             [
              0.6666666666666666,
              "#ed7953"
             ],
             [
              0.7777777777777778,
              "#fb9f3a"
             ],
             [
              0.8888888888888888,
              "#fdca26"
             ],
             [
              1,
              "#f0f921"
             ]
            ],
            "type": "histogram2d"
           }
          ],
          "histogram2dcontour": [
           {
            "colorbar": {
             "outlinewidth": 0,
             "ticks": ""
            },
            "colorscale": [
             [
              0,
              "#0d0887"
             ],
             [
              0.1111111111111111,
              "#46039f"
             ],
             [
              0.2222222222222222,
              "#7201a8"
             ],
             [
              0.3333333333333333,
              "#9c179e"
             ],
             [
              0.4444444444444444,
              "#bd3786"
             ],
             [
              0.5555555555555556,
              "#d8576b"
             ],
             [
              0.6666666666666666,
              "#ed7953"
             ],
             [
              0.7777777777777778,
              "#fb9f3a"
             ],
             [
              0.8888888888888888,
              "#fdca26"
             ],
             [
              1,
              "#f0f921"
             ]
            ],
            "type": "histogram2dcontour"
           }
          ],
          "mesh3d": [
           {
            "colorbar": {
             "outlinewidth": 0,
             "ticks": ""
            },
            "type": "mesh3d"
           }
          ],
          "parcoords": [
           {
            "line": {
             "colorbar": {
              "outlinewidth": 0,
              "ticks": ""
             }
            },
            "type": "parcoords"
           }
          ],
          "pie": [
           {
            "automargin": true,
            "type": "pie"
           }
          ],
          "scatter": [
           {
            "marker": {
             "line": {
              "color": "#283442"
             }
            },
            "type": "scatter"
           }
          ],
          "scatter3d": [
           {
            "line": {
             "colorbar": {
              "outlinewidth": 0,
              "ticks": ""
             }
            },
            "marker": {
             "colorbar": {
              "outlinewidth": 0,
              "ticks": ""
             }
            },
            "type": "scatter3d"
           }
          ],
          "scattercarpet": [
           {
            "marker": {
             "colorbar": {
              "outlinewidth": 0,
              "ticks": ""
             }
            },
            "type": "scattercarpet"
           }
          ],
          "scattergeo": [
           {
            "marker": {
             "colorbar": {
              "outlinewidth": 0,
              "ticks": ""
             }
            },
            "type": "scattergeo"
           }
          ],
          "scattergl": [
           {
            "marker": {
             "line": {
              "color": "#283442"
             }
            },
            "type": "scattergl"
           }
          ],
          "scattermapbox": [
           {
            "marker": {
             "colorbar": {
              "outlinewidth": 0,
              "ticks": ""
             }
            },
            "type": "scattermapbox"
           }
          ],
          "scatterpolar": [
           {
            "marker": {
             "colorbar": {
              "outlinewidth": 0,
              "ticks": ""
             }
            },
            "type": "scatterpolar"
           }
          ],
          "scatterpolargl": [
           {
            "marker": {
             "colorbar": {
              "outlinewidth": 0,
              "ticks": ""
             }
            },
            "type": "scatterpolargl"
           }
          ],
          "scatterternary": [
           {
            "marker": {
             "colorbar": {
              "outlinewidth": 0,
              "ticks": ""
             }
            },
            "type": "scatterternary"
           }
          ],
          "surface": [
           {
            "colorbar": {
             "outlinewidth": 0,
             "ticks": ""
            },
            "colorscale": [
             [
              0,
              "#0d0887"
             ],
             [
              0.1111111111111111,
              "#46039f"
             ],
             [
              0.2222222222222222,
              "#7201a8"
             ],
             [
              0.3333333333333333,
              "#9c179e"
             ],
             [
              0.4444444444444444,
              "#bd3786"
             ],
             [
              0.5555555555555556,
              "#d8576b"
             ],
             [
              0.6666666666666666,
              "#ed7953"
             ],
             [
              0.7777777777777778,
              "#fb9f3a"
             ],
             [
              0.8888888888888888,
              "#fdca26"
             ],
             [
              1,
              "#f0f921"
             ]
            ],
            "type": "surface"
           }
          ],
          "table": [
           {
            "cells": {
             "fill": {
              "color": "#506784"
             },
             "line": {
              "color": "rgb(17,17,17)"
             }
            },
            "header": {
             "fill": {
              "color": "#2a3f5f"
             },
             "line": {
              "color": "rgb(17,17,17)"
             }
            },
            "type": "table"
           }
          ]
         },
         "layout": {
          "annotationdefaults": {
           "arrowcolor": "#f2f5fa",
           "arrowhead": 0,
           "arrowwidth": 1
          },
          "autotypenumbers": "strict",
          "coloraxis": {
           "colorbar": {
            "outlinewidth": 0,
            "ticks": ""
           }
          },
          "colorscale": {
           "diverging": [
            [
             0,
             "#8e0152"
            ],
            [
             0.1,
             "#c51b7d"
            ],
            [
             0.2,
             "#de77ae"
            ],
            [
             0.3,
             "#f1b6da"
            ],
            [
             0.4,
             "#fde0ef"
            ],
            [
             0.5,
             "#f7f7f7"
            ],
            [
             0.6,
             "#e6f5d0"
            ],
            [
             0.7,
             "#b8e186"
            ],
            [
             0.8,
             "#7fbc41"
            ],
            [
             0.9,
             "#4d9221"
            ],
            [
             1,
             "#276419"
            ]
           ],
           "sequential": [
            [
             0,
             "#0d0887"
            ],
            [
             0.1111111111111111,
             "#46039f"
            ],
            [
             0.2222222222222222,
             "#7201a8"
            ],
            [
             0.3333333333333333,
             "#9c179e"
            ],
            [
             0.4444444444444444,
             "#bd3786"
            ],
            [
             0.5555555555555556,
             "#d8576b"
            ],
            [
             0.6666666666666666,
             "#ed7953"
            ],
            [
             0.7777777777777778,
             "#fb9f3a"
            ],
            [
             0.8888888888888888,
             "#fdca26"
            ],
            [
             1,
             "#f0f921"
            ]
           ],
           "sequentialminus": [
            [
             0,
             "#0d0887"
            ],
            [
             0.1111111111111111,
             "#46039f"
            ],
            [
             0.2222222222222222,
             "#7201a8"
            ],
            [
             0.3333333333333333,
             "#9c179e"
            ],
            [
             0.4444444444444444,
             "#bd3786"
            ],
            [
             0.5555555555555556,
             "#d8576b"
            ],
            [
             0.6666666666666666,
             "#ed7953"
            ],
            [
             0.7777777777777778,
             "#fb9f3a"
            ],
            [
             0.8888888888888888,
             "#fdca26"
            ],
            [
             1,
             "#f0f921"
            ]
           ]
          },
          "colorway": [
           "#636efa",
           "#EF553B",
           "#00cc96",
           "#ab63fa",
           "#FFA15A",
           "#19d3f3",
           "#FF6692",
           "#B6E880",
           "#FF97FF",
           "#FECB52"
          ],
          "font": {
           "color": "#f2f5fa"
          },
          "geo": {
           "bgcolor": "rgb(17,17,17)",
           "lakecolor": "rgb(17,17,17)",
           "landcolor": "rgb(17,17,17)",
           "showlakes": true,
           "showland": true,
           "subunitcolor": "#506784"
          },
          "hoverlabel": {
           "align": "left"
          },
          "hovermode": "closest",
          "mapbox": {
           "style": "dark"
          },
          "paper_bgcolor": "rgb(17,17,17)",
          "plot_bgcolor": "rgb(17,17,17)",
          "polar": {
           "angularaxis": {
            "gridcolor": "#506784",
            "linecolor": "#506784",
            "ticks": ""
           },
           "bgcolor": "rgb(17,17,17)",
           "radialaxis": {
            "gridcolor": "#506784",
            "linecolor": "#506784",
            "ticks": ""
           }
          },
          "scene": {
           "xaxis": {
            "backgroundcolor": "rgb(17,17,17)",
            "gridcolor": "#506784",
            "gridwidth": 2,
            "linecolor": "#506784",
            "showbackground": true,
            "ticks": "",
            "zerolinecolor": "#C8D4E3"
           },
           "yaxis": {
            "backgroundcolor": "rgb(17,17,17)",
            "gridcolor": "#506784",
            "gridwidth": 2,
            "linecolor": "#506784",
            "showbackground": true,
            "ticks": "",
            "zerolinecolor": "#C8D4E3"
           },
           "zaxis": {
            "backgroundcolor": "rgb(17,17,17)",
            "gridcolor": "#506784",
            "gridwidth": 2,
            "linecolor": "#506784",
            "showbackground": true,
            "ticks": "",
            "zerolinecolor": "#C8D4E3"
           }
          },
          "shapedefaults": {
           "line": {
            "color": "#f2f5fa"
           }
          },
          "sliderdefaults": {
           "bgcolor": "#C8D4E3",
           "bordercolor": "rgb(17,17,17)",
           "borderwidth": 1,
           "tickwidth": 0
          },
          "ternary": {
           "aaxis": {
            "gridcolor": "#506784",
            "linecolor": "#506784",
            "ticks": ""
           },
           "baxis": {
            "gridcolor": "#506784",
            "linecolor": "#506784",
            "ticks": ""
           },
           "bgcolor": "rgb(17,17,17)",
           "caxis": {
            "gridcolor": "#506784",
            "linecolor": "#506784",
            "ticks": ""
           }
          },
          "title": {
           "x": 0.05
          },
          "updatemenudefaults": {
           "bgcolor": "#506784",
           "borderwidth": 0
          },
          "xaxis": {
           "automargin": true,
           "gridcolor": "#283442",
           "linecolor": "#506784",
           "ticks": "",
           "title": {
            "standoff": 15
           },
           "zerolinecolor": "#283442",
           "zerolinewidth": 2
          },
          "yaxis": {
           "automargin": true,
           "gridcolor": "#283442",
           "linecolor": "#506784",
           "ticks": "",
           "title": {
            "standoff": 15
           },
           "zerolinecolor": "#283442",
           "zerolinewidth": 2
          }
         }
        },
        "xaxis": {
         "anchor": "y",
         "domain": [
          0,
          1
         ],
         "title": {
          "text": "Industry"
         }
        },
        "yaxis": {
         "anchor": "x",
         "domain": [
          0,
          1
         ],
         "title": {
          "text": "Company"
         }
        }
       }
      }
     },
     "metadata": {},
     "output_type": "display_data"
    }
   ],
   "source": [
    "fig = px.bar(industry[industry['Year'] == 2023], x='Industry', y='Company', template=\"plotly_dark\")\n",
    "\n",
    "fig.add_trace(px.line(valuations[valuations['Year'] == 2023], x=\"Industry\", y=\"Valuation ($B)\", template=\"plotly_dark\").data[0])\n",
    "\n",
    "title='Evolución de Epresas Unicornios'\n",
    "\n",
    "fig.show()"
   ]
  },
  {
   "cell_type": "code",
   "execution_count": 99,
   "metadata": {},
   "outputs": [
    {
     "data": {
      "application/vnd.plotly.v1+json": {
       "config": {
        "plotlyServerURL": "https://plot.ly"
       },
       "data": [
        {
         "alignmentgroup": "True",
         "hovertemplate": "Industry=%{x}<br>Company=%{y}<extra></extra>",
         "legendgroup": "",
         "marker": {
          "color": "#636efa",
          "pattern": {
           "shape": ""
          }
         },
         "name": "",
         "offsetgroup": "",
         "orientation": "v",
         "showlegend": false,
         "textposition": "auto",
         "type": "bar",
         "x": [
          " Cybersecurity",
          " Education Tech",
          " Media & Entertainment",
          " Mobile Software & Services",
          "Advertising Technology",
          "Big Data",
          "Cleantech",
          "Clothing & Accessories",
          "Facilities",
          "Film & Video",
          "Finance Technology",
          "Gaming",
          "Hardware",
          "Health & Wellnes",
          "Internet Software &\n\t  Services",
          "Internet Software & Services",
          "Media & Entertainment",
          "Mobile Software &\n\t  Services",
          "OnDemand",
          "Other",
          "Realidad virtual",
          "e-commerce"
         ],
         "xaxis": "x",
         "y": [
          7,
          1,
          3,
          4,
          3,
          14,
          1,
          1,
          1,
          1,
          17,
          1,
          7,
          10,
          3,
          19,
          8,
          1,
          9,
          1,
          1,
          31
         ],
         "yaxis": "y"
        },
        {
         "hovertemplate": "Industry=%{x}<br>Valuation ($B)=%{y}<extra></extra>",
         "legendgroup": "",
         "line": {
          "color": "#636efa",
          "dash": "solid"
         },
         "marker": {
          "symbol": "circle"
         },
         "mode": "lines",
         "name": "",
         "orientation": "v",
         "showlegend": false,
         "type": "scatter",
         "x": [
          " Cybersecurity",
          " Education Tech",
          " Media & Entertainment",
          " Mobile Software & Services",
          "Advertising Technology",
          "Big Data",
          "Cleantech",
          "Clothing & Accessories",
          "Facilities",
          "Film & Video",
          "Finance Technology",
          "Gaming",
          "Hardware",
          "Health & Wellnes",
          "Internet Software &\n\t  Services",
          "Internet Software & Services",
          "Media & Entertainment",
          "Mobile Software &\n\t  Services",
          "OnDemand",
          "Other",
          "Realidad virtual",
          "e-commerce"
         ],
         "xaxis": "x",
         "y": [
          9.7,
          1,
          6.5,
          4.4,
          3.2,
          40.25,
          2.7,
          2,
          10,
          3,
          47.54,
          1,
          63.5,
          29.68,
          4.66,
          42.37,
          33.2,
          1.5,
          82.85,
          12,
          2,
          101.51
         ],
         "yaxis": "y"
        }
       ],
       "layout": {
        "barmode": "relative",
        "legend": {
         "tracegroupgap": 0
        },
        "margin": {
         "t": 60
        },
        "template": {
         "data": {
          "bar": [
           {
            "error_x": {
             "color": "#f2f5fa"
            },
            "error_y": {
             "color": "#f2f5fa"
            },
            "marker": {
             "line": {
              "color": "rgb(17,17,17)",
              "width": 0.5
             },
             "pattern": {
              "fillmode": "overlay",
              "size": 10,
              "solidity": 0.2
             }
            },
            "type": "bar"
           }
          ],
          "barpolar": [
           {
            "marker": {
             "line": {
              "color": "rgb(17,17,17)",
              "width": 0.5
             },
             "pattern": {
              "fillmode": "overlay",
              "size": 10,
              "solidity": 0.2
             }
            },
            "type": "barpolar"
           }
          ],
          "carpet": [
           {
            "aaxis": {
             "endlinecolor": "#A2B1C6",
             "gridcolor": "#506784",
             "linecolor": "#506784",
             "minorgridcolor": "#506784",
             "startlinecolor": "#A2B1C6"
            },
            "baxis": {
             "endlinecolor": "#A2B1C6",
             "gridcolor": "#506784",
             "linecolor": "#506784",
             "minorgridcolor": "#506784",
             "startlinecolor": "#A2B1C6"
            },
            "type": "carpet"
           }
          ],
          "choropleth": [
           {
            "colorbar": {
             "outlinewidth": 0,
             "ticks": ""
            },
            "type": "choropleth"
           }
          ],
          "contour": [
           {
            "colorbar": {
             "outlinewidth": 0,
             "ticks": ""
            },
            "colorscale": [
             [
              0,
              "#0d0887"
             ],
             [
              0.1111111111111111,
              "#46039f"
             ],
             [
              0.2222222222222222,
              "#7201a8"
             ],
             [
              0.3333333333333333,
              "#9c179e"
             ],
             [
              0.4444444444444444,
              "#bd3786"
             ],
             [
              0.5555555555555556,
              "#d8576b"
             ],
             [
              0.6666666666666666,
              "#ed7953"
             ],
             [
              0.7777777777777778,
              "#fb9f3a"
             ],
             [
              0.8888888888888888,
              "#fdca26"
             ],
             [
              1,
              "#f0f921"
             ]
            ],
            "type": "contour"
           }
          ],
          "contourcarpet": [
           {
            "colorbar": {
             "outlinewidth": 0,
             "ticks": ""
            },
            "type": "contourcarpet"
           }
          ],
          "heatmap": [
           {
            "colorbar": {
             "outlinewidth": 0,
             "ticks": ""
            },
            "colorscale": [
             [
              0,
              "#0d0887"
             ],
             [
              0.1111111111111111,
              "#46039f"
             ],
             [
              0.2222222222222222,
              "#7201a8"
             ],
             [
              0.3333333333333333,
              "#9c179e"
             ],
             [
              0.4444444444444444,
              "#bd3786"
             ],
             [
              0.5555555555555556,
              "#d8576b"
             ],
             [
              0.6666666666666666,
              "#ed7953"
             ],
             [
              0.7777777777777778,
              "#fb9f3a"
             ],
             [
              0.8888888888888888,
              "#fdca26"
             ],
             [
              1,
              "#f0f921"
             ]
            ],
            "type": "heatmap"
           }
          ],
          "heatmapgl": [
           {
            "colorbar": {
             "outlinewidth": 0,
             "ticks": ""
            },
            "colorscale": [
             [
              0,
              "#0d0887"
             ],
             [
              0.1111111111111111,
              "#46039f"
             ],
             [
              0.2222222222222222,
              "#7201a8"
             ],
             [
              0.3333333333333333,
              "#9c179e"
             ],
             [
              0.4444444444444444,
              "#bd3786"
             ],
             [
              0.5555555555555556,
              "#d8576b"
             ],
             [
              0.6666666666666666,
              "#ed7953"
             ],
             [
              0.7777777777777778,
              "#fb9f3a"
             ],
             [
              0.8888888888888888,
              "#fdca26"
             ],
             [
              1,
              "#f0f921"
             ]
            ],
            "type": "heatmapgl"
           }
          ],
          "histogram": [
           {
            "marker": {
             "pattern": {
              "fillmode": "overlay",
              "size": 10,
              "solidity": 0.2
             }
            },
            "type": "histogram"
           }
          ],
          "histogram2d": [
           {
            "colorbar": {
             "outlinewidth": 0,
             "ticks": ""
            },
            "colorscale": [
             [
              0,
              "#0d0887"
             ],
             [
              0.1111111111111111,
              "#46039f"
             ],
             [
              0.2222222222222222,
              "#7201a8"
             ],
             [
              0.3333333333333333,
              "#9c179e"
             ],
             [
              0.4444444444444444,
              "#bd3786"
             ],
             [
              0.5555555555555556,
              "#d8576b"
             ],
             [
              0.6666666666666666,
              "#ed7953"
             ],
             [
              0.7777777777777778,
              "#fb9f3a"
             ],
             [
              0.8888888888888888,
              "#fdca26"
             ],
             [
              1,
              "#f0f921"
             ]
            ],
            "type": "histogram2d"
           }
          ],
          "histogram2dcontour": [
           {
            "colorbar": {
             "outlinewidth": 0,
             "ticks": ""
            },
            "colorscale": [
             [
              0,
              "#0d0887"
             ],
             [
              0.1111111111111111,
              "#46039f"
             ],
             [
              0.2222222222222222,
              "#7201a8"
             ],
             [
              0.3333333333333333,
              "#9c179e"
             ],
             [
              0.4444444444444444,
              "#bd3786"
             ],
             [
              0.5555555555555556,
              "#d8576b"
             ],
             [
              0.6666666666666666,
              "#ed7953"
             ],
             [
              0.7777777777777778,
              "#fb9f3a"
             ],
             [
              0.8888888888888888,
              "#fdca26"
             ],
             [
              1,
              "#f0f921"
             ]
            ],
            "type": "histogram2dcontour"
           }
          ],
          "mesh3d": [
           {
            "colorbar": {
             "outlinewidth": 0,
             "ticks": ""
            },
            "type": "mesh3d"
           }
          ],
          "parcoords": [
           {
            "line": {
             "colorbar": {
              "outlinewidth": 0,
              "ticks": ""
             }
            },
            "type": "parcoords"
           }
          ],
          "pie": [
           {
            "automargin": true,
            "type": "pie"
           }
          ],
          "scatter": [
           {
            "marker": {
             "line": {
              "color": "#283442"
             }
            },
            "type": "scatter"
           }
          ],
          "scatter3d": [
           {
            "line": {
             "colorbar": {
              "outlinewidth": 0,
              "ticks": ""
             }
            },
            "marker": {
             "colorbar": {
              "outlinewidth": 0,
              "ticks": ""
             }
            },
            "type": "scatter3d"
           }
          ],
          "scattercarpet": [
           {
            "marker": {
             "colorbar": {
              "outlinewidth": 0,
              "ticks": ""
             }
            },
            "type": "scattercarpet"
           }
          ],
          "scattergeo": [
           {
            "marker": {
             "colorbar": {
              "outlinewidth": 0,
              "ticks": ""
             }
            },
            "type": "scattergeo"
           }
          ],
          "scattergl": [
           {
            "marker": {
             "line": {
              "color": "#283442"
             }
            },
            "type": "scattergl"
           }
          ],
          "scattermapbox": [
           {
            "marker": {
             "colorbar": {
              "outlinewidth": 0,
              "ticks": ""
             }
            },
            "type": "scattermapbox"
           }
          ],
          "scatterpolar": [
           {
            "marker": {
             "colorbar": {
              "outlinewidth": 0,
              "ticks": ""
             }
            },
            "type": "scatterpolar"
           }
          ],
          "scatterpolargl": [
           {
            "marker": {
             "colorbar": {
              "outlinewidth": 0,
              "ticks": ""
             }
            },
            "type": "scatterpolargl"
           }
          ],
          "scatterternary": [
           {
            "marker": {
             "colorbar": {
              "outlinewidth": 0,
              "ticks": ""
             }
            },
            "type": "scatterternary"
           }
          ],
          "surface": [
           {
            "colorbar": {
             "outlinewidth": 0,
             "ticks": ""
            },
            "colorscale": [
             [
              0,
              "#0d0887"
             ],
             [
              0.1111111111111111,
              "#46039f"
             ],
             [
              0.2222222222222222,
              "#7201a8"
             ],
             [
              0.3333333333333333,
              "#9c179e"
             ],
             [
              0.4444444444444444,
              "#bd3786"
             ],
             [
              0.5555555555555556,
              "#d8576b"
             ],
             [
              0.6666666666666666,
              "#ed7953"
             ],
             [
              0.7777777777777778,
              "#fb9f3a"
             ],
             [
              0.8888888888888888,
              "#fdca26"
             ],
             [
              1,
              "#f0f921"
             ]
            ],
            "type": "surface"
           }
          ],
          "table": [
           {
            "cells": {
             "fill": {
              "color": "#506784"
             },
             "line": {
              "color": "rgb(17,17,17)"
             }
            },
            "header": {
             "fill": {
              "color": "#2a3f5f"
             },
             "line": {
              "color": "rgb(17,17,17)"
             }
            },
            "type": "table"
           }
          ]
         },
         "layout": {
          "annotationdefaults": {
           "arrowcolor": "#f2f5fa",
           "arrowhead": 0,
           "arrowwidth": 1
          },
          "autotypenumbers": "strict",
          "coloraxis": {
           "colorbar": {
            "outlinewidth": 0,
            "ticks": ""
           }
          },
          "colorscale": {
           "diverging": [
            [
             0,
             "#8e0152"
            ],
            [
             0.1,
             "#c51b7d"
            ],
            [
             0.2,
             "#de77ae"
            ],
            [
             0.3,
             "#f1b6da"
            ],
            [
             0.4,
             "#fde0ef"
            ],
            [
             0.5,
             "#f7f7f7"
            ],
            [
             0.6,
             "#e6f5d0"
            ],
            [
             0.7,
             "#b8e186"
            ],
            [
             0.8,
             "#7fbc41"
            ],
            [
             0.9,
             "#4d9221"
            ],
            [
             1,
             "#276419"
            ]
           ],
           "sequential": [
            [
             0,
             "#0d0887"
            ],
            [
             0.1111111111111111,
             "#46039f"
            ],
            [
             0.2222222222222222,
             "#7201a8"
            ],
            [
             0.3333333333333333,
             "#9c179e"
            ],
            [
             0.4444444444444444,
             "#bd3786"
            ],
            [
             0.5555555555555556,
             "#d8576b"
            ],
            [
             0.6666666666666666,
             "#ed7953"
            ],
            [
             0.7777777777777778,
             "#fb9f3a"
            ],
            [
             0.8888888888888888,
             "#fdca26"
            ],
            [
             1,
             "#f0f921"
            ]
           ],
           "sequentialminus": [
            [
             0,
             "#0d0887"
            ],
            [
             0.1111111111111111,
             "#46039f"
            ],
            [
             0.2222222222222222,
             "#7201a8"
            ],
            [
             0.3333333333333333,
             "#9c179e"
            ],
            [
             0.4444444444444444,
             "#bd3786"
            ],
            [
             0.5555555555555556,
             "#d8576b"
            ],
            [
             0.6666666666666666,
             "#ed7953"
            ],
            [
             0.7777777777777778,
             "#fb9f3a"
            ],
            [
             0.8888888888888888,
             "#fdca26"
            ],
            [
             1,
             "#f0f921"
            ]
           ]
          },
          "colorway": [
           "#636efa",
           "#EF553B",
           "#00cc96",
           "#ab63fa",
           "#FFA15A",
           "#19d3f3",
           "#FF6692",
           "#B6E880",
           "#FF97FF",
           "#FECB52"
          ],
          "font": {
           "color": "#f2f5fa"
          },
          "geo": {
           "bgcolor": "rgb(17,17,17)",
           "lakecolor": "rgb(17,17,17)",
           "landcolor": "rgb(17,17,17)",
           "showlakes": true,
           "showland": true,
           "subunitcolor": "#506784"
          },
          "hoverlabel": {
           "align": "left"
          },
          "hovermode": "closest",
          "mapbox": {
           "style": "dark"
          },
          "paper_bgcolor": "rgb(17,17,17)",
          "plot_bgcolor": "rgb(17,17,17)",
          "polar": {
           "angularaxis": {
            "gridcolor": "#506784",
            "linecolor": "#506784",
            "ticks": ""
           },
           "bgcolor": "rgb(17,17,17)",
           "radialaxis": {
            "gridcolor": "#506784",
            "linecolor": "#506784",
            "ticks": ""
           }
          },
          "scene": {
           "xaxis": {
            "backgroundcolor": "rgb(17,17,17)",
            "gridcolor": "#506784",
            "gridwidth": 2,
            "linecolor": "#506784",
            "showbackground": true,
            "ticks": "",
            "zerolinecolor": "#C8D4E3"
           },
           "yaxis": {
            "backgroundcolor": "rgb(17,17,17)",
            "gridcolor": "#506784",
            "gridwidth": 2,
            "linecolor": "#506784",
            "showbackground": true,
            "ticks": "",
            "zerolinecolor": "#C8D4E3"
           },
           "zaxis": {
            "backgroundcolor": "rgb(17,17,17)",
            "gridcolor": "#506784",
            "gridwidth": 2,
            "linecolor": "#506784",
            "showbackground": true,
            "ticks": "",
            "zerolinecolor": "#C8D4E3"
           }
          },
          "shapedefaults": {
           "line": {
            "color": "#f2f5fa"
           }
          },
          "sliderdefaults": {
           "bgcolor": "#C8D4E3",
           "bordercolor": "rgb(17,17,17)",
           "borderwidth": 1,
           "tickwidth": 0
          },
          "ternary": {
           "aaxis": {
            "gridcolor": "#506784",
            "linecolor": "#506784",
            "ticks": ""
           },
           "baxis": {
            "gridcolor": "#506784",
            "linecolor": "#506784",
            "ticks": ""
           },
           "bgcolor": "rgb(17,17,17)",
           "caxis": {
            "gridcolor": "#506784",
            "linecolor": "#506784",
            "ticks": ""
           }
          },
          "title": {
           "x": 0.05
          },
          "updatemenudefaults": {
           "bgcolor": "#506784",
           "borderwidth": 0
          },
          "xaxis": {
           "automargin": true,
           "gridcolor": "#283442",
           "linecolor": "#506784",
           "ticks": "",
           "title": {
            "standoff": 15
           },
           "zerolinecolor": "#283442",
           "zerolinewidth": 2
          },
          "yaxis": {
           "automargin": true,
           "gridcolor": "#283442",
           "linecolor": "#506784",
           "ticks": "",
           "title": {
            "standoff": 15
           },
           "zerolinecolor": "#283442",
           "zerolinewidth": 2
          }
         }
        },
        "xaxis": {
         "anchor": "y",
         "domain": [
          0,
          1
         ],
         "title": {
          "text": "Industry"
         }
        },
        "yaxis": {
         "anchor": "x",
         "domain": [
          0,
          1
         ],
         "title": {
          "text": "Company"
         }
        }
       }
      }
     },
     "metadata": {},
     "output_type": "display_data"
    }
   ],
   "source": [
    "fig = px.bar(industry[industry['Year']==2015], x='Industry', y='Company', template=\"plotly_dark\")\n",
    "fig.add_trace(px.line(valuations[valuations['Year'] == 2015], x=\"Industry\", y=\"Valuation ($B)\", template=\"plotly_dark\").data[0])\n",
    "\n",
    "fig.show()"
   ]
  },
  {
   "cell_type": "markdown",
   "metadata": {},
   "source": [
    "### ¿Hace cuánto tiempo están en el top 10 las empresas del 2023?"
   ]
  },
  {
   "cell_type": "code",
   "execution_count": 100,
   "metadata": {},
   "outputs": [],
   "source": [
    "años = unicorns.groupby('Year')['Company'].count().reset_index()"
   ]
  },
  {
   "cell_type": "markdown",
   "metadata": {},
   "source": [
    "# 3. Poniendo a Prueba Hipótesis:"
   ]
  },
  {
   "cell_type": "markdown",
   "metadata": {},
   "source": [
    "## TEST DE HIPÓTESIS:\n",
    "\n",
    "Shapiro-Wilk: \n",
    "***H0*** : las muestras presentan una distribución normal\n",
    "\n",
    "Mann-Whitney-U:\n",
    "***H0*** : La distribución de la variable en el grupo A (Valuación de empresas unicornios) es igual a la distribución de la variable en el grupo B (BPI del pais)\n",
    "\n",
    "Hipotesis nula = No existe diferencia significativa en la valuacion de las empresas unicornos si pertenecen a Estados Unidos y China. \n"
   ]
  },
  {
   "cell_type": "markdown",
   "metadata": {},
   "source": [
    "### 1. ¿Hay diferencia Significativa la valuación de las empresas unicornios en función de los paises a las que pertenecen?\n",
    "\n",
    "Hipotesis nula = No existe diferencia significativa en la valuación de las empresas unicornos si pertenecen a Estados Unidos y China."
   ]
  },
  {
   "cell_type": "code",
   "execution_count": 101,
   "metadata": {},
   "outputs": [],
   "source": [
    "# Seleccionamos la valuación para el país United States \n",
    "group_A = unicorns[unicorns['Country'].isin(['United States'])] ['Valuation ($B)']\n",
    "\n",
    "# seleccionamos el PBI pata el mismo país\n",
    "group_B = unicorns[unicorns['Country'].isin(['China'])] ['Valuation ($B)']"
   ]
  },
  {
   "cell_type": "code",
   "execution_count": 102,
   "metadata": {},
   "outputs": [
    {
     "name": "stdout",
     "output_type": "stream",
     "text": [
      "El p-valor obtenido en el test de Shapiro-Wilk para la *Valuación de empresas unicornnios en Estados Unidos* es de 0.0\n",
      "El p-valor obtenido en el test de Shapiro-Wilk para el *PBI en Estados Unidos* es de 0.0\n",
      "----------\n",
      "El p-valor obtenido en el test de Mann-Whitney es de 5.457875322956404e-06\n",
      "----------\n"
     ]
    }
   ],
   "source": [
    "# Aplicamos shapiro \n",
    "from scipy.stats import shapiro\n",
    "\n",
    "shapiro_testA = shapiro(group_A)\n",
    "print(f\"El p-valor obtenido en el test de Shapiro-Wilk para la *Valuación de empresas unicornnios en Estados Unidos* es de {shapiro_testA[1]}\")\n",
    "\n",
    "shapiro_testB = shapiro(group_B)\n",
    "print(f\"El p-valor obtenido en el test de Shapiro-Wilk para el *PBI en Estados Unidos* es de {shapiro_testB[1]}\")\n",
    "print('----------')\n",
    "\n",
    "#  Aplicamos mannwhitneyu Test\n",
    "from scipy.stats import mannwhitneyu \n",
    "\n",
    "MW_test = mannwhitneyu(group_A, group_B)\n",
    "print(f\"El p-valor obtenido en el test de Mann-Whitney es de {MW_test.pvalue}\")\n",
    "print('----------')"
   ]
  },
  {
   "cell_type": "code",
   "execution_count": 103,
   "metadata": {},
   "outputs": [
    {
     "data": {
      "text/plain": [
       "<Axes: xlabel='Valuation ($B)', ylabel='Count'>"
      ]
     },
     "execution_count": 103,
     "metadata": {},
     "output_type": "execute_result"
    },
    {
     "data": {
      "image/png": "[encoded data removed]",
      "text/plain": [
       "<Figure size 640x480 with 1 Axes>"
      ]
     },
     "metadata": {},
     "output_type": "display_data"
    }
   ],
   "source": [
    "import seaborn as sns\n",
    "# Dibujo\n",
    "df_valuation = unicorns[unicorns['Country'].isin(['United States','China'])].reset_index()\n",
    "sns.histplot(\n",
    "    df_valuation.loc[df_valuation['Valuation ($B)']>0,:],\n",
    "    x=\"Valuation ($B)\", hue=\"Country\",\n",
    "    # multiple=\"stack\",\n",
    "    # palette=\"light:m_r\",\n",
    "    edgecolor=\".3\",\n",
    "    linewidth=.5,\n",
    "    log_scale=True,\n",
    ")"
   ]
  },
  {
   "cell_type": "markdown",
   "metadata": {},
   "source": [
    "    Conclusión: Como Mann-Whitney nos da un p-vale de 5.457875322956404e-06 es menor que 0,05 se rechaza la hipotesis?. \n",
    "\n",
    "    ----------------------------"
   ]
  },
  {
   "cell_type": "markdown",
   "metadata": {},
   "source": [
    "### 2. ¿Hay diferencia Significativa la valuación de las empresas unicornios en función de los paises a las que pertenecen?"
   ]
  },
  {
   "cell_type": "markdown",
   "metadata": {},
   "source": [
    "# 4. Machine Learning"
   ]
  },
  {
   "cell_type": "markdown",
   "metadata": {},
   "source": [
    "Análisis de factores de éxito:aprendizaje no supervisado"
   ]
  },
  {
   "cell_type": "markdown",
   "metadata": {},
   "source": [
    "## Procesamiento de Dataset"
   ]
  },
  {
   "cell_type": "code",
   "execution_count": 104,
   "metadata": {},
   "outputs": [],
   "source": [
    "ml = pd.read_csv('Unicorn+Companies/Unicorn_Companies.csv')"
   ]
  },
  {
   "cell_type": "code",
   "execution_count": 105,
   "metadata": {},
   "outputs": [
    {
     "data": {
      "text/html": [
       "<div>\n",
       "<style scoped>\n",
       "    .dataframe tbody tr th:only-of-type {\n",
       "        vertical-align: middle;\n",
       "    }\n",
       "\n",
       "    .dataframe tbody tr th {\n",
       "        vertical-align: top;\n",
       "    }\n",
       "\n",
       "    .dataframe thead th {\n",
       "        text-align: right;\n",
       "    }\n",
       "</style>\n",
       "<table border=\"1\" class=\"dataframe\">\n",
       "  <thead>\n",
       "    <tr style=\"text-align: right;\">\n",
       "      <th></th>\n",
       "      <th>Company</th>\n",
       "      <th>Valuation</th>\n",
       "      <th>Date Joined</th>\n",
       "      <th>Industry</th>\n",
       "      <th>City</th>\n",
       "      <th>Country</th>\n",
       "      <th>Continent</th>\n",
       "      <th>Year Founded</th>\n",
       "      <th>Funding</th>\n",
       "      <th>Select Investors</th>\n",
       "    </tr>\n",
       "  </thead>\n",
       "  <tbody>\n",
       "    <tr>\n",
       "      <th>0</th>\n",
       "      <td>Bytedance</td>\n",
       "      <td>$180B</td>\n",
       "      <td>2017-04-07</td>\n",
       "      <td>Artificial intelligence</td>\n",
       "      <td>Beijing</td>\n",
       "      <td>China</td>\n",
       "      <td>Asia</td>\n",
       "      <td>2012</td>\n",
       "      <td>$8B</td>\n",
       "      <td>Sequoia Capital China, SIG Asia Investments, S...</td>\n",
       "    </tr>\n",
       "    <tr>\n",
       "      <th>1</th>\n",
       "      <td>SpaceX</td>\n",
       "      <td>$100B</td>\n",
       "      <td>2012-12-01</td>\n",
       "      <td>Other</td>\n",
       "      <td>Hawthorne</td>\n",
       "      <td>United States</td>\n",
       "      <td>North America</td>\n",
       "      <td>2002</td>\n",
       "      <td>$7B</td>\n",
       "      <td>Founders Fund, Draper Fisher Jurvetson, Rothen...</td>\n",
       "    </tr>\n",
       "    <tr>\n",
       "      <th>2</th>\n",
       "      <td>SHEIN</td>\n",
       "      <td>$100B</td>\n",
       "      <td>2018-07-03</td>\n",
       "      <td>E-commerce &amp; direct-to-consumer</td>\n",
       "      <td>Shenzhen</td>\n",
       "      <td>China</td>\n",
       "      <td>Asia</td>\n",
       "      <td>2008</td>\n",
       "      <td>$2B</td>\n",
       "      <td>Tiger Global Management, Sequoia Capital China...</td>\n",
       "    </tr>\n",
       "  </tbody>\n",
       "</table>\n",
       "</div>"
      ],
      "text/plain": [
       "     Company Valuation Date Joined                         Industry  \\\n",
       "0  Bytedance     $180B  2017-04-07          Artificial intelligence   \n",
       "1     SpaceX     $100B  2012-12-01                            Other   \n",
       "2      SHEIN     $100B  2018-07-03  E-commerce & direct-to-consumer   \n",
       "\n",
       "        City        Country      Continent  Year Founded Funding  \\\n",
       "0    Beijing          China           Asia          2012     $8B   \n",
       "1  Hawthorne  United States  North America          2002     $7B   \n",
       "2   Shenzhen          China           Asia          2008     $2B   \n",
       "\n",
       "                                    Select Investors  \n",
       "0  Sequoia Capital China, SIG Asia Investments, S...  \n",
       "1  Founders Fund, Draper Fisher Jurvetson, Rothen...  \n",
       "2  Tiger Global Management, Sequoia Capital China...  "
      ]
     },
     "execution_count": 105,
     "metadata": {},
     "output_type": "execute_result"
    }
   ],
   "source": [
    "ml.head(3)"
   ]
  },
  {
   "cell_type": "code",
   "execution_count": 106,
   "metadata": {},
   "outputs": [
    {
     "name": "stdout",
     "output_type": "stream",
     "text": [
      "El df esta formado por:  1074 filas y 10 columnas\n",
      "Cantidad de valores duplicados:  0\n",
      "Cantidad de valores nulos:  17\n"
     ]
    }
   ],
   "source": [
    "reporte(ml)"
   ]
  },
  {
   "cell_type": "code",
   "execution_count": 107,
   "metadata": {},
   "outputs": [
    {
     "data": {
      "text/html": [
       "<div>\n",
       "<style scoped>\n",
       "    .dataframe tbody tr th:only-of-type {\n",
       "        vertical-align: middle;\n",
       "    }\n",
       "\n",
       "    .dataframe tbody tr th {\n",
       "        vertical-align: top;\n",
       "    }\n",
       "\n",
       "    .dataframe thead th {\n",
       "        text-align: right;\n",
       "    }\n",
       "</style>\n",
       "<table border=\"1\" class=\"dataframe\">\n",
       "  <thead>\n",
       "    <tr style=\"text-align: right;\">\n",
       "      <th></th>\n",
       "      <th>City</th>\n",
       "      <th>Select Investors</th>\n",
       "      <th>Company</th>\n",
       "      <th>Valuation</th>\n",
       "      <th>Date Joined</th>\n",
       "      <th>Industry</th>\n",
       "      <th>Country</th>\n",
       "      <th>Continent</th>\n",
       "      <th>Year Founded</th>\n",
       "      <th>Funding</th>\n",
       "    </tr>\n",
       "  </thead>\n",
       "  <tbody>\n",
       "    <tr>\n",
       "      <th>% nulos</th>\n",
       "      <td>1.49</td>\n",
       "      <td>0.09</td>\n",
       "      <td>0.0</td>\n",
       "      <td>0.0</td>\n",
       "      <td>0.0</td>\n",
       "      <td>0.0</td>\n",
       "      <td>0.0</td>\n",
       "      <td>0.0</td>\n",
       "      <td>0.0</td>\n",
       "      <td>0.0</td>\n",
       "    </tr>\n",
       "  </tbody>\n",
       "</table>\n",
       "</div>"
      ],
      "text/plain": [
       "         City  Select Investors  Company  Valuation  Date Joined  Industry  \\\n",
       "% nulos  1.49              0.09      0.0        0.0          0.0       0.0   \n",
       "\n",
       "         Country  Continent  Year Founded  Funding  \n",
       "% nulos      0.0        0.0           0.0      0.0  "
      ]
     },
     "execution_count": 107,
     "metadata": {},
     "output_type": "execute_result"
    }
   ],
   "source": [
    "percentage_null(ml)"
   ]
  },
  {
   "cell_type": "code",
   "execution_count": 108,
   "metadata": {},
   "outputs": [],
   "source": [
    "ml = ml.drop(ml[ml['Funding']== 'Unknown'].index)"
   ]
  },
  {
   "cell_type": "code",
   "execution_count": 109,
   "metadata": {},
   "outputs": [],
   "source": [
    "ml['Date Joined'] = pd.to_datetime(ml['Date Joined'])"
   ]
  },
  {
   "cell_type": "code",
   "execution_count": 110,
   "metadata": {},
   "outputs": [],
   "source": [
    "ml['Year_Joined'] = ml['Date Joined'].dt.year"
   ]
  },
  {
   "cell_type": "code",
   "execution_count": 111,
   "metadata": {},
   "outputs": [],
   "source": [
    "ml['Funding'] = ml['Funding'].str.replace('B', '000').str.replace('$', '').str.replace('M', '')\n",
    "ml['Funding'] = pd.to_numeric(ml['Funding'])"
   ]
  },
  {
   "cell_type": "code",
   "execution_count": 112,
   "metadata": {},
   "outputs": [],
   "source": [
    "ml['Valuation'] = ml['Valuation'].str.replace('B', '000').str.replace('$', '').str.replace('M', '')\n",
    "ml['Valuation'] = pd.to_numeric(ml['Valuation'])"
   ]
  },
  {
   "cell_type": "markdown",
   "metadata": {},
   "source": [
    "## Modelo de Regresión"
   ]
  },
  {
   "cell_type": "markdown",
   "metadata": {},
   "source": [
    "### Transformación de variables categóricas"
   ]
  },
  {
   "cell_type": "code",
   "execution_count": 113,
   "metadata": {},
   "outputs": [],
   "source": [
    "# Definimos las columnas que vamos a utilizar:\n",
    "\n",
    "ml_reg = ml[['Valuation','Industry','Country','Year Founded','Funding']]"
   ]
  },
  {
   "cell_type": "code",
   "execution_count": 114,
   "metadata": {},
   "outputs": [
    {
     "data": {
      "text/html": [
       "<div>\n",
       "<style scoped>\n",
       "    .dataframe tbody tr th:only-of-type {\n",
       "        vertical-align: middle;\n",
       "    }\n",
       "\n",
       "    .dataframe tbody tr th {\n",
       "        vertical-align: top;\n",
       "    }\n",
       "\n",
       "    .dataframe thead th {\n",
       "        text-align: right;\n",
       "    }\n",
       "</style>\n",
       "<table border=\"1\" class=\"dataframe\">\n",
       "  <thead>\n",
       "    <tr style=\"text-align: right;\">\n",
       "      <th></th>\n",
       "      <th>Valuation</th>\n",
       "      <th>Industry</th>\n",
       "      <th>Country</th>\n",
       "      <th>Year Founded</th>\n",
       "      <th>Funding</th>\n",
       "    </tr>\n",
       "  </thead>\n",
       "  <tbody>\n",
       "    <tr>\n",
       "      <th>0</th>\n",
       "      <td>180000</td>\n",
       "      <td>Artificial intelligence</td>\n",
       "      <td>China</td>\n",
       "      <td>2012</td>\n",
       "      <td>8000</td>\n",
       "    </tr>\n",
       "    <tr>\n",
       "      <th>1</th>\n",
       "      <td>100000</td>\n",
       "      <td>Other</td>\n",
       "      <td>United States</td>\n",
       "      <td>2002</td>\n",
       "      <td>7000</td>\n",
       "    </tr>\n",
       "    <tr>\n",
       "      <th>2</th>\n",
       "      <td>100000</td>\n",
       "      <td>E-commerce &amp; direct-to-consumer</td>\n",
       "      <td>China</td>\n",
       "      <td>2008</td>\n",
       "      <td>2000</td>\n",
       "    </tr>\n",
       "    <tr>\n",
       "      <th>3</th>\n",
       "      <td>95000</td>\n",
       "      <td>Fintech</td>\n",
       "      <td>United States</td>\n",
       "      <td>2010</td>\n",
       "      <td>2000</td>\n",
       "    </tr>\n",
       "    <tr>\n",
       "      <th>4</th>\n",
       "      <td>46000</td>\n",
       "      <td>Fintech</td>\n",
       "      <td>Sweden</td>\n",
       "      <td>2005</td>\n",
       "      <td>4000</td>\n",
       "    </tr>\n",
       "    <tr>\n",
       "      <th>...</th>\n",
       "      <td>...</td>\n",
       "      <td>...</td>\n",
       "      <td>...</td>\n",
       "      <td>...</td>\n",
       "      <td>...</td>\n",
       "    </tr>\n",
       "    <tr>\n",
       "      <th>1069</th>\n",
       "      <td>1000</td>\n",
       "      <td>E-commerce &amp; direct-to-consumer</td>\n",
       "      <td>China</td>\n",
       "      <td>2012</td>\n",
       "      <td>379</td>\n",
       "    </tr>\n",
       "    <tr>\n",
       "      <th>1070</th>\n",
       "      <td>1000</td>\n",
       "      <td>E-commerce &amp; direct-to-consumer</td>\n",
       "      <td>China</td>\n",
       "      <td>2015</td>\n",
       "      <td>990</td>\n",
       "    </tr>\n",
       "    <tr>\n",
       "      <th>1071</th>\n",
       "      <td>1000</td>\n",
       "      <td>Consumer &amp; retail</td>\n",
       "      <td>China</td>\n",
       "      <td>2018</td>\n",
       "      <td>80</td>\n",
       "    </tr>\n",
       "    <tr>\n",
       "      <th>1072</th>\n",
       "      <td>1000</td>\n",
       "      <td>Fintech</td>\n",
       "      <td>United Kingdom</td>\n",
       "      <td>2005</td>\n",
       "      <td>792</td>\n",
       "    </tr>\n",
       "    <tr>\n",
       "      <th>1073</th>\n",
       "      <td>1000</td>\n",
       "      <td>E-commerce &amp; direct-to-consumer</td>\n",
       "      <td>United States</td>\n",
       "      <td>2014</td>\n",
       "      <td>620</td>\n",
       "    </tr>\n",
       "  </tbody>\n",
       "</table>\n",
       "<p>1062 rows × 5 columns</p>\n",
       "</div>"
      ],
      "text/plain": [
       "      Valuation                         Industry         Country  \\\n",
       "0        180000          Artificial intelligence           China   \n",
       "1        100000                            Other   United States   \n",
       "2        100000  E-commerce & direct-to-consumer           China   \n",
       "3         95000                          Fintech   United States   \n",
       "4         46000                          Fintech          Sweden   \n",
       "...         ...                              ...             ...   \n",
       "1069       1000  E-commerce & direct-to-consumer           China   \n",
       "1070       1000  E-commerce & direct-to-consumer           China   \n",
       "1071       1000                Consumer & retail           China   \n",
       "1072       1000                          Fintech  United Kingdom   \n",
       "1073       1000  E-commerce & direct-to-consumer   United States   \n",
       "\n",
       "      Year Founded  Funding  \n",
       "0             2012     8000  \n",
       "1             2002     7000  \n",
       "2             2008     2000  \n",
       "3             2010     2000  \n",
       "4             2005     4000  \n",
       "...            ...      ...  \n",
       "1069          2012      379  \n",
       "1070          2015      990  \n",
       "1071          2018       80  \n",
       "1072          2005      792  \n",
       "1073          2014      620  \n",
       "\n",
       "[1062 rows x 5 columns]"
      ]
     },
     "execution_count": 114,
     "metadata": {},
     "output_type": "execute_result"
    }
   ],
   "source": [
    "ml_reg"
   ]
  },
  {
   "cell_type": "code",
   "execution_count": 115,
   "metadata": {},
   "outputs": [
    {
     "data": {
      "text/plain": [
       "Valuation        int64\n",
       "Industry        object\n",
       "Country         object\n",
       "Year Founded     int64\n",
       "Funding          int64\n",
       "dtype: object"
      ]
     },
     "execution_count": 115,
     "metadata": {},
     "output_type": "execute_result"
    }
   ],
   "source": [
    "ml_reg.dtypes"
   ]
  },
  {
   "cell_type": "code",
   "execution_count": 116,
   "metadata": {},
   "outputs": [
    {
     "name": "stdout",
     "output_type": "stream",
     "text": [
      "16\n",
      "46\n"
     ]
    }
   ],
   "source": [
    "print(len(ml_reg['Industry'].unique()))\n",
    "print(len(ml_reg['Country'].unique()))"
   ]
  },
  {
   "cell_type": "code",
   "execution_count": 117,
   "metadata": {},
   "outputs": [],
   "source": [
    "# # Importamos la funcionalidad concreta de sklearn\n",
    "# from sklearn.preprocessing import LabelEncoder\n",
    "\n",
    "# # Transformamos esta columna\n",
    "# encoder = LabelEncoder()\n",
    "# encoded_data = encoder.fit_transform(ml_reg[['Industry','Country']])"
   ]
  },
  {
   "cell_type": "code",
   "execution_count": 118,
   "metadata": {},
   "outputs": [
    {
     "ename": "NameError",
     "evalue": "name 'encoded_data' is not defined",
     "output_type": "error",
     "traceback": [
      "\u001b[1;31m---------------------------------------------------------------------------\u001b[0m",
      "\u001b[1;31mNameError\u001b[0m                                 Traceback (most recent call last)",
      "Cell \u001b[1;32mIn[118], line 2\u001b[0m\n\u001b[0;32m      1\u001b[0m \u001b[39m# Unimos la información\u001b[39;00m\n\u001b[1;32m----> 2\u001b[0m df_encoded \u001b[39m=\u001b[39m pd\u001b[39m.\u001b[39mconcat([ml_reg, encoded_data], axis\u001b[39m=\u001b[39m\u001b[39m1\u001b[39m)\n",
      "\u001b[1;31mNameError\u001b[0m: name 'encoded_data' is not defined"
     ]
    }
   ],
   "source": [
    "# Unimos la información\n",
    "# df_encoded = pd.concat([ml_reg, encoded_data], axis=1)"
   ]
  },
  {
   "cell_type": "markdown",
   "metadata": {},
   "source": [
    "## Modelo de Regresión"
   ]
  },
  {
   "cell_type": "code",
   "execution_count": null,
   "metadata": {},
   "outputs": [],
   "source": []
  },
  {
   "cell_type": "markdown",
   "metadata": {},
   "source": [
    "# 5. Conclusiones"
   ]
  },
  {
   "cell_type": "code",
   "execution_count": null,
   "metadata": {},
   "outputs": [],
   "source": [
    "# unicorns.to_csv('unicorns_powerbi.csv', header=True, index=False)"
   ]
  },
  {
   "cell_type": "code",
   "execution_count": null,
   "metadata": {},
   "outputs": [],
   "source": [
    "unicorns.to_excel('unicorns.xlsx', header=True, index=False)"
   ]
  }
 ],
 "metadata": {
  "kernelspec": {
   "display_name": "Python 3",
   "language": "python",
   "name": "python3"
  },
  "language_info": {
   "codemirror_mode": {
    "name": "ipython",
    "version": 3
   },
   "file_extension": ".py",
   "mimetype": "text/x-python",
   "name": "python",
   "nbconvert_exporter": "python",
   "pygments_lexer": "ipython3",
   "version": "3.10.11"
  },
  "orig_nbformat": 4
 },
 "nbformat": 4,
 "nbformat_minor": 2
}
