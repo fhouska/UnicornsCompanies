{
 "cells": [
  {
   "cell_type": "markdown",
   "metadata": {},
   "source": [
    "# 1. Introducción"
   ]
  },
  {
   "attachments": {},
   "cell_type": "markdown",
   "metadata": {},
   "source": [
    "(Source: CB Insights & Crunchbase)\n",
    "\n",
    "unicorn\n",
    "\n",
    "(License: Public Domain)\n",
    "\n",
    "Dataset:\n",
    "* 2015 l 2011 - https://www.kaggle.com/datasets/cheeann290/unicorn\n",
    "* 2022 - https://www.kaggle.com/datasets/rajkumarpandey02/complete-list-of-unicorn-companies\n",
    "* 2023 - https://www.cbinsights.com/research-unicorn-companies\n"
   ]
  },
  {
   "cell_type": "markdown",
   "metadata": {},
   "source": [
    "## 1.1 Librerias"
   ]
  },
  {
   "cell_type": "code",
   "execution_count": 512,
   "metadata": {},
   "outputs": [],
   "source": [
    "import numpy as np\n",
    "import pandas as pd\n",
    "\n",
    "\n",
    "#to make graphs\n",
    "import matplotlib.pyplot as plt\n",
    "import seaborn as sns\n",
    "\n",
    "#to make the plotly graphs\n",
    "import plotly.graph_objs as go\n",
    "import plotly.express as px\n",
    "\n",
    "#to make maps\n",
    "import geopandas as gpd\n",
    "\n",
    "# warnings\n",
    "import warnings\n",
    "warnings.filterwarnings(\"ignore\", category=FutureWarning)\n",
    "warnings.filterwarnings(\"ignore\", category=RuntimeWarning)"
   ]
  },
  {
   "cell_type": "markdown",
   "metadata": {},
   "source": [
    "## 1.2 Lectura de datos y Procesamiento"
   ]
  },
  {
   "cell_type": "markdown",
   "metadata": {},
   "source": [
    "### Funciones para el procesamiento"
   ]
  },
  {
   "cell_type": "code",
   "execution_count": 513,
   "metadata": {},
   "outputs": [],
   "source": [
    "def reporte (df):   \n",
    "    \n",
    "    \"\"\" Esta función recibe un df y nos imprime un reporte inicial del df\"\"\"\n",
    "\n",
    "    print('El df esta formado por: ', df.shape[0], 'filas y', df.shape[1], 'columnas')\n",
    "    print('Cantidad de valores duplicados: ',df.duplicated().sum())\n",
    "    print('Cantidad de valores nulos: ', df.isnull().sum().sum())"
   ]
  },
  {
   "cell_type": "code",
   "execution_count": 514,
   "metadata": {},
   "outputs": [],
   "source": [
    "def percentage_null (df):\n",
    "\n",
    "    \"\"\" esta función calcula el % de valores nulos que presenta el df\n",
    "    devuelve un df con el % de nulos por cada columna\"\"\"\n",
    "    \n",
    "    missing_data = pd.isnull(df).sum()\n",
    "    missing_data_percentage = missing_data/len(df)*100 #Calculamos el % del los datos faltantes en cada columna\n",
    "    nulos_totales= missing_data_percentage.sort_values(ascending = False) #Ordenamos de mayor a menor\n",
    "    nulos_totales = pd.DataFrame(nulos_totales,columns=[\"% nulos\"])\n",
    "    return nulos_totales.round(2).T "
   ]
  },
  {
   "cell_type": "code",
   "execution_count": 515,
   "metadata": {},
   "outputs": [],
   "source": [
    "def transform (df):\n",
    "\n",
    "    \"\"\" Esta función recibe un df y nos transforma las columnas Valation en numerica quitando los caacteres $ \n",
    "    y tansforma la columna DateJoined en tipo fecha\"\"\" \n",
    "\n",
    "    if df['Valuation ($B)'].dtypes== object:\n",
    "        df['Valuation ($B)'] = df['Valuation ($B)'].str.replace('$',' ')\n",
    "        df['Valuation ($B)'] = pd.to_numeric(df['Valuation ($B)'])\n",
    "\n",
    "    if df['Date Joined'].dtypes== object:\n",
    "        df['Date Joined'] = pd.to_datetime(df['Date Joined'],format='%m/%d/%Y')\n",
    "\n",
    "    if df['Day_List'].dtypes== object:\n",
    "        df['Day_List'] = pd.to_datetime(df['Day_List'],format='%m/%d/%Y')"
   ]
  },
  {
   "cell_type": "markdown",
   "metadata": {},
   "source": [
    "### Lectura y tranformación de los dataframes desde 2015 al 2022"
   ]
  },
  {
   "cell_type": "markdown",
   "metadata": {},
   "source": [
    "#### 2015"
   ]
  },
  {
   "cell_type": "code",
   "execution_count": 516,
   "metadata": {},
   "outputs": [],
   "source": [
    "# Leemos el dataset y le creamos una columna que corresponde al año de la lista\n",
    "df2015 = pd.read_excel('Data/unicorn_cb_11_dec_15.xlsx')\n",
    "df2015['Day_List'] = '12/11/2015'\n",
    "df2015['Year'] = 2015\n"
   ]
  },
  {
   "cell_type": "code",
   "execution_count": 517,
   "metadata": {},
   "outputs": [
    {
     "name": "stdout",
     "output_type": "stream",
     "text": [
      "El df esta formado por:  144 filas y 8 columnas\n",
      "Cantidad de valores duplicados:  0\n",
      "Cantidad de valores nulos:  0\n"
     ]
    }
   ],
   "source": [
    "# Imprimimos el reporte inicial\n",
    "reporte(df2015)"
   ]
  },
  {
   "cell_type": "code",
   "execution_count": 518,
   "metadata": {},
   "outputs": [
    {
     "data": {
      "text/html": [
       "<div>\n",
       "<style scoped>\n",
       "    .dataframe tbody tr th:only-of-type {\n",
       "        vertical-align: middle;\n",
       "    }\n",
       "\n",
       "    .dataframe tbody tr th {\n",
       "        vertical-align: top;\n",
       "    }\n",
       "\n",
       "    .dataframe thead th {\n",
       "        text-align: right;\n",
       "    }\n",
       "</style>\n",
       "<table border=\"1\" class=\"dataframe\">\n",
       "  <thead>\n",
       "    <tr style=\"text-align: right;\">\n",
       "      <th></th>\n",
       "      <th>Company</th>\n",
       "      <th>Valuation ($B)</th>\n",
       "      <th>Date Joined</th>\n",
       "      <th>Country</th>\n",
       "      <th>Industry</th>\n",
       "      <th>Investor</th>\n",
       "      <th>Day_List</th>\n",
       "      <th>Year</th>\n",
       "    </tr>\n",
       "  </thead>\n",
       "  <tbody>\n",
       "    <tr>\n",
       "      <th>0</th>\n",
       "      <td>Uber</td>\n",
       "      <td>$51</td>\n",
       "      <td>8/23/2013</td>\n",
       "      <td>United States</td>\n",
       "      <td>On-Demand</td>\n",
       "      <td>Lowercase Capital,\\n\\t  Benchmark Capital, Goo...</td>\n",
       "      <td>12/11/2015</td>\n",
       "      <td>2015</td>\n",
       "    </tr>\n",
       "    <tr>\n",
       "      <th>1</th>\n",
       "      <td>Xiaomi</td>\n",
       "      <td>$46</td>\n",
       "      <td>12/21/2011</td>\n",
       "      <td>China</td>\n",
       "      <td>Hardware</td>\n",
       "      <td>Digital Sky Technologies,\\n\\t  QiMing Venture ...</td>\n",
       "      <td>12/11/2015</td>\n",
       "      <td>2015</td>\n",
       "    </tr>\n",
       "    <tr>\n",
       "      <th>2</th>\n",
       "      <td>Airbnb</td>\n",
       "      <td>$25.5</td>\n",
       "      <td>7/26/2011</td>\n",
       "      <td>United States</td>\n",
       "      <td>eCommerce/Marketplace</td>\n",
       "      <td>General Catalyst Partners,\\n\\t  Andreessen Hor...</td>\n",
       "      <td>12/11/2015</td>\n",
       "      <td>2015</td>\n",
       "    </tr>\n",
       "  </tbody>\n",
       "</table>\n",
       "</div>"
      ],
      "text/plain": [
       "  Company Valuation ($B) Date Joined        Country               Industry  \\\n",
       "0    Uber            $51   8/23/2013  United States              On-Demand   \n",
       "1  Xiaomi            $46  12/21/2011          China               Hardware   \n",
       "2  Airbnb          $25.5   7/26/2011  United States  eCommerce/Marketplace   \n",
       "\n",
       "                                            Investor    Day_List  Year  \n",
       "0  Lowercase Capital,\\n\\t  Benchmark Capital, Goo...  12/11/2015  2015  \n",
       "1  Digital Sky Technologies,\\n\\t  QiMing Venture ...  12/11/2015  2015  \n",
       "2  General Catalyst Partners,\\n\\t  Andreessen Hor...  12/11/2015  2015  "
      ]
     },
     "execution_count": 518,
     "metadata": {},
     "output_type": "execute_result"
    }
   ],
   "source": [
    "# Imprimimos las 3 primeras lineas para ispeccionar:\n",
    "df2015.head(3)"
   ]
  },
  {
   "cell_type": "code",
   "execution_count": 519,
   "metadata": {},
   "outputs": [],
   "source": [
    "# Utilizamos nuestra función para transformar las columnas: Valuation y Date Joined.\n",
    "transform(df2015)"
   ]
  },
  {
   "cell_type": "code",
   "execution_count": 520,
   "metadata": {},
   "outputs": [
    {
     "name": "stdout",
     "output_type": "stream",
     "text": [
      "<class 'pandas.core.frame.DataFrame'>\n",
      "RangeIndex: 144 entries, 0 to 143\n",
      "Data columns (total 8 columns):\n",
      " #   Column          Non-Null Count  Dtype         \n",
      "---  ------          --------------  -----         \n",
      " 0   Company         144 non-null    object        \n",
      " 1   Valuation ($B)  144 non-null    float64       \n",
      " 2   Date Joined     144 non-null    datetime64[ns]\n",
      " 3   Country         144 non-null    object        \n",
      " 4   Industry        144 non-null    object        \n",
      " 5   Investor        144 non-null    object        \n",
      " 6   Day_List        144 non-null    datetime64[ns]\n",
      " 7   Year            144 non-null    int64         \n",
      "dtypes: datetime64[ns](2), float64(1), int64(1), object(4)\n",
      "memory usage: 9.1+ KB\n"
     ]
    }
   ],
   "source": [
    "# Vemos que nuestras columnas presentan el tipo de dato correccto\n",
    "df2015.info()"
   ]
  },
  {
   "cell_type": "markdown",
   "metadata": {},
   "source": [
    "#### 2016"
   ]
  },
  {
   "cell_type": "code",
   "execution_count": 521,
   "metadata": {},
   "outputs": [],
   "source": [
    "# Leemos el dataset y le creamos una columna que corresponde al año de la lista\n",
    "df2016 = pd.read_excel('Data/unicorn_cb_23_dec_16.xlsx')\n",
    "df2016['Day_List'] = '12/23/2016'\n",
    "df2016['Year'] = 2016"
   ]
  },
  {
   "cell_type": "code",
   "execution_count": 522,
   "metadata": {},
   "outputs": [
    {
     "name": "stdout",
     "output_type": "stream",
     "text": [
      "El df esta formado por:  183 filas y 8 columnas\n",
      "Cantidad de valores duplicados:  0\n",
      "Cantidad de valores nulos:  0\n"
     ]
    }
   ],
   "source": [
    "# Imprimimos el reporte inicial\n",
    "reporte(df2016)"
   ]
  },
  {
   "cell_type": "code",
   "execution_count": 523,
   "metadata": {},
   "outputs": [
    {
     "data": {
      "text/html": [
       "<div>\n",
       "<style scoped>\n",
       "    .dataframe tbody tr th:only-of-type {\n",
       "        vertical-align: middle;\n",
       "    }\n",
       "\n",
       "    .dataframe tbody tr th {\n",
       "        vertical-align: top;\n",
       "    }\n",
       "\n",
       "    .dataframe thead th {\n",
       "        text-align: right;\n",
       "    }\n",
       "</style>\n",
       "<table border=\"1\" class=\"dataframe\">\n",
       "  <thead>\n",
       "    <tr style=\"text-align: right;\">\n",
       "      <th></th>\n",
       "      <th>Company</th>\n",
       "      <th>Valuation ($B)</th>\n",
       "      <th>Date Joined</th>\n",
       "      <th>Country</th>\n",
       "      <th>Industry</th>\n",
       "      <th>Investor</th>\n",
       "      <th>Day_List</th>\n",
       "      <th>Year</th>\n",
       "    </tr>\n",
       "  </thead>\n",
       "  <tbody>\n",
       "    <tr>\n",
       "      <th>0</th>\n",
       "      <td>Uber</td>\n",
       "      <td>$68</td>\n",
       "      <td>8/23/2013</td>\n",
       "      <td>United States</td>\n",
       "      <td>On-Demand</td>\n",
       "      <td>Lowercase Capital,\\n\\t  Benchmark Capital, Goo...</td>\n",
       "      <td>12/23/2016</td>\n",
       "      <td>2016</td>\n",
       "    </tr>\n",
       "    <tr>\n",
       "      <th>1</th>\n",
       "      <td>Xiaomi</td>\n",
       "      <td>$46</td>\n",
       "      <td>12/21/2011</td>\n",
       "      <td>China</td>\n",
       "      <td>Hardware</td>\n",
       "      <td>Digital Sky Technologies,\\n\\t  QiMing Venture ...</td>\n",
       "      <td>12/23/2016</td>\n",
       "      <td>2016</td>\n",
       "    </tr>\n",
       "    <tr>\n",
       "      <th>2</th>\n",
       "      <td>Didi Chuxing</td>\n",
       "      <td>$33.8</td>\n",
       "      <td>12/31/2014</td>\n",
       "      <td>China</td>\n",
       "      <td>On-Demand</td>\n",
       "      <td>Matrix Partners, Tiger\\n\\t  Global Management,...</td>\n",
       "      <td>12/23/2016</td>\n",
       "      <td>2016</td>\n",
       "    </tr>\n",
       "  </tbody>\n",
       "</table>\n",
       "</div>"
      ],
      "text/plain": [
       "        Company Valuation ($B) Date Joined        Country   Industry  \\\n",
       "0          Uber            $68   8/23/2013  United States  On-Demand   \n",
       "1        Xiaomi            $46  12/21/2011          China   Hardware   \n",
       "2  Didi Chuxing          $33.8  12/31/2014          China  On-Demand   \n",
       "\n",
       "                                            Investor    Day_List  Year  \n",
       "0  Lowercase Capital,\\n\\t  Benchmark Capital, Goo...  12/23/2016  2016  \n",
       "1  Digital Sky Technologies,\\n\\t  QiMing Venture ...  12/23/2016  2016  \n",
       "2  Matrix Partners, Tiger\\n\\t  Global Management,...  12/23/2016  2016  "
      ]
     },
     "execution_count": 523,
     "metadata": {},
     "output_type": "execute_result"
    }
   ],
   "source": [
    "# Imprimimos las 3 primeras lineas para ispeccionar:\n",
    "df2016.head(3)"
   ]
  },
  {
   "cell_type": "code",
   "execution_count": 524,
   "metadata": {},
   "outputs": [
    {
     "name": "stdout",
     "output_type": "stream",
     "text": [
      "<class 'pandas.core.frame.DataFrame'>\n",
      "RangeIndex: 183 entries, 0 to 182\n",
      "Data columns (total 8 columns):\n",
      " #   Column          Non-Null Count  Dtype         \n",
      "---  ------          --------------  -----         \n",
      " 0   Company         183 non-null    object        \n",
      " 1   Valuation ($B)  183 non-null    float64       \n",
      " 2   Date Joined     183 non-null    datetime64[ns]\n",
      " 3   Country         183 non-null    object        \n",
      " 4   Industry        183 non-null    object        \n",
      " 5   Investor        183 non-null    object        \n",
      " 6   Day_List        183 non-null    datetime64[ns]\n",
      " 7   Year            183 non-null    int64         \n",
      "dtypes: datetime64[ns](2), float64(1), int64(1), object(4)\n",
      "memory usage: 11.6+ KB\n"
     ]
    }
   ],
   "source": [
    "# Utilizamos nuestra función para transformar las columnas: Valuation y Date Joined.\n",
    "transform(df2016)\n",
    "# Vemos que nuestras columnas presentan el tipo de dato correccto\n",
    "df2016.info()"
   ]
  },
  {
   "cell_type": "markdown",
   "metadata": {},
   "source": [
    "#### 2017"
   ]
  },
  {
   "cell_type": "code",
   "execution_count": 525,
   "metadata": {},
   "outputs": [],
   "source": [
    "# Leemos el dataset y le creamos una columna que corresponde al año de la lista\n",
    "df2017 = pd.read_excel('Data/unicorn_cb_23_dec_17.xlsx')\n",
    "df2017['Day_List'] = '12/23/2017'\n",
    "df2017['Year'] = 2017"
   ]
  },
  {
   "cell_type": "code",
   "execution_count": 526,
   "metadata": {},
   "outputs": [
    {
     "name": "stdout",
     "output_type": "stream",
     "text": [
      "El df esta formado por:  222 filas y 8 columnas\n",
      "Cantidad de valores duplicados:  0\n",
      "Cantidad de valores nulos:  0\n"
     ]
    }
   ],
   "source": [
    "# Imprimimos el reporte inicial\n",
    "reporte(df2017)"
   ]
  },
  {
   "cell_type": "code",
   "execution_count": 527,
   "metadata": {},
   "outputs": [
    {
     "data": {
      "text/html": [
       "<div>\n",
       "<style scoped>\n",
       "    .dataframe tbody tr th:only-of-type {\n",
       "        vertical-align: middle;\n",
       "    }\n",
       "\n",
       "    .dataframe tbody tr th {\n",
       "        vertical-align: top;\n",
       "    }\n",
       "\n",
       "    .dataframe thead th {\n",
       "        text-align: right;\n",
       "    }\n",
       "</style>\n",
       "<table border=\"1\" class=\"dataframe\">\n",
       "  <thead>\n",
       "    <tr style=\"text-align: right;\">\n",
       "      <th></th>\n",
       "      <th>Company</th>\n",
       "      <th>Valuation ($B)</th>\n",
       "      <th>Date Joined</th>\n",
       "      <th>Country</th>\n",
       "      <th>Industry</th>\n",
       "      <th>Investor</th>\n",
       "      <th>Day_List</th>\n",
       "      <th>Year</th>\n",
       "    </tr>\n",
       "  </thead>\n",
       "  <tbody>\n",
       "    <tr>\n",
       "      <th>0</th>\n",
       "      <td>Uber</td>\n",
       "      <td>$68</td>\n",
       "      <td>8/23/2013</td>\n",
       "      <td>United States</td>\n",
       "      <td>On-Demand</td>\n",
       "      <td>Lowercase Capital,\\n\\t  Benchmark Capital, Goo...</td>\n",
       "      <td>12/23/2017</td>\n",
       "      <td>2017</td>\n",
       "    </tr>\n",
       "    <tr>\n",
       "      <th>1</th>\n",
       "      <td>Didi Chuxing</td>\n",
       "      <td>$56</td>\n",
       "      <td>12/31/2014</td>\n",
       "      <td>China</td>\n",
       "      <td>On-Demand</td>\n",
       "      <td>Matrix Partners, Tiger\\n\\t  Global Management,...</td>\n",
       "      <td>12/23/2017</td>\n",
       "      <td>2017</td>\n",
       "    </tr>\n",
       "    <tr>\n",
       "      <th>2</th>\n",
       "      <td>Xiaomi</td>\n",
       "      <td>$46</td>\n",
       "      <td>12/21/2011</td>\n",
       "      <td>China</td>\n",
       "      <td>Hardware</td>\n",
       "      <td>Digital Sky Technologies,\\n\\t  QiMing Venture ...</td>\n",
       "      <td>12/23/2017</td>\n",
       "      <td>2017</td>\n",
       "    </tr>\n",
       "  </tbody>\n",
       "</table>\n",
       "</div>"
      ],
      "text/plain": [
       "        Company Valuation ($B) Date Joined        Country   Industry  \\\n",
       "0          Uber            $68   8/23/2013  United States  On-Demand   \n",
       "1  Didi Chuxing            $56  12/31/2014          China  On-Demand   \n",
       "2        Xiaomi            $46  12/21/2011          China   Hardware   \n",
       "\n",
       "                                            Investor    Day_List  Year  \n",
       "0  Lowercase Capital,\\n\\t  Benchmark Capital, Goo...  12/23/2017  2017  \n",
       "1  Matrix Partners, Tiger\\n\\t  Global Management,...  12/23/2017  2017  \n",
       "2  Digital Sky Technologies,\\n\\t  QiMing Venture ...  12/23/2017  2017  "
      ]
     },
     "execution_count": 527,
     "metadata": {},
     "output_type": "execute_result"
    }
   ],
   "source": [
    "# Imprimimos las 3 primeras lineas para ispeccionar:\n",
    "df2017.head(3)"
   ]
  },
  {
   "cell_type": "code",
   "execution_count": 528,
   "metadata": {},
   "outputs": [
    {
     "name": "stdout",
     "output_type": "stream",
     "text": [
      "<class 'pandas.core.frame.DataFrame'>\n",
      "RangeIndex: 222 entries, 0 to 221\n",
      "Data columns (total 8 columns):\n",
      " #   Column          Non-Null Count  Dtype         \n",
      "---  ------          --------------  -----         \n",
      " 0   Company         222 non-null    object        \n",
      " 1   Valuation ($B)  222 non-null    float64       \n",
      " 2   Date Joined     222 non-null    datetime64[ns]\n",
      " 3   Country         222 non-null    object        \n",
      " 4   Industry        222 non-null    object        \n",
      " 5   Investor        222 non-null    object        \n",
      " 6   Day_List        222 non-null    datetime64[ns]\n",
      " 7   Year            222 non-null    int64         \n",
      "dtypes: datetime64[ns](2), float64(1), int64(1), object(4)\n",
      "memory usage: 14.0+ KB\n"
     ]
    }
   ],
   "source": [
    "# Utilizamos nuestra función para transformar las columnas: Valuation y Date Joined.\n",
    "transform(df2017)\n",
    "# Vemos que nuestras columnas presentan el tipo de dato correccto\n",
    "df2017.info()"
   ]
  },
  {
   "cell_type": "markdown",
   "metadata": {},
   "source": [
    "#### 2018"
   ]
  },
  {
   "cell_type": "code",
   "execution_count": 529,
   "metadata": {},
   "outputs": [],
   "source": [
    "# Leemos el dataset y le creamos una columna que corresponde al año de la lista\n",
    "df2018 = pd.read_excel('Data/unicorn_cb_29_dec_18.xlsx')\n",
    "df2018['Day_List'] = '12/29/2018'\n",
    "df2018['Year'] = 2018"
   ]
  },
  {
   "cell_type": "code",
   "execution_count": 530,
   "metadata": {},
   "outputs": [
    {
     "name": "stdout",
     "output_type": "stream",
     "text": [
      "El df esta formado por:  305 filas y 8 columnas\n",
      "Cantidad de valores duplicados:  0\n",
      "Cantidad de valores nulos:  0\n"
     ]
    }
   ],
   "source": [
    "# Imprimimos el reporte inicial\n",
    "reporte(df2018)"
   ]
  },
  {
   "cell_type": "code",
   "execution_count": 531,
   "metadata": {},
   "outputs": [
    {
     "data": {
      "text/html": [
       "<div>\n",
       "<style scoped>\n",
       "    .dataframe tbody tr th:only-of-type {\n",
       "        vertical-align: middle;\n",
       "    }\n",
       "\n",
       "    .dataframe tbody tr th {\n",
       "        vertical-align: top;\n",
       "    }\n",
       "\n",
       "    .dataframe thead th {\n",
       "        text-align: right;\n",
       "    }\n",
       "</style>\n",
       "<table border=\"1\" class=\"dataframe\">\n",
       "  <thead>\n",
       "    <tr style=\"text-align: right;\">\n",
       "      <th></th>\n",
       "      <th>Company</th>\n",
       "      <th>Valuation ($B)</th>\n",
       "      <th>Date Joined</th>\n",
       "      <th>Country</th>\n",
       "      <th>Industry</th>\n",
       "      <th>Investor</th>\n",
       "      <th>Day_List</th>\n",
       "      <th>Year</th>\n",
       "    </tr>\n",
       "  </thead>\n",
       "  <tbody>\n",
       "    <tr>\n",
       "      <th>0</th>\n",
       "      <td>Toutiao (Bytedance)</td>\n",
       "      <td>$75</td>\n",
       "      <td>4/7/2017</td>\n",
       "      <td>China</td>\n",
       "      <td>Digital Media/ AI</td>\n",
       "      <td>Sequoia Capital China, SIG Asia Investments, S...</td>\n",
       "      <td>12/29/2018</td>\n",
       "      <td>2018</td>\n",
       "    </tr>\n",
       "    <tr>\n",
       "      <th>1</th>\n",
       "      <td>Uber</td>\n",
       "      <td>$72</td>\n",
       "      <td>8/23/2013</td>\n",
       "      <td>United States</td>\n",
       "      <td>On-Demand</td>\n",
       "      <td>Lowercase Capital,\\n\\t  Benchmark Capital, Goo...</td>\n",
       "      <td>12/29/2018</td>\n",
       "      <td>2018</td>\n",
       "    </tr>\n",
       "    <tr>\n",
       "      <th>2</th>\n",
       "      <td>Didi Chuxing</td>\n",
       "      <td>$56</td>\n",
       "      <td>12/31/2014</td>\n",
       "      <td>China</td>\n",
       "      <td>On-Demand</td>\n",
       "      <td>Matrix Partners, Tiger\\n\\t  Global Management,...</td>\n",
       "      <td>12/29/2018</td>\n",
       "      <td>2018</td>\n",
       "    </tr>\n",
       "  </tbody>\n",
       "</table>\n",
       "</div>"
      ],
      "text/plain": [
       "               Company Valuation ($B) Date Joined        Country  \\\n",
       "0  Toutiao (Bytedance)            $75    4/7/2017          China   \n",
       "1                 Uber            $72   8/23/2013  United States   \n",
       "2         Didi Chuxing            $56  12/31/2014          China   \n",
       "\n",
       "            Industry                                           Investor  \\\n",
       "0  Digital Media/ AI  Sequoia Capital China, SIG Asia Investments, S...   \n",
       "1          On-Demand  Lowercase Capital,\\n\\t  Benchmark Capital, Goo...   \n",
       "2          On-Demand  Matrix Partners, Tiger\\n\\t  Global Management,...   \n",
       "\n",
       "     Day_List  Year  \n",
       "0  12/29/2018  2018  \n",
       "1  12/29/2018  2018  \n",
       "2  12/29/2018  2018  "
      ]
     },
     "execution_count": 531,
     "metadata": {},
     "output_type": "execute_result"
    }
   ],
   "source": [
    "# Imprimimos las 3 primeras lineas para ispeccionar:\n",
    "df2018.head(3)"
   ]
  },
  {
   "cell_type": "code",
   "execution_count": 532,
   "metadata": {},
   "outputs": [
    {
     "name": "stdout",
     "output_type": "stream",
     "text": [
      "<class 'pandas.core.frame.DataFrame'>\n",
      "RangeIndex: 305 entries, 0 to 304\n",
      "Data columns (total 8 columns):\n",
      " #   Column          Non-Null Count  Dtype         \n",
      "---  ------          --------------  -----         \n",
      " 0   Company         305 non-null    object        \n",
      " 1   Valuation ($B)  305 non-null    float64       \n",
      " 2   Date Joined     305 non-null    datetime64[ns]\n",
      " 3   Country         305 non-null    object        \n",
      " 4   Industry        305 non-null    object        \n",
      " 5   Investor        305 non-null    object        \n",
      " 6   Day_List        305 non-null    datetime64[ns]\n",
      " 7   Year            305 non-null    int64         \n",
      "dtypes: datetime64[ns](2), float64(1), int64(1), object(4)\n",
      "memory usage: 19.2+ KB\n"
     ]
    }
   ],
   "source": [
    "# Utilizamos nuestra función para transformar las columnas: Valuation y Date Joined.\n",
    "transform(df2018)\n",
    "# Vemos que nuestras columnas presentan el tipo de dato correccto\n",
    "df2018.info()"
   ]
  },
  {
   "cell_type": "markdown",
   "metadata": {},
   "source": [
    "#### 2019"
   ]
  },
  {
   "cell_type": "code",
   "execution_count": 533,
   "metadata": {},
   "outputs": [],
   "source": [
    "# Leemos el dataset y le creamos una columna que corresponde al año de la lista\n",
    "df2019 = pd.read_excel('Data/unicorn_cb_31_dec_19.xlsx')\n",
    "df2019['Day_List'] = '12/31/2019'\n",
    "df2019['Year'] = 2019"
   ]
  },
  {
   "cell_type": "code",
   "execution_count": 534,
   "metadata": {},
   "outputs": [
    {
     "name": "stdout",
     "output_type": "stream",
     "text": [
      "El df esta formado por:  430 filas y 8 columnas\n",
      "Cantidad de valores duplicados:  0\n",
      "Cantidad de valores nulos:  1\n"
     ]
    }
   ],
   "source": [
    "# Imprimimos el reporte inicial\n",
    "reporte(df2019)"
   ]
  },
  {
   "cell_type": "code",
   "execution_count": 535,
   "metadata": {},
   "outputs": [
    {
     "data": {
      "text/html": [
       "<div>\n",
       "<style scoped>\n",
       "    .dataframe tbody tr th:only-of-type {\n",
       "        vertical-align: middle;\n",
       "    }\n",
       "\n",
       "    .dataframe tbody tr th {\n",
       "        vertical-align: top;\n",
       "    }\n",
       "\n",
       "    .dataframe thead th {\n",
       "        text-align: right;\n",
       "    }\n",
       "</style>\n",
       "<table border=\"1\" class=\"dataframe\">\n",
       "  <thead>\n",
       "    <tr style=\"text-align: right;\">\n",
       "      <th></th>\n",
       "      <th>Investor</th>\n",
       "      <th>Company</th>\n",
       "      <th>Valuation ($B)</th>\n",
       "      <th>Date Joined</th>\n",
       "      <th>Country</th>\n",
       "      <th>Industry</th>\n",
       "      <th>Day_List</th>\n",
       "      <th>Year</th>\n",
       "    </tr>\n",
       "  </thead>\n",
       "  <tbody>\n",
       "    <tr>\n",
       "      <th>% nulos</th>\n",
       "      <td>0.23</td>\n",
       "      <td>0.0</td>\n",
       "      <td>0.0</td>\n",
       "      <td>0.0</td>\n",
       "      <td>0.0</td>\n",
       "      <td>0.0</td>\n",
       "      <td>0.0</td>\n",
       "      <td>0.0</td>\n",
       "    </tr>\n",
       "  </tbody>\n",
       "</table>\n",
       "</div>"
      ],
      "text/plain": [
       "         Investor  Company  Valuation ($B)  Date Joined  Country  Industry  \\\n",
       "% nulos      0.23      0.0             0.0          0.0      0.0       0.0   \n",
       "\n",
       "         Day_List  Year  \n",
       "% nulos       0.0   0.0  "
      ]
     },
     "execution_count": 535,
     "metadata": {},
     "output_type": "execute_result"
    }
   ],
   "source": [
    "# Calculamos e identificamos en que columna estan nuestros valores nulos:\n",
    "percentage_null(df2019)"
   ]
  },
  {
   "cell_type": "code",
   "execution_count": 536,
   "metadata": {},
   "outputs": [],
   "source": [
    "# Reemplazamos nulos en la columna 'Select Investors' por la pabra: 'no_inversor'\n",
    "df2019['Investor'] = df2019['Investor'].fillna('no_inversor')"
   ]
  },
  {
   "cell_type": "code",
   "execution_count": 537,
   "metadata": {},
   "outputs": [
    {
     "name": "stdout",
     "output_type": "stream",
     "text": [
      "<class 'pandas.core.frame.DataFrame'>\n",
      "RangeIndex: 430 entries, 0 to 429\n",
      "Data columns (total 8 columns):\n",
      " #   Column          Non-Null Count  Dtype         \n",
      "---  ------          --------------  -----         \n",
      " 0   Company         430 non-null    object        \n",
      " 1   Valuation ($B)  430 non-null    float64       \n",
      " 2   Date Joined     430 non-null    datetime64[ns]\n",
      " 3   Country         430 non-null    object        \n",
      " 4   Industry        430 non-null    object        \n",
      " 5   Investor        430 non-null    object        \n",
      " 6   Day_List        430 non-null    datetime64[ns]\n",
      " 7   Year            430 non-null    int64         \n",
      "dtypes: datetime64[ns](2), float64(1), int64(1), object(4)\n",
      "memory usage: 27.0+ KB\n"
     ]
    }
   ],
   "source": [
    "# Utilizamos nuestra función para transformar las columnas: Valuation y Date Joined.\n",
    "transform(df2019)\n",
    "# Vemos que nuestras columnas presentan el tipo de dato correccto\n",
    "df2019.info()"
   ]
  },
  {
   "cell_type": "markdown",
   "metadata": {},
   "source": [
    "#### 2020"
   ]
  },
  {
   "cell_type": "code",
   "execution_count": 538,
   "metadata": {},
   "outputs": [],
   "source": [
    "# Leemos el dataset y le creamos una columna que corresponde al año de la lista\n",
    "df2020 = pd.read_excel('Data/unicorn_cb_31_dec_20.xlsx')\n",
    "df2020['Day_List'] = '12/31/2020'\n",
    "df2020['Year'] = 2020"
   ]
  },
  {
   "cell_type": "code",
   "execution_count": 539,
   "metadata": {},
   "outputs": [
    {
     "name": "stdout",
     "output_type": "stream",
     "text": [
      "El df esta formado por:  515 filas y 8 columnas\n",
      "Cantidad de valores duplicados:  2\n",
      "Cantidad de valores nulos:  1\n"
     ]
    }
   ],
   "source": [
    "# Imprimimos el reporte inicial\n",
    "reporte(df2020)"
   ]
  },
  {
   "cell_type": "code",
   "execution_count": 540,
   "metadata": {},
   "outputs": [
    {
     "data": {
      "text/html": [
       "<div>\n",
       "<style scoped>\n",
       "    .dataframe tbody tr th:only-of-type {\n",
       "        vertical-align: middle;\n",
       "    }\n",
       "\n",
       "    .dataframe tbody tr th {\n",
       "        vertical-align: top;\n",
       "    }\n",
       "\n",
       "    .dataframe thead th {\n",
       "        text-align: right;\n",
       "    }\n",
       "</style>\n",
       "<table border=\"1\" class=\"dataframe\">\n",
       "  <thead>\n",
       "    <tr style=\"text-align: right;\">\n",
       "      <th></th>\n",
       "      <th>Investor</th>\n",
       "      <th>Company</th>\n",
       "      <th>Valuation ($B)</th>\n",
       "      <th>Date Joined</th>\n",
       "      <th>Country</th>\n",
       "      <th>Industry</th>\n",
       "      <th>Day_List</th>\n",
       "      <th>Year</th>\n",
       "    </tr>\n",
       "  </thead>\n",
       "  <tbody>\n",
       "    <tr>\n",
       "      <th>% nulos</th>\n",
       "      <td>0.19</td>\n",
       "      <td>0.0</td>\n",
       "      <td>0.0</td>\n",
       "      <td>0.0</td>\n",
       "      <td>0.0</td>\n",
       "      <td>0.0</td>\n",
       "      <td>0.0</td>\n",
       "      <td>0.0</td>\n",
       "    </tr>\n",
       "  </tbody>\n",
       "</table>\n",
       "</div>"
      ],
      "text/plain": [
       "         Investor  Company  Valuation ($B)  Date Joined  Country  Industry  \\\n",
       "% nulos      0.19      0.0             0.0          0.0      0.0       0.0   \n",
       "\n",
       "         Day_List  Year  \n",
       "% nulos       0.0   0.0  "
      ]
     },
     "execution_count": 540,
     "metadata": {},
     "output_type": "execute_result"
    }
   ],
   "source": [
    "# Calculamos e identificamos en que columna estan nuestros valores nulos:\n",
    "percentage_null(df2020)"
   ]
  },
  {
   "cell_type": "code",
   "execution_count": 541,
   "metadata": {},
   "outputs": [],
   "source": [
    "# Reemplazamos nulos en la columna 'Select Investors' vamos a reemplazar por la pabra: 'no_inversor'\n",
    "df2020['Investor'] = df2020['Investor'].fillna('no_inversor')"
   ]
  },
  {
   "cell_type": "code",
   "execution_count": 542,
   "metadata": {},
   "outputs": [],
   "source": [
    "# Eliminamos valores Duplicados:\n",
    "df2020 = df2020.drop_duplicates()"
   ]
  },
  {
   "cell_type": "code",
   "execution_count": 543,
   "metadata": {},
   "outputs": [
    {
     "data": {
      "text/html": [
       "<div>\n",
       "<style scoped>\n",
       "    .dataframe tbody tr th:only-of-type {\n",
       "        vertical-align: middle;\n",
       "    }\n",
       "\n",
       "    .dataframe tbody tr th {\n",
       "        vertical-align: top;\n",
       "    }\n",
       "\n",
       "    .dataframe thead th {\n",
       "        text-align: right;\n",
       "    }\n",
       "</style>\n",
       "<table border=\"1\" class=\"dataframe\">\n",
       "  <thead>\n",
       "    <tr style=\"text-align: right;\">\n",
       "      <th></th>\n",
       "      <th>Company</th>\n",
       "      <th>Valuation ($B)</th>\n",
       "      <th>Date Joined</th>\n",
       "      <th>Country</th>\n",
       "      <th>Industry</th>\n",
       "      <th>Investor</th>\n",
       "      <th>Day_List</th>\n",
       "      <th>Year</th>\n",
       "    </tr>\n",
       "  </thead>\n",
       "  <tbody>\n",
       "    <tr>\n",
       "      <th>273</th>\n",
       "      <td>Olive</td>\n",
       "      <td>$1.5</td>\n",
       "      <td>12/1//2020</td>\n",
       "      <td>United States</td>\n",
       "      <td>Internet software &amp; services</td>\n",
       "      <td>Drive Capital, General Catalyst, Ascension Ven...</td>\n",
       "      <td>12/31/2020</td>\n",
       "      <td>2020</td>\n",
       "    </tr>\n",
       "    <tr>\n",
       "      <th>274</th>\n",
       "      <td>Strava</td>\n",
       "      <td>$1.5</td>\n",
       "      <td>11/16//2020</td>\n",
       "      <td>United States</td>\n",
       "      <td>Internet software &amp; services</td>\n",
       "      <td>Jackson Square Ventures, Madrone Capital Partn...</td>\n",
       "      <td>12/31/2020</td>\n",
       "      <td>2020</td>\n",
       "    </tr>\n",
       "  </tbody>\n",
       "</table>\n",
       "</div>"
      ],
      "text/plain": [
       "    Company Valuation ($B)  Date Joined        Country  \\\n",
       "273   Olive           $1.5   12/1//2020  United States   \n",
       "274  Strava           $1.5  11/16//2020  United States   \n",
       "\n",
       "                         Industry  \\\n",
       "273  Internet software & services   \n",
       "274  Internet software & services   \n",
       "\n",
       "                                              Investor    Day_List  Year  \n",
       "273  Drive Capital, General Catalyst, Ascension Ven...  12/31/2020  2020  \n",
       "274  Jackson Square Ventures, Madrone Capital Partn...  12/31/2020  2020  "
      ]
     },
     "execution_count": 543,
     "metadata": {},
     "output_type": "execute_result"
    }
   ],
   "source": [
    "# Intentando aplicar la funcion: transform(df2020), hemos detectado que el valor de las filas que se detallan a continuación no presentaban valores\n",
    "# formato fecha, por lo que proedimos a corregir eso:\n",
    "df2020.loc[[273,274]]"
   ]
  },
  {
   "cell_type": "code",
   "execution_count": 544,
   "metadata": {},
   "outputs": [],
   "source": [
    "# Las fechas presentaban doble //, por lo que se procede a reemplazar\n",
    "df2020.at[273, 'Date Joined'] = '12/1/2020'\n",
    "df2020.at[274, 'Date Joined'] = '11/16/2020'"
   ]
  },
  {
   "cell_type": "code",
   "execution_count": 545,
   "metadata": {},
   "outputs": [
    {
     "name": "stdout",
     "output_type": "stream",
     "text": [
      "<class 'pandas.core.frame.DataFrame'>\n",
      "Index: 513 entries, 0 to 514\n",
      "Data columns (total 8 columns):\n",
      " #   Column          Non-Null Count  Dtype         \n",
      "---  ------          --------------  -----         \n",
      " 0   Company         513 non-null    object        \n",
      " 1   Valuation ($B)  513 non-null    float64       \n",
      " 2   Date Joined     513 non-null    datetime64[ns]\n",
      " 3   Country         513 non-null    object        \n",
      " 4   Industry        513 non-null    object        \n",
      " 5   Investor        513 non-null    object        \n",
      " 6   Day_List        513 non-null    datetime64[ns]\n",
      " 7   Year            513 non-null    int64         \n",
      "dtypes: datetime64[ns](2), float64(1), int64(1), object(4)\n",
      "memory usage: 52.2+ KB\n"
     ]
    }
   ],
   "source": [
    "# Ahora si, utilizamos nuestra función para transformar las columnas: Valuation y Date Joined.\n",
    "transform(df2020)\n",
    "# Vemos que nuestras columnas presentan el tipo de dato correccto\n",
    "df2020.info()"
   ]
  },
  {
   "cell_type": "markdown",
   "metadata": {},
   "source": [
    "#### 2021"
   ]
  },
  {
   "cell_type": "code",
   "execution_count": 546,
   "metadata": {},
   "outputs": [],
   "source": [
    "# Leemos el dataset y le creamos una columna que corresponde al año de la lista\n",
    "df2021 = pd.read_excel('Data/unicorn_cb_31_dec_21.xlsx')\n",
    "df2021['Day_List'] = '12/31/2021'\n",
    "df2021['Year'] = 2021"
   ]
  },
  {
   "cell_type": "code",
   "execution_count": 547,
   "metadata": {},
   "outputs": [
    {
     "name": "stdout",
     "output_type": "stream",
     "text": [
      "El df esta formado por:  958 filas y 9 columnas\n",
      "Cantidad de valores duplicados:  0\n",
      "Cantidad de valores nulos:  4\n"
     ]
    }
   ],
   "source": [
    "# Imprimimos el reporte inicial\n",
    "reporte(df2021)"
   ]
  },
  {
   "cell_type": "code",
   "execution_count": 548,
   "metadata": {},
   "outputs": [
    {
     "data": {
      "text/html": [
       "<div>\n",
       "<style scoped>\n",
       "    .dataframe tbody tr th:only-of-type {\n",
       "        vertical-align: middle;\n",
       "    }\n",
       "\n",
       "    .dataframe tbody tr th {\n",
       "        vertical-align: top;\n",
       "    }\n",
       "\n",
       "    .dataframe thead th {\n",
       "        text-align: right;\n",
       "    }\n",
       "</style>\n",
       "<table border=\"1\" class=\"dataframe\">\n",
       "  <thead>\n",
       "    <tr style=\"text-align: right;\">\n",
       "      <th></th>\n",
       "      <th>Company</th>\n",
       "      <th>Valuation ($B)</th>\n",
       "      <th>Date Joined</th>\n",
       "      <th>Country</th>\n",
       "      <th>Industry</th>\n",
       "      <th>Investor</th>\n",
       "      <th>tablescraper-selected-row 7</th>\n",
       "      <th>Day_List</th>\n",
       "      <th>Year</th>\n",
       "    </tr>\n",
       "  </thead>\n",
       "  <tbody>\n",
       "    <tr>\n",
       "      <th>0</th>\n",
       "      <td>Bytedance</td>\n",
       "      <td>$140</td>\n",
       "      <td>4/7/2017</td>\n",
       "      <td>China</td>\n",
       "      <td>Beijing</td>\n",
       "      <td>Artificial intelligence</td>\n",
       "      <td>Sequoia Capital China, SIG Asia Investments, S...</td>\n",
       "      <td>12/31/2021</td>\n",
       "      <td>2021</td>\n",
       "    </tr>\n",
       "    <tr>\n",
       "      <th>1</th>\n",
       "      <td>SpaceX</td>\n",
       "      <td>$100.3</td>\n",
       "      <td>12/1/2012</td>\n",
       "      <td>United States</td>\n",
       "      <td>Hawthorne</td>\n",
       "      <td>Other</td>\n",
       "      <td>Founders Fund, Draper Fisher Jurvetson, Rothen...</td>\n",
       "      <td>12/31/2021</td>\n",
       "      <td>2021</td>\n",
       "    </tr>\n",
       "    <tr>\n",
       "      <th>2</th>\n",
       "      <td>Stripe</td>\n",
       "      <td>$95</td>\n",
       "      <td>1/23/2014</td>\n",
       "      <td>United States</td>\n",
       "      <td>San Francisco</td>\n",
       "      <td>Fintech</td>\n",
       "      <td>Khosla Ventures, LowercaseCapital, capitalG</td>\n",
       "      <td>12/31/2021</td>\n",
       "      <td>2021</td>\n",
       "    </tr>\n",
       "  </tbody>\n",
       "</table>\n",
       "</div>"
      ],
      "text/plain": [
       "     Company Valuation ($B) Date Joined        Country       Industry  \\\n",
       "0  Bytedance           $140    4/7/2017          China        Beijing   \n",
       "1     SpaceX         $100.3   12/1/2012  United States      Hawthorne   \n",
       "2     Stripe            $95   1/23/2014  United States  San Francisco   \n",
       "\n",
       "                  Investor                        tablescraper-selected-row 7  \\\n",
       "0  Artificial intelligence  Sequoia Capital China, SIG Asia Investments, S...   \n",
       "1                    Other  Founders Fund, Draper Fisher Jurvetson, Rothen...   \n",
       "2                  Fintech        Khosla Ventures, LowercaseCapital, capitalG   \n",
       "\n",
       "     Day_List  Year  \n",
       "0  12/31/2021  2021  \n",
       "1  12/31/2021  2021  \n",
       "2  12/31/2021  2021  "
      ]
     },
     "execution_count": 548,
     "metadata": {},
     "output_type": "execute_result"
    }
   ],
   "source": [
    "# Imprimimos las 3 primeras filas para inspeccionar:\n",
    "df2021.head(3)"
   ]
  },
  {
   "cell_type": "markdown",
   "metadata": {},
   "source": [
    "Vemos que el la información para el año 2021 cambia con respecto a la que teníamos en los años anteriores, por lo que procedemos a convertir las columnas\n",
    "de manera que todas tengan el mismo nombre."
   ]
  },
  {
   "cell_type": "code",
   "execution_count": 549,
   "metadata": {},
   "outputs": [],
   "source": [
    "# se identificaron columnas con diferentes nombres por lo que se procedión a cambiarlas para que todas ssean iguales a la hora de concatenar\n",
    "df2021 = df2021.rename(columns={'Industry':'City', 'Investor':'Industry','tablescraper-selected-row 7':'Investor'})"
   ]
  },
  {
   "cell_type": "code",
   "execution_count": 550,
   "metadata": {},
   "outputs": [
    {
     "data": {
      "text/html": [
       "<div>\n",
       "<style scoped>\n",
       "    .dataframe tbody tr th:only-of-type {\n",
       "        vertical-align: middle;\n",
       "    }\n",
       "\n",
       "    .dataframe tbody tr th {\n",
       "        vertical-align: top;\n",
       "    }\n",
       "\n",
       "    .dataframe thead th {\n",
       "        text-align: right;\n",
       "    }\n",
       "</style>\n",
       "<table border=\"1\" class=\"dataframe\">\n",
       "  <thead>\n",
       "    <tr style=\"text-align: right;\">\n",
       "      <th></th>\n",
       "      <th>Investor</th>\n",
       "      <th>City</th>\n",
       "      <th>Company</th>\n",
       "      <th>Valuation ($B)</th>\n",
       "      <th>Date Joined</th>\n",
       "      <th>Country</th>\n",
       "      <th>Industry</th>\n",
       "      <th>Day_List</th>\n",
       "      <th>Year</th>\n",
       "    </tr>\n",
       "  </thead>\n",
       "  <tbody>\n",
       "    <tr>\n",
       "      <th>% nulos</th>\n",
       "      <td>0.31</td>\n",
       "      <td>0.1</td>\n",
       "      <td>0.0</td>\n",
       "      <td>0.0</td>\n",
       "      <td>0.0</td>\n",
       "      <td>0.0</td>\n",
       "      <td>0.0</td>\n",
       "      <td>0.0</td>\n",
       "      <td>0.0</td>\n",
       "    </tr>\n",
       "  </tbody>\n",
       "</table>\n",
       "</div>"
      ],
      "text/plain": [
       "         Investor  City  Company  Valuation ($B)  Date Joined  Country  \\\n",
       "% nulos      0.31   0.1      0.0             0.0          0.0      0.0   \n",
       "\n",
       "         Industry  Day_List  Year  \n",
       "% nulos       0.0       0.0   0.0  "
      ]
     },
     "execution_count": 550,
     "metadata": {},
     "output_type": "execute_result"
    }
   ],
   "source": [
    "percentage_null(df2021)"
   ]
  },
  {
   "cell_type": "code",
   "execution_count": 551,
   "metadata": {},
   "outputs": [
    {
     "data": {
      "text/html": [
       "<div>\n",
       "<style scoped>\n",
       "    .dataframe tbody tr th:only-of-type {\n",
       "        vertical-align: middle;\n",
       "    }\n",
       "\n",
       "    .dataframe tbody tr th {\n",
       "        vertical-align: top;\n",
       "    }\n",
       "\n",
       "    .dataframe thead th {\n",
       "        text-align: right;\n",
       "    }\n",
       "</style>\n",
       "<table border=\"1\" class=\"dataframe\">\n",
       "  <thead>\n",
       "    <tr style=\"text-align: right;\">\n",
       "      <th></th>\n",
       "      <th>Company</th>\n",
       "      <th>Valuation ($B)</th>\n",
       "      <th>Date Joined</th>\n",
       "      <th>Country</th>\n",
       "      <th>City</th>\n",
       "      <th>Industry</th>\n",
       "      <th>Investor</th>\n",
       "      <th>Day_List</th>\n",
       "      <th>Year</th>\n",
       "    </tr>\n",
       "  </thead>\n",
       "  <tbody>\n",
       "    <tr>\n",
       "      <th>535</th>\n",
       "      <td>$1.5</td>\n",
       "      <td>12/17/2021</td>\n",
       "      <td>United States</td>\n",
       "      <td>San Francisco</td>\n",
       "      <td>Internet software &amp; services</td>\n",
       "      <td>Accel, Benchmark, SV Angel</td>\n",
       "      <td>NaN</td>\n",
       "      <td>12/31/2021</td>\n",
       "      <td>2021</td>\n",
       "    </tr>\n",
       "    <tr>\n",
       "      <th>722</th>\n",
       "      <td>LinkSure Network</td>\n",
       "      <td>$1</td>\n",
       "      <td>1/1/2015</td>\n",
       "      <td>China</td>\n",
       "      <td>Shanghai</td>\n",
       "      <td>Mobile &amp; telecommunications</td>\n",
       "      <td>NaN</td>\n",
       "      <td>12/31/2021</td>\n",
       "      <td>2021</td>\n",
       "    </tr>\n",
       "    <tr>\n",
       "      <th>851</th>\n",
       "      <td>Moglix</td>\n",
       "      <td>$1</td>\n",
       "      <td>5/17/2021</td>\n",
       "      <td>Singapore</td>\n",
       "      <td>Singapore</td>\n",
       "      <td>E-commerce &amp; direct-to-consumer</td>\n",
       "      <td>NaN</td>\n",
       "      <td>12/31/2021</td>\n",
       "      <td>2021</td>\n",
       "    </tr>\n",
       "  </tbody>\n",
       "</table>\n",
       "</div>"
      ],
      "text/plain": [
       "              Company Valuation ($B)    Date Joined        Country  \\\n",
       "535              $1.5     12/17/2021  United States  San Francisco   \n",
       "722  LinkSure Network             $1       1/1/2015          China   \n",
       "851            Moglix             $1      5/17/2021      Singapore   \n",
       "\n",
       "                             City                         Industry Investor  \\\n",
       "535  Internet software & services       Accel, Benchmark, SV Angel      NaN   \n",
       "722                      Shanghai      Mobile & telecommunications      NaN   \n",
       "851                     Singapore  E-commerce & direct-to-consumer      NaN   \n",
       "\n",
       "       Day_List  Year  \n",
       "535  12/31/2021  2021  \n",
       "722  12/31/2021  2021  \n",
       "851  12/31/2021  2021  "
      ]
     },
     "execution_count": 551,
     "metadata": {},
     "output_type": "execute_result"
    }
   ],
   "source": [
    "# Imprimimos los nulos para identificarlos, ya que el contenido de los dataset han tenido errores de imputación:\n",
    "df2021[df2021['Investor'].isna()]"
   ]
  },
  {
   "cell_type": "code",
   "execution_count": 552,
   "metadata": {},
   "outputs": [],
   "source": [
    "# Reemplazamos nulos en la columna 'Select Investors' vamos a reemplazar por la pabra: 'no_inversor'\n",
    "df2021['Investor'] = df2021['Investor'].fillna('no_inversor')"
   ]
  },
  {
   "cell_type": "markdown",
   "metadata": {},
   "source": [
    "Dentro de los valores nulos identificamos una columna que presenta un nombre que extraño, por lo que se peude ver en realidad es que $1.5 en realizad corresponde al valor y no se tiene el nombre de la empresa, por lo que tosas sus columnas uqedaron desfasadas. Se procede a elimiar esta fila"
   ]
  },
  {
   "cell_type": "code",
   "execution_count": 553,
   "metadata": {},
   "outputs": [
    {
     "data": {
      "text/html": [
       "<div>\n",
       "<style scoped>\n",
       "    .dataframe tbody tr th:only-of-type {\n",
       "        vertical-align: middle;\n",
       "    }\n",
       "\n",
       "    .dataframe tbody tr th {\n",
       "        vertical-align: top;\n",
       "    }\n",
       "\n",
       "    .dataframe thead th {\n",
       "        text-align: right;\n",
       "    }\n",
       "</style>\n",
       "<table border=\"1\" class=\"dataframe\">\n",
       "  <thead>\n",
       "    <tr style=\"text-align: right;\">\n",
       "      <th></th>\n",
       "      <th>Company</th>\n",
       "      <th>Valuation ($B)</th>\n",
       "      <th>Date Joined</th>\n",
       "      <th>Country</th>\n",
       "      <th>City</th>\n",
       "      <th>Industry</th>\n",
       "      <th>Investor</th>\n",
       "      <th>Day_List</th>\n",
       "      <th>Year</th>\n",
       "    </tr>\n",
       "  </thead>\n",
       "  <tbody>\n",
       "    <tr>\n",
       "      <th>535</th>\n",
       "      <td>$1.5</td>\n",
       "      <td>12/17/2021</td>\n",
       "      <td>United States</td>\n",
       "      <td>San Francisco</td>\n",
       "      <td>Internet software &amp; services</td>\n",
       "      <td>Accel, Benchmark, SV Angel</td>\n",
       "      <td>no_inversor</td>\n",
       "      <td>12/31/2021</td>\n",
       "      <td>2021</td>\n",
       "    </tr>\n",
       "  </tbody>\n",
       "</table>\n",
       "</div>"
      ],
      "text/plain": [
       "    Company Valuation ($B)    Date Joined        Country  \\\n",
       "535    $1.5     12/17/2021  United States  San Francisco   \n",
       "\n",
       "                             City                    Industry     Investor  \\\n",
       "535  Internet software & services  Accel, Benchmark, SV Angel  no_inversor   \n",
       "\n",
       "       Day_List  Year  \n",
       "535  12/31/2021  2021  "
      ]
     },
     "execution_count": 553,
     "metadata": {},
     "output_type": "execute_result"
    }
   ],
   "source": [
    "# filtramos la fila donde el nombre de la companía es \"$1.5\" \n",
    "df2021[df2021['Company'] == '$1.5']"
   ]
  },
  {
   "cell_type": "code",
   "execution_count": 554,
   "metadata": {},
   "outputs": [],
   "source": [
    "# Procedemos a eliminarla ya que carecemos de este nombre y no podemos continuar con la busqueda de este dato faltante.\n",
    "drop = df2021[df2021['Company'] == '$1.5'].index\n",
    "df2021.drop(drop, inplace=True)"
   ]
  },
  {
   "cell_type": "code",
   "execution_count": 555,
   "metadata": {},
   "outputs": [
    {
     "name": "stdout",
     "output_type": "stream",
     "text": [
      "<class 'pandas.core.frame.DataFrame'>\n",
      "Index: 957 entries, 0 to 957\n",
      "Data columns (total 9 columns):\n",
      " #   Column          Non-Null Count  Dtype         \n",
      "---  ------          --------------  -----         \n",
      " 0   Company         957 non-null    object        \n",
      " 1   Valuation ($B)  957 non-null    float64       \n",
      " 2   Date Joined     957 non-null    datetime64[ns]\n",
      " 3   Country         957 non-null    object        \n",
      " 4   City            956 non-null    object        \n",
      " 5   Industry        957 non-null    object        \n",
      " 6   Investor        957 non-null    object        \n",
      " 7   Day_List        957 non-null    datetime64[ns]\n",
      " 8   Year            957 non-null    int64         \n",
      "dtypes: datetime64[ns](2), float64(1), int64(1), object(5)\n",
      "memory usage: 74.8+ KB\n"
     ]
    }
   ],
   "source": [
    "# Utilizamos nuestra función para transformar las columnas: Valuation y Date Joined.\n",
    "transform(df2021)\n",
    "# Vemos que nuestras columnas presentan el tipo de dato correccto\n",
    "df2021.info()"
   ]
  },
  {
   "cell_type": "markdown",
   "metadata": {},
   "source": [
    "#### 2022"
   ]
  },
  {
   "cell_type": "markdown",
   "metadata": {},
   "source": [
    "Para el año 2022, conseguimos otra fuente por lo que tendremos que hacer cambios a las columnas para poder concatenar:\n",
    "\n",
    "El archivo es un .csv. Presentaba una columna extra:'Unnamed: 0' que se eliminó y reenombramos una columna para que tenga el mismo nombre que los df anteriores."
   ]
  },
  {
   "cell_type": "code",
   "execution_count": 556,
   "metadata": {},
   "outputs": [],
   "source": [
    "# Leemos el dataset y le creamos una columna que corresponde al año de la lista\n",
    "df2022 = pd.read_csv('Data/unicorn_cb_15_nov_22.csv')\n",
    "df2022['Day_List'] = '11/15/2022'\n",
    "df2022['Year'] = 2022"
   ]
  },
  {
   "cell_type": "code",
   "execution_count": 557,
   "metadata": {},
   "outputs": [
    {
     "name": "stdout",
     "output_type": "stream",
     "text": [
      "El df esta formado por:  1201 filas y 10 columnas\n",
      "Cantidad de valores duplicados:  0\n",
      "Cantidad de valores nulos:  19\n"
     ]
    }
   ],
   "source": [
    "# Imprimimos el reporte inicial\n",
    "reporte(df2022)"
   ]
  },
  {
   "cell_type": "code",
   "execution_count": 558,
   "metadata": {},
   "outputs": [
    {
     "data": {
      "text/html": [
       "<div>\n",
       "<style scoped>\n",
       "    .dataframe tbody tr th:only-of-type {\n",
       "        vertical-align: middle;\n",
       "    }\n",
       "\n",
       "    .dataframe tbody tr th {\n",
       "        vertical-align: top;\n",
       "    }\n",
       "\n",
       "    .dataframe thead th {\n",
       "        text-align: right;\n",
       "    }\n",
       "</style>\n",
       "<table border=\"1\" class=\"dataframe\">\n",
       "  <thead>\n",
       "    <tr style=\"text-align: right;\">\n",
       "      <th></th>\n",
       "      <th>Unnamed: 0</th>\n",
       "      <th>Company</th>\n",
       "      <th>Valuation ($B)</th>\n",
       "      <th>Date Joined</th>\n",
       "      <th>Country</th>\n",
       "      <th>City</th>\n",
       "      <th>Industry</th>\n",
       "      <th>Select Investors</th>\n",
       "      <th>Day_List</th>\n",
       "      <th>Year</th>\n",
       "    </tr>\n",
       "  </thead>\n",
       "  <tbody>\n",
       "    <tr>\n",
       "      <th>0</th>\n",
       "      <td>0</td>\n",
       "      <td>ByteDance</td>\n",
       "      <td>$140</td>\n",
       "      <td>4/7/2017</td>\n",
       "      <td>China</td>\n",
       "      <td>Beijing</td>\n",
       "      <td>Artificial intelligence</td>\n",
       "      <td>Sequoia Capital China, SIG Asia Investments, S...</td>\n",
       "      <td>11/15/2022</td>\n",
       "      <td>2022</td>\n",
       "    </tr>\n",
       "    <tr>\n",
       "      <th>1</th>\n",
       "      <td>1</td>\n",
       "      <td>SpaceX</td>\n",
       "      <td>$127</td>\n",
       "      <td>12/1/2012</td>\n",
       "      <td>United States</td>\n",
       "      <td>Hawthorne</td>\n",
       "      <td>Other</td>\n",
       "      <td>Founders Fund, Draper Fisher Jurvetson, Rothen...</td>\n",
       "      <td>11/15/2022</td>\n",
       "      <td>2022</td>\n",
       "    </tr>\n",
       "    <tr>\n",
       "      <th>2</th>\n",
       "      <td>2</td>\n",
       "      <td>SHEIN</td>\n",
       "      <td>$100</td>\n",
       "      <td>7/3/2018</td>\n",
       "      <td>China</td>\n",
       "      <td>Shenzhen</td>\n",
       "      <td>E-commerce &amp; direct-to-consumer</td>\n",
       "      <td>Tiger Global Management, Sequoia Capital China...</td>\n",
       "      <td>11/15/2022</td>\n",
       "      <td>2022</td>\n",
       "    </tr>\n",
       "  </tbody>\n",
       "</table>\n",
       "</div>"
      ],
      "text/plain": [
       "   Unnamed: 0    Company Valuation ($B) Date Joined        Country       City  \\\n",
       "0           0  ByteDance           $140    4/7/2017          China    Beijing   \n",
       "1           1     SpaceX           $127   12/1/2012  United States  Hawthorne   \n",
       "2           2      SHEIN           $100    7/3/2018          China   Shenzhen   \n",
       "\n",
       "                          Industry  \\\n",
       "0          Artificial intelligence   \n",
       "1                            Other   \n",
       "2  E-commerce & direct-to-consumer   \n",
       "\n",
       "                                    Select Investors    Day_List  Year  \n",
       "0  Sequoia Capital China, SIG Asia Investments, S...  11/15/2022  2022  \n",
       "1  Founders Fund, Draper Fisher Jurvetson, Rothen...  11/15/2022  2022  \n",
       "2  Tiger Global Management, Sequoia Capital China...  11/15/2022  2022  "
      ]
     },
     "execution_count": 558,
     "metadata": {},
     "output_type": "execute_result"
    }
   ],
   "source": [
    "# Imprimimos las 3 primeras filas para inspeccionar:\n",
    "df2022.head(3)"
   ]
  },
  {
   "cell_type": "code",
   "execution_count": 559,
   "metadata": {},
   "outputs": [],
   "source": [
    "# Eliminamos la columna: 'Unnamed: 0' y reenombramos la columna: 'Select Investors'\n",
    "df2022 = df2022.drop(['Unnamed: 0'],axis=1)\n",
    "df2022 = df2022.rename(columns={'Select Investors':'Investor'})"
   ]
  },
  {
   "cell_type": "code",
   "execution_count": 560,
   "metadata": {},
   "outputs": [
    {
     "data": {
      "text/html": [
       "<div>\n",
       "<style scoped>\n",
       "    .dataframe tbody tr th:only-of-type {\n",
       "        vertical-align: middle;\n",
       "    }\n",
       "\n",
       "    .dataframe tbody tr th {\n",
       "        vertical-align: top;\n",
       "    }\n",
       "\n",
       "    .dataframe thead th {\n",
       "        text-align: right;\n",
       "    }\n",
       "</style>\n",
       "<table border=\"1\" class=\"dataframe\">\n",
       "  <thead>\n",
       "    <tr style=\"text-align: right;\">\n",
       "      <th></th>\n",
       "      <th>City</th>\n",
       "      <th>Investor</th>\n",
       "      <th>Company</th>\n",
       "      <th>Valuation ($B)</th>\n",
       "      <th>Date Joined</th>\n",
       "      <th>Country</th>\n",
       "      <th>Industry</th>\n",
       "      <th>Day_List</th>\n",
       "      <th>Year</th>\n",
       "    </tr>\n",
       "  </thead>\n",
       "  <tbody>\n",
       "    <tr>\n",
       "      <th>% nulos</th>\n",
       "      <td>1.5</td>\n",
       "      <td>0.08</td>\n",
       "      <td>0.0</td>\n",
       "      <td>0.0</td>\n",
       "      <td>0.0</td>\n",
       "      <td>0.0</td>\n",
       "      <td>0.0</td>\n",
       "      <td>0.0</td>\n",
       "      <td>0.0</td>\n",
       "    </tr>\n",
       "  </tbody>\n",
       "</table>\n",
       "</div>"
      ],
      "text/plain": [
       "         City  Investor  Company  Valuation ($B)  Date Joined  Country  \\\n",
       "% nulos   1.5      0.08      0.0             0.0          0.0      0.0   \n",
       "\n",
       "         Industry  Day_List  Year  \n",
       "% nulos       0.0       0.0   0.0  "
      ]
     },
     "execution_count": 560,
     "metadata": {},
     "output_type": "execute_result"
    }
   ],
   "source": [
    "# Calculamos e identificamos en que columna estan nuestros valores nulos:\n",
    "percentage_null(df2022)"
   ]
  },
  {
   "cell_type": "code",
   "execution_count": 561,
   "metadata": {},
   "outputs": [],
   "source": [
    "# Reemplazamos nulos en la columna 'Select Investors' vamos a reemplazar por la pabra: 'no_inversor'\n",
    "df2022['Investor'] = df2022['Investor'].fillna('no_inversor')"
   ]
  },
  {
   "cell_type": "code",
   "execution_count": 562,
   "metadata": {},
   "outputs": [
    {
     "name": "stdout",
     "output_type": "stream",
     "text": [
      "<class 'pandas.core.frame.DataFrame'>\n",
      "RangeIndex: 1201 entries, 0 to 1200\n",
      "Data columns (total 9 columns):\n",
      " #   Column          Non-Null Count  Dtype         \n",
      "---  ------          --------------  -----         \n",
      " 0   Company         1201 non-null   object        \n",
      " 1   Valuation ($B)  1201 non-null   float64       \n",
      " 2   Date Joined     1201 non-null   datetime64[ns]\n",
      " 3   Country         1201 non-null   object        \n",
      " 4   City            1183 non-null   object        \n",
      " 5   Industry        1201 non-null   object        \n",
      " 6   Investor        1201 non-null   object        \n",
      " 7   Day_List        1201 non-null   datetime64[ns]\n",
      " 8   Year            1201 non-null   int64         \n",
      "dtypes: datetime64[ns](2), float64(1), int64(1), object(5)\n",
      "memory usage: 84.6+ KB\n"
     ]
    }
   ],
   "source": [
    "# Utilizamos nuestra función para transformar las columnas: Valuation y Date Joined.\n",
    "transform(df2022)\n",
    "# Vemos que nuestras columnas presentan el tipo de dato correccto\n",
    "df2022.info()"
   ]
  },
  {
   "cell_type": "markdown",
   "metadata": {},
   "source": [
    "### Lectura y tranformación del dataframes del 2023"
   ]
  },
  {
   "cell_type": "markdown",
   "metadata": {},
   "source": [
    "Este df lo vamoa a utlizar tanto para hacer tableros y anlálisis de este año específico, así como tambien para unirlo con el resto de los años anterios y asi poder hacer predicciones y diferentes comparaciones anuales."
   ]
  },
  {
   "cell_type": "code",
   "execution_count": 563,
   "metadata": {},
   "outputs": [],
   "source": [
    "# Leemos el dataset y le creamos una columna que corresponde al año de la lista\n",
    "df2023 = pd.read_excel('Data/CB-Insights_31_05_2023.xlsx')\n",
    "df2023['Day_List'] = '05/31/2023'\n",
    "df2023['Year'] = 2023"
   ]
  },
  {
   "cell_type": "markdown",
   "metadata": {},
   "source": [
    "#### Procesamiento:"
   ]
  },
  {
   "cell_type": "code",
   "execution_count": 564,
   "metadata": {},
   "outputs": [
    {
     "name": "stdout",
     "output_type": "stream",
     "text": [
      "El df esta formado por:  1215 filas y 9 columnas\n",
      "Cantidad de valores duplicados:  0\n",
      "Cantidad de valores nulos:  20\n"
     ]
    }
   ],
   "source": [
    "# Imprimimos el reporte inicial\n",
    "reporte(df2023)"
   ]
  },
  {
   "cell_type": "markdown",
   "metadata": {},
   "source": [
    "##### Cambio de nombre de las columnas:"
   ]
  },
  {
   "cell_type": "code",
   "execution_count": 565,
   "metadata": {},
   "outputs": [
    {
     "data": {
      "text/html": [
       "<div>\n",
       "<style scoped>\n",
       "    .dataframe tbody tr th:only-of-type {\n",
       "        vertical-align: middle;\n",
       "    }\n",
       "\n",
       "    .dataframe tbody tr th {\n",
       "        vertical-align: top;\n",
       "    }\n",
       "\n",
       "    .dataframe thead th {\n",
       "        text-align: right;\n",
       "    }\n",
       "</style>\n",
       "<table border=\"1\" class=\"dataframe\">\n",
       "  <thead>\n",
       "    <tr style=\"text-align: right;\">\n",
       "      <th></th>\n",
       "      <th>Company</th>\n",
       "      <th>Valuation ($B)</th>\n",
       "      <th>Date Joined</th>\n",
       "      <th>Country</th>\n",
       "      <th>City</th>\n",
       "      <th>Industry</th>\n",
       "      <th>Select Investors</th>\n",
       "      <th>Day_List</th>\n",
       "      <th>Year</th>\n",
       "    </tr>\n",
       "  </thead>\n",
       "  <tbody>\n",
       "    <tr>\n",
       "      <th>0</th>\n",
       "      <td>ByteDance</td>\n",
       "      <td>225.0</td>\n",
       "      <td>2017-04-07</td>\n",
       "      <td>China</td>\n",
       "      <td>Beijing</td>\n",
       "      <td>Media &amp; Entertainment</td>\n",
       "      <td>Sequoia Capital China, SIG Asia Investments, S...</td>\n",
       "      <td>05/31/2023</td>\n",
       "      <td>2023</td>\n",
       "    </tr>\n",
       "    <tr>\n",
       "      <th>1</th>\n",
       "      <td>SpaceX</td>\n",
       "      <td>137.0</td>\n",
       "      <td>2012-12-01</td>\n",
       "      <td>United States</td>\n",
       "      <td>Hawthorne</td>\n",
       "      <td>Industrials</td>\n",
       "      <td>Founders Fund, Draper Fisher Jurvetson, Rothen...</td>\n",
       "      <td>05/31/2023</td>\n",
       "      <td>2023</td>\n",
       "    </tr>\n",
       "    <tr>\n",
       "      <th>2</th>\n",
       "      <td>SHEIN</td>\n",
       "      <td>100.0</td>\n",
       "      <td>2018-07-03</td>\n",
       "      <td>China</td>\n",
       "      <td>Shenzhen</td>\n",
       "      <td>Consumer &amp; Retail</td>\n",
       "      <td>Tiger Global Management, Sequoia Capital China...</td>\n",
       "      <td>05/31/2023</td>\n",
       "      <td>2023</td>\n",
       "    </tr>\n",
       "  </tbody>\n",
       "</table>\n",
       "</div>"
      ],
      "text/plain": [
       "     Company  Valuation ($B) Date Joined        Country       City  \\\n",
       "0  ByteDance           225.0  2017-04-07          China    Beijing   \n",
       "1     SpaceX           137.0  2012-12-01  United States  Hawthorne   \n",
       "2      SHEIN           100.0  2018-07-03          China   Shenzhen   \n",
       "\n",
       "                Industry                                   Select Investors  \\\n",
       "0  Media & Entertainment  Sequoia Capital China, SIG Asia Investments, S...   \n",
       "1            Industrials  Founders Fund, Draper Fisher Jurvetson, Rothen...   \n",
       "2      Consumer & Retail  Tiger Global Management, Sequoia Capital China...   \n",
       "\n",
       "     Day_List  Year  \n",
       "0  05/31/2023  2023  \n",
       "1  05/31/2023  2023  \n",
       "2  05/31/2023  2023  "
      ]
     },
     "execution_count": 565,
     "metadata": {},
     "output_type": "execute_result"
    }
   ],
   "source": [
    "# Imprimimos las 3 primeras lineas para ispeccionar:\n",
    "df2023.head(3)"
   ]
  },
  {
   "cell_type": "markdown",
   "metadata": {},
   "source": [
    "Se realiza un cambio de nombre a las columnas para que coincidan con el resto de dataset por años."
   ]
  },
  {
   "cell_type": "code",
   "execution_count": 566,
   "metadata": {},
   "outputs": [],
   "source": [
    "# Transformamos los nombres de las columnas para que coincidan con el resto de los df\n",
    "df2023 = df2023.rename(columns={'Select Investors':'Investor'})"
   ]
  },
  {
   "cell_type": "markdown",
   "metadata": {},
   "source": [
    "##### Valores Nulos"
   ]
  },
  {
   "cell_type": "code",
   "execution_count": 567,
   "metadata": {},
   "outputs": [
    {
     "data": {
      "text/html": [
       "<div>\n",
       "<style scoped>\n",
       "    .dataframe tbody tr th:only-of-type {\n",
       "        vertical-align: middle;\n",
       "    }\n",
       "\n",
       "    .dataframe tbody tr th {\n",
       "        vertical-align: top;\n",
       "    }\n",
       "\n",
       "    .dataframe thead th {\n",
       "        text-align: right;\n",
       "    }\n",
       "</style>\n",
       "<table border=\"1\" class=\"dataframe\">\n",
       "  <thead>\n",
       "    <tr style=\"text-align: right;\">\n",
       "      <th></th>\n",
       "      <th>City</th>\n",
       "      <th>Investor</th>\n",
       "      <th>Company</th>\n",
       "      <th>Valuation ($B)</th>\n",
       "      <th>Date Joined</th>\n",
       "      <th>Country</th>\n",
       "      <th>Industry</th>\n",
       "      <th>Day_List</th>\n",
       "      <th>Year</th>\n",
       "    </tr>\n",
       "  </thead>\n",
       "  <tbody>\n",
       "    <tr>\n",
       "      <th>% nulos</th>\n",
       "      <td>1.48</td>\n",
       "      <td>0.16</td>\n",
       "      <td>0.0</td>\n",
       "      <td>0.0</td>\n",
       "      <td>0.0</td>\n",
       "      <td>0.0</td>\n",
       "      <td>0.0</td>\n",
       "      <td>0.0</td>\n",
       "      <td>0.0</td>\n",
       "    </tr>\n",
       "  </tbody>\n",
       "</table>\n",
       "</div>"
      ],
      "text/plain": [
       "         City  Investor  Company  Valuation ($B)  Date Joined  Country  \\\n",
       "% nulos  1.48      0.16      0.0             0.0          0.0      0.0   \n",
       "\n",
       "         Industry  Day_List  Year  \n",
       "% nulos       0.0       0.0   0.0  "
      ]
     },
     "execution_count": 567,
     "metadata": {},
     "output_type": "execute_result"
    }
   ],
   "source": [
    "# Calculamos e identificamos en que columna estan nuestros valores nulos:\n",
    "percentage_null(df2023)"
   ]
  },
  {
   "cell_type": "code",
   "execution_count": 568,
   "metadata": {},
   "outputs": [],
   "source": [
    "# Para la columna 'City' vamos a reemplazar por la pabra: 'no_data'\n",
    "df2023['City'] = df2023['City'].fillna('no_data')"
   ]
  },
  {
   "cell_type": "code",
   "execution_count": 569,
   "metadata": {},
   "outputs": [],
   "source": [
    "# Para la columna 'Select Investors\t' vamos a reemplazar por la pabra: 'no_inversor'\n",
    "df2023['Investor'] = df2023['Investor'].fillna('no_inversor')"
   ]
  },
  {
   "cell_type": "markdown",
   "metadata": {},
   "source": [
    "##### Transformación de Columnas"
   ]
  },
  {
   "cell_type": "code",
   "execution_count": 570,
   "metadata": {},
   "outputs": [
    {
     "name": "stdout",
     "output_type": "stream",
     "text": [
      "<class 'pandas.core.frame.DataFrame'>\n",
      "RangeIndex: 430 entries, 0 to 429\n",
      "Data columns (total 8 columns):\n",
      " #   Column          Non-Null Count  Dtype         \n",
      "---  ------          --------------  -----         \n",
      " 0   Company         430 non-null    object        \n",
      " 1   Valuation ($B)  430 non-null    float64       \n",
      " 2   Date Joined     430 non-null    datetime64[ns]\n",
      " 3   Country         430 non-null    object        \n",
      " 4   Industry        430 non-null    object        \n",
      " 5   Investor        430 non-null    object        \n",
      " 6   Day_List        430 non-null    datetime64[ns]\n",
      " 7   Year            430 non-null    int64         \n",
      "dtypes: datetime64[ns](2), float64(1), int64(1), object(4)\n",
      "memory usage: 27.0+ KB\n"
     ]
    }
   ],
   "source": [
    "# Utilizamos nuestra función para transformar las columnas: Valuation y Date Joined.\n",
    "transform(df2019)\n",
    "# Vemos que nuestras columnas presentan el tipo de dato correccto\n",
    "df2019.info()"
   ]
  },
  {
   "cell_type": "markdown",
   "metadata": {},
   "source": [
    "### Transformación del df 2023 para poder hacer un ***merge*** con los anteriores"
   ]
  },
  {
   "cell_type": "code",
   "execution_count": 571,
   "metadata": {},
   "outputs": [],
   "source": [
    "# Cremos una nueva variable para transformar las columnas de manera que luego podamos concatenar los dataframes de todos los años\n",
    "df2023_to_concat =df2023.copy()"
   ]
  },
  {
   "cell_type": "code",
   "execution_count": 572,
   "metadata": {},
   "outputs": [],
   "source": [
    "# Seleccionamos solamente las columnas que son iguales en los anteriores df\n",
    "df2023_to_concat = df2023_to_concat[['Company', 'Valuation ($B)', 'Date Joined', 'Country','Industry','Investor', 'Day_List','Year', 'City']]"
   ]
  },
  {
   "cell_type": "markdown",
   "metadata": {},
   "source": [
    "### Hacemos un Marge con todos los años:"
   ]
  },
  {
   "cell_type": "code",
   "execution_count": 573,
   "metadata": {},
   "outputs": [],
   "source": [
    "unicorns = pd.concat([df2015,df2016,df2017,df2018,df2019,df2020,df2021,df2022,df2023_to_concat],axis=0)"
   ]
  },
  {
   "cell_type": "markdown",
   "metadata": {},
   "source": [
    "### Procesamiento del nuevo dataframe con todos los años:"
   ]
  },
  {
   "cell_type": "code",
   "execution_count": 574,
   "metadata": {},
   "outputs": [
    {
     "name": "stdout",
     "output_type": "stream",
     "text": [
      "El df esta formado por:  5170 filas y 9 columnas\n",
      "Cantidad de valores duplicados:  0\n",
      "Cantidad de valores nulos:  1816\n"
     ]
    }
   ],
   "source": [
    "# Imprimimos el reporte inicial, para ver como se han concatenado los valores\n",
    "reporte(unicorns)"
   ]
  },
  {
   "cell_type": "markdown",
   "metadata": {},
   "source": [
    "### Valores Nulos"
   ]
  },
  {
   "cell_type": "code",
   "execution_count": 575,
   "metadata": {},
   "outputs": [
    {
     "data": {
      "text/html": [
       "<div>\n",
       "<style scoped>\n",
       "    .dataframe tbody tr th:only-of-type {\n",
       "        vertical-align: middle;\n",
       "    }\n",
       "\n",
       "    .dataframe tbody tr th {\n",
       "        vertical-align: top;\n",
       "    }\n",
       "\n",
       "    .dataframe thead th {\n",
       "        text-align: right;\n",
       "    }\n",
       "</style>\n",
       "<table border=\"1\" class=\"dataframe\">\n",
       "  <thead>\n",
       "    <tr style=\"text-align: right;\">\n",
       "      <th></th>\n",
       "      <th>City</th>\n",
       "      <th>Company</th>\n",
       "      <th>Valuation ($B)</th>\n",
       "      <th>Date Joined</th>\n",
       "      <th>Country</th>\n",
       "      <th>Industry</th>\n",
       "      <th>Investor</th>\n",
       "      <th>Day_List</th>\n",
       "      <th>Year</th>\n",
       "    </tr>\n",
       "  </thead>\n",
       "  <tbody>\n",
       "    <tr>\n",
       "      <th>% nulos</th>\n",
       "      <td>35.13</td>\n",
       "      <td>0.0</td>\n",
       "      <td>0.0</td>\n",
       "      <td>0.0</td>\n",
       "      <td>0.0</td>\n",
       "      <td>0.0</td>\n",
       "      <td>0.0</td>\n",
       "      <td>0.0</td>\n",
       "      <td>0.0</td>\n",
       "    </tr>\n",
       "  </tbody>\n",
       "</table>\n",
       "</div>"
      ],
      "text/plain": [
       "          City  Company  Valuation ($B)  Date Joined  Country  Industry  \\\n",
       "% nulos  35.13      0.0             0.0          0.0      0.0       0.0   \n",
       "\n",
       "         Investor  Day_List  Year  \n",
       "% nulos       0.0       0.0   0.0  "
      ]
     },
     "execution_count": 575,
     "metadata": {},
     "output_type": "execute_result"
    }
   ],
   "source": [
    "# Calculamos e identificamos en que columna estan nuestros valores nulos:\n",
    "percentage_null(unicorns)"
   ]
  },
  {
   "cell_type": "markdown",
   "metadata": {},
   "source": [
    "Podemos ver que los valores nulos corresponden a la Ciudad  ya que los primeros años no presentaban esta información.\n",
    "\n",
    "Se proceder a reemplazar esos valores nulos por palabras así evitaremos futuros errores"
   ]
  },
  {
   "cell_type": "code",
   "execution_count": 576,
   "metadata": {},
   "outputs": [],
   "source": [
    "# Para la columna 'City' vamos a reemplazar por la pabra: 'no_data'\n",
    "unicorns['City'] = unicorns['City'].fillna('no_data')"
   ]
  },
  {
   "cell_type": "markdown",
   "metadata": {},
   "source": [
    "### Revisón final"
   ]
  },
  {
   "cell_type": "markdown",
   "metadata": {},
   "source": [
    "Listo ahora ya tenemos nuestro dataset listo para ser utilizado:"
   ]
  },
  {
   "cell_type": "code",
   "execution_count": 577,
   "metadata": {},
   "outputs": [
    {
     "name": "stdout",
     "output_type": "stream",
     "text": [
      "El df esta formado por:  5170 filas y 9 columnas\n",
      "Cantidad de valores duplicados:  0\n",
      "Cantidad de valores nulos:  0\n"
     ]
    }
   ],
   "source": [
    "reporte(unicorns)"
   ]
  },
  {
   "cell_type": "code",
   "execution_count": 578,
   "metadata": {},
   "outputs": [],
   "source": [
    "transform(unicorns)"
   ]
  },
  {
   "cell_type": "code",
   "execution_count": 579,
   "metadata": {},
   "outputs": [
    {
     "data": {
      "text/plain": [
       "Company                   object\n",
       "Valuation ($B)           float64\n",
       "Date Joined       datetime64[ns]\n",
       "Country                   object\n",
       "Industry                  object\n",
       "Investor                  object\n",
       "Day_List          datetime64[ns]\n",
       "Year                       int64\n",
       "City                      object\n",
       "dtype: object"
      ]
     },
     "execution_count": 579,
     "metadata": {},
     "output_type": "execute_result"
    }
   ],
   "source": [
    "unicorns.dtypes"
   ]
  },
  {
   "cell_type": "markdown",
   "metadata": {},
   "source": [
    "# 2. Análisis Exploratorio de Datos (EDA)"
   ]
  },
  {
   "cell_type": "markdown",
   "metadata": {},
   "source": [
    "***Contenido de las Columnas***:\n",
    "* Company: Nombre de la empresa\n",
    "* Valuation ($B): Valoración de la empresa en miles de millones de dólares\n",
    "* Date Joined: la fecha en la que la empresa alcanzó los 1.000 millones de dólares de valoración\n",
    "* Country: País en el que se fundó la empresa\n",
    "* Industry: industria de la empresa\n",
    "* Investor: las 4 principales empresas inversoras o inversores individuales (algunos tienen menos de 4)\n",
    "* Year: Año de la lista\n",
    "* City: Ciudad en la que se fundó la empresa."
   ]
  },
  {
   "cell_type": "code",
   "execution_count": 580,
   "metadata": {},
   "outputs": [
    {
     "data": {
      "text/html": [
       "<div>\n",
       "<style scoped>\n",
       "    .dataframe tbody tr th:only-of-type {\n",
       "        vertical-align: middle;\n",
       "    }\n",
       "\n",
       "    .dataframe tbody tr th {\n",
       "        vertical-align: top;\n",
       "    }\n",
       "\n",
       "    .dataframe thead th {\n",
       "        text-align: right;\n",
       "    }\n",
       "</style>\n",
       "<table border=\"1\" class=\"dataframe\">\n",
       "  <thead>\n",
       "    <tr style=\"text-align: right;\">\n",
       "      <th></th>\n",
       "      <th>Company</th>\n",
       "      <th>Valuation ($B)</th>\n",
       "      <th>Date Joined</th>\n",
       "      <th>Country</th>\n",
       "      <th>Industry</th>\n",
       "      <th>Investor</th>\n",
       "      <th>Day_List</th>\n",
       "      <th>Year</th>\n",
       "      <th>City</th>\n",
       "    </tr>\n",
       "  </thead>\n",
       "  <tbody>\n",
       "    <tr>\n",
       "      <th>0</th>\n",
       "      <td>Uber</td>\n",
       "      <td>51.0</td>\n",
       "      <td>2013-08-23</td>\n",
       "      <td>United States</td>\n",
       "      <td>On-Demand</td>\n",
       "      <td>Lowercase Capital,\\n\\t  Benchmark Capital, Goo...</td>\n",
       "      <td>2015-12-11</td>\n",
       "      <td>2015</td>\n",
       "      <td>no_data</td>\n",
       "    </tr>\n",
       "    <tr>\n",
       "      <th>1</th>\n",
       "      <td>Xiaomi</td>\n",
       "      <td>46.0</td>\n",
       "      <td>2011-12-21</td>\n",
       "      <td>China</td>\n",
       "      <td>Hardware</td>\n",
       "      <td>Digital Sky Technologies,\\n\\t  QiMing Venture ...</td>\n",
       "      <td>2015-12-11</td>\n",
       "      <td>2015</td>\n",
       "      <td>no_data</td>\n",
       "    </tr>\n",
       "    <tr>\n",
       "      <th>2</th>\n",
       "      <td>Airbnb</td>\n",
       "      <td>25.5</td>\n",
       "      <td>2011-07-26</td>\n",
       "      <td>United States</td>\n",
       "      <td>eCommerce/Marketplace</td>\n",
       "      <td>General Catalyst Partners,\\n\\t  Andreessen Hor...</td>\n",
       "      <td>2015-12-11</td>\n",
       "      <td>2015</td>\n",
       "      <td>no_data</td>\n",
       "    </tr>\n",
       "    <tr>\n",
       "      <th>3</th>\n",
       "      <td>Palantir\\n\\t  Technologies</td>\n",
       "      <td>20.0</td>\n",
       "      <td>2011-05-05</td>\n",
       "      <td>United States</td>\n",
       "      <td>Big Data</td>\n",
       "      <td>RRE Ventures, Founders\\n\\t  Fund, In-Q-Tel</td>\n",
       "      <td>2015-12-11</td>\n",
       "      <td>2015</td>\n",
       "      <td>no_data</td>\n",
       "    </tr>\n",
       "    <tr>\n",
       "      <th>4</th>\n",
       "      <td>Snapchat</td>\n",
       "      <td>16.0</td>\n",
       "      <td>2013-12-11</td>\n",
       "      <td>United States</td>\n",
       "      <td>Social</td>\n",
       "      <td>Benchmark Capital, General\\n\\t  Catalyst Partn...</td>\n",
       "      <td>2015-12-11</td>\n",
       "      <td>2015</td>\n",
       "      <td>no_data</td>\n",
       "    </tr>\n",
       "  </tbody>\n",
       "</table>\n",
       "</div>"
      ],
      "text/plain": [
       "                      Company  Valuation ($B) Date Joined        Country  \\\n",
       "0                        Uber            51.0  2013-08-23  United States   \n",
       "1                      Xiaomi            46.0  2011-12-21          China   \n",
       "2                      Airbnb            25.5  2011-07-26  United States   \n",
       "3  Palantir\\n\\t  Technologies            20.0  2011-05-05  United States   \n",
       "4                    Snapchat            16.0  2013-12-11  United States   \n",
       "\n",
       "                Industry                                           Investor  \\\n",
       "0              On-Demand  Lowercase Capital,\\n\\t  Benchmark Capital, Goo...   \n",
       "1               Hardware  Digital Sky Technologies,\\n\\t  QiMing Venture ...   \n",
       "2  eCommerce/Marketplace  General Catalyst Partners,\\n\\t  Andreessen Hor...   \n",
       "3               Big Data         RRE Ventures, Founders\\n\\t  Fund, In-Q-Tel   \n",
       "4                 Social  Benchmark Capital, General\\n\\t  Catalyst Partn...   \n",
       "\n",
       "    Day_List  Year     City  \n",
       "0 2015-12-11  2015  no_data  \n",
       "1 2015-12-11  2015  no_data  \n",
       "2 2015-12-11  2015  no_data  \n",
       "3 2015-12-11  2015  no_data  \n",
       "4 2015-12-11  2015  no_data  "
      ]
     },
     "execution_count": 580,
     "metadata": {},
     "output_type": "execute_result"
    }
   ],
   "source": [
    "unicorns.head()\n",
    " "
   ]
  },
  {
   "cell_type": "code",
   "execution_count": null,
   "metadata": {},
   "outputs": [],
   "source": []
  },
  {
   "cell_type": "markdown",
   "metadata": {},
   "source": [
    "## 2.1. Situación Actual"
   ]
  },
  {
   "cell_type": "markdown",
   "metadata": {},
   "source": [
    "### Top 10 de empresas unicornios\n"
   ]
  },
  {
   "cell_type": "code",
   "execution_count": 581,
   "metadata": {},
   "outputs": [
    {
     "data": {
      "text/html": [
       "<div>\n",
       "<style scoped>\n",
       "    .dataframe tbody tr th:only-of-type {\n",
       "        vertical-align: middle;\n",
       "    }\n",
       "\n",
       "    .dataframe tbody tr th {\n",
       "        vertical-align: top;\n",
       "    }\n",
       "\n",
       "    .dataframe thead th {\n",
       "        text-align: right;\n",
       "    }\n",
       "</style>\n",
       "<table border=\"1\" class=\"dataframe\">\n",
       "  <thead>\n",
       "    <tr style=\"text-align: right;\">\n",
       "      <th></th>\n",
       "      <th>Company</th>\n",
       "      <th>Valuation ($B)</th>\n",
       "      <th>Date Joined</th>\n",
       "      <th>Country</th>\n",
       "      <th>Industry</th>\n",
       "      <th>Investor</th>\n",
       "      <th>Day_List</th>\n",
       "      <th>Year</th>\n",
       "      <th>City</th>\n",
       "    </tr>\n",
       "  </thead>\n",
       "  <tbody>\n",
       "    <tr>\n",
       "      <th>0</th>\n",
       "      <td>ByteDance</td>\n",
       "      <td>225.0</td>\n",
       "      <td>2017-04-07</td>\n",
       "      <td>China</td>\n",
       "      <td>Media &amp; Entertainment</td>\n",
       "      <td>Sequoia Capital China, SIG Asia Investments, S...</td>\n",
       "      <td>2023-05-31</td>\n",
       "      <td>2023</td>\n",
       "      <td>Beijing</td>\n",
       "    </tr>\n",
       "    <tr>\n",
       "      <th>1</th>\n",
       "      <td>SpaceX</td>\n",
       "      <td>137.0</td>\n",
       "      <td>2012-12-01</td>\n",
       "      <td>United States</td>\n",
       "      <td>Industrials</td>\n",
       "      <td>Founders Fund, Draper Fisher Jurvetson, Rothen...</td>\n",
       "      <td>2023-05-31</td>\n",
       "      <td>2023</td>\n",
       "      <td>Hawthorne</td>\n",
       "    </tr>\n",
       "    <tr>\n",
       "      <th>2</th>\n",
       "      <td>SHEIN</td>\n",
       "      <td>100.0</td>\n",
       "      <td>2018-07-03</td>\n",
       "      <td>China</td>\n",
       "      <td>Consumer &amp; Retail</td>\n",
       "      <td>Tiger Global Management, Sequoia Capital China...</td>\n",
       "      <td>2023-05-31</td>\n",
       "      <td>2023</td>\n",
       "      <td>Shenzhen</td>\n",
       "    </tr>\n",
       "    <tr>\n",
       "      <th>3</th>\n",
       "      <td>Stripe</td>\n",
       "      <td>50.0</td>\n",
       "      <td>2014-01-23</td>\n",
       "      <td>United States</td>\n",
       "      <td>Financial Services</td>\n",
       "      <td>Khosla Ventures, LowercaseCapital, capitalG</td>\n",
       "      <td>2023-05-31</td>\n",
       "      <td>2023</td>\n",
       "      <td>San Francisco</td>\n",
       "    </tr>\n",
       "    <tr>\n",
       "      <th>4</th>\n",
       "      <td>Canva</td>\n",
       "      <td>40.0</td>\n",
       "      <td>2018-01-08</td>\n",
       "      <td>Australia</td>\n",
       "      <td>Enterprise Tech</td>\n",
       "      <td>Sequoia Capital China, Blackbird Ventures, Mat...</td>\n",
       "      <td>2023-05-31</td>\n",
       "      <td>2023</td>\n",
       "      <td>Surry Hills</td>\n",
       "    </tr>\n",
       "    <tr>\n",
       "      <th>5</th>\n",
       "      <td>Revolut</td>\n",
       "      <td>33.0</td>\n",
       "      <td>2018-04-26</td>\n",
       "      <td>United Kingdom</td>\n",
       "      <td>Financial Services</td>\n",
       "      <td>Index Ventures, DST Global, Ribbit Capital</td>\n",
       "      <td>2023-05-31</td>\n",
       "      <td>2023</td>\n",
       "      <td>London</td>\n",
       "    </tr>\n",
       "    <tr>\n",
       "      <th>6</th>\n",
       "      <td>Epic Games</td>\n",
       "      <td>31.5</td>\n",
       "      <td>2018-10-26</td>\n",
       "      <td>United States</td>\n",
       "      <td>Media &amp; Entertainment</td>\n",
       "      <td>Tencent Holdings, KKR, Smash Ventures</td>\n",
       "      <td>2023-05-31</td>\n",
       "      <td>2023</td>\n",
       "      <td>Cary</td>\n",
       "    </tr>\n",
       "    <tr>\n",
       "      <th>7</th>\n",
       "      <td>Databricks</td>\n",
       "      <td>31.0</td>\n",
       "      <td>2019-02-05</td>\n",
       "      <td>United States</td>\n",
       "      <td>Enterprise Tech</td>\n",
       "      <td>Andreessen Horowitz, New Enterprise Associates...</td>\n",
       "      <td>2023-05-31</td>\n",
       "      <td>2023</td>\n",
       "      <td>San Francisco</td>\n",
       "    </tr>\n",
       "    <tr>\n",
       "      <th>8</th>\n",
       "      <td>Fanatics</td>\n",
       "      <td>31.0</td>\n",
       "      <td>2012-06-06</td>\n",
       "      <td>United States</td>\n",
       "      <td>Consumer &amp; Retail</td>\n",
       "      <td>SoftBank Group, Andreessen Horowitz, Temasek H...</td>\n",
       "      <td>2023-05-31</td>\n",
       "      <td>2023</td>\n",
       "      <td>Jacksonville</td>\n",
       "    </tr>\n",
       "    <tr>\n",
       "      <th>9</th>\n",
       "      <td>OpenAI</td>\n",
       "      <td>29.0</td>\n",
       "      <td>2019-07-22</td>\n",
       "      <td>United States</td>\n",
       "      <td>Enterprise Tech</td>\n",
       "      <td>Khosla Ventures</td>\n",
       "      <td>2023-05-31</td>\n",
       "      <td>2023</td>\n",
       "      <td>San Francisco</td>\n",
       "    </tr>\n",
       "  </tbody>\n",
       "</table>\n",
       "</div>"
      ],
      "text/plain": [
       "      Company  Valuation ($B) Date Joined         Country  \\\n",
       "0   ByteDance           225.0  2017-04-07           China   \n",
       "1      SpaceX           137.0  2012-12-01   United States   \n",
       "2       SHEIN           100.0  2018-07-03           China   \n",
       "3      Stripe            50.0  2014-01-23   United States   \n",
       "4       Canva            40.0  2018-01-08       Australia   \n",
       "5     Revolut            33.0  2018-04-26  United Kingdom   \n",
       "6  Epic Games            31.5  2018-10-26   United States   \n",
       "7  Databricks            31.0  2019-02-05   United States   \n",
       "8    Fanatics            31.0  2012-06-06   United States   \n",
       "9      OpenAI            29.0  2019-07-22   United States   \n",
       "\n",
       "                Industry                                           Investor  \\\n",
       "0  Media & Entertainment  Sequoia Capital China, SIG Asia Investments, S...   \n",
       "1            Industrials  Founders Fund, Draper Fisher Jurvetson, Rothen...   \n",
       "2      Consumer & Retail  Tiger Global Management, Sequoia Capital China...   \n",
       "3     Financial Services        Khosla Ventures, LowercaseCapital, capitalG   \n",
       "4        Enterprise Tech  Sequoia Capital China, Blackbird Ventures, Mat...   \n",
       "5     Financial Services         Index Ventures, DST Global, Ribbit Capital   \n",
       "6  Media & Entertainment              Tencent Holdings, KKR, Smash Ventures   \n",
       "7        Enterprise Tech  Andreessen Horowitz, New Enterprise Associates...   \n",
       "8      Consumer & Retail  SoftBank Group, Andreessen Horowitz, Temasek H...   \n",
       "9        Enterprise Tech                                    Khosla Ventures   \n",
       "\n",
       "    Day_List  Year           City  \n",
       "0 2023-05-31  2023        Beijing  \n",
       "1 2023-05-31  2023      Hawthorne  \n",
       "2 2023-05-31  2023       Shenzhen  \n",
       "3 2023-05-31  2023  San Francisco  \n",
       "4 2023-05-31  2023    Surry Hills  \n",
       "5 2023-05-31  2023         London  \n",
       "6 2023-05-31  2023           Cary  \n",
       "7 2023-05-31  2023  San Francisco  \n",
       "8 2023-05-31  2023   Jacksonville  \n",
       "9 2023-05-31  2023  San Francisco  "
      ]
     },
     "execution_count": 581,
     "metadata": {},
     "output_type": "execute_result"
    }
   ],
   "source": [
    "top_10_2023 = unicorns[unicorns['Year']==2023].head(10)\n",
    "top_10_2023"
   ]
  },
  {
   "cell_type": "code",
   "execution_count": 582,
   "metadata": {},
   "outputs": [
    {
     "data": {
      "text/html": [
       "<div>\n",
       "<style scoped>\n",
       "    .dataframe tbody tr th:only-of-type {\n",
       "        vertical-align: middle;\n",
       "    }\n",
       "\n",
       "    .dataframe tbody tr th {\n",
       "        vertical-align: top;\n",
       "    }\n",
       "\n",
       "    .dataframe thead th {\n",
       "        text-align: right;\n",
       "    }\n",
       "</style>\n",
       "<table border=\"1\" class=\"dataframe\">\n",
       "  <thead>\n",
       "    <tr style=\"text-align: right;\">\n",
       "      <th></th>\n",
       "      <th>Company</th>\n",
       "      <th>Valuation ($B)</th>\n",
       "      <th>Date Joined</th>\n",
       "      <th>Country</th>\n",
       "      <th>Industry</th>\n",
       "      <th>Investor</th>\n",
       "      <th>Day_List</th>\n",
       "      <th>Year</th>\n",
       "      <th>City</th>\n",
       "    </tr>\n",
       "  </thead>\n",
       "  <tbody>\n",
       "  </tbody>\n",
       "</table>\n",
       "</div>"
      ],
      "text/plain": [
       "Empty DataFrame\n",
       "Columns: [Company, Valuation ($B), Date Joined, Country, Industry, Investor, Day_List, Year, City]\n",
       "Index: []"
      ]
     },
     "execution_count": 582,
     "metadata": {},
     "output_type": "execute_result"
    }
   ],
   "source": [
    "unicorns[unicorns['Company']== 'bard']"
   ]
  },
  {
   "cell_type": "markdown",
   "metadata": {},
   "source": []
  },
  {
   "cell_type": "code",
   "execution_count": 583,
   "metadata": {},
   "outputs": [],
   "source": [
    "df3333 = pd.read_csv('Unicorn+Companies/Unicorn_Companies.csv')"
   ]
  },
  {
   "cell_type": "markdown",
   "metadata": {},
   "source": [
    "### Qué inversores han financiado la mayor cantidad de unicornios? "
   ]
  },
  {
   "cell_type": "code",
   "execution_count": 584,
   "metadata": {},
   "outputs": [],
   "source": [
    "def obtener_inversores(df):\n",
    "    lista_inversores = []\n",
    "\n",
    "    for inversores in df['Investor']:\n",
    "        lista_inversores.extend(inversores.split(','))\n",
    "\n",
    "    lista_inversores = [inversor.strip() for inversor in lista_inversores]\n",
    "\n",
    "    return lista_inversores\n",
    "\n"
   ]
  },
  {
   "cell_type": "code",
   "execution_count": 585,
   "metadata": {},
   "outputs": [
    {
     "data": {
      "text/plain": [
       "14498"
      ]
     },
     "execution_count": 585,
     "metadata": {},
     "output_type": "execute_result"
    }
   ],
   "source": [
    "Investor = obtener_inversores(unicorns)\n",
    "len(Investor)"
   ]
  },
  {
   "cell_type": "code",
   "execution_count": 586,
   "metadata": {},
   "outputs": [
    {
     "data": {
      "text/plain": [
       "['Lowercase Capital',\n",
       " 'Benchmark Capital',\n",
       " 'Google Ventures',\n",
       " 'Digital Sky Technologies',\n",
       " 'QiMing Venture Partners',\n",
       " 'Qualcomm Ventures',\n",
       " 'General Catalyst Partners',\n",
       " 'Andreessen Horowitz',\n",
       " 'ENIAC Ventures',\n",
       " 'RRE Ventures',\n",
       " 'Founders\\n\\t  Fund',\n",
       " 'In-Q-Tel',\n",
       " 'Benchmark Capital',\n",
       " 'General\\n\\t  Catalyst Partners',\n",
       " 'Lightspeed Venture Partners',\n",
       " 'Accel Partners',\n",
       " 'Digital Sky\\n\\t  Technologies',\n",
       " 'Iconiq Capital',\n",
       " 'Matrix Partners',\n",
       " 'Tiger\\n\\t  Global Management',\n",
       " 'Softbank Corp.',\n",
       " '',\n",
       " 'Founders Fund',\n",
       " 'Draper\\n\\t  Fisher Jurvetson',\n",
       " 'Rothenberg Ventures',\n",
       " 'Andreessen Horowitz',\n",
       " 'Bessemer Venture Partners',\n",
       " 'Firstmark Capital',\n",
       " 'Accel Partners',\n",
       " 'Greylock\\n\\t  Partners',\n",
       " 'Index Ventures',\n",
       " 'Ping An Insurance',\n",
       " 'T. Rowe Price',\n",
       " 'Benchmark\\n\\t  Capital',\n",
       " 'Wellington Management',\n",
       " 'Accel Partners',\n",
       " 'Sequoia\\n\\t  Capital',\n",
       " 'Draper Fisher Jurvetson',\n",
       " 'Tako Ventures',\n",
       " 'ATA Ventures',\n",
       " 'Horizons Ventures',\n",
       " 'Norwest\\n\\t  Venture Partners',\n",
       " 'Technology Crossover Ventures',\n",
       " 'Sequoia Capital',\n",
       " 'General\\n\\t  Atlantic',\n",
       " 'Alibaba Group',\n",
       " 'New Enterprise Associates',\n",
       " 'New Leaf Venture Partners',\n",
       " 'Charter Venture Capital',\n",
       " 'Khosla Ventures',\n",
       " 'Lowercase\\n\\t  Capital',\n",
       " 'Redpoint Ventures',\n",
       " 'Accel Partners',\n",
       " 'Matrix\\n\\t  Partners',\n",
       " 'Sequoia Capital',\n",
       " 'Sequoia Capital',\n",
       " 'Founder\\n\\t  Collective',\n",
       " 'Wellington Management',\n",
       " 'SV Angel',\n",
       " 'Institutional Venture Partners',\n",
       " 'Venrock',\n",
       " 'Greylock Partners',\n",
       " 'Ignition\\n\\t  Partners',\n",
       " 'Google Ventures',\n",
       " 'QiMing Venture Partners',\n",
       " 'Lightspeed China Partners',\n",
       " 'Sequoia Capital',\n",
       " 'Technology Crossover\\n\\t  Ventures',\n",
       " 'A&E; Television Networks',\n",
       " 'Baseline Ventures',\n",
       " 'Doll\\n\\t  Capital Management',\n",
       " 'Institutional Venture Partners',\n",
       " 'Andreessen Horowitz',\n",
       " 'Nor-Cal Invest',\n",
       " 'Felicis Ventures',\n",
       " 'SV Angel',\n",
       " 'Founders Fund',\n",
       " 'Mayfield Fund',\n",
       " 'Khosla\\n\\t  Ventures',\n",
       " 'T-Venture',\n",
       " 'Rocket Internet',\n",
       " 'Phenomen\\n\\t  Ventures',\n",
       " 'Insight Venture Partners',\n",
       " 'Access Industries',\n",
       " 'Rocket Internet',\n",
       " 'Tengelmann Ventures',\n",
       " 'Insight Venture Partners',\n",
       " 'Andreessen Horowitz',\n",
       " 'Temasek Holdings',\n",
       " 'IDG Capital Partners',\n",
       " 'Breyer Capital',\n",
       " 'Columbia Capital',\n",
       " 'Founders Fund',\n",
       " 'Artis Ventures',\n",
       " 'Sequoia Capital China',\n",
       " 'GSR Ventures',\n",
       " 'Horizons Ventures',\n",
       " 'Ceyuan Ventures',\n",
       " 'QiMing\\n\\t  Venture Partners',\n",
       " 'Temasek Holdings',\n",
       " 'Accel Partners',\n",
       " 'Bessemer\\n\\t  Venture Partners',\n",
       " 'Ignition Partners',\n",
       " 'Flagship Ventures',\n",
       " 'Invus\\n\\t  Group',\n",
       " 'Wellington Management',\n",
       " 'Founders Fund',\n",
       " 'GGV Capital',\n",
       " 'Digital Sky Technologies',\n",
       " 'Rocket Internet',\n",
       " 'Phenomen Ventures',\n",
       " 'Insight Venture Partners',\n",
       " 'Google Ventures',\n",
       " 'Institutional Venture Partners',\n",
       " 'Index Ventures',\n",
       " 'Kleiner Perkins Caufield\\n\\t  & Byers',\n",
       " 'ATEL Ventures',\n",
       " 'DAG Ventures',\n",
       " 'Bright Station Ventures',\n",
       " 'Wellington Management',\n",
       " 'Intel Capital',\n",
       " 'Kalaari\\n\\t  Capital',\n",
       " 'Nexus Venture Partners',\n",
       " 'Founders Fund',\n",
       " 'Mayfield\\n\\t  Fund',\n",
       " 'Floodgate',\n",
       " 'Wellington Management',\n",
       " 'TomorrowVentures',\n",
       " 'Mastercard Worldwide',\n",
       " 'Felicis Ventures',\n",
       " 'Index\\n\\t  Ventures',\n",
       " 'Temasek Holdings',\n",
       " 'New Enterprise Associates',\n",
       " 'Sequoia Capital',\n",
       " 'Comcast Ventures',\n",
       " 'Institutional Venture\\n\\t  Partners',\n",
       " 'Sequoia Capital',\n",
       " 'General Atlantic',\n",
       " 'The Social+Capital\\n\\t  Partnership',\n",
       " 'TPG Capital',\n",
       " 'Google Capital',\n",
       " 'Salesforce Ventures',\n",
       " 'Morgenthaler Ventures',\n",
       " 'New Enterprise Associates',\n",
       " 'RRE Ventures',\n",
       " 'Tiger Global',\n",
       " 'August Capital',\n",
       " 'Verizon Communications',\n",
       " 'Celgene',\n",
       " 'Kuwait Investment Authority',\n",
       " 'Battery Ventures',\n",
       " 'Khosla Ventures',\n",
       " 'Wellington Management',\n",
       " 'Intel Capital',\n",
       " 'Sapphire\\n\\t  Ventures',\n",
       " 'Alibaba Group',\n",
       " 'Sequoia Capital',\n",
       " 'Thrive Capital',\n",
       " 'SV Angel',\n",
       " 'Institutional Venture\\n\\t  Partners',\n",
       " 'Benchmark Capital',\n",
       " 'Founders Fund',\n",
       " 'L Capital Partners',\n",
       " 'Khosla Ventures',\n",
       " 'Kleiner\\n\\t  Perkins Caufield & Byers',\n",
       " 'Collaborative Fund',\n",
       " 'Bessemer Venture Partners',\n",
       " 'First Round Capital',\n",
       " 'BoxGroup',\n",
       " 'Obvious Ventures',\n",
       " 'Qualcomm\\n\\t  Ventures',\n",
       " 'Andreessen Horowitz',\n",
       " 'Accel Partners',\n",
       " 'DAG\\n\\t  Ventures',\n",
       " 'Draper Fisher Jurvetson',\n",
       " 'Founders Fund',\n",
       " 'Khosla Ventures',\n",
       " 'Goldman Sachs',\n",
       " 'BoxGroup',\n",
       " 'Formation8',\n",
       " 'Khosla Ventures',\n",
       " 'General Catalyst Partners',\n",
       " 'Iconiq Capital',\n",
       " 'Lightspeed Venture Partners',\n",
       " 'Intel Capital',\n",
       " 'Salesforce\\n\\t  Ventures',\n",
       " 'Union Square Ventures',\n",
       " 'Accel Partners',\n",
       " 'Index Ventures',\n",
       " 'Insight Venture Partners',\n",
       " 'Microsoft Ventures',\n",
       " 'US\\n\\t  Venture Partners',\n",
       " 'Kleiner Perkins Caufield & Byers',\n",
       " 'Sequoia Capital',\n",
       " 'General Atlantic',\n",
       " 'Tencent',\n",
       " 'Morningside Group',\n",
       " 'New Enterprise Associates',\n",
       " 'Sapphire Ventures',\n",
       " 'Salesforce Ventures',\n",
       " 'SV Angel',\n",
       " 'RRE Ventures',\n",
       " 'New Enterprise Associates',\n",
       " 'Accel Partners',\n",
       " 'Thrive Capital',\n",
       " 'Norwest Venture Partners',\n",
       " 'Access Industries',\n",
       " 'Clal\\n\\t  Industries and Investments',\n",
       " 'New Enterprise Associates',\n",
       " 'Tiger Global management',\n",
       " 'Tencent',\n",
       " 'DAG Ventures',\n",
       " 'Sequoia\\n\\t  Capital',\n",
       " 'Benchmark Capital',\n",
       " 'Accomplice',\n",
       " 'GGV Capital',\n",
       " 'Redpoint Ventures',\n",
       " 'Empire Ventures',\n",
       " 'Foundational Capital',\n",
       " 'Oak Investment Partners',\n",
       " 'Tiger Global',\n",
       " 'Sequoia Capital',\n",
       " 'Google Capital',\n",
       " 'Tengelmann Ventures',\n",
       " 'Rocket\\n\\t  Internet',\n",
       " 'Summit Partners',\n",
       " 'Sequoia Capital',\n",
       " 'Legend Capital',\n",
       " 'Warburg Pincus',\n",
       " 'Khosla Ventures',\n",
       " 'Technology\\n\\t  Crossover Ventures',\n",
       " 'Tribeca Venture Partners',\n",
       " 'BoxGroup',\n",
       " 'Felicis Ventures',\n",
       " 'First Round Capital',\n",
       " 'Digital Sky Technologies',\n",
       " 'Piton Capital',\n",
       " 'DN Capital',\n",
       " 'TPG Growth',\n",
       " 'Andreessen Horowitz',\n",
       " 'Floodgate',\n",
       " 'Sequoia Capital',\n",
       " 'Azure Capital Partners',\n",
       " 'Battery Ventures',\n",
       " 'Intel Capital',\n",
       " 'Insight Venture Partners',\n",
       " 'Lowercase Capital',\n",
       " 'Polaris Partners',\n",
       " 'Bessemer Venture Partners',\n",
       " 'Draper Fisher Jurvetson',\n",
       " 'Redpoint Ventures',\n",
       " 'GreatPoint Ventures',\n",
       " 'New Enterprise Associates',\n",
       " 'Caterpillar',\n",
       " 'Andreessen Horowitz',\n",
       " 'CRV',\n",
       " 'Bertelsmann Digital Media Investments',\n",
       " 'Novartis',\n",
       " 'Essex Woodlands',\n",
       " 'The Carlyle Group',\n",
       " 'Greylock Partners',\n",
       " 'North\\n\\t  Bridge Venture Partners',\n",
       " 'Technology Crossover Ventures',\n",
       " 'Draper Fisher Jurtson',\n",
       " 'Qualcomm Ventures',\n",
       " 'Alibaba Group',\n",
       " 'Benchmark Capital',\n",
       " 'DAG\\n\\t  Ventures',\n",
       " 'Insight Venture Partners',\n",
       " 'Greylock Partners',\n",
       " 'Lightspeed Venture Partners',\n",
       " 'Lowercase Capital',\n",
       " 'GSV Capital',\n",
       " 'Norwest\\n\\t  Venture Partners',\n",
       " 'Pinnacle Ventures',\n",
       " 'Rocket Internet',\n",
       " 'JP Morgan Chase & Co.',\n",
       " 'Google Ventures',\n",
       " 'New Enterprise Associates',\n",
       " 'MPM Capital',\n",
       " 'Sequoia Capital China',\n",
       " 'Sina Weibo',\n",
       " 'Kleiner Perkins Caufield & Byers',\n",
       " 'Redpoint Ventures',\n",
       " 'IA Ventures',\n",
       " 'Index\\n\\t  Ventures',\n",
       " 'SV Angel',\n",
       " 'IDG Ventures',\n",
       " 'Kleiner\\n\\t  Perkins Caufield & Byers',\n",
       " 'Buran Venture Capital',\n",
       " 'Redpoint Ventures',\n",
       " 'QiMing Venture Partners',\n",
       " 'Chengwei Capital',\n",
       " 'New Enterprise Associates',\n",
       " 'Pelion Venture Partners',\n",
       " 'Union Square Ventures',\n",
       " 'Sequoia Capital',\n",
       " 'SoftTech\\n\\t  VC',\n",
       " 'Tiger Global Management',\n",
       " 'Accel Partners',\n",
       " 'Greylock\\n\\t  Partners',\n",
       " 'Lowercase Capital',\n",
       " 'Battery Ventures',\n",
       " 'Kleiner\\n\\t  Perkins Caufield & Byers',\n",
       " 'Institutional Venture Partners',\n",
       " 'Advent Venture Partners',\n",
       " 'Index Ventures',\n",
       " 'e.ventures',\n",
       " 'Accel Partners',\n",
       " 'Swisscom\\n\\t  Ventures',\n",
       " 'Meritech Capital Partners',\n",
       " 'Accel Partners',\n",
       " 'OMERS\\n\\t  Ventures',\n",
       " 'Insight Venture Partners',\n",
       " 'Intel Capital',\n",
       " 'Redpoint\\n\\t  Ventures',\n",
       " 'Pinnacle Ventures',\n",
       " 'Accel Partners',\n",
       " 'Index\\n\\t  Ventures',\n",
       " 'Ribbit Capital',\n",
       " 'GGV Capital',\n",
       " 'QiMing Venture Partnersl',\n",
       " 'Accel Partners',\n",
       " 'Intel\\n\\t  Capital',\n",
       " 'Broadline Capital',\n",
       " 'UBS',\n",
       " 'QiMing Venture Partners',\n",
       " 'Steam boat Ventures',\n",
       " 'Sequoia Capital',\n",
       " 'VY Capital',\n",
       " 'Matrix Partners',\n",
       " 'Passport\\n\\t  Capital',\n",
       " 'Rho Ventures',\n",
       " 'Accel Partners',\n",
       " 'Insight\\n\\t  Venture Partners',\n",
       " 'Sequoia Capital',\n",
       " 'IDG Capital Partners',\n",
       " 'QiMing Venture Partners',\n",
       " 'Banyan Capital',\n",
       " 'Data Collective',\n",
       " 'Formation\\n\\t  8',\n",
       " 'Feneral Catalyst Partners',\n",
       " 'GGV Capital',\n",
       " 'Vertex Venture\\n\\t  Holdings',\n",
       " 'Softbank Corp.',\n",
       " 'Banyan Capital',\n",
       " 'New Horizon\\n\\t  Capital',\n",
       " 'IDG Capital Partners',\n",
       " 'WI Harper Group',\n",
       " 'Fang Fund Partners',\n",
       " 'NewMarging Ventures',\n",
       " 'Formation 8',\n",
       " 'Felicis Ventures',\n",
       " 'Iconiq\\n\\t  Capital',\n",
       " 'Insight Venture Partners',\n",
       " 'Tiger Global Management',\n",
       " 'Norwest Venture Partners',\n",
       " 'Kleiner Perkins Caufield\\n\\t  & Byers',\n",
       " 'Softbank Corp.',\n",
       " 'Sherpalo Ventures',\n",
       " 'Morningside Group',\n",
       " 'GGV Capital',\n",
       " 'Banyan Capital',\n",
       " 'Summit Partners',\n",
       " 'CVC Capital Partners',\n",
       " 'Sequoia Capital',\n",
       " 'Tenaya Capital',\n",
       " 'Northgate Capital',\n",
       " 'Battery Ventures',\n",
       " 'Iconiq Capital',\n",
       " 'T. Rowe Price',\n",
       " 'Pentech Ventures',\n",
       " 'Bullpen Capital',\n",
       " 'KKR',\n",
       " 'GSO Capital Partners',\n",
       " 'Franklin Square',\n",
       " 'TPG Growth',\n",
       " 'Lightspeed Venture Partners',\n",
       " 'Accel Partners',\n",
       " 'Comcast Ventures',\n",
       " 'General Atlantic',\n",
       " 'Union Square Ventures',\n",
       " 'RRE Ventures',\n",
       " 'Spark Capital',\n",
       " 'Sequoia Capital',\n",
       " 'TPG capital',\n",
       " 'Accel Partners',\n",
       " 'Google Ventures',\n",
       " 'Sequoia Capital',\n",
       " 'Wakefield Group',\n",
       " 'Iconiq Capital',\n",
       " 'K1 Capital',\n",
       " 'Salesforce Ventures',\n",
       " 'Foundry Group',\n",
       " 'iNovia Capital',\n",
       " 'StarVest Partners',\n",
       " 'BlueRun Ventures',\n",
       " 'SV Angel',\n",
       " 'Mohr Davidow Ventures',\n",
       " 'Technology Crossover Ventures',\n",
       " 'General Catalyst Partners',\n",
       " 'QiMing Venture Partners',\n",
       " 'Temasek Holdings',\n",
       " 'Silverlink Capital',\n",
       " 'Lowercase Capital',\n",
       " 'Benchmark Capital',\n",
       " 'Google Ventures',\n",
       " 'Digital Sky Technologies',\n",
       " 'QiMing Venture Partners',\n",
       " 'Qualcomm Ventures',\n",
       " 'Matrix Partners',\n",
       " 'Tiger\\n\\t  Global Management',\n",
       " 'Softbank Corp.',\n",
       " '',\n",
       " 'General Catalyst Partners',\n",
       " 'Andreessen Horowitz',\n",
       " 'ENIAC Ventures',\n",
       " 'RRE Ventures',\n",
       " 'Founders\\n\\t  Fund',\n",
       " 'In-Q-Tel',\n",
       " 'Ping An Insurance CDH Investments',\n",
       " 'Bank of China',\n",
       " 'DST Global',\n",
       " 'Trustbridge Partners',\n",
       " 'Capital Today',\n",
       " 'Benchmark Capital',\n",
       " 'General\\n\\t  Catalyst Partners',\n",
       " 'Lightspeed Venture Partners',\n",
       " 'T. Rowe Price',\n",
       " 'Benchmark\\n\\t  Capital',\n",
       " 'Wellington Management',\n",
       " 'Accel Partners',\n",
       " 'Digital Sky\\n\\t  Technologies',\n",
       " 'Iconiq Capital',\n",
       " 'Founders Fund',\n",
       " 'Draper\\n\\t  Fisher Jurvetson',\n",
       " 'Rothenberg Ventures',\n",
       " 'Andreessen Horowitz',\n",
       " 'Bessemer Venture Partners',\n",
       " 'Firstmark Capital',\n",
       " 'Accel Partners',\n",
       " 'Greylock\\n\\t  Partners',\n",
       " 'Index Ventures',\n",
       " 'Blackstone Group',\n",
       " 'Koch Industries',\n",
       " 'Accel Partners',\n",
       " 'Sequoia\\n\\t  Capital',\n",
       " 'Khosla Ventures',\n",
       " 'Lowercase\\n\\t  Capital',\n",
       " 'capitalG',\n",
       " 'Horizons Ventures',\n",
       " 'Norwest\\n\\t  Venture Partners',\n",
       " 'Technology Crossover Ventures',\n",
       " 'SAIF partners',\n",
       " 'CDH Investments',\n",
       " 'Morgan Stanley',\n",
       " 'Intel Capital',\n",
       " 'Kalaari\\n\\t  Capital',\n",
       " 'Nexus Venture Partners',\n",
       " 'Tencent',\n",
       " 'Baidu',\n",
       " 'Huasheng Capital',\n",
       " 'Aviation Industry Corporation of China',\n",
       " 'Essence Financial',\n",
       " 'Jiangsu Sha Steel Group',\n",
       " 'Founders Fund',\n",
       " 'Mayfield\\n\\t  Fund',\n",
       " 'Floodgate',\n",
       " 'New Enterprise Associates',\n",
       " 'New Leaf Venture Partners',\n",
       " 'Charter Venture Capital',\n",
       " 'Accel Partners',\n",
       " 'Matrix\\n\\t  Partners',\n",
       " 'Sequoia Capital',\n",
       " 'Sequoia Capital',\n",
       " 'Founder\\n\\t  Collective',\n",
       " 'Wellington Management',\n",
       " 'Intel Capital',\n",
       " 'Sapphire\\n\\t  Ventures',\n",
       " 'Alibaba Group',\n",
       " 'Sequoia Capital China',\n",
       " 'GSR Ventures',\n",
       " 'Horizons Ventures',\n",
       " 'Obvious Ventures',\n",
       " 'Qualcomm\\n\\t  Ventures',\n",
       " 'Andreessen Horowitz',\n",
       " 'Greylock Partners',\n",
       " 'Ignition\\n\\t  Partners',\n",
       " 'Google Ventures',\n",
       " 'Formation 8',\n",
       " 'Technology Crossover\\n\\t  Ventures',\n",
       " 'A&E; Television Networks',\n",
       " 'Baseline Ventures',\n",
       " 'Doll\\n\\t  Capital Management',\n",
       " 'Institutional Venture Partners',\n",
       " 'Google Ventures',\n",
       " 'Institutional Venture Partners',\n",
       " 'Index Ventures',\n",
       " 'Keytone Ventures',\n",
       " 'Khazanah Nasional Berhad',\n",
       " 'General Atlantic',\n",
       " 'Andreessen Horowitz',\n",
       " 'Nor-Cal Invest',\n",
       " 'Felicis Ventures',\n",
       " 'SV Angel',\n",
       " 'Founders Fund',\n",
       " 'Rocket Internet',\n",
       " 'Phenomen\\n\\t  Ventures',\n",
       " 'Insight Venture Partners',\n",
       " 'Insight Venture Partners',\n",
       " 'Andreessen Horowitz',\n",
       " 'Temasek Holdings',\n",
       " 'Warmsun Holding',\n",
       " 'IDG Capital Partners',\n",
       " 'Ceyuan Ventures',\n",
       " 'QiMing\\n\\t  Venture Partners',\n",
       " 'Temasek Holdings',\n",
       " 'Accel Partners',\n",
       " 'Bessemer\\n\\t  Venture Partners',\n",
       " 'Ignition Partners',\n",
       " 'GGV Capital',\n",
       " 'Vertex Venture\\n\\t  Holdings',\n",
       " 'Softbank Corp.',\n",
       " 'Flagship Ventures',\n",
       " 'Invus\\n\\t  Group',\n",
       " 'Wellington Management',\n",
       " 'Founders Fund',\n",
       " 'GGV Capital',\n",
       " 'Digital Sky Technologies',\n",
       " 'Ford Motor Company',\n",
       " 'General Electric',\n",
       " 'Microsoft',\n",
       " 'BoxGroup',\n",
       " 'Formation8',\n",
       " 'Khosla Ventures',\n",
       " 'Kleiner Perkins Caufield\\n\\t  & Byers',\n",
       " 'ATEL Ventures',\n",
       " 'DAG Ventures',\n",
       " 'Wellington Management',\n",
       " 'TomorrowVentures',\n",
       " 'Mastercard Worldwide',\n",
       " 'Felicis Ventures',\n",
       " 'Index\\n\\t  Ventures',\n",
       " 'Temasek Holdings',\n",
       " 'New Enterprise Associates',\n",
       " 'Sequoia Capital',\n",
       " 'Comcast Ventures',\n",
       " 'Institutional Venture\\n\\t  Partners',\n",
       " 'Sequoia Capital',\n",
       " 'General Atlantic',\n",
       " 'Rocket Internet',\n",
       " 'Phenomen Ventures',\n",
       " 'Insight Venture Partners',\n",
       " 'The Social+Capital\\n\\t  Partnership',\n",
       " 'TPG Capital',\n",
       " 'Google Capital',\n",
       " 'Zheshang Venture Capital',\n",
       " 'GP Capital',\n",
       " 'Western Capital Management',\n",
       " 'SV Angel',\n",
       " 'Institutional Venture Partners',\n",
       " 'Venrock',\n",
       " 'DST Global',\n",
       " 'QED Investors',\n",
       " 'TPG Capital',\n",
       " 'RRE Ventures',\n",
       " 'Tiger Global',\n",
       " 'August Capital',\n",
       " 'Sequoia Capital',\n",
       " 'Thrive Capital',\n",
       " 'SV Angel',\n",
       " 'Institutional Venture\\n\\t  Partners',\n",
       " 'Benchmark Capital',\n",
       " 'Founders Fund',\n",
       " 'L Capital Partners',\n",
       " 'Tencent',\n",
       " 'iDreamSky Technology',\n",
       " 'GGV Capital',\n",
       " 'Khosla Ventures',\n",
       " 'Kleiner\\n\\t  Perkins Caufield & Byers',\n",
       " 'Collaborative Fund',\n",
       " 'Bessemer Venture Partners',\n",
       " 'First Round Capital',\n",
       " 'BoxGroup',\n",
       " 'Accel Partners',\n",
       " 'DAG\\n\\t  Ventures',\n",
       " 'Draper Fisher Jurvetson',\n",
       " 'Battery Ventures',\n",
       " 'Kleiner\\n\\t  Perkins Caufield & Byers',\n",
       " 'Institutional Venture Partners',\n",
       " 'Founders Fund',\n",
       " 'Khosla Ventures',\n",
       " 'Goldman Sachs',\n",
       " 'Azure Capital Partners',\n",
       " 'Battery Ventures',\n",
       " 'Intel Capital',\n",
       " 'Tencent',\n",
       " 'General Catalyst Partners',\n",
       " 'Iconiq Capital',\n",
       " 'Lightspeed Venture Partners',\n",
       " 'SV Angel',\n",
       " 'RRE Ventures',\n",
       " 'New Enterprise Associates',\n",
       " 'Northview Ventures',\n",
       " 'dievini Hopp BioTech Holding & Co.m Baillie Gifford & Co.',\n",
       " 'Intel Capital',\n",
       " 'Salesforce\\n\\t  Ventures',\n",
       " 'Union Square Ventures',\n",
       " 'Accel Partners',\n",
       " 'Index Ventures',\n",
       " 'Insight Venture Partners',\n",
       " 'China Continent Property & Casualty Insurance',\n",
       " 'China Renaissance Capital Investment',\n",
       " 'China Taiping Life Insurance',\n",
       " 'Delphi Automotive',\n",
       " 'Samsung Ventures',\n",
       " 'Motus Ventures',\n",
       " 'IFC',\n",
       " 'Ajinomoto',\n",
       " 'AID Partners',\n",
       " 'Draper Fisher Jurvetson',\n",
       " 'Illumina',\n",
       " 'Invesco Perpetual',\n",
       " 'IP Group',\n",
       " 'Microsoft Ventures',\n",
       " 'US\\n\\t  Venture Partners',\n",
       " 'Kleiner Perkins Caufield & Byers',\n",
       " 'Sequoia Capital',\n",
       " 'General Atlantic',\n",
       " 'Tencent',\n",
       " 'TPG Growth',\n",
       " 'Hony Capital',\n",
       " 'Mayfield Fund',\n",
       " 'Khosla\\n\\t  Ventures',\n",
       " 'T-Venture',\n",
       " 'Tencent',\n",
       " 'Morningside Group',\n",
       " 'Advent Venture Partners',\n",
       " 'Index Ventures',\n",
       " 'e.ventures',\n",
       " 'Accel Partners',\n",
       " 'Intel\\n\\t  Capital',\n",
       " 'New Enterprise Associates',\n",
       " 'Sapphire Ventures',\n",
       " 'Salesforce Ventures',\n",
       " 'Jay-Z',\n",
       " 'Saudi Royal Family',\n",
       " 'Jet Edge',\n",
       " 'Access Industries',\n",
       " 'Clal\\n\\t  Industries and Investments',\n",
       " 'Sequoia Capital',\n",
       " 'iGlobe Partners',\n",
       " 'DFJ Growth',\n",
       " 'New Enterprise Associates',\n",
       " 'Tiger Global management',\n",
       " 'Tencent',\n",
       " 'Foxconn',\n",
       " 'Tiger Global management',\n",
       " 'Tencent',\n",
       " 'Accomplice',\n",
       " 'GGV Capital',\n",
       " 'Redpoint Ventures',\n",
       " 'Empire Ventures',\n",
       " 'Foundational Capital',\n",
       " 'Oak Investment Partners',\n",
       " 'Iconiq Capital',\n",
       " 'K1 Capital',\n",
       " 'Salesforce Ventures',\n",
       " 'Formation Group',\n",
       " 'Sequoia Capital India',\n",
       " 'Warburg Pincus',\n",
       " 'Tiger Global',\n",
       " 'Sequoia Capital',\n",
       " 'Google Capital',\n",
       " 'Stone Point Capital',\n",
       " 'Google Capital',\n",
       " 'Roche Venture Fund',\n",
       " 'Google Ventures',\n",
       " 'Social Capital',\n",
       " 'Khosla Ventures',\n",
       " 'Technology\\n\\t  Crossover Ventures',\n",
       " 'Tribeca Venture Partners',\n",
       " 'BoxGroup',\n",
       " 'Felicis Ventures',\n",
       " 'First Round Capital',\n",
       " 'Digital Sky Technologies',\n",
       " 'Piton Capital',\n",
       " 'DN Capital',\n",
       " 'Celgene',\n",
       " 'GE Ventures',\n",
       " 'Draper Fisher Jurvetson',\n",
       " 'TPG Growth',\n",
       " 'Andreessen Horowitz',\n",
       " 'Floodgate',\n",
       " 'Sequoia Capital',\n",
       " 'Andreessen Horowitz',\n",
       " 'GGV Capital',\n",
       " 'T. Rowe Price',\n",
       " 'Insight Venture Partners',\n",
       " 'Lowercase Capital',\n",
       " 'Polaris Partners',\n",
       " 'Access Industries',\n",
       " 'Rocket Internet',\n",
       " 'Tengelmann Ventures',\n",
       " 'Nexus Venture Partners',\n",
       " 'GIC Special Investments',\n",
       " 'Tiger Global Management',\n",
       " 'GreatPoint Ventures',\n",
       " 'New Enterprise Associates',\n",
       " 'Caterpillar',\n",
       " 'Novartis',\n",
       " 'Essex Woodlands',\n",
       " 'The Carlyle Group',\n",
       " 'Greylock Partners',\n",
       " 'North\\n\\t  Bridge Venture Partners',\n",
       " 'Technology Crossover Ventures',\n",
       " 'Draper Fisher Jurtson',\n",
       " 'Qualcomm Ventures',\n",
       " 'Alibaba Group',\n",
       " 'Benchmark Capital',\n",
       " 'DAG\\n\\t  Ventures',\n",
       " 'Insight Venture Partners',\n",
       " 'IA Ventures',\n",
       " 'Index\\n\\t  Ventures',\n",
       " 'SV Angel',\n",
       " 'Google Ventures',\n",
       " 'New Enterprise Associates',\n",
       " 'MPM Capital',\n",
       " 'Kohlberg Kravis Roberts & Co.',\n",
       " 'TowerBrook Capital Partners',\n",
       " 'Shasta Ventures',\n",
       " 'Granite Ventures',\n",
       " 'DFJ Growth Fund',\n",
       " 'Sequoia Capital China',\n",
       " 'Rich Land Capital',\n",
       " 'Merrysunny Wealth',\n",
       " 'AXA',\n",
       " 'Foundry Group',\n",
       " 'iNovia Capital',\n",
       " 'StarVest Partners',\n",
       " 'Berkshire Partners',\n",
       " 'Norwest Venture Partners',\n",
       " 'Tencent Holdings',\n",
       " 'DCM Ventures',\n",
       " 'All-Stars Investment',\n",
       " 'STC Ventures',\n",
       " 'Al Tayyar Travel Group',\n",
       " 'Wamda Capital',\n",
       " 'Norwest Venture Partners',\n",
       " 'New Enterprise Associates',\n",
       " 'Khosla Ventures',\n",
       " 'Andreessen Horowitz',\n",
       " 'CRV',\n",
       " 'Bertelsmann Digital Media Investments',\n",
       " 'China Mobile',\n",
       " 'Matrix Partners China',\n",
       " 'Warbug Pincus',\n",
       " 'Eight Roads Ventures',\n",
       " 'Sunstone Capital',\n",
       " 'Connor Venture Capital',\n",
       " 'Sequoia Capital China',\n",
       " 'Sina Weibo',\n",
       " 'Kleiner Perkins Caufield & Byers',\n",
       " 'Redpoint Ventures',\n",
       " 'Sequoia Capital',\n",
       " 'IDG Ventures',\n",
       " 'Kleiner\\n\\t  Perkins Caufield & Byers',\n",
       " 'Buran Venture Capital',\n",
       " 'Redpoint Ventures',\n",
       " 'QiMing Venture Partners',\n",
       " 'Chengwei Capital',\n",
       " 'Greylock Partners',\n",
       " 'Lightspeed Venture Partners',\n",
       " 'Lowercase Capital',\n",
       " 'New Enterprise Associates',\n",
       " 'Pelion Venture Partners',\n",
       " 'Union Square Ventures',\n",
       " 'Sequoia Capital',\n",
       " 'SoftTech\\n\\t  VC',\n",
       " 'Tiger Global Management',\n",
       " 'Bessemer Venture Partners',\n",
       " \"O'Connor Ventures\",\n",
       " 'Iconiq Capital',\n",
       " 'Accel Partners',\n",
       " 'Greylock\\n\\t  Partners',\n",
       " 'Lowercase Capital',\n",
       " 'Accel Partners',\n",
       " 'Swisscom\\n\\t  Ventures',\n",
       " 'Meritech Capital Partners',\n",
       " 'Accel Partners',\n",
       " 'OMERS\\n\\t  Ventures',\n",
       " 'Insight Venture Partners',\n",
       " 'Accel Partners',\n",
       " 'Index\\n\\t  Ventures',\n",
       " 'Ribbit Capital',\n",
       " 'GGV Capital',\n",
       " 'QiMing Venture Partnersl',\n",
       " 'Broadline Capital',\n",
       " 'UBS',\n",
       " 'QiMing Venture Partners',\n",
       " 'Steam boat Ventures',\n",
       " 'Sequoia Capital',\n",
       " 'VY Capital',\n",
       " 'Matrix Partners',\n",
       " 'Passport\\n\\t  Capital',\n",
       " 'Rho Ventures',\n",
       " 'Accel Partners',\n",
       " 'Insight\\n\\t  Venture Partners',\n",
       " 'Sequoia Capital',\n",
       " 'IDG Capital Partners',\n",
       " 'QiMing Venture Partners',\n",
       " 'Banyan Capital',\n",
       " 'Data Collective',\n",
       " 'Formation\\n\\t  8',\n",
       " 'General Catalyst Partners',\n",
       " 'Banyan Capital',\n",
       " 'New Horizon\\n\\t  Capital',\n",
       " 'IDG Capital Partners',\n",
       " 'WI Harper Group',\n",
       " 'Fang Fund Partners',\n",
       " 'NewMarging Ventures',\n",
       " 'Kleiner Perkins Caufield\\n\\t  & Byers',\n",
       " 'Softbank Corp.',\n",
       " 'Sherpalo Ventures',\n",
       " 'Morningside Group',\n",
       " 'GGV Capital',\n",
       " 'Banyan Capital',\n",
       " 'Summit Partners',\n",
       " 'CVC Capital Partners',\n",
       " 'Sequoia Capital',\n",
       " 'Tenaya Capital',\n",
       " 'Northgate Capital',\n",
       " 'Pentech Ventures',\n",
       " 'Bullpen Capital',\n",
       " 'KKR',\n",
       " 'GSO  Square',\n",
       " 'Accel Partners',\n",
       " 'Comcast Ventures',\n",
       " 'General Atlantic',\n",
       " 'Union Square Ventures',\n",
       " 'RRE Ventures',\n",
       " 'Spark Capital',\n",
       " 'Sequoia Capital',\n",
       " 'TPG capital',\n",
       " 'Accel Partners',\n",
       " 'Google Ventures',\n",
       " 'Sequoia Capital',\n",
       " 'Wakefield Group',\n",
       " 'BlueRun Ventures',\n",
       " 'SV Angel',\n",
       " 'Mohr Davidow Ventures',\n",
       " 'Technology Crossover Ventures',\n",
       " 'General Catalyst Partners',\n",
       " 'QiMing Venture Partners',\n",
       " 'Temasek Holdings',\n",
       " 'Silverlink Capital',\n",
       " 'General Catalyst Partners',\n",
       " 'Google Ventures',\n",
       " 'Kleiner Perkins Caufield & Byers',\n",
       " 'Guo Jin Capital',\n",
       " 'Alpha Animation & Culture',\n",
       " 'Sequoia Capital China',\n",
       " 'DST',\n",
       " 'Greenwoods Asset Management',\n",
       " 'Sequoia Capital China',\n",
       " 'Sailing Capital',\n",
       " 'Star VC',\n",
       " 'Hinduja Group',\n",
       " 'Tiger Global Management',\n",
       " 'Naspers',\n",
       " 'Baillie Gifford & Co.',\n",
       " 'East Ventures',\n",
       " 'Global Brain Corporation',\n",
       " 'ITOCHU Technology Ventures',\n",
       " 'Sequoia Capital China',\n",
       " 'ZhenFund',\n",
       " 'K2 Ventures',\n",
       " 'GGV Capital',\n",
       " 'ZhenFund',\n",
       " 'Tencent',\n",
       " 'Tencent',\n",
       " 'Vcanbio',\n",
       " 'Iconiq Capital',\n",
       " 'T. Rowe Price',\n",
       " 'Battery Ventures',\n",
       " 'Tiger Global Management',\n",
       " 'In-Q-Tel',\n",
       " 'Dell Ventures',\n",
       " 'Blackstone Group',\n",
       " 'Goldman Sachs',\n",
       " 'Insights Venture Partners',\n",
       " 'Pritzker Group Venture Capital',\n",
       " 'Woodford Investment Management',\n",
       " 'Warburg Pincus',\n",
       " 'Aviation Industry Corporation of China',\n",
       " 'CDH Investments',\n",
       " 'Goldstone Investments',\n",
       " 'Qiming Venture Partners',\n",
       " 'Index',\n",
       " 'DST Global',\n",
       " 'Accel Partners',\n",
       " 'Founders Fund',\n",
       " 'Thrive Capital',\n",
       " 'Wellington Management',\n",
       " 'Sequoia Capital China',\n",
       " 'GX Capital',\n",
       " 'GGV Capital',\n",
       " 'JD.com',\n",
       " 'Meridian Capital China',\n",
       " 'Lowercase Capital',\n",
       " 'Benchmark Capital',\n",
       " 'Google Ventures',\n",
       " 'Matrix Partners',\n",
       " 'Tiger\\n\\t  Global Management',\n",
       " 'Softbank Corp.',\n",
       " '',\n",
       " 'Digital Sky Technologies',\n",
       " 'QiMing Venture Partners',\n",
       " 'Qualcomm Ventures',\n",
       " 'DST Global',\n",
       " 'Trustbridge Partners',\n",
       " 'Capital Today',\n",
       " 'General Catalyst Partners',\n",
       " 'Andreessen Horowitz',\n",
       " 'ENIAC Ventures',\n",
       " 'Founders Fund',\n",
       " 'Draper\\n\\t  Fisher Jurvetson',\n",
       " 'Rothenberg Ventures',\n",
       " 'RRE Ventures',\n",
       " 'Founders\\n\\t  Fund',\n",
       " 'In-Q-Tel',\n",
       " 'T. Rowe Price',\n",
       " 'Benchmark\\n\\t  Capital',\n",
       " 'SoftBank Group',\n",
       " 'Ping An Insurance CDH Investments',\n",
       " 'Bank of China',\n",
       " 'Andreessen Horowitz',\n",
       " 'Bessemer Venture Partners',\n",
       " 'Firstmark Capital',\n",
       " 'Accel Partners',\n",
       " 'SoftBank Group',\n",
       " 'Iconiq Capital',\n",
       " 'Founders Fund',\n",
       " 'Mayfield\\n\\t  Fund',\n",
       " 'capitalG',\n",
       " 'Sequoia Capital China',\n",
       " 'SIG Asia Investments',\n",
       " 'Sina Weibo',\n",
       " 'Accel Partners',\n",
       " 'Greylock\\n\\t  Partners',\n",
       " 'Index Ventures',\n",
       " 'Blackstone Group',\n",
       " 'Koch Industries',\n",
       " 'Accel Partners',\n",
       " 'Sequoia\\n\\t  Capital',\n",
       " 'Khosla Ventures',\n",
       " 'Lowercase\\n\\t  Capital',\n",
       " 'capitalG',\n",
       " 'Horizons Ventures',\n",
       " 'Norwest\\n\\t  Venture Partners',\n",
       " 'Technology Crossover Ventures',\n",
       " 'SoftBankGroup',\n",
       " 'Blackrock',\n",
       " 'Alibaba Group',\n",
       " 'Aviation Industry Corporation of China',\n",
       " 'Essence Financial',\n",
       " 'Jiangsu Sha Steel Group',\n",
       " 'GGV Capital',\n",
       " 'Vertex Venture\\n\\t  Holdings',\n",
       " 'Softbank Group',\n",
       " 'Tencent',\n",
       " 'Baidu',\n",
       " 'Huasheng Capital',\n",
       " 'Intel Capital',\n",
       " 'Sapphire\\n\\t  Ventures',\n",
       " 'Alibaba Group',\n",
       " 'Technology Crossover Ventures',\n",
       " 'A&E; Television Networks',\n",
       " 'New Enterprise Associates',\n",
       " 'New Leaf Venture Partners',\n",
       " 'Charter Venture Capital',\n",
       " 'Sequoia Capital China',\n",
       " 'Alibaba Group',\n",
       " 'Horizons Ventures',\n",
       " 'Google Ventures',\n",
       " 'Institutional Venture Partners',\n",
       " 'Index Ventures',\n",
       " 'Goldman Sachs',\n",
       " 'capitalG',\n",
       " 'Pritzker Group Venture Capital',\n",
       " 'China Life Insurance',\n",
       " 'China Development Bank Capital',\n",
       " 'CITIC Securities International',\n",
       " 'Sequoia Capital',\n",
       " 'Founder\\n\\t  Collective',\n",
       " 'Wellington Management',\n",
       " 'Baidu Venture Capital',\n",
       " 'Capital Today',\n",
       " 'GIC',\n",
       " 'Obvious Ventures',\n",
       " ...]"
      ]
     },
     "execution_count": 586,
     "metadata": {},
     "output_type": "execute_result"
    }
   ],
   "source": [
    "Investor"
   ]
  },
  {
   "cell_type": "markdown",
   "metadata": {},
   "source": [
    "### Países con más unicornios"
   ]
  },
  {
   "cell_type": "markdown",
   "metadata": {},
   "source": [
    "aca hacer  un mapa porque el de P.BI no me gusta"
   ]
  },
  {
   "cell_type": "code",
   "execution_count": 587,
   "metadata": {},
   "outputs": [],
   "source": [
    "datos2023 = unicorns[unicorns['Year']==2023]"
   ]
  },
  {
   "cell_type": "code",
   "execution_count": 588,
   "metadata": {},
   "outputs": [
    {
     "data": {
      "text/plain": [
       "array(['China', 'United States', 'Australia', 'United Kingdom',\n",
       "       'Indonesia', 'Germany', 'India', 'Hong Kong', 'Israel',\n",
       "       'Seychelles', 'Sweden', 'Turkey', 'Mexico', 'Estonia', 'Canada',\n",
       "       'South Korea', 'Netherlands', 'France', 'Finland', 'Colombia',\n",
       "       'Belgium', 'Brazil', 'Denmark', 'Switzerland', 'Lithuania',\n",
       "       'Austria', 'Ireland', 'Singapore', 'Vietnam',\n",
       "       'United Arab Emirates', 'Argentina', 'Spain', 'Greece', 'Japan',\n",
       "       'Luxembourg', 'Nigeria', 'Croatia', 'Senegal', 'Malaysia',\n",
       "       'Bermuda', 'South Africa', 'Norway', 'Ecuador', 'Chile',\n",
       "       'Thailand', 'Czech Republic', 'Egypt', 'Liechtenstein', 'Italy',\n",
       "       'Philippines', 'London'], dtype=object)"
      ]
     },
     "execution_count": 588,
     "metadata": {},
     "output_type": "execute_result"
    }
   ],
   "source": [
    "datos2023['Country'].unique()"
   ]
  },
  {
   "cell_type": "code",
   "execution_count": null,
   "metadata": {},
   "outputs": [],
   "source": []
  },
  {
   "cell_type": "markdown",
   "metadata": {},
   "source": [
    "### ¿Comparación con PBI del país al que pertenece o con otros países? (AB testing)"
   ]
  },
  {
   "cell_type": "code",
   "execution_count": null,
   "metadata": {},
   "outputs": [],
   "source": []
  },
  {
   "cell_type": "markdown",
   "metadata": {},
   "source": [
    "## 2.2. Datos Históricos"
   ]
  },
  {
   "cell_type": "markdown",
   "metadata": {},
   "source": [
    "### ¿Cómo han crecido las empresas unicornio a través del tiempo?"
   ]
  },
  {
   "cell_type": "code",
   "execution_count": 589,
   "metadata": {},
   "outputs": [],
   "source": [
    "years = unicorns.groupby('Year')['Company'].count().reset_index()"
   ]
  },
  {
   "cell_type": "code",
   "execution_count": 590,
   "metadata": {},
   "outputs": [
    {
     "data": {
      "application/vnd.plotly.v1+json": {
       "config": {
        "plotlyServerURL": "https://plot.ly"
       },
       "data": [
        {
         "hovertemplate": "Year=%{x}<br>Company=%{y}<extra></extra>",
         "legendgroup": "",
         "line": {
          "color": "#636efa",
          "dash": "solid"
         },
         "marker": {
          "symbol": "circle"
         },
         "mode": "lines",
         "name": "",
         "orientation": "v",
         "showlegend": false,
         "type": "scatter",
         "x": [
          2015,
          2016,
          2017,
          2018,
          2019,
          2020,
          2021,
          2022,
          2023
         ],
         "xaxis": "x",
         "y": [
          144,
          183,
          222,
          305,
          430,
          513,
          957,
          1201,
          1215
         ],
         "yaxis": "y"
        }
       ],
       "layout": {
        "legend": {
         "tracegroupgap": 0
        },
        "template": {
         "data": {
          "bar": [
           {
            "error_x": {
             "color": "#f2f5fa"
            },
            "error_y": {
             "color": "#f2f5fa"
            },
            "marker": {
             "line": {
              "color": "rgb(17,17,17)",
              "width": 0.5
             },
             "pattern": {
              "fillmode": "overlay",
              "size": 10,
              "solidity": 0.2
             }
            },
            "type": "bar"
           }
          ],
          "barpolar": [
           {
            "marker": {
             "line": {
              "color": "rgb(17,17,17)",
              "width": 0.5
             },
             "pattern": {
              "fillmode": "overlay",
              "size": 10,
              "solidity": 0.2
             }
            },
            "type": "barpolar"
           }
          ],
          "carpet": [
           {
            "aaxis": {
             "endlinecolor": "#A2B1C6",
             "gridcolor": "#506784",
             "linecolor": "#506784",
             "minorgridcolor": "#506784",
             "startlinecolor": "#A2B1C6"
            },
            "baxis": {
             "endlinecolor": "#A2B1C6",
             "gridcolor": "#506784",
             "linecolor": "#506784",
             "minorgridcolor": "#506784",
             "startlinecolor": "#A2B1C6"
            },
            "type": "carpet"
           }
          ],
          "choropleth": [
           {
            "colorbar": {
             "outlinewidth": 0,
             "ticks": ""
            },
            "type": "choropleth"
           }
          ],
          "contour": [
           {
            "colorbar": {
             "outlinewidth": 0,
             "ticks": ""
            },
            "colorscale": [
             [
              0,
              "#0d0887"
             ],
             [
              0.1111111111111111,
              "#46039f"
             ],
             [
              0.2222222222222222,
              "#7201a8"
             ],
             [
              0.3333333333333333,
              "#9c179e"
             ],
             [
              0.4444444444444444,
              "#bd3786"
             ],
             [
              0.5555555555555556,
              "#d8576b"
             ],
             [
              0.6666666666666666,
              "#ed7953"
             ],
             [
              0.7777777777777778,
              "#fb9f3a"
             ],
             [
              0.8888888888888888,
              "#fdca26"
             ],
             [
              1,
              "#f0f921"
             ]
            ],
            "type": "contour"
           }
          ],
          "contourcarpet": [
           {
            "colorbar": {
             "outlinewidth": 0,
             "ticks": ""
            },
            "type": "contourcarpet"
           }
          ],
          "heatmap": [
           {
            "colorbar": {
             "outlinewidth": 0,
             "ticks": ""
            },
            "colorscale": [
             [
              0,
              "#0d0887"
             ],
             [
              0.1111111111111111,
              "#46039f"
             ],
             [
              0.2222222222222222,
              "#7201a8"
             ],
             [
              0.3333333333333333,
              "#9c179e"
             ],
             [
              0.4444444444444444,
              "#bd3786"
             ],
             [
              0.5555555555555556,
              "#d8576b"
             ],
             [
              0.6666666666666666,
              "#ed7953"
             ],
             [
              0.7777777777777778,
              "#fb9f3a"
             ],
             [
              0.8888888888888888,
              "#fdca26"
             ],
             [
              1,
              "#f0f921"
             ]
            ],
            "type": "heatmap"
           }
          ],
          "heatmapgl": [
           {
            "colorbar": {
             "outlinewidth": 0,
             "ticks": ""
            },
            "colorscale": [
             [
              0,
              "#0d0887"
             ],
             [
              0.1111111111111111,
              "#46039f"
             ],
             [
              0.2222222222222222,
              "#7201a8"
             ],
             [
              0.3333333333333333,
              "#9c179e"
             ],
             [
              0.4444444444444444,
              "#bd3786"
             ],
             [
              0.5555555555555556,
              "#d8576b"
             ],
             [
              0.6666666666666666,
              "#ed7953"
             ],
             [
              0.7777777777777778,
              "#fb9f3a"
             ],
             [
              0.8888888888888888,
              "#fdca26"
             ],
             [
              1,
              "#f0f921"
             ]
            ],
            "type": "heatmapgl"
           }
          ],
          "histogram": [
           {
            "marker": {
             "pattern": {
              "fillmode": "overlay",
              "size": 10,
              "solidity": 0.2
             }
            },
            "type": "histogram"
           }
          ],
          "histogram2d": [
           {
            "colorbar": {
             "outlinewidth": 0,
             "ticks": ""
            },
            "colorscale": [
             [
              0,
              "#0d0887"
             ],
             [
              0.1111111111111111,
              "#46039f"
             ],
             [
              0.2222222222222222,
              "#7201a8"
             ],
             [
              0.3333333333333333,
              "#9c179e"
             ],
             [
              0.4444444444444444,
              "#bd3786"
             ],
             [
              0.5555555555555556,
              "#d8576b"
             ],
             [
              0.6666666666666666,
              "#ed7953"
             ],
             [
              0.7777777777777778,
              "#fb9f3a"
             ],
             [
              0.8888888888888888,
              "#fdca26"
             ],
             [
              1,
              "#f0f921"
             ]
            ],
            "type": "histogram2d"
           }
          ],
          "histogram2dcontour": [
           {
            "colorbar": {
             "outlinewidth": 0,
             "ticks": ""
            },
            "colorscale": [
             [
              0,
              "#0d0887"
             ],
             [
              0.1111111111111111,
              "#46039f"
             ],
             [
              0.2222222222222222,
              "#7201a8"
             ],
             [
              0.3333333333333333,
              "#9c179e"
             ],
             [
              0.4444444444444444,
              "#bd3786"
             ],
             [
              0.5555555555555556,
              "#d8576b"
             ],
             [
              0.6666666666666666,
              "#ed7953"
             ],
             [
              0.7777777777777778,
              "#fb9f3a"
             ],
             [
              0.8888888888888888,
              "#fdca26"
             ],
             [
              1,
              "#f0f921"
             ]
            ],
            "type": "histogram2dcontour"
           }
          ],
          "mesh3d": [
           {
            "colorbar": {
             "outlinewidth": 0,
             "ticks": ""
            },
            "type": "mesh3d"
           }
          ],
          "parcoords": [
           {
            "line": {
             "colorbar": {
              "outlinewidth": 0,
              "ticks": ""
             }
            },
            "type": "parcoords"
           }
          ],
          "pie": [
           {
            "automargin": true,
            "type": "pie"
           }
          ],
          "scatter": [
           {
            "marker": {
             "line": {
              "color": "#283442"
             }
            },
            "type": "scatter"
           }
          ],
          "scatter3d": [
           {
            "line": {
             "colorbar": {
              "outlinewidth": 0,
              "ticks": ""
             }
            },
            "marker": {
             "colorbar": {
              "outlinewidth": 0,
              "ticks": ""
             }
            },
            "type": "scatter3d"
           }
          ],
          "scattercarpet": [
           {
            "marker": {
             "colorbar": {
              "outlinewidth": 0,
              "ticks": ""
             }
            },
            "type": "scattercarpet"
           }
          ],
          "scattergeo": [
           {
            "marker": {
             "colorbar": {
              "outlinewidth": 0,
              "ticks": ""
             }
            },
            "type": "scattergeo"
           }
          ],
          "scattergl": [
           {
            "marker": {
             "line": {
              "color": "#283442"
             }
            },
            "type": "scattergl"
           }
          ],
          "scattermapbox": [
           {
            "marker": {
             "colorbar": {
              "outlinewidth": 0,
              "ticks": ""
             }
            },
            "type": "scattermapbox"
           }
          ],
          "scatterpolar": [
           {
            "marker": {
             "colorbar": {
              "outlinewidth": 0,
              "ticks": ""
             }
            },
            "type": "scatterpolar"
           }
          ],
          "scatterpolargl": [
           {
            "marker": {
             "colorbar": {
              "outlinewidth": 0,
              "ticks": ""
             }
            },
            "type": "scatterpolargl"
           }
          ],
          "scatterternary": [
           {
            "marker": {
             "colorbar": {
              "outlinewidth": 0,
              "ticks": ""
             }
            },
            "type": "scatterternary"
           }
          ],
          "surface": [
           {
            "colorbar": {
             "outlinewidth": 0,
             "ticks": ""
            },
            "colorscale": [
             [
              0,
              "#0d0887"
             ],
             [
              0.1111111111111111,
              "#46039f"
             ],
             [
              0.2222222222222222,
              "#7201a8"
             ],
             [
              0.3333333333333333,
              "#9c179e"
             ],
             [
              0.4444444444444444,
              "#bd3786"
             ],
             [
              0.5555555555555556,
              "#d8576b"
             ],
             [
              0.6666666666666666,
              "#ed7953"
             ],
             [
              0.7777777777777778,
              "#fb9f3a"
             ],
             [
              0.8888888888888888,
              "#fdca26"
             ],
             [
              1,
              "#f0f921"
             ]
            ],
            "type": "surface"
           }
          ],
          "table": [
           {
            "cells": {
             "fill": {
              "color": "#506784"
             },
             "line": {
              "color": "rgb(17,17,17)"
             }
            },
            "header": {
             "fill": {
              "color": "#2a3f5f"
             },
             "line": {
              "color": "rgb(17,17,17)"
             }
            },
            "type": "table"
           }
          ]
         },
         "layout": {
          "annotationdefaults": {
           "arrowcolor": "#f2f5fa",
           "arrowhead": 0,
           "arrowwidth": 1
          },
          "autotypenumbers": "strict",
          "coloraxis": {
           "colorbar": {
            "outlinewidth": 0,
            "ticks": ""
           }
          },
          "colorscale": {
           "diverging": [
            [
             0,
             "#8e0152"
            ],
            [
             0.1,
             "#c51b7d"
            ],
            [
             0.2,
             "#de77ae"
            ],
            [
             0.3,
             "#f1b6da"
            ],
            [
             0.4,
             "#fde0ef"
            ],
            [
             0.5,
             "#f7f7f7"
            ],
            [
             0.6,
             "#e6f5d0"
            ],
            [
             0.7,
             "#b8e186"
            ],
            [
             0.8,
             "#7fbc41"
            ],
            [
             0.9,
             "#4d9221"
            ],
            [
             1,
             "#276419"
            ]
           ],
           "sequential": [
            [
             0,
             "#0d0887"
            ],
            [
             0.1111111111111111,
             "#46039f"
            ],
            [
             0.2222222222222222,
             "#7201a8"
            ],
            [
             0.3333333333333333,
             "#9c179e"
            ],
            [
             0.4444444444444444,
             "#bd3786"
            ],
            [
             0.5555555555555556,
             "#d8576b"
            ],
            [
             0.6666666666666666,
             "#ed7953"
            ],
            [
             0.7777777777777778,
             "#fb9f3a"
            ],
            [
             0.8888888888888888,
             "#fdca26"
            ],
            [
             1,
             "#f0f921"
            ]
           ],
           "sequentialminus": [
            [
             0,
             "#0d0887"
            ],
            [
             0.1111111111111111,
             "#46039f"
            ],
            [
             0.2222222222222222,
             "#7201a8"
            ],
            [
             0.3333333333333333,
             "#9c179e"
            ],
            [
             0.4444444444444444,
             "#bd3786"
            ],
            [
             0.5555555555555556,
             "#d8576b"
            ],
            [
             0.6666666666666666,
             "#ed7953"
            ],
            [
             0.7777777777777778,
             "#fb9f3a"
            ],
            [
             0.8888888888888888,
             "#fdca26"
            ],
            [
             1,
             "#f0f921"
            ]
           ]
          },
          "colorway": [
           "#636efa",
           "#EF553B",
           "#00cc96",
           "#ab63fa",
           "#FFA15A",
           "#19d3f3",
           "#FF6692",
           "#B6E880",
           "#FF97FF",
           "#FECB52"
          ],
          "font": {
           "color": "#f2f5fa"
          },
          "geo": {
           "bgcolor": "rgb(17,17,17)",
           "lakecolor": "rgb(17,17,17)",
           "landcolor": "rgb(17,17,17)",
           "showlakes": true,
           "showland": true,
           "subunitcolor": "#506784"
          },
          "hoverlabel": {
           "align": "left"
          },
          "hovermode": "closest",
          "mapbox": {
           "style": "dark"
          },
          "paper_bgcolor": "rgb(17,17,17)",
          "plot_bgcolor": "rgb(17,17,17)",
          "polar": {
           "angularaxis": {
            "gridcolor": "#506784",
            "linecolor": "#506784",
            "ticks": ""
           },
           "bgcolor": "rgb(17,17,17)",
           "radialaxis": {
            "gridcolor": "#506784",
            "linecolor": "#506784",
            "ticks": ""
           }
          },
          "scene": {
           "xaxis": {
            "backgroundcolor": "rgb(17,17,17)",
            "gridcolor": "#506784",
            "gridwidth": 2,
            "linecolor": "#506784",
            "showbackground": true,
            "ticks": "",
            "zerolinecolor": "#C8D4E3"
           },
           "yaxis": {
            "backgroundcolor": "rgb(17,17,17)",
            "gridcolor": "#506784",
            "gridwidth": 2,
            "linecolor": "#506784",
            "showbackground": true,
            "ticks": "",
            "zerolinecolor": "#C8D4E3"
           },
           "zaxis": {
            "backgroundcolor": "rgb(17,17,17)",
            "gridcolor": "#506784",
            "gridwidth": 2,
            "linecolor": "#506784",
            "showbackground": true,
            "ticks": "",
            "zerolinecolor": "#C8D4E3"
           }
          },
          "shapedefaults": {
           "line": {
            "color": "#f2f5fa"
           }
          },
          "sliderdefaults": {
           "bgcolor": "#C8D4E3",
           "bordercolor": "rgb(17,17,17)",
           "borderwidth": 1,
           "tickwidth": 0
          },
          "ternary": {
           "aaxis": {
            "gridcolor": "#506784",
            "linecolor": "#506784",
            "ticks": ""
           },
           "baxis": {
            "gridcolor": "#506784",
            "linecolor": "#506784",
            "ticks": ""
           },
           "bgcolor": "rgb(17,17,17)",
           "caxis": {
            "gridcolor": "#506784",
            "linecolor": "#506784",
            "ticks": ""
           }
          },
          "title": {
           "x": 0.05
          },
          "updatemenudefaults": {
           "bgcolor": "#506784",
           "borderwidth": 0
          },
          "xaxis": {
           "automargin": true,
           "gridcolor": "#283442",
           "linecolor": "#506784",
           "ticks": "",
           "title": {
            "standoff": 15
           },
           "zerolinecolor": "#283442",
           "zerolinewidth": 2
          },
          "yaxis": {
           "automargin": true,
           "gridcolor": "#283442",
           "linecolor": "#506784",
           "ticks": "",
           "title": {
            "standoff": 15
           },
           "zerolinecolor": "#283442",
           "zerolinewidth": 2
          }
         }
        },
        "title": {
         "text": "Evolución de Epresas Unicornios"
        },
        "xaxis": {
         "anchor": "y",
         "domain": [
          0,
          1
         ],
         "title": {
          "text": "Year"
         }
        },
        "yaxis": {
         "anchor": "x",
         "domain": [
          0,
          1
         ],
         "title": {
          "text": "Company"
         }
        }
       }
      }
     },
     "metadata": {},
     "output_type": "display_data"
    }
   ],
   "source": [
    "fig = px.line(years, x=\"Year\", y=\"Company\", \n",
    "              title='Evolución de Epresas Unicornios', \n",
    "              template=\"plotly_dark\") \n",
    "fig.show()"
   ]
  },
  {
   "cell_type": "markdown",
   "metadata": {},
   "source": [
    "### ¿Qué industria ha crecido más?"
   ]
  },
  {
   "cell_type": "code",
   "execution_count": 616,
   "metadata": {},
   "outputs": [],
   "source": [
    "industry = unicorns.groupby(['Industry','Year'])['Company'].count().reset_index()"
   ]
  },
  {
   "cell_type": "code",
   "execution_count": 617,
   "metadata": {},
   "outputs": [
    {
     "data": {
      "text/plain": [
       "124"
      ]
     },
     "execution_count": 617,
     "metadata": {},
     "output_type": "execute_result"
    }
   ],
   "source": [
    "industry['Industry'].nunique()"
   ]
  },
  {
   "cell_type": "code",
   "execution_count": 618,
   "metadata": {},
   "outputs": [],
   "source": [
    "dic = {  'AI':\"Artificial Intelligence\",\n",
    " 'AI / Facial Recognition':\"Artificial Intelligence\",\n",
    " 'AI / Robotics':\"Artificial Intelligence\",\n",
    " 'AR/VR':\"Realidad virtual\",\n",
    " 'AdTech':\"Advertising Technology\",\n",
    " 'Adtech':\"Advertising Technology\",\n",
    " 'Ag Tech':\"tecnología agrícola.\",\n",
    " 'Apparel':\"Clothing & Accessories\",\n",
    " 'Artificial Intelligence':\"Artificial Intelligence\",\n",
    " 'Artificial intelligence':\"Artificial Intelligence\",\n",
    " 'Auto & transportation':\"Automobile & transportation\",\n",
    " 'Auto Tech':\"Automobile & transportation\",\n",
    " 'AutoTech':\"Automobile & transportation\",\n",
    " 'Automobile':\"Automobile & transportation\",\n",
    " 'BI & Analytics':\"Business Intelligence\",\n",
    " 'Beauty & grooming':\"Beauty & grooming\",\n",
    " 'Big Data':\"Big Data\",\n",
    " 'Biotech':\"Biotechnology\",\n",
    " 'Biotechnology':\"Biotechnology\",\n",
    " 'Blockchain':\"Blockchain\",\n",
    " 'Business Intelligence, Analytics & Performance Mgmt':\"Business Intelligence\",\n",
    " 'Business Products & Services':\"Business Intelligence\",\n",
    " 'Chips & Semiconductors':\"Chips & Semiconductors\",\n",
    " 'Cleantech':\"Cleantech\",\n",
    " 'Clothing & Accessories':\"Clothing & Accessories\",\n",
    " 'Clothing and Accessories':\"Clothing & Accessories\",\n",
    " 'Collaboration & Project Management':\"Internet software & services\",\n",
    " 'Computer Hardware & Services':\"Hardware\",\n",
    " 'Computer Vision':\"Artificial Intelligence\",\n",
    " 'Computer Vision/ AI':\"Artificial Intelligence\",\n",
    " 'Construction Tech':\"Construction Tech\",\n",
    " 'Consumer & Retail':\"Consumer & Retail\",\n",
    " 'Consumer & retail':\"Consumer & Retail\",\n",
    " 'Consumer Electronics':\"Electronics\",\n",
    " 'Consumer Hardware':\"Hardware\",\n",
    " 'Cybersecurity':\" Cybersecurity\",\n",
    " 'Cybsersecurity':\" Cybersecurity\",\n",
    " 'Data Storage':\"Data Storage\",\n",
    " 'Data management & analytics':\"Data management & analytics\",\n",
    " 'DevOps':\"Internet software & services\",\n",
    " 'Digital Health':\" Digital Health\",\n",
    " 'Digital Media':\" Digital Media\",\n",
    " 'Digital Media/ AI':\" Digital Media\",\n",
    " 'Digital health':\" Digital Health\",\n",
    " 'E-commerce & direct-to-consumer':\" e-commerce\",\n",
    " 'Ed Tech':\" Education Tech\",\n",
    " 'EdTech':\" Education Tech\",\n",
    " 'Edtech':\" Education Tech\",\n",
    " 'Education':\" Education Tech\",\n",
    " 'Energy & Utilities':\" Energy & Utilities\",\n",
    " 'Enterprise Tech':\"Internet software & services\",\n",
    " 'Entertainment':\"Entertainment\",\n",
    " 'Facilities':\"Facilities\",\n",
    " 'Film & Video':\"Film & Video\",\n",
    " 'Fin Tech':\"Finance Technology\",\n",
    " 'Financial Services':\"Finance Technology\",\n",
    " 'Fintech':\"Finance Technology\",\n",
    " 'Fintech / Supply Chain':\"Finance Technology\",\n",
    " 'Finttech':\"Finance Technology\",\n",
    " 'Fitness':\" Fitness\",\n",
    " 'Food & Beverage':\" Food & Beverage\",\n",
    " 'Food & Beverages':\" Food & Beverage\",\n",
    " 'Food & Grocery':\" Food & Beverage\",\n",
    " 'Food Delivery':\" Food & Beverage\",\n",
    " 'Food and Beverage':\" Food & Beverage\",\n",
    " 'Gaming':\"Gaming\",\n",
    " 'Genomics':\"Health & Wellnes\",\n",
    " 'Greentech':\"Cleantech\",\n",
    " 'HR & Workforce Management':\"Human Resources Tech\",\n",
    " 'HR Tech':\"Human Resources Tech\",\n",
    " 'Hardware':\"Hardware\",\n",
    " 'Health':\"Health & Wellnes\",\n",
    " 'Health & Wellnes':\"Health & Wellnes\",\n",
    " 'Healthcare':\"Health & Wellnes\",\n",
    " 'Healthcare & Life Sciences':\"Health & Wellnes\",\n",
    " 'Industrials':\"Industrials\",\n",
    " 'InsurTech':\"Insurance\",\n",
    " 'Insurance':\"Insurance\",\n",
    " 'Internet Software &\\n\\t Services':\"Internet Software & Services\",\n",
    " 'Internet Software & Services':\"Internet Software & Services\",\n",
    " 'Internet of Things':\"Internet Software & Services\",\n",
    " 'Internet software & services':\"Internet Software & Services\",\n",
    " 'IoT':\"Internet Software & Services\",\n",
    " 'Management & Strategy Consulting':\"Business Intelligence\",\n",
    " 'Marketplace':\" Marketplace\",\n",
    " 'Media':\" Media & Entertainment\",\n",
    " 'Media & Entertainment':\" Media & Entertainment\",\n",
    " 'Mobile & Telecommunications':\" Mobile & Telecommunications\",\n",
    " 'Mobile & telecommunications':\" Mobile & Telecommunications\",\n",
    " 'Mobile Software &\\n\\t Services':\" Mobile Software & Services\",\n",
    " 'Mobile Software & Services':\" Mobile Software & Services\",\n",
    " 'Music':\" Music\",\n",
    " 'On Demand':\"OnDemand\",\n",
    " 'On-Demand':\"OnDemand\",\n",
    " 'On-demand':\"OnDemand\",\n",
    " 'Other':\"Other\",\n",
    " 'Other Transportation':\"Other\",\n",
    " 'Real Estate':\"Real Estate\",\n",
    " 'RegTech':\"RegTech\",\n",
    " 'Restaurant Tech':\"Restaurant Tech\",\n",
    " 'Retail':\"Consumer & Retail\",\n",
    " 'Robotic Process Automation':\"Robotics\",\n",
    " 'Robotics':\"Robotics\",\n",
    " 'Sales Tech':\"SalesTech\",\n",
    " 'SalesTech':\"SalesTech\",\n",
    " 'Social':\"Media & Entertainment\",\n",
    " 'SpaceTech':\"Industrials\",\n",
    " 'Supply Chain':\"Supply Chain\",\n",
    " 'Supply Chain & Logistics':\"Supply Chain\",\n",
    " 'Supply Chain Tech':\"Supply Chain\",\n",
    " 'Supply chain & Logistics':\"Supply Chain\",\n",
    " 'Supply chain, logistics, & delivery':\"Supply Chain\",\n",
    " 'Supplychain/ logistics':\"Supply Chain\",\n",
    " 'Telecommunications':\"Telecommunications\",\n",
    " 'Travel':\"Travel Tech\",\n",
    " 'Travel Tech':\"Travel Tech\",\n",
    " 'TravelTech':\"Travel Tech\",\n",
    " 'VR/AR':\"Realidad virtual\",\n",
    " 'e-commerce':\"e-commerce\",\n",
    " 'eCommerce':\"e-commerce\",\n",
    " 'eCommerce/Marketplace':\"e-commerce\",\n",
    " 'eSports':\"e-commerce\",\n",
    " 'ecommerce':\"e-commerce\"}"
   ]
  },
  {
   "cell_type": "code",
   "execution_count": 619,
   "metadata": {},
   "outputs": [],
   "source": [
    "# reemplazamos por los valores que hemos identidicado con el diccionario para reducir la cantidad de categorías.\n",
    "industry.replace(dic, inplace=True)"
   ]
  },
  {
   "cell_type": "code",
   "execution_count": 634,
   "metadata": {},
   "outputs": [
    {
     "data": {
      "text/plain": [
       "58"
      ]
     },
     "execution_count": 634,
     "metadata": {},
     "output_type": "execute_result"
    }
   ],
   "source": [
    "industry['Industry'].nunique()"
   ]
  },
  {
   "cell_type": "code",
   "execution_count": 649,
   "metadata": {},
   "outputs": [
    {
     "data": {
      "text/html": [
       "<div>\n",
       "<style scoped>\n",
       "    .dataframe tbody tr th:only-of-type {\n",
       "        vertical-align: middle;\n",
       "    }\n",
       "\n",
       "    .dataframe tbody tr th {\n",
       "        vertical-align: top;\n",
       "    }\n",
       "\n",
       "    .dataframe thead th {\n",
       "        text-align: right;\n",
       "    }\n",
       "</style>\n",
       "<table border=\"1\" class=\"dataframe\">\n",
       "  <thead>\n",
       "    <tr style=\"text-align: right;\">\n",
       "      <th></th>\n",
       "      <th>Company</th>\n",
       "      <th>Valuation ($B)</th>\n",
       "      <th>Date Joined</th>\n",
       "      <th>Country</th>\n",
       "      <th>Industry</th>\n",
       "      <th>Investor</th>\n",
       "      <th>Day_List</th>\n",
       "      <th>Year</th>\n",
       "      <th>City</th>\n",
       "    </tr>\n",
       "  </thead>\n",
       "  <tbody>\n",
       "    <tr>\n",
       "      <th>0</th>\n",
       "      <td>Uber</td>\n",
       "      <td>51.0</td>\n",
       "      <td>2013-08-23</td>\n",
       "      <td>United States</td>\n",
       "      <td>On-Demand</td>\n",
       "      <td>Lowercase Capital,\\n\\t  Benchmark Capital, Goo...</td>\n",
       "      <td>2015-12-11</td>\n",
       "      <td>2015</td>\n",
       "      <td>no_data</td>\n",
       "    </tr>\n",
       "    <tr>\n",
       "      <th>1</th>\n",
       "      <td>Xiaomi</td>\n",
       "      <td>46.0</td>\n",
       "      <td>2011-12-21</td>\n",
       "      <td>China</td>\n",
       "      <td>Hardware</td>\n",
       "      <td>Digital Sky Technologies,\\n\\t  QiMing Venture ...</td>\n",
       "      <td>2015-12-11</td>\n",
       "      <td>2015</td>\n",
       "      <td>no_data</td>\n",
       "    </tr>\n",
       "    <tr>\n",
       "      <th>2</th>\n",
       "      <td>Airbnb</td>\n",
       "      <td>25.5</td>\n",
       "      <td>2011-07-26</td>\n",
       "      <td>United States</td>\n",
       "      <td>eCommerce/Marketplace</td>\n",
       "      <td>General Catalyst Partners,\\n\\t  Andreessen Hor...</td>\n",
       "      <td>2015-12-11</td>\n",
       "      <td>2015</td>\n",
       "      <td>no_data</td>\n",
       "    </tr>\n",
       "    <tr>\n",
       "      <th>3</th>\n",
       "      <td>Palantir\\n\\t  Technologies</td>\n",
       "      <td>20.0</td>\n",
       "      <td>2011-05-05</td>\n",
       "      <td>United States</td>\n",
       "      <td>Big Data</td>\n",
       "      <td>RRE Ventures, Founders\\n\\t  Fund, In-Q-Tel</td>\n",
       "      <td>2015-12-11</td>\n",
       "      <td>2015</td>\n",
       "      <td>no_data</td>\n",
       "    </tr>\n",
       "    <tr>\n",
       "      <th>4</th>\n",
       "      <td>Snapchat</td>\n",
       "      <td>16.0</td>\n",
       "      <td>2013-12-11</td>\n",
       "      <td>United States</td>\n",
       "      <td>Social</td>\n",
       "      <td>Benchmark Capital, General\\n\\t  Catalyst Partn...</td>\n",
       "      <td>2015-12-11</td>\n",
       "      <td>2015</td>\n",
       "      <td>no_data</td>\n",
       "    </tr>\n",
       "  </tbody>\n",
       "</table>\n",
       "</div>"
      ],
      "text/plain": [
       "                      Company  Valuation ($B) Date Joined        Country  \\\n",
       "0                        Uber            51.0  2013-08-23  United States   \n",
       "1                      Xiaomi            46.0  2011-12-21          China   \n",
       "2                      Airbnb            25.5  2011-07-26  United States   \n",
       "3  Palantir\\n\\t  Technologies            20.0  2011-05-05  United States   \n",
       "4                    Snapchat            16.0  2013-12-11  United States   \n",
       "\n",
       "                Industry                                           Investor  \\\n",
       "0              On-Demand  Lowercase Capital,\\n\\t  Benchmark Capital, Goo...   \n",
       "1               Hardware  Digital Sky Technologies,\\n\\t  QiMing Venture ...   \n",
       "2  eCommerce/Marketplace  General Catalyst Partners,\\n\\t  Andreessen Hor...   \n",
       "3               Big Data         RRE Ventures, Founders\\n\\t  Fund, In-Q-Tel   \n",
       "4                 Social  Benchmark Capital, General\\n\\t  Catalyst Partn...   \n",
       "\n",
       "    Day_List  Year     City  \n",
       "0 2015-12-11  2015  no_data  \n",
       "1 2015-12-11  2015  no_data  \n",
       "2 2015-12-11  2015  no_data  \n",
       "3 2015-12-11  2015  no_data  \n",
       "4 2015-12-11  2015  no_data  "
      ]
     },
     "execution_count": 649,
     "metadata": {},
     "output_type": "execute_result"
    }
   ],
   "source": [
    "unicorns.head()"
   ]
  },
  {
   "cell_type": "code",
   "execution_count": 655,
   "metadata": {},
   "outputs": [],
   "source": [
    "industry = unicorns.groupby(['Industry','Year'])['Company'].count().reset_index()"
   ]
  },
  {
   "cell_type": "code",
   "execution_count": 650,
   "metadata": {},
   "outputs": [],
   "source": [
    "valuations = unicorns.groupby(['Industry','Year'])['Valuation ($B)'].sum().reset_index()"
   ]
  },
  {
   "cell_type": "code",
   "execution_count": 662,
   "metadata": {},
   "outputs": [
    {
     "data": {
      "application/vnd.plotly.v1+json": {
       "config": {
        "plotlyServerURL": "https://plot.ly"
       },
       "data": [
        {
         "alignmentgroup": "True",
         "hovertemplate": "Industry=%{x}<br>Company=%{y}<extra></extra>",
         "legendgroup": "",
         "marker": {
          "color": "#636efa",
          "pattern": {
           "shape": ""
          }
         },
         "name": "",
         "offsetgroup": "",
         "orientation": "v",
         "showlegend": false,
         "textposition": "auto",
         "type": "bar",
         "x": [
          "Consumer & Retail",
          "Enterprise Tech",
          "Financial Services",
          "Healthcare & Life Sciences",
          "Industrials",
          "Insurance",
          "Media & Entertainment"
         ],
         "xaxis": "x",
         "y": [
          214,
          367,
          216,
          122,
          186,
          28,
          82
         ],
         "yaxis": "y"
        },
        {
         "hovertemplate": "Industry=%{x}<br>Valuation ($B)=%{y}<extra></extra>",
         "legendgroup": "",
         "line": {
          "color": "#636efa",
          "dash": "solid"
         },
         "marker": {
          "symbol": "circle"
         },
         "mode": "lines",
         "name": "",
         "orientation": "v",
         "showlegend": false,
         "type": "scatter",
         "x": [
          "Consumer & Retail",
          "Enterprise Tech",
          "Financial Services",
          "Healthcare & Life Sciences",
          "Industrials",
          "Insurance",
          "Media & Entertainment"
         ],
         "xaxis": "x",
         "y": [
          664.61,
          1034.08,
          706.91,
          289.5,
          607.8100000000001,
          58.62,
          503.71
         ],
         "yaxis": "y"
        }
       ],
       "layout": {
        "barmode": "relative",
        "legend": {
         "tracegroupgap": 0
        },
        "margin": {
         "t": 60
        },
        "template": {
         "data": {
          "bar": [
           {
            "error_x": {
             "color": "#f2f5fa"
            },
            "error_y": {
             "color": "#f2f5fa"
            },
            "marker": {
             "line": {
              "color": "rgb(17,17,17)",
              "width": 0.5
             },
             "pattern": {
              "fillmode": "overlay",
              "size": 10,
              "solidity": 0.2
             }
            },
            "type": "bar"
           }
          ],
          "barpolar": [
           {
            "marker": {
             "line": {
              "color": "rgb(17,17,17)",
              "width": 0.5
             },
             "pattern": {
              "fillmode": "overlay",
              "size": 10,
              "solidity": 0.2
             }
            },
            "type": "barpolar"
           }
          ],
          "carpet": [
           {
            "aaxis": {
             "endlinecolor": "#A2B1C6",
             "gridcolor": "#506784",
             "linecolor": "#506784",
             "minorgridcolor": "#506784",
             "startlinecolor": "#A2B1C6"
            },
            "baxis": {
             "endlinecolor": "#A2B1C6",
             "gridcolor": "#506784",
             "linecolor": "#506784",
             "minorgridcolor": "#506784",
             "startlinecolor": "#A2B1C6"
            },
            "type": "carpet"
           }
          ],
          "choropleth": [
           {
            "colorbar": {
             "outlinewidth": 0,
             "ticks": ""
            },
            "type": "choropleth"
           }
          ],
          "contour": [
           {
            "colorbar": {
             "outlinewidth": 0,
             "ticks": ""
            },
            "colorscale": [
             [
              0,
              "#0d0887"
             ],
             [
              0.1111111111111111,
              "#46039f"
             ],
             [
              0.2222222222222222,
              "#7201a8"
             ],
             [
              0.3333333333333333,
              "#9c179e"
             ],
             [
              0.4444444444444444,
              "#bd3786"
             ],
             [
              0.5555555555555556,
              "#d8576b"
             ],
             [
              0.6666666666666666,
              "#ed7953"
             ],
             [
              0.7777777777777778,
              "#fb9f3a"
             ],
             [
              0.8888888888888888,
              "#fdca26"
             ],
             [
              1,
              "#f0f921"
             ]
            ],
            "type": "contour"
           }
          ],
          "contourcarpet": [
           {
            "colorbar": {
             "outlinewidth": 0,
             "ticks": ""
            },
            "type": "contourcarpet"
           }
          ],
          "heatmap": [
           {
            "colorbar": {
             "outlinewidth": 0,
             "ticks": ""
            },
            "colorscale": [
             [
              0,
              "#0d0887"
             ],
             [
              0.1111111111111111,
              "#46039f"
             ],
             [
              0.2222222222222222,
              "#7201a8"
             ],
             [
              0.3333333333333333,
              "#9c179e"
             ],
             [
              0.4444444444444444,
              "#bd3786"
             ],
             [
              0.5555555555555556,
              "#d8576b"
             ],
             [
              0.6666666666666666,
              "#ed7953"
             ],
             [
              0.7777777777777778,
              "#fb9f3a"
             ],
             [
              0.8888888888888888,
              "#fdca26"
             ],
             [
              1,
              "#f0f921"
             ]
            ],
            "type": "heatmap"
           }
          ],
          "heatmapgl": [
           {
            "colorbar": {
             "outlinewidth": 0,
             "ticks": ""
            },
            "colorscale": [
             [
              0,
              "#0d0887"
             ],
             [
              0.1111111111111111,
              "#46039f"
             ],
             [
              0.2222222222222222,
              "#7201a8"
             ],
             [
              0.3333333333333333,
              "#9c179e"
             ],
             [
              0.4444444444444444,
              "#bd3786"
             ],
             [
              0.5555555555555556,
              "#d8576b"
             ],
             [
              0.6666666666666666,
              "#ed7953"
             ],
             [
              0.7777777777777778,
              "#fb9f3a"
             ],
             [
              0.8888888888888888,
              "#fdca26"
             ],
             [
              1,
              "#f0f921"
             ]
            ],
            "type": "heatmapgl"
           }
          ],
          "histogram": [
           {
            "marker": {
             "pattern": {
              "fillmode": "overlay",
              "size": 10,
              "solidity": 0.2
             }
            },
            "type": "histogram"
           }
          ],
          "histogram2d": [
           {
            "colorbar": {
             "outlinewidth": 0,
             "ticks": ""
            },
            "colorscale": [
             [
              0,
              "#0d0887"
             ],
             [
              0.1111111111111111,
              "#46039f"
             ],
             [
              0.2222222222222222,
              "#7201a8"
             ],
             [
              0.3333333333333333,
              "#9c179e"
             ],
             [
              0.4444444444444444,
              "#bd3786"
             ],
             [
              0.5555555555555556,
              "#d8576b"
             ],
             [
              0.6666666666666666,
              "#ed7953"
             ],
             [
              0.7777777777777778,
              "#fb9f3a"
             ],
             [
              0.8888888888888888,
              "#fdca26"
             ],
             [
              1,
              "#f0f921"
             ]
            ],
            "type": "histogram2d"
           }
          ],
          "histogram2dcontour": [
           {
            "colorbar": {
             "outlinewidth": 0,
             "ticks": ""
            },
            "colorscale": [
             [
              0,
              "#0d0887"
             ],
             [
              0.1111111111111111,
              "#46039f"
             ],
             [
              0.2222222222222222,
              "#7201a8"
             ],
             [
              0.3333333333333333,
              "#9c179e"
             ],
             [
              0.4444444444444444,
              "#bd3786"
             ],
             [
              0.5555555555555556,
              "#d8576b"
             ],
             [
              0.6666666666666666,
              "#ed7953"
             ],
             [
              0.7777777777777778,
              "#fb9f3a"
             ],
             [
              0.8888888888888888,
              "#fdca26"
             ],
             [
              1,
              "#f0f921"
             ]
            ],
            "type": "histogram2dcontour"
           }
          ],
          "mesh3d": [
           {
            "colorbar": {
             "outlinewidth": 0,
             "ticks": ""
            },
            "type": "mesh3d"
           }
          ],
          "parcoords": [
           {
            "line": {
             "colorbar": {
              "outlinewidth": 0,
              "ticks": ""
             }
            },
            "type": "parcoords"
           }
          ],
          "pie": [
           {
            "automargin": true,
            "type": "pie"
           }
          ],
          "scatter": [
           {
            "marker": {
             "line": {
              "color": "#283442"
             }
            },
            "type": "scatter"
           }
          ],
          "scatter3d": [
           {
            "line": {
             "colorbar": {
              "outlinewidth": 0,
              "ticks": ""
             }
            },
            "marker": {
             "colorbar": {
              "outlinewidth": 0,
              "ticks": ""
             }
            },
            "type": "scatter3d"
           }
          ],
          "scattercarpet": [
           {
            "marker": {
             "colorbar": {
              "outlinewidth": 0,
              "ticks": ""
             }
            },
            "type": "scattercarpet"
           }
          ],
          "scattergeo": [
           {
            "marker": {
             "colorbar": {
              "outlinewidth": 0,
              "ticks": ""
             }
            },
            "type": "scattergeo"
           }
          ],
          "scattergl": [
           {
            "marker": {
             "line": {
              "color": "#283442"
             }
            },
            "type": "scattergl"
           }
          ],
          "scattermapbox": [
           {
            "marker": {
             "colorbar": {
              "outlinewidth": 0,
              "ticks": ""
             }
            },
            "type": "scattermapbox"
           }
          ],
          "scatterpolar": [
           {
            "marker": {
             "colorbar": {
              "outlinewidth": 0,
              "ticks": ""
             }
            },
            "type": "scatterpolar"
           }
          ],
          "scatterpolargl": [
           {
            "marker": {
             "colorbar": {
              "outlinewidth": 0,
              "ticks": ""
             }
            },
            "type": "scatterpolargl"
           }
          ],
          "scatterternary": [
           {
            "marker": {
             "colorbar": {
              "outlinewidth": 0,
              "ticks": ""
             }
            },
            "type": "scatterternary"
           }
          ],
          "surface": [
           {
            "colorbar": {
             "outlinewidth": 0,
             "ticks": ""
            },
            "colorscale": [
             [
              0,
              "#0d0887"
             ],
             [
              0.1111111111111111,
              "#46039f"
             ],
             [
              0.2222222222222222,
              "#7201a8"
             ],
             [
              0.3333333333333333,
              "#9c179e"
             ],
             [
              0.4444444444444444,
              "#bd3786"
             ],
             [
              0.5555555555555556,
              "#d8576b"
             ],
             [
              0.6666666666666666,
              "#ed7953"
             ],
             [
              0.7777777777777778,
              "#fb9f3a"
             ],
             [
              0.8888888888888888,
              "#fdca26"
             ],
             [
              1,
              "#f0f921"
             ]
            ],
            "type": "surface"
           }
          ],
          "table": [
           {
            "cells": {
             "fill": {
              "color": "#506784"
             },
             "line": {
              "color": "rgb(17,17,17)"
             }
            },
            "header": {
             "fill": {
              "color": "#2a3f5f"
             },
             "line": {
              "color": "rgb(17,17,17)"
             }
            },
            "type": "table"
           }
          ]
         },
         "layout": {
          "annotationdefaults": {
           "arrowcolor": "#f2f5fa",
           "arrowhead": 0,
           "arrowwidth": 1
          },
          "autotypenumbers": "strict",
          "coloraxis": {
           "colorbar": {
            "outlinewidth": 0,
            "ticks": ""
           }
          },
          "colorscale": {
           "diverging": [
            [
             0,
             "#8e0152"
            ],
            [
             0.1,
             "#c51b7d"
            ],
            [
             0.2,
             "#de77ae"
            ],
            [
             0.3,
             "#f1b6da"
            ],
            [
             0.4,
             "#fde0ef"
            ],
            [
             0.5,
             "#f7f7f7"
            ],
            [
             0.6,
             "#e6f5d0"
            ],
            [
             0.7,
             "#b8e186"
            ],
            [
             0.8,
             "#7fbc41"
            ],
            [
             0.9,
             "#4d9221"
            ],
            [
             1,
             "#276419"
            ]
           ],
           "sequential": [
            [
             0,
             "#0d0887"
            ],
            [
             0.1111111111111111,
             "#46039f"
            ],
            [
             0.2222222222222222,
             "#7201a8"
            ],
            [
             0.3333333333333333,
             "#9c179e"
            ],
            [
             0.4444444444444444,
             "#bd3786"
            ],
            [
             0.5555555555555556,
             "#d8576b"
            ],
            [
             0.6666666666666666,
             "#ed7953"
            ],
            [
             0.7777777777777778,
             "#fb9f3a"
            ],
            [
             0.8888888888888888,
             "#fdca26"
            ],
            [
             1,
             "#f0f921"
            ]
           ],
           "sequentialminus": [
            [
             0,
             "#0d0887"
            ],
            [
             0.1111111111111111,
             "#46039f"
            ],
            [
             0.2222222222222222,
             "#7201a8"
            ],
            [
             0.3333333333333333,
             "#9c179e"
            ],
            [
             0.4444444444444444,
             "#bd3786"
            ],
            [
             0.5555555555555556,
             "#d8576b"
            ],
            [
             0.6666666666666666,
             "#ed7953"
            ],
            [
             0.7777777777777778,
             "#fb9f3a"
            ],
            [
             0.8888888888888888,
             "#fdca26"
            ],
            [
             1,
             "#f0f921"
            ]
           ]
          },
          "colorway": [
           "#636efa",
           "#EF553B",
           "#00cc96",
           "#ab63fa",
           "#FFA15A",
           "#19d3f3",
           "#FF6692",
           "#B6E880",
           "#FF97FF",
           "#FECB52"
          ],
          "font": {
           "color": "#f2f5fa"
          },
          "geo": {
           "bgcolor": "rgb(17,17,17)",
           "lakecolor": "rgb(17,17,17)",
           "landcolor": "rgb(17,17,17)",
           "showlakes": true,
           "showland": true,
           "subunitcolor": "#506784"
          },
          "hoverlabel": {
           "align": "left"
          },
          "hovermode": "closest",
          "mapbox": {
           "style": "dark"
          },
          "paper_bgcolor": "rgb(17,17,17)",
          "plot_bgcolor": "rgb(17,17,17)",
          "polar": {
           "angularaxis": {
            "gridcolor": "#506784",
            "linecolor": "#506784",
            "ticks": ""
           },
           "bgcolor": "rgb(17,17,17)",
           "radialaxis": {
            "gridcolor": "#506784",
            "linecolor": "#506784",
            "ticks": ""
           }
          },
          "scene": {
           "xaxis": {
            "backgroundcolor": "rgb(17,17,17)",
            "gridcolor": "#506784",
            "gridwidth": 2,
            "linecolor": "#506784",
            "showbackground": true,
            "ticks": "",
            "zerolinecolor": "#C8D4E3"
           },
           "yaxis": {
            "backgroundcolor": "rgb(17,17,17)",
            "gridcolor": "#506784",
            "gridwidth": 2,
            "linecolor": "#506784",
            "showbackground": true,
            "ticks": "",
            "zerolinecolor": "#C8D4E3"
           },
           "zaxis": {
            "backgroundcolor": "rgb(17,17,17)",
            "gridcolor": "#506784",
            "gridwidth": 2,
            "linecolor": "#506784",
            "showbackground": true,
            "ticks": "",
            "zerolinecolor": "#C8D4E3"
           }
          },
          "shapedefaults": {
           "line": {
            "color": "#f2f5fa"
           }
          },
          "sliderdefaults": {
           "bgcolor": "#C8D4E3",
           "bordercolor": "rgb(17,17,17)",
           "borderwidth": 1,
           "tickwidth": 0
          },
          "ternary": {
           "aaxis": {
            "gridcolor": "#506784",
            "linecolor": "#506784",
            "ticks": ""
           },
           "baxis": {
            "gridcolor": "#506784",
            "linecolor": "#506784",
            "ticks": ""
           },
           "bgcolor": "rgb(17,17,17)",
           "caxis": {
            "gridcolor": "#506784",
            "linecolor": "#506784",
            "ticks": ""
           }
          },
          "title": {
           "x": 0.05
          },
          "updatemenudefaults": {
           "bgcolor": "#506784",
           "borderwidth": 0
          },
          "xaxis": {
           "automargin": true,
           "gridcolor": "#283442",
           "linecolor": "#506784",
           "ticks": "",
           "title": {
            "standoff": 15
           },
           "zerolinecolor": "#283442",
           "zerolinewidth": 2
          },
          "yaxis": {
           "automargin": true,
           "gridcolor": "#283442",
           "linecolor": "#506784",
           "ticks": "",
           "title": {
            "standoff": 15
           },
           "zerolinecolor": "#283442",
           "zerolinewidth": 2
          }
         }
        },
        "xaxis": {
         "anchor": "y",
         "domain": [
          0,
          1
         ],
         "title": {
          "text": "Industry"
         }
        },
        "yaxis": {
         "anchor": "x",
         "domain": [
          0,
          1
         ],
         "title": {
          "text": "Company"
         }
        }
       }
      }
     },
     "metadata": {},
     "output_type": "display_data"
    }
   ],
   "source": [
    "fig = px.bar(industry[industry['Year'] == 2023], x='Industry', y='Company', template=\"plotly_dark\")\n",
    "\n",
    "fig.add_trace(px.line(valuations[valuations['Year'] == 2023], x=\"Industry\", y=\"Valuation ($B)\", template=\"plotly_dark\").data[0])\n",
    "\n",
    "fig.show()"
   ]
  },
  {
   "cell_type": "code",
   "execution_count": 666,
   "metadata": {},
   "outputs": [
    {
     "data": {
      "application/vnd.plotly.v1+json": {
       "config": {
        "plotlyServerURL": "https://plot.ly"
       },
       "data": [
        {
         "alignmentgroup": "True",
         "hovertemplate": "Industry=%{x}<br>Company=%{y}<extra></extra>",
         "legendgroup": "",
         "marker": {
          "color": "#636efa",
          "pattern": {
           "shape": ""
          }
         },
         "name": "",
         "offsetgroup": "",
         "orientation": "v",
         "showlegend": false,
         "textposition": "auto",
         "type": "bar",
         "x": [
          "Adtech",
          "Big Data",
          "Clothing & Accessories",
          "Cybersecurity",
          "Ed Tech",
          "Facilities",
          "Film & Video",
          "Fin Tech",
          "Fintech",
          "Gaming",
          "Greentech",
          "Hardware",
          "Healthcare",
          "Internet Software &\n\t  Services",
          "Internet Software & Services",
          "Media",
          "Mobile Software &\n\t  Services",
          "Mobile Software & Services",
          "On-Demand",
          "Other Transportation",
          "Social",
          "VR/AR",
          "eCommerce/Marketplace"
         ],
         "xaxis": "x",
         "y": [
          3,
          14,
          1,
          7,
          1,
          1,
          1,
          1,
          16,
          1,
          1,
          7,
          10,
          3,
          19,
          3,
          1,
          4,
          9,
          1,
          8,
          1,
          31
         ],
         "yaxis": "y"
        },
        {
         "hovertemplate": "Industry=%{x}<br>Valuation ($B)=%{y}<extra></extra>",
         "legendgroup": "",
         "line": {
          "color": "#636efa",
          "dash": "solid"
         },
         "marker": {
          "symbol": "circle"
         },
         "mode": "lines",
         "name": "",
         "orientation": "v",
         "showlegend": false,
         "type": "scatter",
         "x": [
          "Adtech",
          "Big Data",
          "Clothing & Accessories",
          "Cybersecurity",
          "Ed Tech",
          "Facilities",
          "Film & Video",
          "Fin Tech",
          "Fintech",
          "Gaming",
          "Greentech",
          "Hardware",
          "Healthcare",
          "Internet Software &\n\t  Services",
          "Internet Software & Services",
          "Media",
          "Mobile Software &\n\t  Services",
          "Mobile Software & Services",
          "On-Demand",
          "Other Transportation",
          "Social",
          "VR/AR",
          "eCommerce/Marketplace"
         ],
         "xaxis": "x",
         "y": [
          3.2,
          40.25,
          2,
          9.7,
          1,
          10,
          3,
          2.39,
          45.15,
          1,
          2.7,
          63.5,
          29.68,
          4.66,
          42.37,
          6.5,
          1.5,
          4.4,
          82.85,
          12,
          33.2,
          2,
          101.51
         ],
         "yaxis": "y"
        }
       ],
       "layout": {
        "barmode": "relative",
        "legend": {
         "tracegroupgap": 0
        },
        "margin": {
         "t": 60
        },
        "template": {
         "data": {
          "bar": [
           {
            "error_x": {
             "color": "#f2f5fa"
            },
            "error_y": {
             "color": "#f2f5fa"
            },
            "marker": {
             "line": {
              "color": "rgb(17,17,17)",
              "width": 0.5
             },
             "pattern": {
              "fillmode": "overlay",
              "size": 10,
              "solidity": 0.2
             }
            },
            "type": "bar"
           }
          ],
          "barpolar": [
           {
            "marker": {
             "line": {
              "color": "rgb(17,17,17)",
              "width": 0.5
             },
             "pattern": {
              "fillmode": "overlay",
              "size": 10,
              "solidity": 0.2
             }
            },
            "type": "barpolar"
           }
          ],
          "carpet": [
           {
            "aaxis": {
             "endlinecolor": "#A2B1C6",
             "gridcolor": "#506784",
             "linecolor": "#506784",
             "minorgridcolor": "#506784",
             "startlinecolor": "#A2B1C6"
            },
            "baxis": {
             "endlinecolor": "#A2B1C6",
             "gridcolor": "#506784",
             "linecolor": "#506784",
             "minorgridcolor": "#506784",
             "startlinecolor": "#A2B1C6"
            },
            "type": "carpet"
           }
          ],
          "choropleth": [
           {
            "colorbar": {
             "outlinewidth": 0,
             "ticks": ""
            },
            "type": "choropleth"
           }
          ],
          "contour": [
           {
            "colorbar": {
             "outlinewidth": 0,
             "ticks": ""
            },
            "colorscale": [
             [
              0,
              "#0d0887"
             ],
             [
              0.1111111111111111,
              "#46039f"
             ],
             [
              0.2222222222222222,
              "#7201a8"
             ],
             [
              0.3333333333333333,
              "#9c179e"
             ],
             [
              0.4444444444444444,
              "#bd3786"
             ],
             [
              0.5555555555555556,
              "#d8576b"
             ],
             [
              0.6666666666666666,
              "#ed7953"
             ],
             [
              0.7777777777777778,
              "#fb9f3a"
             ],
             [
              0.8888888888888888,
              "#fdca26"
             ],
             [
              1,
              "#f0f921"
             ]
            ],
            "type": "contour"
           }
          ],
          "contourcarpet": [
           {
            "colorbar": {
             "outlinewidth": 0,
             "ticks": ""
            },
            "type": "contourcarpet"
           }
          ],
          "heatmap": [
           {
            "colorbar": {
             "outlinewidth": 0,
             "ticks": ""
            },
            "colorscale": [
             [
              0,
              "#0d0887"
             ],
             [
              0.1111111111111111,
              "#46039f"
             ],
             [
              0.2222222222222222,
              "#7201a8"
             ],
             [
              0.3333333333333333,
              "#9c179e"
             ],
             [
              0.4444444444444444,
              "#bd3786"
             ],
             [
              0.5555555555555556,
              "#d8576b"
             ],
             [
              0.6666666666666666,
              "#ed7953"
             ],
             [
              0.7777777777777778,
              "#fb9f3a"
             ],
             [
              0.8888888888888888,
              "#fdca26"
             ],
             [
              1,
              "#f0f921"
             ]
            ],
            "type": "heatmap"
           }
          ],
          "heatmapgl": [
           {
            "colorbar": {
             "outlinewidth": 0,
             "ticks": ""
            },
            "colorscale": [
             [
              0,
              "#0d0887"
             ],
             [
              0.1111111111111111,
              "#46039f"
             ],
             [
              0.2222222222222222,
              "#7201a8"
             ],
             [
              0.3333333333333333,
              "#9c179e"
             ],
             [
              0.4444444444444444,
              "#bd3786"
             ],
             [
              0.5555555555555556,
              "#d8576b"
             ],
             [
              0.6666666666666666,
              "#ed7953"
             ],
             [
              0.7777777777777778,
              "#fb9f3a"
             ],
             [
              0.8888888888888888,
              "#fdca26"
             ],
             [
              1,
              "#f0f921"
             ]
            ],
            "type": "heatmapgl"
           }
          ],
          "histogram": [
           {
            "marker": {
             "pattern": {
              "fillmode": "overlay",
              "size": 10,
              "solidity": 0.2
             }
            },
            "type": "histogram"
           }
          ],
          "histogram2d": [
           {
            "colorbar": {
             "outlinewidth": 0,
             "ticks": ""
            },
            "colorscale": [
             [
              0,
              "#0d0887"
             ],
             [
              0.1111111111111111,
              "#46039f"
             ],
             [
              0.2222222222222222,
              "#7201a8"
             ],
             [
              0.3333333333333333,
              "#9c179e"
             ],
             [
              0.4444444444444444,
              "#bd3786"
             ],
             [
              0.5555555555555556,
              "#d8576b"
             ],
             [
              0.6666666666666666,
              "#ed7953"
             ],
             [
              0.7777777777777778,
              "#fb9f3a"
             ],
             [
              0.8888888888888888,
              "#fdca26"
             ],
             [
              1,
              "#f0f921"
             ]
            ],
            "type": "histogram2d"
           }
          ],
          "histogram2dcontour": [
           {
            "colorbar": {
             "outlinewidth": 0,
             "ticks": ""
            },
            "colorscale": [
             [
              0,
              "#0d0887"
             ],
             [
              0.1111111111111111,
              "#46039f"
             ],
             [
              0.2222222222222222,
              "#7201a8"
             ],
             [
              0.3333333333333333,
              "#9c179e"
             ],
             [
              0.4444444444444444,
              "#bd3786"
             ],
             [
              0.5555555555555556,
              "#d8576b"
             ],
             [
              0.6666666666666666,
              "#ed7953"
             ],
             [
              0.7777777777777778,
              "#fb9f3a"
             ],
             [
              0.8888888888888888,
              "#fdca26"
             ],
             [
              1,
              "#f0f921"
             ]
            ],
            "type": "histogram2dcontour"
           }
          ],
          "mesh3d": [
           {
            "colorbar": {
             "outlinewidth": 0,
             "ticks": ""
            },
            "type": "mesh3d"
           }
          ],
          "parcoords": [
           {
            "line": {
             "colorbar": {
              "outlinewidth": 0,
              "ticks": ""
             }
            },
            "type": "parcoords"
           }
          ],
          "pie": [
           {
            "automargin": true,
            "type": "pie"
           }
          ],
          "scatter": [
           {
            "marker": {
             "line": {
              "color": "#283442"
             }
            },
            "type": "scatter"
           }
          ],
          "scatter3d": [
           {
            "line": {
             "colorbar": {
              "outlinewidth": 0,
              "ticks": ""
             }
            },
            "marker": {
             "colorbar": {
              "outlinewidth": 0,
              "ticks": ""
             }
            },
            "type": "scatter3d"
           }
          ],
          "scattercarpet": [
           {
            "marker": {
             "colorbar": {
              "outlinewidth": 0,
              "ticks": ""
             }
            },
            "type": "scattercarpet"
           }
          ],
          "scattergeo": [
           {
            "marker": {
             "colorbar": {
              "outlinewidth": 0,
              "ticks": ""
             }
            },
            "type": "scattergeo"
           }
          ],
          "scattergl": [
           {
            "marker": {
             "line": {
              "color": "#283442"
             }
            },
            "type": "scattergl"
           }
          ],
          "scattermapbox": [
           {
            "marker": {
             "colorbar": {
              "outlinewidth": 0,
              "ticks": ""
             }
            },
            "type": "scattermapbox"
           }
          ],
          "scatterpolar": [
           {
            "marker": {
             "colorbar": {
              "outlinewidth": 0,
              "ticks": ""
             }
            },
            "type": "scatterpolar"
           }
          ],
          "scatterpolargl": [
           {
            "marker": {
             "colorbar": {
              "outlinewidth": 0,
              "ticks": ""
             }
            },
            "type": "scatterpolargl"
           }
          ],
          "scatterternary": [
           {
            "marker": {
             "colorbar": {
              "outlinewidth": 0,
              "ticks": ""
             }
            },
            "type": "scatterternary"
           }
          ],
          "surface": [
           {
            "colorbar": {
             "outlinewidth": 0,
             "ticks": ""
            },
            "colorscale": [
             [
              0,
              "#0d0887"
             ],
             [
              0.1111111111111111,
              "#46039f"
             ],
             [
              0.2222222222222222,
              "#7201a8"
             ],
             [
              0.3333333333333333,
              "#9c179e"
             ],
             [
              0.4444444444444444,
              "#bd3786"
             ],
             [
              0.5555555555555556,
              "#d8576b"
             ],
             [
              0.6666666666666666,
              "#ed7953"
             ],
             [
              0.7777777777777778,
              "#fb9f3a"
             ],
             [
              0.8888888888888888,
              "#fdca26"
             ],
             [
              1,
              "#f0f921"
             ]
            ],
            "type": "surface"
           }
          ],
          "table": [
           {
            "cells": {
             "fill": {
              "color": "#506784"
             },
             "line": {
              "color": "rgb(17,17,17)"
             }
            },
            "header": {
             "fill": {
              "color": "#2a3f5f"
             },
             "line": {
              "color": "rgb(17,17,17)"
             }
            },
            "type": "table"
           }
          ]
         },
         "layout": {
          "annotationdefaults": {
           "arrowcolor": "#f2f5fa",
           "arrowhead": 0,
           "arrowwidth": 1
          },
          "autotypenumbers": "strict",
          "coloraxis": {
           "colorbar": {
            "outlinewidth": 0,
            "ticks": ""
           }
          },
          "colorscale": {
           "diverging": [
            [
             0,
             "#8e0152"
            ],
            [
             0.1,
             "#c51b7d"
            ],
            [
             0.2,
             "#de77ae"
            ],
            [
             0.3,
             "#f1b6da"
            ],
            [
             0.4,
             "#fde0ef"
            ],
            [
             0.5,
             "#f7f7f7"
            ],
            [
             0.6,
             "#e6f5d0"
            ],
            [
             0.7,
             "#b8e186"
            ],
            [
             0.8,
             "#7fbc41"
            ],
            [
             0.9,
             "#4d9221"
            ],
            [
             1,
             "#276419"
            ]
           ],
           "sequential": [
            [
             0,
             "#0d0887"
            ],
            [
             0.1111111111111111,
             "#46039f"
            ],
            [
             0.2222222222222222,
             "#7201a8"
            ],
            [
             0.3333333333333333,
             "#9c179e"
            ],
            [
             0.4444444444444444,
             "#bd3786"
            ],
            [
             0.5555555555555556,
             "#d8576b"
            ],
            [
             0.6666666666666666,
             "#ed7953"
            ],
            [
             0.7777777777777778,
             "#fb9f3a"
            ],
            [
             0.8888888888888888,
             "#fdca26"
            ],
            [
             1,
             "#f0f921"
            ]
           ],
           "sequentialminus": [
            [
             0,
             "#0d0887"
            ],
            [
             0.1111111111111111,
             "#46039f"
            ],
            [
             0.2222222222222222,
             "#7201a8"
            ],
            [
             0.3333333333333333,
             "#9c179e"
            ],
            [
             0.4444444444444444,
             "#bd3786"
            ],
            [
             0.5555555555555556,
             "#d8576b"
            ],
            [
             0.6666666666666666,
             "#ed7953"
            ],
            [
             0.7777777777777778,
             "#fb9f3a"
            ],
            [
             0.8888888888888888,
             "#fdca26"
            ],
            [
             1,
             "#f0f921"
            ]
           ]
          },
          "colorway": [
           "#636efa",
           "#EF553B",
           "#00cc96",
           "#ab63fa",
           "#FFA15A",
           "#19d3f3",
           "#FF6692",
           "#B6E880",
           "#FF97FF",
           "#FECB52"
          ],
          "font": {
           "color": "#f2f5fa"
          },
          "geo": {
           "bgcolor": "rgb(17,17,17)",
           "lakecolor": "rgb(17,17,17)",
           "landcolor": "rgb(17,17,17)",
           "showlakes": true,
           "showland": true,
           "subunitcolor": "#506784"
          },
          "hoverlabel": {
           "align": "left"
          },
          "hovermode": "closest",
          "mapbox": {
           "style": "dark"
          },
          "paper_bgcolor": "rgb(17,17,17)",
          "plot_bgcolor": "rgb(17,17,17)",
          "polar": {
           "angularaxis": {
            "gridcolor": "#506784",
            "linecolor": "#506784",
            "ticks": ""
           },
           "bgcolor": "rgb(17,17,17)",
           "radialaxis": {
            "gridcolor": "#506784",
            "linecolor": "#506784",
            "ticks": ""
           }
          },
          "scene": {
           "xaxis": {
            "backgroundcolor": "rgb(17,17,17)",
            "gridcolor": "#506784",
            "gridwidth": 2,
            "linecolor": "#506784",
            "showbackground": true,
            "ticks": "",
            "zerolinecolor": "#C8D4E3"
           },
           "yaxis": {
            "backgroundcolor": "rgb(17,17,17)",
            "gridcolor": "#506784",
            "gridwidth": 2,
            "linecolor": "#506784",
            "showbackground": true,
            "ticks": "",
            "zerolinecolor": "#C8D4E3"
           },
           "zaxis": {
            "backgroundcolor": "rgb(17,17,17)",
            "gridcolor": "#506784",
            "gridwidth": 2,
            "linecolor": "#506784",
            "showbackground": true,
            "ticks": "",
            "zerolinecolor": "#C8D4E3"
           }
          },
          "shapedefaults": {
           "line": {
            "color": "#f2f5fa"
           }
          },
          "sliderdefaults": {
           "bgcolor": "#C8D4E3",
           "bordercolor": "rgb(17,17,17)",
           "borderwidth": 1,
           "tickwidth": 0
          },
          "ternary": {
           "aaxis": {
            "gridcolor": "#506784",
            "linecolor": "#506784",
            "ticks": ""
           },
           "baxis": {
            "gridcolor": "#506784",
            "linecolor": "#506784",
            "ticks": ""
           },
           "bgcolor": "rgb(17,17,17)",
           "caxis": {
            "gridcolor": "#506784",
            "linecolor": "#506784",
            "ticks": ""
           }
          },
          "title": {
           "x": 0.05
          },
          "updatemenudefaults": {
           "bgcolor": "#506784",
           "borderwidth": 0
          },
          "xaxis": {
           "automargin": true,
           "gridcolor": "#283442",
           "linecolor": "#506784",
           "ticks": "",
           "title": {
            "standoff": 15
           },
           "zerolinecolor": "#283442",
           "zerolinewidth": 2
          },
          "yaxis": {
           "automargin": true,
           "gridcolor": "#283442",
           "linecolor": "#506784",
           "ticks": "",
           "title": {
            "standoff": 15
           },
           "zerolinecolor": "#283442",
           "zerolinewidth": 2
          }
         }
        },
        "xaxis": {
         "anchor": "y",
         "domain": [
          0,
          1
         ],
         "title": {
          "text": "Industry"
         }
        },
        "yaxis": {
         "anchor": "x",
         "domain": [
          0,
          1
         ],
         "title": {
          "text": "Company"
         }
        }
       }
      }
     },
     "metadata": {},
     "output_type": "display_data"
    }
   ],
   "source": [
    "fig = px.bar(industry[industry['Year']==2015], x='Industry', y='Company', template=\"plotly_dark\")\n",
    "fig.add_trace(px.line(valuations[valuations['Year'] == 2015], x=\"Industry\", y=\"Valuation ($B)\", template=\"plotly_dark\").data[0])\n",
    "\n",
    "fig.show()"
   ]
  },
  {
   "cell_type": "code",
   "execution_count": 667,
   "metadata": {},
   "outputs": [
    {
     "data": {
      "text/html": [
       "<div>\n",
       "<style scoped>\n",
       "    .dataframe tbody tr th:only-of-type {\n",
       "        vertical-align: middle;\n",
       "    }\n",
       "\n",
       "    .dataframe tbody tr th {\n",
       "        vertical-align: top;\n",
       "    }\n",
       "\n",
       "    .dataframe thead th {\n",
       "        text-align: right;\n",
       "    }\n",
       "</style>\n",
       "<table border=\"1\" class=\"dataframe\">\n",
       "  <thead>\n",
       "    <tr style=\"text-align: right;\">\n",
       "      <th></th>\n",
       "      <th>Company</th>\n",
       "      <th>Valuation ($B)</th>\n",
       "      <th>Date Joined</th>\n",
       "      <th>Country</th>\n",
       "      <th>Industry</th>\n",
       "      <th>Investor</th>\n",
       "      <th>Day_List</th>\n",
       "      <th>Year</th>\n",
       "      <th>City</th>\n",
       "    </tr>\n",
       "  </thead>\n",
       "  <tbody>\n",
       "    <tr>\n",
       "      <th>3</th>\n",
       "      <td>Palantir\\n\\t  Technologies</td>\n",
       "      <td>20.00</td>\n",
       "      <td>2011-05-05</td>\n",
       "      <td>United States</td>\n",
       "      <td>Big Data</td>\n",
       "      <td>RRE Ventures, Founders\\n\\t  Fund, In-Q-Tel</td>\n",
       "      <td>2015-12-11</td>\n",
       "      <td>2015</td>\n",
       "      <td>no_data</td>\n",
       "    </tr>\n",
       "    <tr>\n",
       "      <th>21</th>\n",
       "      <td>Cloudera</td>\n",
       "      <td>4.10</td>\n",
       "      <td>2014-03-18</td>\n",
       "      <td>United States</td>\n",
       "      <td>Big Data</td>\n",
       "      <td>Greylock Partners, Ignition\\n\\t  Partners, Goo...</td>\n",
       "      <td>2015-12-11</td>\n",
       "      <td>2015</td>\n",
       "      <td>no_data</td>\n",
       "    </tr>\n",
       "    <tr>\n",
       "      <th>52</th>\n",
       "      <td>Nutanix</td>\n",
       "      <td>2.00</td>\n",
       "      <td>2014-01-14</td>\n",
       "      <td>United States</td>\n",
       "      <td>Big Data</td>\n",
       "      <td>Battery Ventures, Khosla Ventures, Wellington ...</td>\n",
       "      <td>2015-12-11</td>\n",
       "      <td>2015</td>\n",
       "      <td>no_data</td>\n",
       "    </tr>\n",
       "    <tr>\n",
       "      <th>55</th>\n",
       "      <td>Domo Technologies</td>\n",
       "      <td>2.00</td>\n",
       "      <td>2015-04-08</td>\n",
       "      <td>United States</td>\n",
       "      <td>Big Data</td>\n",
       "      <td>Institutional Venture\\n\\t  Partners, Benchmark...</td>\n",
       "      <td>2015-12-11</td>\n",
       "      <td>2015</td>\n",
       "      <td>no_data</td>\n",
       "    </tr>\n",
       "    <tr>\n",
       "      <th>64</th>\n",
       "      <td>MongoDB</td>\n",
       "      <td>1.60</td>\n",
       "      <td>2013-10-04</td>\n",
       "      <td>United States</td>\n",
       "      <td>Big Data</td>\n",
       "      <td>Intel Capital, Salesforce\\n\\t  Ventures, Union...</td>\n",
       "      <td>2015-12-11</td>\n",
       "      <td>2015</td>\n",
       "      <td>no_data</td>\n",
       "    </tr>\n",
       "    <tr>\n",
       "      <th>66</th>\n",
       "      <td>Insidesales.com</td>\n",
       "      <td>1.50</td>\n",
       "      <td>2014-04-28</td>\n",
       "      <td>United States</td>\n",
       "      <td>Big Data</td>\n",
       "      <td>Microsoft Ventures, US\\n\\t  Venture Partners, ...</td>\n",
       "      <td>2015-12-11</td>\n",
       "      <td>2015</td>\n",
       "      <td>no_data</td>\n",
       "    </tr>\n",
       "    <tr>\n",
       "      <th>67</th>\n",
       "      <td>Mu Sigma</td>\n",
       "      <td>1.50</td>\n",
       "      <td>2013-02-07</td>\n",
       "      <td>India</td>\n",
       "      <td>Big Data</td>\n",
       "      <td>Sequoia Capital, General Atlantic</td>\n",
       "      <td>2015-12-11</td>\n",
       "      <td>2015</td>\n",
       "      <td>no_data</td>\n",
       "    </tr>\n",
       "    <tr>\n",
       "      <th>76</th>\n",
       "      <td>Deem</td>\n",
       "      <td>1.35</td>\n",
       "      <td>2011-11-15</td>\n",
       "      <td>United States</td>\n",
       "      <td>Big Data</td>\n",
       "      <td>Empire Ventures,\\n\\t  Foundational Capital, Oa...</td>\n",
       "      <td>2015-12-11</td>\n",
       "      <td>2015</td>\n",
       "      <td>no_data</td>\n",
       "    </tr>\n",
       "    <tr>\n",
       "      <th>89</th>\n",
       "      <td>Uptake</td>\n",
       "      <td>1.10</td>\n",
       "      <td>2015-10-27</td>\n",
       "      <td>United States</td>\n",
       "      <td>Big Data</td>\n",
       "      <td>GreatPoint Ventures, New Enterprise Associates...</td>\n",
       "      <td>2015-12-11</td>\n",
       "      <td>2015</td>\n",
       "      <td>no_data</td>\n",
       "    </tr>\n",
       "    <tr>\n",
       "      <th>92</th>\n",
       "      <td>Actifio</td>\n",
       "      <td>1.10</td>\n",
       "      <td>2014-03-24</td>\n",
       "      <td>United States</td>\n",
       "      <td>Big Data</td>\n",
       "      <td>Greylock Partners, North\\n\\t  Bridge Venture P...</td>\n",
       "      <td>2015-12-11</td>\n",
       "      <td>2015</td>\n",
       "      <td>no_data</td>\n",
       "    </tr>\n",
       "    <tr>\n",
       "      <th>106</th>\n",
       "      <td>AppDynamics</td>\n",
       "      <td>1.00</td>\n",
       "      <td>2014-07-22</td>\n",
       "      <td>United States</td>\n",
       "      <td>Big Data</td>\n",
       "      <td>Battery Ventures, Kleiner\\n\\t  Perkins Caufiel...</td>\n",
       "      <td>2015-12-11</td>\n",
       "      <td>2015</td>\n",
       "      <td>no_data</td>\n",
       "    </tr>\n",
       "    <tr>\n",
       "      <th>108</th>\n",
       "      <td>SimpliVity</td>\n",
       "      <td>1.00</td>\n",
       "      <td>2015-03-10</td>\n",
       "      <td>United States</td>\n",
       "      <td>Big Data</td>\n",
       "      <td>Accel Partners, Swisscom\\n\\t  Ventures, Merite...</td>\n",
       "      <td>2015-12-11</td>\n",
       "      <td>2015</td>\n",
       "      <td>no_data</td>\n",
       "    </tr>\n",
       "    <tr>\n",
       "      <th>118</th>\n",
       "      <td>Qualtrics</td>\n",
       "      <td>1.00</td>\n",
       "      <td>2014-09-24</td>\n",
       "      <td>United States</td>\n",
       "      <td>Big Data</td>\n",
       "      <td>Accel Partners, Insight\\n\\t  Venture Partners,...</td>\n",
       "      <td>2015-12-11</td>\n",
       "      <td>2015</td>\n",
       "      <td>no_data</td>\n",
       "    </tr>\n",
       "    <tr>\n",
       "      <th>130</th>\n",
       "      <td>MarkLogic</td>\n",
       "      <td>1.00</td>\n",
       "      <td>2015-05-12</td>\n",
       "      <td>United States</td>\n",
       "      <td>Big Data</td>\n",
       "      <td>Sequoia Capital, Tenaya Capital, Northgate Cap...</td>\n",
       "      <td>2015-12-11</td>\n",
       "      <td>2015</td>\n",
       "      <td>no_data</td>\n",
       "    </tr>\n",
       "    <tr>\n",
       "      <th>4</th>\n",
       "      <td>Palantir\\n\\t  Technologies</td>\n",
       "      <td>20.00</td>\n",
       "      <td>2011-05-05</td>\n",
       "      <td>United States</td>\n",
       "      <td>Big Data</td>\n",
       "      <td>RRE Ventures, Founders\\n\\t  Fund, In-Q-Tel</td>\n",
       "      <td>2016-12-23</td>\n",
       "      <td>2016</td>\n",
       "      <td>no_data</td>\n",
       "    </tr>\n",
       "    <tr>\n",
       "      <th>28</th>\n",
       "      <td>Cloudera</td>\n",
       "      <td>4.10</td>\n",
       "      <td>2014-03-18</td>\n",
       "      <td>United States</td>\n",
       "      <td>Big Data</td>\n",
       "      <td>Greylock Partners, Ignition\\n\\t  Partners, Goo...</td>\n",
       "      <td>2016-12-23</td>\n",
       "      <td>2016</td>\n",
       "      <td>no_data</td>\n",
       "    </tr>\n",
       "    <tr>\n",
       "      <th>58</th>\n",
       "      <td>Domo Technologies</td>\n",
       "      <td>2.00</td>\n",
       "      <td>2015-04-08</td>\n",
       "      <td>United States</td>\n",
       "      <td>Big Data</td>\n",
       "      <td>Institutional Venture\\n\\t  Partners, Benchmark...</td>\n",
       "      <td>2016-12-23</td>\n",
       "      <td>2016</td>\n",
       "      <td>no_data</td>\n",
       "    </tr>\n",
       "    <tr>\n",
       "      <th>64</th>\n",
       "      <td>AppDynamics</td>\n",
       "      <td>1.90</td>\n",
       "      <td>2014-07-22</td>\n",
       "      <td>United States</td>\n",
       "      <td>Big Data</td>\n",
       "      <td>Battery Ventures, Kleiner\\n\\t  Perkins Caufiel...</td>\n",
       "      <td>2016-12-23</td>\n",
       "      <td>2016</td>\n",
       "      <td>no_data</td>\n",
       "    </tr>\n",
       "    <tr>\n",
       "      <th>71</th>\n",
       "      <td>MongoDB</td>\n",
       "      <td>1.60</td>\n",
       "      <td>2013-10-04</td>\n",
       "      <td>United States</td>\n",
       "      <td>Big Data</td>\n",
       "      <td>Intel Capital, Salesforce\\n\\t  Ventures, Union...</td>\n",
       "      <td>2016-12-23</td>\n",
       "      <td>2016</td>\n",
       "      <td>no_data</td>\n",
       "    </tr>\n",
       "    <tr>\n",
       "      <th>78</th>\n",
       "      <td>Insidesales.com</td>\n",
       "      <td>1.50</td>\n",
       "      <td>2014-04-28</td>\n",
       "      <td>United States</td>\n",
       "      <td>Big Data</td>\n",
       "      <td>Microsoft Ventures, US\\n\\t  Venture Partners, ...</td>\n",
       "      <td>2016-12-23</td>\n",
       "      <td>2016</td>\n",
       "      <td>no_data</td>\n",
       "    </tr>\n",
       "    <tr>\n",
       "      <th>79</th>\n",
       "      <td>Mu Sigma</td>\n",
       "      <td>1.50</td>\n",
       "      <td>2013-02-07</td>\n",
       "      <td>United States</td>\n",
       "      <td>Big Data</td>\n",
       "      <td>Sequoia Capital, General Atlantic</td>\n",
       "      <td>2016-12-23</td>\n",
       "      <td>2016</td>\n",
       "      <td>no_data</td>\n",
       "    </tr>\n",
       "    <tr>\n",
       "      <th>92</th>\n",
       "      <td>Deem</td>\n",
       "      <td>1.35</td>\n",
       "      <td>2011-11-15</td>\n",
       "      <td>United States</td>\n",
       "      <td>Big Data</td>\n",
       "      <td>Empire Ventures,\\n\\t  Foundational Capital, Oa...</td>\n",
       "      <td>2016-12-23</td>\n",
       "      <td>2016</td>\n",
       "      <td>no_data</td>\n",
       "    </tr>\n",
       "    <tr>\n",
       "      <th>108</th>\n",
       "      <td>Uptake</td>\n",
       "      <td>1.10</td>\n",
       "      <td>2015-10-27</td>\n",
       "      <td>United States</td>\n",
       "      <td>Big Data</td>\n",
       "      <td>GreatPoint Ventures, New Enterprise Associates...</td>\n",
       "      <td>2016-12-23</td>\n",
       "      <td>2016</td>\n",
       "      <td>no_data</td>\n",
       "    </tr>\n",
       "    <tr>\n",
       "      <th>110</th>\n",
       "      <td>Actifio</td>\n",
       "      <td>1.10</td>\n",
       "      <td>2014-03-24</td>\n",
       "      <td>United States</td>\n",
       "      <td>Big Data</td>\n",
       "      <td>Greylock Partners, North\\n\\t  Bridge Venture P...</td>\n",
       "      <td>2016-12-23</td>\n",
       "      <td>2016</td>\n",
       "      <td>no_data</td>\n",
       "    </tr>\n",
       "    <tr>\n",
       "      <th>115</th>\n",
       "      <td>OVH</td>\n",
       "      <td>1.10</td>\n",
       "      <td>2015-07-03</td>\n",
       "      <td>France</td>\n",
       "      <td>Big Data</td>\n",
       "      <td>Kohlberg Kravis Roberts &amp; Co.,TowerBrook Capit...</td>\n",
       "      <td>2016-12-23</td>\n",
       "      <td>2016</td>\n",
       "      <td>no_data</td>\n",
       "    </tr>\n",
       "    <tr>\n",
       "      <th>136</th>\n",
       "      <td>SimpliVity</td>\n",
       "      <td>1.00</td>\n",
       "      <td>2015-03-10</td>\n",
       "      <td>United States</td>\n",
       "      <td>Big Data</td>\n",
       "      <td>Accel Partners, Swisscom\\n\\t  Ventures, Merite...</td>\n",
       "      <td>2016-12-23</td>\n",
       "      <td>2016</td>\n",
       "      <td>no_data</td>\n",
       "    </tr>\n",
       "    <tr>\n",
       "      <th>144</th>\n",
       "      <td>Qualtrics</td>\n",
       "      <td>1.00</td>\n",
       "      <td>2014-09-24</td>\n",
       "      <td>United States</td>\n",
       "      <td>Big Data</td>\n",
       "      <td>Accel Partners, Insight\\n\\t  Venture Partners,...</td>\n",
       "      <td>2016-12-23</td>\n",
       "      <td>2016</td>\n",
       "      <td>no_data</td>\n",
       "    </tr>\n",
       "    <tr>\n",
       "      <th>152</th>\n",
       "      <td>MarkLogic</td>\n",
       "      <td>1.00</td>\n",
       "      <td>2015-05-12</td>\n",
       "      <td>United States</td>\n",
       "      <td>Big Data</td>\n",
       "      <td>Sequoia Capital, Tenaya Capital, Northgate Cap...</td>\n",
       "      <td>2016-12-23</td>\n",
       "      <td>2016</td>\n",
       "      <td>no_data</td>\n",
       "    </tr>\n",
       "    <tr>\n",
       "      <th>6</th>\n",
       "      <td>Palantir\\n\\t  Technologies</td>\n",
       "      <td>20.00</td>\n",
       "      <td>2011-05-05</td>\n",
       "      <td>United States</td>\n",
       "      <td>Big Data</td>\n",
       "      <td>RRE Ventures, Founders\\n\\t  Fund, In-Q-Tel</td>\n",
       "      <td>2017-12-23</td>\n",
       "      <td>2017</td>\n",
       "      <td>no_data</td>\n",
       "    </tr>\n",
       "    <tr>\n",
       "      <th>60</th>\n",
       "      <td>Qualtrics</td>\n",
       "      <td>2.50</td>\n",
       "      <td>2014-09-24</td>\n",
       "      <td>United States</td>\n",
       "      <td>Big Data</td>\n",
       "      <td>Accel Partners, Insight\\n\\t  Venture Partners,...</td>\n",
       "      <td>2017-12-23</td>\n",
       "      <td>2017</td>\n",
       "      <td>no_data</td>\n",
       "    </tr>\n",
       "    <tr>\n",
       "      <th>63</th>\n",
       "      <td>Uptake</td>\n",
       "      <td>2.30</td>\n",
       "      <td>2015-10-27</td>\n",
       "      <td>United States</td>\n",
       "      <td>Big Data</td>\n",
       "      <td>Revolution, New Enterprise Associates, Caterpi...</td>\n",
       "      <td>2017-12-23</td>\n",
       "      <td>2017</td>\n",
       "      <td>no_data</td>\n",
       "    </tr>\n",
       "    <tr>\n",
       "      <th>72</th>\n",
       "      <td>Domo Technologies</td>\n",
       "      <td>2.00</td>\n",
       "      <td>2015-04-08</td>\n",
       "      <td>United States</td>\n",
       "      <td>Big Data</td>\n",
       "      <td>Institutional Venture\\n\\t  Partners, Benchmark...</td>\n",
       "      <td>2017-12-23</td>\n",
       "      <td>2017</td>\n",
       "      <td>no_data</td>\n",
       "    </tr>\n",
       "    <tr>\n",
       "      <th>100</th>\n",
       "      <td>Insidesales.com</td>\n",
       "      <td>1.50</td>\n",
       "      <td>2014-04-28</td>\n",
       "      <td>United States</td>\n",
       "      <td>Big Data</td>\n",
       "      <td>Microsoft Ventures, US\\n\\t  Venture Partners, ...</td>\n",
       "      <td>2017-12-23</td>\n",
       "      <td>2017</td>\n",
       "      <td>no_data</td>\n",
       "    </tr>\n",
       "    <tr>\n",
       "      <th>101</th>\n",
       "      <td>Mu Sigma</td>\n",
       "      <td>1.50</td>\n",
       "      <td>2013-02-07</td>\n",
       "      <td>United States</td>\n",
       "      <td>Big Data</td>\n",
       "      <td>Sequoia Capital, General Atlantic</td>\n",
       "      <td>2017-12-23</td>\n",
       "      <td>2017</td>\n",
       "      <td>no_data</td>\n",
       "    </tr>\n",
       "    <tr>\n",
       "      <th>143</th>\n",
       "      <td>Actifio</td>\n",
       "      <td>1.10</td>\n",
       "      <td>2014-03-24</td>\n",
       "      <td>United States</td>\n",
       "      <td>Big Data</td>\n",
       "      <td>Greylock Partners, North\\n\\t  Bridge Venture P...</td>\n",
       "      <td>2017-12-23</td>\n",
       "      <td>2017</td>\n",
       "      <td>no_data</td>\n",
       "    </tr>\n",
       "    <tr>\n",
       "      <th>146</th>\n",
       "      <td>OVH</td>\n",
       "      <td>1.10</td>\n",
       "      <td>2015-07-03</td>\n",
       "      <td>France</td>\n",
       "      <td>Big Data</td>\n",
       "      <td>Kohlberg Kravis Roberts &amp; Co.,TowerBrook Capit...</td>\n",
       "      <td>2017-12-23</td>\n",
       "      <td>2017</td>\n",
       "      <td>no_data</td>\n",
       "    </tr>\n",
       "    <tr>\n",
       "      <th>177</th>\n",
       "      <td>MarkLogic</td>\n",
       "      <td>1.00</td>\n",
       "      <td>2015-05-12</td>\n",
       "      <td>United States</td>\n",
       "      <td>Big Data</td>\n",
       "      <td>Sequoia Capital, Tenaya Capital, Northgate Cap...</td>\n",
       "      <td>2017-12-23</td>\n",
       "      <td>2017</td>\n",
       "      <td>no_data</td>\n",
       "    </tr>\n",
       "    <tr>\n",
       "      <th>5</th>\n",
       "      <td>Palantir\\n\\t  Technologies</td>\n",
       "      <td>20.00</td>\n",
       "      <td>2011-05-05</td>\n",
       "      <td>United States</td>\n",
       "      <td>Big Data</td>\n",
       "      <td>RRE Ventures, Founders\\n\\t  Fund, In-Q-Tel</td>\n",
       "      <td>2018-12-29</td>\n",
       "      <td>2018</td>\n",
       "      <td>no_data</td>\n",
       "    </tr>\n",
       "    <tr>\n",
       "      <th>88</th>\n",
       "      <td>Uptake</td>\n",
       "      <td>2.30</td>\n",
       "      <td>2015-10-27</td>\n",
       "      <td>United States</td>\n",
       "      <td>Big Data</td>\n",
       "      <td>Revolution, New Enterprise Associates, Caterpi...</td>\n",
       "      <td>2018-12-29</td>\n",
       "      <td>2018</td>\n",
       "      <td>no_data</td>\n",
       "    </tr>\n",
       "    <tr>\n",
       "      <th>124</th>\n",
       "      <td>Insidesales.com</td>\n",
       "      <td>1.70</td>\n",
       "      <td>2014-04-28</td>\n",
       "      <td>United States</td>\n",
       "      <td>Big Data</td>\n",
       "      <td>Microsoft Ventures, US\\n\\t  Venture Partners, ...</td>\n",
       "      <td>2018-12-29</td>\n",
       "      <td>2018</td>\n",
       "      <td>no_data</td>\n",
       "    </tr>\n",
       "    <tr>\n",
       "      <th>140</th>\n",
       "      <td>Mu Sigma</td>\n",
       "      <td>1.50</td>\n",
       "      <td>2013-02-07</td>\n",
       "      <td>United States</td>\n",
       "      <td>Big Data</td>\n",
       "      <td>Sequoia Capital, General Atlantic</td>\n",
       "      <td>2018-12-29</td>\n",
       "      <td>2018</td>\n",
       "      <td>no_data</td>\n",
       "    </tr>\n",
       "    <tr>\n",
       "      <th>196</th>\n",
       "      <td>Actifio</td>\n",
       "      <td>1.10</td>\n",
       "      <td>2014-03-24</td>\n",
       "      <td>United States</td>\n",
       "      <td>Big Data</td>\n",
       "      <td>Greylock Partners, North\\n\\t  Bridge Venture P...</td>\n",
       "      <td>2018-12-29</td>\n",
       "      <td>2018</td>\n",
       "      <td>no_data</td>\n",
       "    </tr>\n",
       "    <tr>\n",
       "      <th>199</th>\n",
       "      <td>OVH</td>\n",
       "      <td>1.10</td>\n",
       "      <td>2015-07-03</td>\n",
       "      <td>France</td>\n",
       "      <td>Big Data</td>\n",
       "      <td>Kohlberg Kravis Roberts &amp; Co.,TowerBrook Capit...</td>\n",
       "      <td>2018-12-29</td>\n",
       "      <td>2018</td>\n",
       "      <td>no_data</td>\n",
       "    </tr>\n",
       "    <tr>\n",
       "      <th>226</th>\n",
       "      <td>MarkLogic</td>\n",
       "      <td>1.00</td>\n",
       "      <td>2015-05-12</td>\n",
       "      <td>United States</td>\n",
       "      <td>Big Data</td>\n",
       "      <td>Sequoia Capital, Tenaya Capital, Northgate Cap...</td>\n",
       "      <td>2018-12-29</td>\n",
       "      <td>2018</td>\n",
       "      <td>no_data</td>\n",
       "    </tr>\n",
       "  </tbody>\n",
       "</table>\n",
       "</div>"
      ],
      "text/plain": [
       "                        Company  Valuation ($B) Date Joined        Country  \\\n",
       "3    Palantir\\n\\t  Technologies           20.00  2011-05-05  United States   \n",
       "21                     Cloudera            4.10  2014-03-18  United States   \n",
       "52                      Nutanix            2.00  2014-01-14  United States   \n",
       "55            Domo Technologies            2.00  2015-04-08  United States   \n",
       "64                      MongoDB            1.60  2013-10-04  United States   \n",
       "66              Insidesales.com            1.50  2014-04-28  United States   \n",
       "67                     Mu Sigma            1.50  2013-02-07          India   \n",
       "76                         Deem            1.35  2011-11-15  United States   \n",
       "89                       Uptake            1.10  2015-10-27  United States   \n",
       "92                      Actifio            1.10  2014-03-24  United States   \n",
       "106                 AppDynamics            1.00  2014-07-22  United States   \n",
       "108                  SimpliVity            1.00  2015-03-10  United States   \n",
       "118                   Qualtrics            1.00  2014-09-24  United States   \n",
       "130                   MarkLogic            1.00  2015-05-12  United States   \n",
       "4    Palantir\\n\\t  Technologies           20.00  2011-05-05  United States   \n",
       "28                     Cloudera            4.10  2014-03-18  United States   \n",
       "58            Domo Technologies            2.00  2015-04-08  United States   \n",
       "64                  AppDynamics            1.90  2014-07-22  United States   \n",
       "71                      MongoDB            1.60  2013-10-04  United States   \n",
       "78              Insidesales.com            1.50  2014-04-28  United States   \n",
       "79                     Mu Sigma            1.50  2013-02-07  United States   \n",
       "92                         Deem            1.35  2011-11-15  United States   \n",
       "108                      Uptake            1.10  2015-10-27  United States   \n",
       "110                     Actifio            1.10  2014-03-24  United States   \n",
       "115                         OVH            1.10  2015-07-03         France   \n",
       "136                  SimpliVity            1.00  2015-03-10  United States   \n",
       "144                   Qualtrics            1.00  2014-09-24  United States   \n",
       "152                   MarkLogic            1.00  2015-05-12  United States   \n",
       "6    Palantir\\n\\t  Technologies           20.00  2011-05-05  United States   \n",
       "60                    Qualtrics            2.50  2014-09-24  United States   \n",
       "63                       Uptake            2.30  2015-10-27  United States   \n",
       "72            Domo Technologies            2.00  2015-04-08  United States   \n",
       "100             Insidesales.com            1.50  2014-04-28  United States   \n",
       "101                    Mu Sigma            1.50  2013-02-07  United States   \n",
       "143                     Actifio            1.10  2014-03-24  United States   \n",
       "146                         OVH            1.10  2015-07-03         France   \n",
       "177                   MarkLogic            1.00  2015-05-12  United States   \n",
       "5    Palantir\\n\\t  Technologies           20.00  2011-05-05  United States   \n",
       "88                       Uptake            2.30  2015-10-27  United States   \n",
       "124             Insidesales.com            1.70  2014-04-28  United States   \n",
       "140                    Mu Sigma            1.50  2013-02-07  United States   \n",
       "196                     Actifio            1.10  2014-03-24  United States   \n",
       "199                         OVH            1.10  2015-07-03         France   \n",
       "226                   MarkLogic            1.00  2015-05-12  United States   \n",
       "\n",
       "     Industry                                           Investor   Day_List  \\\n",
       "3    Big Data         RRE Ventures, Founders\\n\\t  Fund, In-Q-Tel 2015-12-11   \n",
       "21   Big Data  Greylock Partners, Ignition\\n\\t  Partners, Goo... 2015-12-11   \n",
       "52   Big Data  Battery Ventures, Khosla Ventures, Wellington ... 2015-12-11   \n",
       "55   Big Data  Institutional Venture\\n\\t  Partners, Benchmark... 2015-12-11   \n",
       "64   Big Data  Intel Capital, Salesforce\\n\\t  Ventures, Union... 2015-12-11   \n",
       "66   Big Data  Microsoft Ventures, US\\n\\t  Venture Partners, ... 2015-12-11   \n",
       "67   Big Data                  Sequoia Capital, General Atlantic 2015-12-11   \n",
       "76   Big Data  Empire Ventures,\\n\\t  Foundational Capital, Oa... 2015-12-11   \n",
       "89   Big Data  GreatPoint Ventures, New Enterprise Associates... 2015-12-11   \n",
       "92   Big Data  Greylock Partners, North\\n\\t  Bridge Venture P... 2015-12-11   \n",
       "106  Big Data  Battery Ventures, Kleiner\\n\\t  Perkins Caufiel... 2015-12-11   \n",
       "108  Big Data  Accel Partners, Swisscom\\n\\t  Ventures, Merite... 2015-12-11   \n",
       "118  Big Data  Accel Partners, Insight\\n\\t  Venture Partners,... 2015-12-11   \n",
       "130  Big Data  Sequoia Capital, Tenaya Capital, Northgate Cap... 2015-12-11   \n",
       "4    Big Data         RRE Ventures, Founders\\n\\t  Fund, In-Q-Tel 2016-12-23   \n",
       "28   Big Data  Greylock Partners, Ignition\\n\\t  Partners, Goo... 2016-12-23   \n",
       "58   Big Data  Institutional Venture\\n\\t  Partners, Benchmark... 2016-12-23   \n",
       "64   Big Data  Battery Ventures, Kleiner\\n\\t  Perkins Caufiel... 2016-12-23   \n",
       "71   Big Data  Intel Capital, Salesforce\\n\\t  Ventures, Union... 2016-12-23   \n",
       "78   Big Data  Microsoft Ventures, US\\n\\t  Venture Partners, ... 2016-12-23   \n",
       "79   Big Data                  Sequoia Capital, General Atlantic 2016-12-23   \n",
       "92   Big Data  Empire Ventures,\\n\\t  Foundational Capital, Oa... 2016-12-23   \n",
       "108  Big Data  GreatPoint Ventures, New Enterprise Associates... 2016-12-23   \n",
       "110  Big Data  Greylock Partners, North\\n\\t  Bridge Venture P... 2016-12-23   \n",
       "115  Big Data  Kohlberg Kravis Roberts & Co.,TowerBrook Capit... 2016-12-23   \n",
       "136  Big Data  Accel Partners, Swisscom\\n\\t  Ventures, Merite... 2016-12-23   \n",
       "144  Big Data  Accel Partners, Insight\\n\\t  Venture Partners,... 2016-12-23   \n",
       "152  Big Data  Sequoia Capital, Tenaya Capital, Northgate Cap... 2016-12-23   \n",
       "6    Big Data         RRE Ventures, Founders\\n\\t  Fund, In-Q-Tel 2017-12-23   \n",
       "60   Big Data  Accel Partners, Insight\\n\\t  Venture Partners,... 2017-12-23   \n",
       "63   Big Data  Revolution, New Enterprise Associates, Caterpi... 2017-12-23   \n",
       "72   Big Data  Institutional Venture\\n\\t  Partners, Benchmark... 2017-12-23   \n",
       "100  Big Data  Microsoft Ventures, US\\n\\t  Venture Partners, ... 2017-12-23   \n",
       "101  Big Data                  Sequoia Capital, General Atlantic 2017-12-23   \n",
       "143  Big Data  Greylock Partners, North\\n\\t  Bridge Venture P... 2017-12-23   \n",
       "146  Big Data  Kohlberg Kravis Roberts & Co.,TowerBrook Capit... 2017-12-23   \n",
       "177  Big Data  Sequoia Capital, Tenaya Capital, Northgate Cap... 2017-12-23   \n",
       "5    Big Data         RRE Ventures, Founders\\n\\t  Fund, In-Q-Tel 2018-12-29   \n",
       "88   Big Data  Revolution, New Enterprise Associates, Caterpi... 2018-12-29   \n",
       "124  Big Data  Microsoft Ventures, US\\n\\t  Venture Partners, ... 2018-12-29   \n",
       "140  Big Data                  Sequoia Capital, General Atlantic 2018-12-29   \n",
       "196  Big Data  Greylock Partners, North\\n\\t  Bridge Venture P... 2018-12-29   \n",
       "199  Big Data  Kohlberg Kravis Roberts & Co.,TowerBrook Capit... 2018-12-29   \n",
       "226  Big Data  Sequoia Capital, Tenaya Capital, Northgate Cap... 2018-12-29   \n",
       "\n",
       "     Year     City  \n",
       "3    2015  no_data  \n",
       "21   2015  no_data  \n",
       "52   2015  no_data  \n",
       "55   2015  no_data  \n",
       "64   2015  no_data  \n",
       "66   2015  no_data  \n",
       "67   2015  no_data  \n",
       "76   2015  no_data  \n",
       "89   2015  no_data  \n",
       "92   2015  no_data  \n",
       "106  2015  no_data  \n",
       "108  2015  no_data  \n",
       "118  2015  no_data  \n",
       "130  2015  no_data  \n",
       "4    2016  no_data  \n",
       "28   2016  no_data  \n",
       "58   2016  no_data  \n",
       "64   2016  no_data  \n",
       "71   2016  no_data  \n",
       "78   2016  no_data  \n",
       "79   2016  no_data  \n",
       "92   2016  no_data  \n",
       "108  2016  no_data  \n",
       "110  2016  no_data  \n",
       "115  2016  no_data  \n",
       "136  2016  no_data  \n",
       "144  2016  no_data  \n",
       "152  2016  no_data  \n",
       "6    2017  no_data  \n",
       "60   2017  no_data  \n",
       "63   2017  no_data  \n",
       "72   2017  no_data  \n",
       "100  2017  no_data  \n",
       "101  2017  no_data  \n",
       "143  2017  no_data  \n",
       "146  2017  no_data  \n",
       "177  2017  no_data  \n",
       "5    2018  no_data  \n",
       "88   2018  no_data  \n",
       "124  2018  no_data  \n",
       "140  2018  no_data  \n",
       "196  2018  no_data  \n",
       "199  2018  no_data  \n",
       "226  2018  no_data  "
      ]
     },
     "execution_count": 667,
     "metadata": {},
     "output_type": "execute_result"
    }
   ],
   "source": [
    "unicorns[unicorns['Industry']=='Big Data']"
   ]
  },
  {
   "cell_type": "code",
   "execution_count": 670,
   "metadata": {},
   "outputs": [
    {
     "data": {
      "text/html": [
       "<div>\n",
       "<style scoped>\n",
       "    .dataframe tbody tr th:only-of-type {\n",
       "        vertical-align: middle;\n",
       "    }\n",
       "\n",
       "    .dataframe tbody tr th {\n",
       "        vertical-align: top;\n",
       "    }\n",
       "\n",
       "    .dataframe thead th {\n",
       "        text-align: right;\n",
       "    }\n",
       "</style>\n",
       "<table border=\"1\" class=\"dataframe\">\n",
       "  <thead>\n",
       "    <tr style=\"text-align: right;\">\n",
       "      <th></th>\n",
       "      <th>Company</th>\n",
       "      <th>Valuation ($B)</th>\n",
       "      <th>Date Joined</th>\n",
       "      <th>Country</th>\n",
       "      <th>Industry</th>\n",
       "      <th>Investor</th>\n",
       "      <th>Day_List</th>\n",
       "      <th>Year</th>\n",
       "      <th>City</th>\n",
       "    </tr>\n",
       "  </thead>\n",
       "  <tbody>\n",
       "    <tr>\n",
       "      <th>67</th>\n",
       "      <td>Mu Sigma</td>\n",
       "      <td>1.5</td>\n",
       "      <td>2013-02-07</td>\n",
       "      <td>India</td>\n",
       "      <td>Big Data</td>\n",
       "      <td>Sequoia Capital, General Atlantic</td>\n",
       "      <td>2015-12-11</td>\n",
       "      <td>2015</td>\n",
       "      <td>no_data</td>\n",
       "    </tr>\n",
       "    <tr>\n",
       "      <th>79</th>\n",
       "      <td>Mu Sigma</td>\n",
       "      <td>1.5</td>\n",
       "      <td>2013-02-07</td>\n",
       "      <td>United States</td>\n",
       "      <td>Big Data</td>\n",
       "      <td>Sequoia Capital, General Atlantic</td>\n",
       "      <td>2016-12-23</td>\n",
       "      <td>2016</td>\n",
       "      <td>no_data</td>\n",
       "    </tr>\n",
       "    <tr>\n",
       "      <th>101</th>\n",
       "      <td>Mu Sigma</td>\n",
       "      <td>1.5</td>\n",
       "      <td>2013-02-07</td>\n",
       "      <td>United States</td>\n",
       "      <td>Big Data</td>\n",
       "      <td>Sequoia Capital, General Atlantic</td>\n",
       "      <td>2017-12-23</td>\n",
       "      <td>2017</td>\n",
       "      <td>no_data</td>\n",
       "    </tr>\n",
       "    <tr>\n",
       "      <th>140</th>\n",
       "      <td>Mu Sigma</td>\n",
       "      <td>1.5</td>\n",
       "      <td>2013-02-07</td>\n",
       "      <td>United States</td>\n",
       "      <td>Big Data</td>\n",
       "      <td>Sequoia Capital, General Atlantic</td>\n",
       "      <td>2018-12-29</td>\n",
       "      <td>2018</td>\n",
       "      <td>no_data</td>\n",
       "    </tr>\n",
       "    <tr>\n",
       "      <th>205</th>\n",
       "      <td>Mu Sigma</td>\n",
       "      <td>1.5</td>\n",
       "      <td>2013-02-07</td>\n",
       "      <td>United States</td>\n",
       "      <td>Data management &amp; analytics</td>\n",
       "      <td>Sequoia Capital, General Atlantic</td>\n",
       "      <td>2019-12-31</td>\n",
       "      <td>2019</td>\n",
       "      <td>no_data</td>\n",
       "    </tr>\n",
       "    <tr>\n",
       "      <th>380</th>\n",
       "      <td>Mu Sigma</td>\n",
       "      <td>1.0</td>\n",
       "      <td>2013-02-07</td>\n",
       "      <td>United States</td>\n",
       "      <td>Data management &amp; analytics</td>\n",
       "      <td>Sequoia Capital, General Atlantic</td>\n",
       "      <td>2020-12-31</td>\n",
       "      <td>2020</td>\n",
       "      <td>no_data</td>\n",
       "    </tr>\n",
       "    <tr>\n",
       "      <th>490</th>\n",
       "      <td>Mu Sigma</td>\n",
       "      <td>1.5</td>\n",
       "      <td>2013-02-07</td>\n",
       "      <td>United States</td>\n",
       "      <td>Data management &amp; analytics</td>\n",
       "      <td>Sequoia Capital, General Atlantic</td>\n",
       "      <td>2021-12-31</td>\n",
       "      <td>2021</td>\n",
       "      <td>Northbrook</td>\n",
       "    </tr>\n",
       "    <tr>\n",
       "      <th>611</th>\n",
       "      <td>Mu Sigma</td>\n",
       "      <td>1.5</td>\n",
       "      <td>2013-02-07</td>\n",
       "      <td>United States</td>\n",
       "      <td>Data management &amp; analytics</td>\n",
       "      <td>Sequoia Capital, General Atlantic</td>\n",
       "      <td>2022-11-15</td>\n",
       "      <td>2022</td>\n",
       "      <td>Northbrook</td>\n",
       "    </tr>\n",
       "    <tr>\n",
       "      <th>626</th>\n",
       "      <td>Mu Sigma</td>\n",
       "      <td>1.5</td>\n",
       "      <td>2013-02-07</td>\n",
       "      <td>United States</td>\n",
       "      <td>Enterprise Tech</td>\n",
       "      <td>Sequoia Capital, General Atlantic</td>\n",
       "      <td>2023-05-31</td>\n",
       "      <td>2023</td>\n",
       "      <td>Northbrook</td>\n",
       "    </tr>\n",
       "  </tbody>\n",
       "</table>\n",
       "</div>"
      ],
      "text/plain": [
       "      Company  Valuation ($B) Date Joined        Country  \\\n",
       "67   Mu Sigma             1.5  2013-02-07          India   \n",
       "79   Mu Sigma             1.5  2013-02-07  United States   \n",
       "101  Mu Sigma             1.5  2013-02-07  United States   \n",
       "140  Mu Sigma             1.5  2013-02-07  United States   \n",
       "205  Mu Sigma             1.5  2013-02-07  United States   \n",
       "380  Mu Sigma             1.0  2013-02-07  United States   \n",
       "490  Mu Sigma             1.5  2013-02-07  United States   \n",
       "611  Mu Sigma             1.5  2013-02-07  United States   \n",
       "626  Mu Sigma             1.5  2013-02-07  United States   \n",
       "\n",
       "                        Industry                           Investor  \\\n",
       "67                      Big Data  Sequoia Capital, General Atlantic   \n",
       "79                      Big Data  Sequoia Capital, General Atlantic   \n",
       "101                     Big Data  Sequoia Capital, General Atlantic   \n",
       "140                     Big Data  Sequoia Capital, General Atlantic   \n",
       "205  Data management & analytics  Sequoia Capital, General Atlantic   \n",
       "380  Data management & analytics  Sequoia Capital, General Atlantic   \n",
       "490  Data management & analytics  Sequoia Capital, General Atlantic   \n",
       "611  Data management & analytics  Sequoia Capital, General Atlantic   \n",
       "626              Enterprise Tech  Sequoia Capital, General Atlantic   \n",
       "\n",
       "      Day_List  Year        City  \n",
       "67  2015-12-11  2015     no_data  \n",
       "79  2016-12-23  2016     no_data  \n",
       "101 2017-12-23  2017     no_data  \n",
       "140 2018-12-29  2018     no_data  \n",
       "205 2019-12-31  2019     no_data  \n",
       "380 2020-12-31  2020     no_data  \n",
       "490 2021-12-31  2021  Northbrook  \n",
       "611 2022-11-15  2022  Northbrook  \n",
       "626 2023-05-31  2023  Northbrook  "
      ]
     },
     "execution_count": 670,
     "metadata": {},
     "output_type": "execute_result"
    }
   ],
   "source": [
    "unicorns[unicorns['Company']=='Mu Sigma']"
   ]
  },
  {
   "cell_type": "code",
   "execution_count": 642,
   "metadata": {},
   "outputs": [
    {
     "data": {
      "text/html": [
       "<div>\n",
       "<style scoped>\n",
       "    .dataframe tbody tr th:only-of-type {\n",
       "        vertical-align: middle;\n",
       "    }\n",
       "\n",
       "    .dataframe tbody tr th {\n",
       "        vertical-align: top;\n",
       "    }\n",
       "\n",
       "    .dataframe thead th {\n",
       "        text-align: right;\n",
       "    }\n",
       "</style>\n",
       "<table border=\"1\" class=\"dataframe\">\n",
       "  <thead>\n",
       "    <tr style=\"text-align: right;\">\n",
       "      <th></th>\n",
       "      <th>Industry</th>\n",
       "      <th>Year</th>\n",
       "      <th>Company</th>\n",
       "    </tr>\n",
       "  </thead>\n",
       "  <tbody>\n",
       "  </tbody>\n",
       "</table>\n",
       "</div>"
      ],
      "text/plain": [
       "Empty DataFrame\n",
       "Columns: [Industry, Year, Company]\n",
       "Index: []"
      ]
     },
     "execution_count": 642,
     "metadata": {},
     "output_type": "execute_result"
    }
   ],
   "source": [
    "industry[industry['Company']=='23andMe']"
   ]
  },
  {
   "cell_type": "markdown",
   "metadata": {},
   "source": [
    "### ¿Hace cuánto tiempo están en el top 10 las empresas del 2023?"
   ]
  },
  {
   "cell_type": "code",
   "execution_count": 595,
   "metadata": {},
   "outputs": [],
   "source": [
    "años = unicorns.groupby('Year')['Company'].count().reset_index()"
   ]
  },
  {
   "cell_type": "markdown",
   "metadata": {},
   "source": [
    "# 3. Machine Learning"
   ]
  },
  {
   "cell_type": "markdown",
   "metadata": {},
   "source": [
    "# 4. Conclusiones"
   ]
  },
  {
   "cell_type": "code",
   "execution_count": 596,
   "metadata": {},
   "outputs": [],
   "source": [
    "# unicorns.to_csv('unicorns_powerbi.csv', header=True, index=False)"
   ]
  },
  {
   "cell_type": "code",
   "execution_count": 598,
   "metadata": {},
   "outputs": [],
   "source": [
    "unicorns.to_excel('unicorns.xlsx', header=True, index=False)"
   ]
  }
 ],
 "metadata": {
  "kernelspec": {
   "display_name": "Python 3",
   "language": "python",
   "name": "python3"
  },
  "language_info": {
   "codemirror_mode": {
    "name": "ipython",
    "version": 3
   },
   "file_extension": ".py",
   "mimetype": "text/x-python",
   "name": "python",
   "nbconvert_exporter": "python",
   "pygments_lexer": "ipython3",
   "version": "3.10.11"
  },
  "orig_nbformat": 4
 },
 "nbformat": 4,
 "nbformat_minor": 2
}
